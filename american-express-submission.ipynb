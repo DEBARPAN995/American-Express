{
 "cells": [
  {
   "cell_type": "markdown",
   "id": "5e6e27cb",
   "metadata": {
    "papermill": {
     "duration": 0.003956,
     "end_time": "2022-08-08T04:25:58.994390",
     "exception": false,
     "start_time": "2022-08-08T04:25:58.990434",
     "status": "completed"
    },
    "tags": []
   },
   "source": [
    "# 1 Loading Libraries and Data"
   ]
  },
  {
   "cell_type": "markdown",
   "id": "6ae16074",
   "metadata": {
    "papermill": {
     "duration": 0.002952,
     "end_time": "2022-08-08T04:25:59.000739",
     "exception": false,
     "start_time": "2022-08-08T04:25:58.997787",
     "status": "completed"
    },
    "tags": []
   },
   "source": [
    "# 1.1 Loading Libraries"
   ]
  },
  {
   "cell_type": "code",
   "execution_count": 1,
   "id": "d1163b0b",
   "metadata": {
    "execution": {
     "iopub.execute_input": "2022-08-08T04:25:59.009395Z",
     "iopub.status.busy": "2022-08-08T04:25:59.008494Z",
     "iopub.status.idle": "2022-08-08T04:25:59.019389Z",
     "shell.execute_reply": "2022-08-08T04:25:59.018372Z"
    },
    "papermill": {
     "duration": 0.01767,
     "end_time": "2022-08-08T04:25:59.021568",
     "exception": false,
     "start_time": "2022-08-08T04:25:59.003898",
     "status": "completed"
    },
    "tags": []
   },
   "outputs": [],
   "source": [
    "import numpy as np\n",
    "import pandas as pd\n",
    "pd.set_option('display.max_rows', 10000)"
   ]
  },
  {
   "cell_type": "markdown",
   "id": "5632279a",
   "metadata": {
    "papermill": {
     "duration": 0.003098,
     "end_time": "2022-08-08T04:25:59.028121",
     "exception": false,
     "start_time": "2022-08-08T04:25:59.025023",
     "status": "completed"
    },
    "tags": []
   },
   "source": [
    "# 1.2 Loading Data"
   ]
  },
  {
   "cell_type": "code",
   "execution_count": 2,
   "id": "bb539f03",
   "metadata": {
    "execution": {
     "iopub.execute_input": "2022-08-08T04:25:59.036646Z",
     "iopub.status.busy": "2022-08-08T04:25:59.035981Z",
     "iopub.status.idle": "2022-08-08T04:26:18.174470Z",
     "shell.execute_reply": "2022-08-08T04:26:18.173426Z"
    },
    "papermill": {
     "duration": 19.145934,
     "end_time": "2022-08-08T04:26:18.177265",
     "exception": false,
     "start_time": "2022-08-08T04:25:59.031331",
     "status": "completed"
    },
    "tags": []
   },
   "outputs": [],
   "source": [
    "output1=pd.read_csv(\"../input/outputset/output1.csv\",index_col=0)\n",
    "output2=pd.read_csv(\"../input/outputset/output2.csv\",index_col=0)\n",
    "output3=pd.read_csv(\"../input/outputset/output3.csv\",index_col=0)\n",
    "output4=pd.read_csv(\"../input/outputset/output4.csv\",index_col=0)\n",
    "output5=pd.read_csv(\"../input/outputset/output5.csv\",index_col=0)\n",
    "output6=pd.read_csv(\"../input/outputset/output6.csv\",index_col=0)\n",
    "output7=pd.read_csv(\"../input/outputset/output7.csv\",index_col=0)"
   ]
  },
  {
   "cell_type": "markdown",
   "id": "18d3b8cb",
   "metadata": {
    "papermill": {
     "duration": 0.002872,
     "end_time": "2022-08-08T04:26:18.183448",
     "exception": false,
     "start_time": "2022-08-08T04:26:18.180576",
     "status": "completed"
    },
    "tags": []
   },
   "source": [
    "# 2 Merging Data"
   ]
  },
  {
   "cell_type": "code",
   "execution_count": 3,
   "id": "62ab59e6",
   "metadata": {
    "execution": {
     "iopub.execute_input": "2022-08-08T04:26:18.191191Z",
     "iopub.status.busy": "2022-08-08T04:26:18.190803Z",
     "iopub.status.idle": "2022-08-08T04:26:18.312711Z",
     "shell.execute_reply": "2022-08-08T04:26:18.311689Z"
    },
    "papermill": {
     "duration": 0.128429,
     "end_time": "2022-08-08T04:26:18.315026",
     "exception": false,
     "start_time": "2022-08-08T04:26:18.186597",
     "status": "completed"
    },
    "tags": []
   },
   "outputs": [],
   "source": [
    "output=pd.concat([output1,output2,output3,output4,output5,output6,output7],axis=0)"
   ]
  },
  {
   "cell_type": "code",
   "execution_count": 4,
   "id": "8e89a7b2",
   "metadata": {
    "execution": {
     "iopub.execute_input": "2022-08-08T04:26:18.322511Z",
     "iopub.status.busy": "2022-08-08T04:26:18.322217Z",
     "iopub.status.idle": "2022-08-08T04:26:18.330447Z",
     "shell.execute_reply": "2022-08-08T04:26:18.329398Z"
    },
    "papermill": {
     "duration": 0.0141,
     "end_time": "2022-08-08T04:26:18.332323",
     "exception": false,
     "start_time": "2022-08-08T04:26:18.318223",
     "status": "completed"
    },
    "tags": []
   },
   "outputs": [
    {
     "data": {
      "text/plain": [
       "(11363763, 2)"
      ]
     },
     "execution_count": 4,
     "metadata": {},
     "output_type": "execute_result"
    }
   ],
   "source": [
    "output.shape"
   ]
  },
  {
   "cell_type": "markdown",
   "id": "050ff168",
   "metadata": {
    "papermill": {
     "duration": 0.002985,
     "end_time": "2022-08-08T04:26:18.338544",
     "exception": false,
     "start_time": "2022-08-08T04:26:18.335559",
     "status": "completed"
    },
    "tags": []
   },
   "source": [
    "# 3 Data Preprocessing"
   ]
  },
  {
   "cell_type": "code",
   "execution_count": 5,
   "id": "594cf7b0",
   "metadata": {
    "execution": {
     "iopub.execute_input": "2022-08-08T04:26:18.346532Z",
     "iopub.status.busy": "2022-08-08T04:26:18.345964Z",
     "iopub.status.idle": "2022-08-08T04:26:20.538336Z",
     "shell.execute_reply": "2022-08-08T04:26:20.537187Z"
    },
    "papermill": {
     "duration": 2.198698,
     "end_time": "2022-08-08T04:26:20.540299",
     "exception": false,
     "start_time": "2022-08-08T04:26:18.341601",
     "status": "completed"
    },
    "tags": []
   },
   "outputs": [
    {
     "data": {
      "text/html": [
       "<div>\n",
       "<style scoped>\n",
       "    .dataframe tbody tr th:only-of-type {\n",
       "        vertical-align: middle;\n",
       "    }\n",
       "\n",
       "    .dataframe tbody tr th {\n",
       "        vertical-align: top;\n",
       "    }\n",
       "\n",
       "    .dataframe thead th {\n",
       "        text-align: right;\n",
       "    }\n",
       "</style>\n",
       "<table border=\"1\" class=\"dataframe\">\n",
       "  <thead>\n",
       "    <tr style=\"text-align: right;\">\n",
       "      <th></th>\n",
       "      <th>target</th>\n",
       "    </tr>\n",
       "    <tr>\n",
       "      <th>customer_ID</th>\n",
       "      <th></th>\n",
       "    </tr>\n",
       "  </thead>\n",
       "  <tbody>\n",
       "    <tr>\n",
       "      <th>00000469ba478561f23a92a868bd366de6f6527a684c9a2e78fb826dcac3b9b7</th>\n",
       "      <td>0.012338</td>\n",
       "    </tr>\n",
       "    <tr>\n",
       "      <th>00001bf2e77ff879fab36aa4fac689b9ba411dae63ae397d4263dafa1daedef5</th>\n",
       "      <td>0.000343</td>\n",
       "    </tr>\n",
       "    <tr>\n",
       "      <th>0000210045da4f81e5f122c6bde5c2a617d03eef67f82c5e400fc98e7bd43ce8</th>\n",
       "      <td>0.019857</td>\n",
       "    </tr>\n",
       "    <tr>\n",
       "      <th>00003b41e58ede33b8daf61ab56d9952f17c9ad1c3976cf6e56734528702d694</th>\n",
       "      <td>0.703232</td>\n",
       "    </tr>\n",
       "    <tr>\n",
       "      <th>00004b22eaeeeb0ec976890c1d9bfc14fd9427e98c4ee9a4693dd914fca22557</th>\n",
       "      <td>0.268718</td>\n",
       "    </tr>\n",
       "    <tr>\n",
       "      <th>...</th>\n",
       "      <td>...</td>\n",
       "    </tr>\n",
       "    <tr>\n",
       "      <th>ffff952c631f2c911b8a2a8ca56ea6e656309a83d2f64c5d60460dba6dedc41e</th>\n",
       "      <td>0.002369</td>\n",
       "    </tr>\n",
       "    <tr>\n",
       "      <th>ffffcf5df59e5e0bba2a5ac4578a34e2b5aa64a1546cd3a4f0ca3de613b0b2ad</th>\n",
       "      <td>0.371887</td>\n",
       "    </tr>\n",
       "    <tr>\n",
       "      <th>ffffd61f098cc056dbd7d2a21380c4804bbfe60856f475cb095d2443a68030f1</th>\n",
       "      <td>0.076776</td>\n",
       "    </tr>\n",
       "    <tr>\n",
       "      <th>ffffddef1fc3643ea179c93245b68dca0f36941cd83977822e8b356988ca4d07</th>\n",
       "      <td>0.993915</td>\n",
       "    </tr>\n",
       "    <tr>\n",
       "      <th>fffffa7cf7e453e1acc6a1426475d5cb9400859f82ff61cceb803ea8ec37634d</th>\n",
       "      <td>0.016199</td>\n",
       "    </tr>\n",
       "  </tbody>\n",
       "</table>\n",
       "<p>924621 rows × 1 columns</p>\n",
       "</div>"
      ],
      "text/plain": [
       "                                                      target\n",
       "customer_ID                                                 \n",
       "00000469ba478561f23a92a868bd366de6f6527a684c9a2...  0.012338\n",
       "00001bf2e77ff879fab36aa4fac689b9ba411dae63ae397...  0.000343\n",
       "0000210045da4f81e5f122c6bde5c2a617d03eef67f82c5...  0.019857\n",
       "00003b41e58ede33b8daf61ab56d9952f17c9ad1c3976cf...  0.703232\n",
       "00004b22eaeeeb0ec976890c1d9bfc14fd9427e98c4ee9a...  0.268718\n",
       "...                                                      ...\n",
       "ffff952c631f2c911b8a2a8ca56ea6e656309a83d2f64c5...  0.002369\n",
       "ffffcf5df59e5e0bba2a5ac4578a34e2b5aa64a1546cd3a...  0.371887\n",
       "ffffd61f098cc056dbd7d2a21380c4804bbfe60856f475c...  0.076776\n",
       "ffffddef1fc3643ea179c93245b68dca0f36941cd839778...  0.993915\n",
       "fffffa7cf7e453e1acc6a1426475d5cb9400859f82ff61c...  0.016199\n",
       "\n",
       "[924621 rows x 1 columns]"
      ]
     },
     "execution_count": 5,
     "metadata": {},
     "output_type": "execute_result"
    }
   ],
   "source": [
    "prediction=pd.DataFrame(output.groupby(by=\"customer_ID\").mean())\n",
    "prediction"
   ]
  },
  {
   "cell_type": "markdown",
   "id": "93393c30",
   "metadata": {
    "papermill": {
     "duration": 0.003138,
     "end_time": "2022-08-08T04:26:20.547092",
     "exception": false,
     "start_time": "2022-08-08T04:26:20.543954",
     "status": "completed"
    },
    "tags": []
   },
   "source": [
    "# 6 Downloading the Data"
   ]
  },
  {
   "cell_type": "code",
   "execution_count": 6,
   "id": "fbebfdaf",
   "metadata": {
    "execution": {
     "iopub.execute_input": "2022-08-08T04:26:20.555328Z",
     "iopub.status.busy": "2022-08-08T04:26:20.554976Z",
     "iopub.status.idle": "2022-08-08T04:26:20.559665Z",
     "shell.execute_reply": "2022-08-08T04:26:20.558744Z"
    },
    "papermill": {
     "duration": 0.011174,
     "end_time": "2022-08-08T04:26:20.561668",
     "exception": false,
     "start_time": "2022-08-08T04:26:20.550494",
     "status": "completed"
    },
    "tags": []
   },
   "outputs": [],
   "source": [
    "prediction.columns=[\"prediction\"]"
   ]
  },
  {
   "cell_type": "code",
   "execution_count": 7,
   "id": "9f12c6fb",
   "metadata": {
    "execution": {
     "iopub.execute_input": "2022-08-08T04:26:20.569902Z",
     "iopub.status.busy": "2022-08-08T04:26:20.569548Z",
     "iopub.status.idle": "2022-08-08T04:26:22.489334Z",
     "shell.execute_reply": "2022-08-08T04:26:22.487954Z"
    },
    "papermill": {
     "duration": 1.926892,
     "end_time": "2022-08-08T04:26:22.492076",
     "exception": false,
     "start_time": "2022-08-08T04:26:20.565184",
     "status": "completed"
    },
    "tags": []
   },
   "outputs": [],
   "source": [
    "prediction.to_csv(\"Prediction.csv\")"
   ]
  },
  {
   "cell_type": "code",
   "execution_count": null,
   "id": "896ab226",
   "metadata": {
    "papermill": {
     "duration": 0.003184,
     "end_time": "2022-08-08T04:26:22.498917",
     "exception": false,
     "start_time": "2022-08-08T04:26:22.495733",
     "status": "completed"
    },
    "tags": []
   },
   "outputs": [],
   "source": []
  }
 ],
 "metadata": {
  "kernelspec": {
   "display_name": "Python 3",
   "language": "python",
   "name": "python3"
  },
  "language_info": {
   "codemirror_mode": {
    "name": "ipython",
    "version": 3
   },
   "file_extension": ".py",
   "mimetype": "text/x-python",
   "name": "python",
   "nbconvert_exporter": "python",
   "pygments_lexer": "ipython3",
   "version": "3.7.12"
  },
  "papermill": {
   "default_parameters": {},
   "duration": 32.294007,
   "end_time": "2022-08-08T04:26:23.223803",
   "environment_variables": {},
   "exception": null,
   "input_path": "__notebook__.ipynb",
   "output_path": "__notebook__.ipynb",
   "parameters": {},
   "start_time": "2022-08-08T04:25:50.929796",
   "version": "2.3.4"
  }
 },
 "nbformat": 4,
 "nbformat_minor": 5
}
