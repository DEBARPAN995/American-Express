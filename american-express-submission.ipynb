{
 "cells": [
  {
   "cell_type": "markdown",
   "id": "47b4c64e",
   "metadata": {
    "papermill": {
     "duration": 0.004966,
     "end_time": "2022-08-08T05:34:33.246935",
     "exception": false,
     "start_time": "2022-08-08T05:34:33.241969",
     "status": "completed"
    },
    "tags": []
   },
   "source": [
    "# 1 Loading Libraries and Data"
   ]
  },
  {
   "cell_type": "markdown",
   "id": "c5fee1a9",
   "metadata": {
    "papermill": {
     "duration": 0.003427,
     "end_time": "2022-08-08T05:34:33.254567",
     "exception": false,
     "start_time": "2022-08-08T05:34:33.251140",
     "status": "completed"
    },
    "tags": []
   },
   "source": [
    "# 1.1 Loading Libraries"
   ]
  },
  {
   "cell_type": "code",
   "execution_count": 1,
   "id": "382c02eb",
   "metadata": {
    "execution": {
     "iopub.execute_input": "2022-08-08T05:34:33.264184Z",
     "iopub.status.busy": "2022-08-08T05:34:33.263663Z",
     "iopub.status.idle": "2022-08-08T05:34:33.276027Z",
     "shell.execute_reply": "2022-08-08T05:34:33.275062Z"
    },
    "papermill": {
     "duration": 0.020149,
     "end_time": "2022-08-08T05:34:33.278366",
     "exception": false,
     "start_time": "2022-08-08T05:34:33.258217",
     "status": "completed"
    },
    "tags": []
   },
   "outputs": [],
   "source": [
    "import numpy as np\n",
    "import pandas as pd\n",
    "pd.set_option('display.max_rows', 10000)"
   ]
  },
  {
   "cell_type": "markdown",
   "id": "5d02af8f",
   "metadata": {
    "papermill": {
     "duration": 0.003431,
     "end_time": "2022-08-08T05:34:33.285559",
     "exception": false,
     "start_time": "2022-08-08T05:34:33.282128",
     "status": "completed"
    },
    "tags": []
   },
   "source": [
    "# 1.2 Loading Data"
   ]
  },
  {
   "cell_type": "code",
   "execution_count": 2,
   "id": "6b216c9f",
   "metadata": {
    "execution": {
     "iopub.execute_input": "2022-08-08T05:34:33.295336Z",
     "iopub.status.busy": "2022-08-08T05:34:33.294490Z",
     "iopub.status.idle": "2022-08-08T05:34:56.461277Z",
     "shell.execute_reply": "2022-08-08T05:34:56.460038Z"
    },
    "papermill": {
     "duration": 23.175031,
     "end_time": "2022-08-08T05:34:56.464198",
     "exception": false,
     "start_time": "2022-08-08T05:34:33.289167",
     "status": "completed"
    },
    "tags": []
   },
   "outputs": [],
   "source": [
    "output1=pd.read_csv(\"../input/outputset1/output1.csv\",index_col=0)\n",
    "output2=pd.read_csv(\"../input/outputset1/output2.csv\",index_col=0)\n",
    "output3=pd.read_csv(\"../input/outputset1/output3.csv\",index_col=0)\n",
    "output4=pd.read_csv(\"../input/outputset1/output4.csv\",index_col=0)\n",
    "output5=pd.read_csv(\"../input/outputset1/output5.csv\",index_col=0)\n",
    "output6=pd.read_csv(\"../input/outputset1/output6.csv\",index_col=0)\n",
    "output7=pd.read_csv(\"../input/outputset1/output7.csv\",index_col=0)"
   ]
  },
  {
   "cell_type": "markdown",
   "id": "b80070e6",
   "metadata": {
    "papermill": {
     "duration": 0.003326,
     "end_time": "2022-08-08T05:34:56.471295",
     "exception": false,
     "start_time": "2022-08-08T05:34:56.467969",
     "status": "completed"
    },
    "tags": []
   },
   "source": [
    "# 2 Merging Data"
   ]
  },
  {
   "cell_type": "code",
   "execution_count": 3,
   "id": "9f7c7777",
   "metadata": {
    "execution": {
     "iopub.execute_input": "2022-08-08T05:34:56.480316Z",
     "iopub.status.busy": "2022-08-08T05:34:56.479873Z",
     "iopub.status.idle": "2022-08-08T05:34:56.877593Z",
     "shell.execute_reply": "2022-08-08T05:34:56.876034Z"
    },
    "papermill": {
     "duration": 0.406528,
     "end_time": "2022-08-08T05:34:56.881457",
     "exception": false,
     "start_time": "2022-08-08T05:34:56.474929",
     "status": "completed"
    },
    "tags": []
   },
   "outputs": [],
   "source": [
    "output=pd.concat([output1,output2,output3,output4,output5,output6,output7],axis=0)"
   ]
  },
  {
   "cell_type": "code",
   "execution_count": 4,
   "id": "89057209",
   "metadata": {
    "execution": {
     "iopub.execute_input": "2022-08-08T05:34:56.895006Z",
     "iopub.status.busy": "2022-08-08T05:34:56.894084Z",
     "iopub.status.idle": "2022-08-08T05:34:56.905366Z",
     "shell.execute_reply": "2022-08-08T05:34:56.904070Z"
    },
    "papermill": {
     "duration": 0.021242,
     "end_time": "2022-08-08T05:34:56.908064",
     "exception": false,
     "start_time": "2022-08-08T05:34:56.886822",
     "status": "completed"
    },
    "tags": []
   },
   "outputs": [
    {
     "data": {
      "text/plain": [
       "(11363763, 2)"
      ]
     },
     "execution_count": 4,
     "metadata": {},
     "output_type": "execute_result"
    }
   ],
   "source": [
    "output.shape"
   ]
  },
  {
   "cell_type": "markdown",
   "id": "a398b21f",
   "metadata": {
    "papermill": {
     "duration": 0.003652,
     "end_time": "2022-08-08T05:34:56.915865",
     "exception": false,
     "start_time": "2022-08-08T05:34:56.912213",
     "status": "completed"
    },
    "tags": []
   },
   "source": [
    "# 3 Data Preprocessing"
   ]
  },
  {
   "cell_type": "code",
   "execution_count": 5,
   "id": "5402886b",
   "metadata": {
    "execution": {
     "iopub.execute_input": "2022-08-08T05:34:56.925474Z",
     "iopub.status.busy": "2022-08-08T05:34:56.925029Z",
     "iopub.status.idle": "2022-08-08T05:35:00.024873Z",
     "shell.execute_reply": "2022-08-08T05:35:00.023591Z"
    },
    "papermill": {
     "duration": 3.107868,
     "end_time": "2022-08-08T05:35:00.027609",
     "exception": false,
     "start_time": "2022-08-08T05:34:56.919741",
     "status": "completed"
    },
    "tags": []
   },
   "outputs": [
    {
     "data": {
      "text/html": [
       "<div>\n",
       "<style scoped>\n",
       "    .dataframe tbody tr th:only-of-type {\n",
       "        vertical-align: middle;\n",
       "    }\n",
       "\n",
       "    .dataframe tbody tr th {\n",
       "        vertical-align: top;\n",
       "    }\n",
       "\n",
       "    .dataframe thead th {\n",
       "        text-align: right;\n",
       "    }\n",
       "</style>\n",
       "<table border=\"1\" class=\"dataframe\">\n",
       "  <thead>\n",
       "    <tr style=\"text-align: right;\">\n",
       "      <th></th>\n",
       "      <th>target</th>\n",
       "    </tr>\n",
       "    <tr>\n",
       "      <th>customer_ID</th>\n",
       "      <th></th>\n",
       "    </tr>\n",
       "  </thead>\n",
       "  <tbody>\n",
       "    <tr>\n",
       "      <th>00000469ba478561f23a92a868bd366de6f6527a684c9a2e78fb826dcac3b9b7</th>\n",
       "      <td>0.071077</td>\n",
       "    </tr>\n",
       "    <tr>\n",
       "      <th>00001bf2e77ff879fab36aa4fac689b9ba411dae63ae397d4263dafa1daedef5</th>\n",
       "      <td>0.010584</td>\n",
       "    </tr>\n",
       "    <tr>\n",
       "      <th>0000210045da4f81e5f122c6bde5c2a617d03eef67f82c5e400fc98e7bd43ce8</th>\n",
       "      <td>0.055746</td>\n",
       "    </tr>\n",
       "    <tr>\n",
       "      <th>00003b41e58ede33b8daf61ab56d9952f17c9ad1c3976cf6e56734528702d694</th>\n",
       "      <td>0.909908</td>\n",
       "    </tr>\n",
       "    <tr>\n",
       "      <th>00004b22eaeeeb0ec976890c1d9bfc14fd9427e98c4ee9a4693dd914fca22557</th>\n",
       "      <td>0.820325</td>\n",
       "    </tr>\n",
       "    <tr>\n",
       "      <th>...</th>\n",
       "      <td>...</td>\n",
       "    </tr>\n",
       "    <tr>\n",
       "      <th>ffff952c631f2c911b8a2a8ca56ea6e656309a83d2f64c5d60460dba6dedc41e</th>\n",
       "      <td>0.038910</td>\n",
       "    </tr>\n",
       "    <tr>\n",
       "      <th>ffffcf5df59e5e0bba2a5ac4578a34e2b5aa64a1546cd3a4f0ca3de613b0b2ad</th>\n",
       "      <td>0.775390</td>\n",
       "    </tr>\n",
       "    <tr>\n",
       "      <th>ffffd61f098cc056dbd7d2a21380c4804bbfe60856f475cb095d2443a68030f1</th>\n",
       "      <td>0.828280</td>\n",
       "    </tr>\n",
       "    <tr>\n",
       "      <th>ffffddef1fc3643ea179c93245b68dca0f36941cd83977822e8b356988ca4d07</th>\n",
       "      <td>0.857313</td>\n",
       "    </tr>\n",
       "    <tr>\n",
       "      <th>fffffa7cf7e453e1acc6a1426475d5cb9400859f82ff61cceb803ea8ec37634d</th>\n",
       "      <td>0.160263</td>\n",
       "    </tr>\n",
       "  </tbody>\n",
       "</table>\n",
       "<p>924621 rows × 1 columns</p>\n",
       "</div>"
      ],
      "text/plain": [
       "                                                      target\n",
       "customer_ID                                                 \n",
       "00000469ba478561f23a92a868bd366de6f6527a684c9a2...  0.071077\n",
       "00001bf2e77ff879fab36aa4fac689b9ba411dae63ae397...  0.010584\n",
       "0000210045da4f81e5f122c6bde5c2a617d03eef67f82c5...  0.055746\n",
       "00003b41e58ede33b8daf61ab56d9952f17c9ad1c3976cf...  0.909908\n",
       "00004b22eaeeeb0ec976890c1d9bfc14fd9427e98c4ee9a...  0.820325\n",
       "...                                                      ...\n",
       "ffff952c631f2c911b8a2a8ca56ea6e656309a83d2f64c5...  0.038910\n",
       "ffffcf5df59e5e0bba2a5ac4578a34e2b5aa64a1546cd3a...  0.775390\n",
       "ffffd61f098cc056dbd7d2a21380c4804bbfe60856f475c...  0.828280\n",
       "ffffddef1fc3643ea179c93245b68dca0f36941cd839778...  0.857313\n",
       "fffffa7cf7e453e1acc6a1426475d5cb9400859f82ff61c...  0.160263\n",
       "\n",
       "[924621 rows x 1 columns]"
      ]
     },
     "execution_count": 5,
     "metadata": {},
     "output_type": "execute_result"
    }
   ],
   "source": [
    "prediction=pd.DataFrame(output.groupby(by=\"customer_ID\").mean())\n",
    "prediction"
   ]
  },
  {
   "cell_type": "markdown",
   "id": "82901c33",
   "metadata": {
    "papermill": {
     "duration": 0.003928,
     "end_time": "2022-08-08T05:35:00.035813",
     "exception": false,
     "start_time": "2022-08-08T05:35:00.031885",
     "status": "completed"
    },
    "tags": []
   },
   "source": [
    "# 6 Downloading the Data"
   ]
  },
  {
   "cell_type": "code",
   "execution_count": 6,
   "id": "06ce3b29",
   "metadata": {
    "execution": {
     "iopub.execute_input": "2022-08-08T05:35:00.046509Z",
     "iopub.status.busy": "2022-08-08T05:35:00.045661Z",
     "iopub.status.idle": "2022-08-08T05:35:00.051571Z",
     "shell.execute_reply": "2022-08-08T05:35:00.050294Z"
    },
    "papermill": {
     "duration": 0.013547,
     "end_time": "2022-08-08T05:35:00.053784",
     "exception": false,
     "start_time": "2022-08-08T05:35:00.040237",
     "status": "completed"
    },
    "tags": []
   },
   "outputs": [],
   "source": [
    "prediction.columns=[\"prediction\"]"
   ]
  },
  {
   "cell_type": "code",
   "execution_count": 7,
   "id": "b38d4113",
   "metadata": {
    "execution": {
     "iopub.execute_input": "2022-08-08T05:35:00.064674Z",
     "iopub.status.busy": "2022-08-08T05:35:00.063871Z",
     "iopub.status.idle": "2022-08-08T05:35:02.906421Z",
     "shell.execute_reply": "2022-08-08T05:35:02.905109Z"
    },
    "papermill": {
     "duration": 2.851105,
     "end_time": "2022-08-08T05:35:02.909253",
     "exception": false,
     "start_time": "2022-08-08T05:35:00.058148",
     "status": "completed"
    },
    "tags": []
   },
   "outputs": [],
   "source": [
    "prediction.to_csv(\"Prediction.csv\")"
   ]
  },
  {
   "cell_type": "code",
   "execution_count": null,
   "id": "1fdf1021",
   "metadata": {
    "papermill": {
     "duration": 0.003849,
     "end_time": "2022-08-08T05:35:02.917249",
     "exception": false,
     "start_time": "2022-08-08T05:35:02.913400",
     "status": "completed"
    },
    "tags": []
   },
   "outputs": [],
   "source": []
  }
 ],
 "metadata": {
  "kernelspec": {
   "display_name": "Python 3",
   "language": "python",
   "name": "python3"
  },
  "language_info": {
   "codemirror_mode": {
    "name": "ipython",
    "version": 3
   },
   "file_extension": ".py",
   "mimetype": "text/x-python",
   "name": "python",
   "nbconvert_exporter": "python",
   "pygments_lexer": "ipython3",
   "version": "3.7.12"
  },
  "papermill": {
   "default_parameters": {},
   "duration": 40.383348,
   "end_time": "2022-08-08T05:35:04.046573",
   "environment_variables": {},
   "exception": null,
   "input_path": "__notebook__.ipynb",
   "output_path": "__notebook__.ipynb",
   "parameters": {},
   "start_time": "2022-08-08T05:34:23.663225",
   "version": "2.3.4"
  }
 },
 "nbformat": 4,
 "nbformat_minor": 5
}
