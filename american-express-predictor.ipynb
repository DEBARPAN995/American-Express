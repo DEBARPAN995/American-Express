{
 "cells": [
  {
   "cell_type": "markdown",
   "id": "1067e7f3",
   "metadata": {
    "papermill": {
     "duration": 0.033673,
     "end_time": "2022-08-08T05:34:34.857124",
     "exception": false,
     "start_time": "2022-08-08T05:34:34.823451",
     "status": "completed"
    },
    "tags": []
   },
   "source": [
    "# 1 Loading Libraries and Data"
   ]
  },
  {
   "cell_type": "markdown",
   "id": "2721c043",
   "metadata": {
    "papermill": {
     "duration": 0.032856,
     "end_time": "2022-08-08T05:34:34.926170",
     "exception": false,
     "start_time": "2022-08-08T05:34:34.893314",
     "status": "completed"
    },
    "tags": []
   },
   "source": [
    "# 1.1 Loading libraries"
   ]
  },
  {
   "cell_type": "code",
   "execution_count": 1,
   "id": "e167842a",
   "metadata": {
    "execution": {
     "iopub.execute_input": "2022-08-08T05:34:34.998329Z",
     "iopub.status.busy": "2022-08-08T05:34:34.997012Z",
     "iopub.status.idle": "2022-08-08T05:34:42.858720Z",
     "shell.execute_reply": "2022-08-08T05:34:42.857929Z",
     "shell.execute_reply.started": "2022-08-08T05:12:06.653138Z"
    },
    "papermill": {
     "duration": 7.898616,
     "end_time": "2022-08-08T05:34:42.858913",
     "exception": false,
     "start_time": "2022-08-08T05:34:34.960297",
     "status": "completed"
    },
    "tags": []
   },
   "outputs": [
    {
     "name": "stderr",
     "output_type": "stream",
     "text": [
      "2022-08-08 05:34:36.856990: W tensorflow/stream_executor/platform/default/dso_loader.cc:60] Could not load dynamic library 'libcudart.so.11.0'; dlerror: libcudart.so.11.0: cannot open shared object file: No such file or directory; LD_LIBRARY_PATH: /opt/conda/lib\n",
      "2022-08-08 05:34:36.857126: I tensorflow/stream_executor/cuda/cudart_stub.cc:29] Ignore above cudart dlerror if you do not have a GPU set up on your machine.\n"
     ]
    }
   ],
   "source": [
    "import numpy as np\n",
    "import pandas as pd\n",
    "import matplotlib.pyplot as plt\n",
    "import seaborn as sns\n",
    "import tensorflow as tf\n",
    "from tensorflow import keras\n",
    "from tensorflow.keras import layers\n",
    "from tensorflow.keras.callbacks import EarlyStopping\n",
    "import gc"
   ]
  },
  {
   "cell_type": "markdown",
   "id": "35f736a5",
   "metadata": {
    "papermill": {
     "duration": 0.034244,
     "end_time": "2022-08-08T05:34:42.930665",
     "exception": false,
     "start_time": "2022-08-08T05:34:42.896421",
     "status": "completed"
    },
    "tags": []
   },
   "source": [
    "# 1.2 Loading Data"
   ]
  },
  {
   "cell_type": "code",
   "execution_count": 2,
   "id": "d3537db6",
   "metadata": {
    "execution": {
     "iopub.execute_input": "2022-08-08T05:34:43.006566Z",
     "iopub.status.busy": "2022-08-08T05:34:43.005573Z",
     "iopub.status.idle": "2022-08-08T05:37:52.174818Z",
     "shell.execute_reply": "2022-08-08T05:37:52.173472Z",
     "shell.execute_reply.started": "2022-08-08T05:12:13.154923Z"
    },
    "papermill": {
     "duration": 189.210111,
     "end_time": "2022-08-08T05:37:52.175063",
     "exception": false,
     "start_time": "2022-08-08T05:34:42.964952",
     "status": "completed"
    },
    "tags": []
   },
   "outputs": [],
   "source": [
    "train=pd.read_csv(\"../input/training/train.csv.gzip\",compression=\"gzip\",dtype=\"float16\")"
   ]
  },
  {
   "cell_type": "markdown",
   "id": "5f4581f1",
   "metadata": {
    "papermill": {
     "duration": 0.033818,
     "end_time": "2022-08-08T05:37:52.246228",
     "exception": false,
     "start_time": "2022-08-08T05:37:52.212410",
     "status": "completed"
    },
    "tags": []
   },
   "source": [
    "# 1.3 Data size and structure"
   ]
  },
  {
   "cell_type": "markdown",
   "id": "89632e91",
   "metadata": {
    "papermill": {
     "duration": 0.035503,
     "end_time": "2022-08-08T05:37:52.316439",
     "exception": false,
     "start_time": "2022-08-08T05:37:52.280936",
     "status": "completed"
    },
    "tags": []
   },
   "source": [
    "Here we understant the shape of the table. We found that we have an extra column in the data set. So we need to remove it."
   ]
  },
  {
   "cell_type": "code",
   "execution_count": 3,
   "id": "d44d85b4",
   "metadata": {
    "execution": {
     "iopub.execute_input": "2022-08-08T05:37:52.392178Z",
     "iopub.status.busy": "2022-08-08T05:37:52.391413Z",
     "iopub.status.idle": "2022-08-08T05:37:52.394760Z",
     "shell.execute_reply": "2022-08-08T05:37:52.395288Z",
     "shell.execute_reply.started": "2022-08-08T05:14:56.391314Z"
    },
    "papermill": {
     "duration": 0.044587,
     "end_time": "2022-08-08T05:37:52.395475",
     "exception": false,
     "start_time": "2022-08-08T05:37:52.350888",
     "status": "completed"
    },
    "tags": []
   },
   "outputs": [
    {
     "data": {
      "text/plain": [
       "(5531451, 171)"
      ]
     },
     "execution_count": 3,
     "metadata": {},
     "output_type": "execute_result"
    }
   ],
   "source": [
    "train.shape"
   ]
  },
  {
   "cell_type": "code",
   "execution_count": 4,
   "id": "6e069119",
   "metadata": {
    "execution": {
     "iopub.execute_input": "2022-08-08T05:37:52.472141Z",
     "iopub.status.busy": "2022-08-08T05:37:52.471306Z",
     "iopub.status.idle": "2022-08-08T05:37:52.510853Z",
     "shell.execute_reply": "2022-08-08T05:37:52.511485Z",
     "shell.execute_reply.started": "2022-08-08T05:14:56.400608Z"
    },
    "papermill": {
     "duration": 0.082002,
     "end_time": "2022-08-08T05:37:52.511711",
     "exception": false,
     "start_time": "2022-08-08T05:37:52.429709",
     "status": "completed"
    },
    "tags": []
   },
   "outputs": [
    {
     "data": {
      "text/html": [
       "<div>\n",
       "<style scoped>\n",
       "    .dataframe tbody tr th:only-of-type {\n",
       "        vertical-align: middle;\n",
       "    }\n",
       "\n",
       "    .dataframe tbody tr th {\n",
       "        vertical-align: top;\n",
       "    }\n",
       "\n",
       "    .dataframe thead th {\n",
       "        text-align: right;\n",
       "    }\n",
       "</style>\n",
       "<table border=\"1\" class=\"dataframe\">\n",
       "  <thead>\n",
       "    <tr style=\"text-align: right;\">\n",
       "      <th></th>\n",
       "      <th>Unnamed: 0</th>\n",
       "      <th>target</th>\n",
       "      <th>S_2</th>\n",
       "      <th>P_2</th>\n",
       "      <th>D_39</th>\n",
       "      <th>B_1</th>\n",
       "      <th>B_2</th>\n",
       "      <th>R_1</th>\n",
       "      <th>D_41</th>\n",
       "      <th>B_3</th>\n",
       "      <th>...</th>\n",
       "      <th>D_135</th>\n",
       "      <th>D_136</th>\n",
       "      <th>D_137</th>\n",
       "      <th>D_138</th>\n",
       "      <th>D_139</th>\n",
       "      <th>D_140</th>\n",
       "      <th>D_141</th>\n",
       "      <th>D_143</th>\n",
       "      <th>D_144</th>\n",
       "      <th>D_145</th>\n",
       "    </tr>\n",
       "  </thead>\n",
       "  <tbody>\n",
       "    <tr>\n",
       "      <th>0</th>\n",
       "      <td>0.0</td>\n",
       "      <td>0.0</td>\n",
       "      <td>0.232056</td>\n",
       "      <td>0.638672</td>\n",
       "      <td>0.000000</td>\n",
       "      <td>0.000978</td>\n",
       "      <td>0.392578</td>\n",
       "      <td>0.002834</td>\n",
       "      <td>0.0</td>\n",
       "      <td>0.002096</td>\n",
       "      <td>...</td>\n",
       "      <td>-0.5</td>\n",
       "      <td>-0.125</td>\n",
       "      <td>-0.5</td>\n",
       "      <td>-0.142822</td>\n",
       "      <td>0.0</td>\n",
       "      <td>0.0</td>\n",
       "      <td>0.0</td>\n",
       "      <td>0.0</td>\n",
       "      <td>0.000454</td>\n",
       "      <td>0.0</td>\n",
       "    </tr>\n",
       "    <tr>\n",
       "      <th>1</th>\n",
       "      <td>1.0</td>\n",
       "      <td>0.0</td>\n",
       "      <td>0.236328</td>\n",
       "      <td>0.637695</td>\n",
       "      <td>0.000000</td>\n",
       "      <td>0.000552</td>\n",
       "      <td>0.390137</td>\n",
       "      <td>0.001889</td>\n",
       "      <td>0.0</td>\n",
       "      <td>0.001207</td>\n",
       "      <td>...</td>\n",
       "      <td>-0.5</td>\n",
       "      <td>-0.125</td>\n",
       "      <td>-0.5</td>\n",
       "      <td>-0.142822</td>\n",
       "      <td>0.0</td>\n",
       "      <td>0.0</td>\n",
       "      <td>0.0</td>\n",
       "      <td>0.0</td>\n",
       "      <td>0.004089</td>\n",
       "      <td>0.0</td>\n",
       "    </tr>\n",
       "    <tr>\n",
       "      <th>2</th>\n",
       "      <td>2.0</td>\n",
       "      <td>0.0</td>\n",
       "      <td>0.238770</td>\n",
       "      <td>0.649414</td>\n",
       "      <td>0.016388</td>\n",
       "      <td>0.002430</td>\n",
       "      <td>0.393555</td>\n",
       "      <td>0.002092</td>\n",
       "      <td>0.0</td>\n",
       "      <td>0.004192</td>\n",
       "      <td>...</td>\n",
       "      <td>-0.5</td>\n",
       "      <td>-0.125</td>\n",
       "      <td>-0.5</td>\n",
       "      <td>-0.142822</td>\n",
       "      <td>0.0</td>\n",
       "      <td>0.0</td>\n",
       "      <td>0.0</td>\n",
       "      <td>0.0</td>\n",
       "      <td>0.005199</td>\n",
       "      <td>0.0</td>\n",
       "    </tr>\n",
       "    <tr>\n",
       "      <th>3</th>\n",
       "      <td>3.0</td>\n",
       "      <td>0.0</td>\n",
       "      <td>0.242554</td>\n",
       "      <td>0.653809</td>\n",
       "      <td>0.000000</td>\n",
       "      <td>0.001535</td>\n",
       "      <td>0.390869</td>\n",
       "      <td>0.000422</td>\n",
       "      <td>0.0</td>\n",
       "      <td>0.002460</td>\n",
       "      <td>...</td>\n",
       "      <td>-0.5</td>\n",
       "      <td>-0.125</td>\n",
       "      <td>-0.5</td>\n",
       "      <td>-0.142822</td>\n",
       "      <td>0.0</td>\n",
       "      <td>0.0</td>\n",
       "      <td>0.0</td>\n",
       "      <td>0.0</td>\n",
       "      <td>0.004860</td>\n",
       "      <td>0.0</td>\n",
       "    </tr>\n",
       "    <tr>\n",
       "      <th>4</th>\n",
       "      <td>4.0</td>\n",
       "      <td>0.0</td>\n",
       "      <td>0.245850</td>\n",
       "      <td>0.645020</td>\n",
       "      <td>0.000000</td>\n",
       "      <td>0.001704</td>\n",
       "      <td>0.390137</td>\n",
       "      <td>0.002335</td>\n",
       "      <td>0.0</td>\n",
       "      <td>0.004143</td>\n",
       "      <td>...</td>\n",
       "      <td>-0.5</td>\n",
       "      <td>-0.125</td>\n",
       "      <td>-0.5</td>\n",
       "      <td>-0.142822</td>\n",
       "      <td>0.0</td>\n",
       "      <td>0.0</td>\n",
       "      <td>0.0</td>\n",
       "      <td>0.0</td>\n",
       "      <td>0.006050</td>\n",
       "      <td>0.0</td>\n",
       "    </tr>\n",
       "  </tbody>\n",
       "</table>\n",
       "<p>5 rows × 171 columns</p>\n",
       "</div>"
      ],
      "text/plain": [
       "   Unnamed: 0  target       S_2       P_2      D_39       B_1       B_2  \\\n",
       "0         0.0     0.0  0.232056  0.638672  0.000000  0.000978  0.392578   \n",
       "1         1.0     0.0  0.236328  0.637695  0.000000  0.000552  0.390137   \n",
       "2         2.0     0.0  0.238770  0.649414  0.016388  0.002430  0.393555   \n",
       "3         3.0     0.0  0.242554  0.653809  0.000000  0.001535  0.390869   \n",
       "4         4.0     0.0  0.245850  0.645020  0.000000  0.001704  0.390137   \n",
       "\n",
       "        R_1  D_41       B_3  ...  D_135  D_136  D_137     D_138  D_139  D_140  \\\n",
       "0  0.002834   0.0  0.002096  ...   -0.5 -0.125   -0.5 -0.142822    0.0    0.0   \n",
       "1  0.001889   0.0  0.001207  ...   -0.5 -0.125   -0.5 -0.142822    0.0    0.0   \n",
       "2  0.002092   0.0  0.004192  ...   -0.5 -0.125   -0.5 -0.142822    0.0    0.0   \n",
       "3  0.000422   0.0  0.002460  ...   -0.5 -0.125   -0.5 -0.142822    0.0    0.0   \n",
       "4  0.002335   0.0  0.004143  ...   -0.5 -0.125   -0.5 -0.142822    0.0    0.0   \n",
       "\n",
       "   D_141  D_143     D_144  D_145  \n",
       "0    0.0    0.0  0.000454    0.0  \n",
       "1    0.0    0.0  0.004089    0.0  \n",
       "2    0.0    0.0  0.005199    0.0  \n",
       "3    0.0    0.0  0.004860    0.0  \n",
       "4    0.0    0.0  0.006050    0.0  \n",
       "\n",
       "[5 rows x 171 columns]"
      ]
     },
     "execution_count": 4,
     "metadata": {},
     "output_type": "execute_result"
    }
   ],
   "source": [
    "train.head()"
   ]
  },
  {
   "cell_type": "markdown",
   "id": "3a34a09a",
   "metadata": {
    "papermill": {
     "duration": 0.036133,
     "end_time": "2022-08-08T05:37:52.585741",
     "exception": false,
     "start_time": "2022-08-08T05:37:52.549608",
     "status": "completed"
    },
    "tags": []
   },
   "source": [
    "When we save the dataframe as csv the datatypes are not maintained. So we need to reassign the data types. "
   ]
  },
  {
   "cell_type": "code",
   "execution_count": 5,
   "id": "45edff54",
   "metadata": {
    "execution": {
     "iopub.execute_input": "2022-08-08T05:37:52.660550Z",
     "iopub.status.busy": "2022-08-08T05:37:52.659849Z",
     "iopub.status.idle": "2022-08-08T05:37:53.685426Z",
     "shell.execute_reply": "2022-08-08T05:37:53.684704Z",
     "shell.execute_reply.started": "2022-08-08T05:14:56.443534Z"
    },
    "papermill": {
     "duration": 1.062652,
     "end_time": "2022-08-08T05:37:53.685579",
     "exception": false,
     "start_time": "2022-08-08T05:37:52.622927",
     "status": "completed"
    },
    "tags": []
   },
   "outputs": [],
   "source": [
    "train[\"target\"]=train[\"target\"].astype(\"int8\")"
   ]
  },
  {
   "cell_type": "markdown",
   "id": "70db3960",
   "metadata": {
    "papermill": {
     "duration": 0.033411,
     "end_time": "2022-08-08T05:37:53.754611",
     "exception": false,
     "start_time": "2022-08-08T05:37:53.721200",
     "status": "completed"
    },
    "tags": []
   },
   "source": [
    "Drop the extra added column"
   ]
  },
  {
   "cell_type": "code",
   "execution_count": 6,
   "id": "e2767554",
   "metadata": {
    "execution": {
     "iopub.execute_input": "2022-08-08T05:37:53.861379Z",
     "iopub.status.busy": "2022-08-08T05:37:53.860617Z",
     "iopub.status.idle": "2022-08-08T05:38:03.787719Z",
     "shell.execute_reply": "2022-08-08T05:38:03.784693Z",
     "shell.execute_reply.started": "2022-08-08T05:14:57.051833Z"
    },
    "papermill": {
     "duration": 10.000673,
     "end_time": "2022-08-08T05:38:03.789364",
     "exception": false,
     "start_time": "2022-08-08T05:37:53.788691",
     "status": "completed"
    },
    "tags": []
   },
   "outputs": [],
   "source": [
    "train.drop(\"Unnamed: 0\",axis=1,inplace=True)"
   ]
  },
  {
   "cell_type": "code",
   "execution_count": 7,
   "id": "7bc214d9",
   "metadata": {
    "execution": {
     "iopub.execute_input": "2022-08-08T05:38:03.893345Z",
     "iopub.status.busy": "2022-08-08T05:38:03.892436Z",
     "iopub.status.idle": "2022-08-08T05:38:03.953286Z",
     "shell.execute_reply": "2022-08-08T05:38:03.953838Z",
     "shell.execute_reply.started": "2022-08-08T05:15:00.986417Z"
    },
    "papermill": {
     "duration": 0.108477,
     "end_time": "2022-08-08T05:38:03.954103",
     "exception": false,
     "start_time": "2022-08-08T05:38:03.845626",
     "status": "completed"
    },
    "tags": []
   },
   "outputs": [
    {
     "data": {
      "text/html": [
       "<div>\n",
       "<style scoped>\n",
       "    .dataframe tbody tr th:only-of-type {\n",
       "        vertical-align: middle;\n",
       "    }\n",
       "\n",
       "    .dataframe tbody tr th {\n",
       "        vertical-align: top;\n",
       "    }\n",
       "\n",
       "    .dataframe thead th {\n",
       "        text-align: right;\n",
       "    }\n",
       "</style>\n",
       "<table border=\"1\" class=\"dataframe\">\n",
       "  <thead>\n",
       "    <tr style=\"text-align: right;\">\n",
       "      <th></th>\n",
       "      <th>target</th>\n",
       "      <th>S_2</th>\n",
       "      <th>P_2</th>\n",
       "      <th>D_39</th>\n",
       "      <th>B_1</th>\n",
       "      <th>B_2</th>\n",
       "      <th>R_1</th>\n",
       "      <th>D_41</th>\n",
       "      <th>B_3</th>\n",
       "      <th>D_43</th>\n",
       "      <th>...</th>\n",
       "      <th>D_135</th>\n",
       "      <th>D_136</th>\n",
       "      <th>D_137</th>\n",
       "      <th>D_138</th>\n",
       "      <th>D_139</th>\n",
       "      <th>D_140</th>\n",
       "      <th>D_141</th>\n",
       "      <th>D_143</th>\n",
       "      <th>D_144</th>\n",
       "      <th>D_145</th>\n",
       "    </tr>\n",
       "  </thead>\n",
       "  <tbody>\n",
       "    <tr>\n",
       "      <th>0</th>\n",
       "      <td>0</td>\n",
       "      <td>0.232056</td>\n",
       "      <td>0.638672</td>\n",
       "      <td>0.000000</td>\n",
       "      <td>0.000978</td>\n",
       "      <td>0.392578</td>\n",
       "      <td>0.002834</td>\n",
       "      <td>0.0</td>\n",
       "      <td>0.002096</td>\n",
       "      <td>0.007229</td>\n",
       "      <td>...</td>\n",
       "      <td>-0.5</td>\n",
       "      <td>-0.125</td>\n",
       "      <td>-0.5</td>\n",
       "      <td>-0.142822</td>\n",
       "      <td>0.0</td>\n",
       "      <td>0.0</td>\n",
       "      <td>0.0</td>\n",
       "      <td>0.0</td>\n",
       "      <td>0.000454</td>\n",
       "      <td>0.0</td>\n",
       "    </tr>\n",
       "    <tr>\n",
       "      <th>1</th>\n",
       "      <td>0</td>\n",
       "      <td>0.236328</td>\n",
       "      <td>0.637695</td>\n",
       "      <td>0.000000</td>\n",
       "      <td>0.000552</td>\n",
       "      <td>0.390137</td>\n",
       "      <td>0.001889</td>\n",
       "      <td>0.0</td>\n",
       "      <td>0.001207</td>\n",
       "      <td>0.007229</td>\n",
       "      <td>...</td>\n",
       "      <td>-0.5</td>\n",
       "      <td>-0.125</td>\n",
       "      <td>-0.5</td>\n",
       "      <td>-0.142822</td>\n",
       "      <td>0.0</td>\n",
       "      <td>0.0</td>\n",
       "      <td>0.0</td>\n",
       "      <td>0.0</td>\n",
       "      <td>0.004089</td>\n",
       "      <td>0.0</td>\n",
       "    </tr>\n",
       "    <tr>\n",
       "      <th>2</th>\n",
       "      <td>0</td>\n",
       "      <td>0.238770</td>\n",
       "      <td>0.649414</td>\n",
       "      <td>0.016388</td>\n",
       "      <td>0.002430</td>\n",
       "      <td>0.393555</td>\n",
       "      <td>0.002092</td>\n",
       "      <td>0.0</td>\n",
       "      <td>0.004192</td>\n",
       "      <td>0.007229</td>\n",
       "      <td>...</td>\n",
       "      <td>-0.5</td>\n",
       "      <td>-0.125</td>\n",
       "      <td>-0.5</td>\n",
       "      <td>-0.142822</td>\n",
       "      <td>0.0</td>\n",
       "      <td>0.0</td>\n",
       "      <td>0.0</td>\n",
       "      <td>0.0</td>\n",
       "      <td>0.005199</td>\n",
       "      <td>0.0</td>\n",
       "    </tr>\n",
       "    <tr>\n",
       "      <th>3</th>\n",
       "      <td>0</td>\n",
       "      <td>0.242554</td>\n",
       "      <td>0.653809</td>\n",
       "      <td>0.000000</td>\n",
       "      <td>0.001535</td>\n",
       "      <td>0.390869</td>\n",
       "      <td>0.000422</td>\n",
       "      <td>0.0</td>\n",
       "      <td>0.002460</td>\n",
       "      <td>0.007229</td>\n",
       "      <td>...</td>\n",
       "      <td>-0.5</td>\n",
       "      <td>-0.125</td>\n",
       "      <td>-0.5</td>\n",
       "      <td>-0.142822</td>\n",
       "      <td>0.0</td>\n",
       "      <td>0.0</td>\n",
       "      <td>0.0</td>\n",
       "      <td>0.0</td>\n",
       "      <td>0.004860</td>\n",
       "      <td>0.0</td>\n",
       "    </tr>\n",
       "    <tr>\n",
       "      <th>4</th>\n",
       "      <td>0</td>\n",
       "      <td>0.245850</td>\n",
       "      <td>0.645020</td>\n",
       "      <td>0.000000</td>\n",
       "      <td>0.001704</td>\n",
       "      <td>0.390137</td>\n",
       "      <td>0.002335</td>\n",
       "      <td>0.0</td>\n",
       "      <td>0.004143</td>\n",
       "      <td>0.007229</td>\n",
       "      <td>...</td>\n",
       "      <td>-0.5</td>\n",
       "      <td>-0.125</td>\n",
       "      <td>-0.5</td>\n",
       "      <td>-0.142822</td>\n",
       "      <td>0.0</td>\n",
       "      <td>0.0</td>\n",
       "      <td>0.0</td>\n",
       "      <td>0.0</td>\n",
       "      <td>0.006050</td>\n",
       "      <td>0.0</td>\n",
       "    </tr>\n",
       "  </tbody>\n",
       "</table>\n",
       "<p>5 rows × 170 columns</p>\n",
       "</div>"
      ],
      "text/plain": [
       "   target       S_2       P_2      D_39       B_1       B_2       R_1  D_41  \\\n",
       "0       0  0.232056  0.638672  0.000000  0.000978  0.392578  0.002834   0.0   \n",
       "1       0  0.236328  0.637695  0.000000  0.000552  0.390137  0.001889   0.0   \n",
       "2       0  0.238770  0.649414  0.016388  0.002430  0.393555  0.002092   0.0   \n",
       "3       0  0.242554  0.653809  0.000000  0.001535  0.390869  0.000422   0.0   \n",
       "4       0  0.245850  0.645020  0.000000  0.001704  0.390137  0.002335   0.0   \n",
       "\n",
       "        B_3      D_43  ...  D_135  D_136  D_137     D_138  D_139  D_140  \\\n",
       "0  0.002096  0.007229  ...   -0.5 -0.125   -0.5 -0.142822    0.0    0.0   \n",
       "1  0.001207  0.007229  ...   -0.5 -0.125   -0.5 -0.142822    0.0    0.0   \n",
       "2  0.004192  0.007229  ...   -0.5 -0.125   -0.5 -0.142822    0.0    0.0   \n",
       "3  0.002460  0.007229  ...   -0.5 -0.125   -0.5 -0.142822    0.0    0.0   \n",
       "4  0.004143  0.007229  ...   -0.5 -0.125   -0.5 -0.142822    0.0    0.0   \n",
       "\n",
       "   D_141  D_143     D_144  D_145  \n",
       "0    0.0    0.0  0.000454    0.0  \n",
       "1    0.0    0.0  0.004089    0.0  \n",
       "2    0.0    0.0  0.005199    0.0  \n",
       "3    0.0    0.0  0.004860    0.0  \n",
       "4    0.0    0.0  0.006050    0.0  \n",
       "\n",
       "[5 rows x 170 columns]"
      ]
     },
     "execution_count": 7,
     "metadata": {},
     "output_type": "execute_result"
    }
   ],
   "source": [
    "train.head()"
   ]
  },
  {
   "cell_type": "markdown",
   "id": "145a0e91",
   "metadata": {
    "papermill": {
     "duration": 0.04119,
     "end_time": "2022-08-08T05:38:04.035524",
     "exception": false,
     "start_time": "2022-08-08T05:38:03.994334",
     "status": "completed"
    },
    "tags": []
   },
   "source": [
    "# 1.4 Reduce the size of Data"
   ]
  },
  {
   "cell_type": "code",
   "execution_count": 8,
   "id": "b3cb9428",
   "metadata": {
    "execution": {
     "iopub.execute_input": "2022-08-08T05:38:04.115485Z",
     "iopub.status.busy": "2022-08-08T05:38:04.114474Z",
     "iopub.status.idle": "2022-08-08T05:38:06.580926Z",
     "shell.execute_reply": "2022-08-08T05:38:06.580161Z",
     "shell.execute_reply.started": "2022-08-08T05:15:01.017908Z"
    },
    "papermill": {
     "duration": 2.507243,
     "end_time": "2022-08-08T05:38:06.581116",
     "exception": false,
     "start_time": "2022-08-08T05:38:04.073873",
     "status": "completed"
    },
    "tags": []
   },
   "outputs": [],
   "source": [
    "for col in train.columns:\n",
    "    if col not in ['customer_ID', 'target']:\n",
    "        train[col]=train[col].astype(\"float16\")\n",
    "train[\"target\"]=train[\"target\"].astype(\"int8\")"
   ]
  },
  {
   "cell_type": "markdown",
   "id": "2b21f081",
   "metadata": {
    "papermill": {
     "duration": 0.037277,
     "end_time": "2022-08-08T05:38:06.655610",
     "exception": false,
     "start_time": "2022-08-08T05:38:06.618333",
     "status": "completed"
    },
    "tags": []
   },
   "source": [
    "# 2 Splitting the Data "
   ]
  },
  {
   "cell_type": "code",
   "execution_count": 9,
   "id": "3db69565",
   "metadata": {
    "execution": {
     "iopub.execute_input": "2022-08-08T05:38:06.739478Z",
     "iopub.status.busy": "2022-08-08T05:38:06.738699Z",
     "iopub.status.idle": "2022-08-08T05:38:06.743585Z",
     "shell.execute_reply": "2022-08-08T05:38:06.744366Z",
     "shell.execute_reply.started": "2022-08-08T05:15:01.947579Z"
    },
    "papermill": {
     "duration": 0.050725,
     "end_time": "2022-08-08T05:38:06.744587",
     "exception": false,
     "start_time": "2022-08-08T05:38:06.693862",
     "status": "completed"
    },
    "tags": []
   },
   "outputs": [],
   "source": [
    "train_y=train[\"target\"].copy()"
   ]
  },
  {
   "cell_type": "code",
   "execution_count": 10,
   "id": "84860a6a",
   "metadata": {
    "execution": {
     "iopub.execute_input": "2022-08-08T05:38:06.825617Z",
     "iopub.status.busy": "2022-08-08T05:38:06.824683Z",
     "iopub.status.idle": "2022-08-08T05:38:13.164304Z",
     "shell.execute_reply": "2022-08-08T05:38:13.163481Z",
     "shell.execute_reply.started": "2022-08-08T05:15:01.955283Z"
    },
    "papermill": {
     "duration": 6.383796,
     "end_time": "2022-08-08T05:38:13.164533",
     "exception": false,
     "start_time": "2022-08-08T05:38:06.780737",
     "status": "completed"
    },
    "tags": []
   },
   "outputs": [],
   "source": [
    "train_x=train.loc[:,train.columns!=\"target\"]"
   ]
  },
  {
   "cell_type": "code",
   "execution_count": 11,
   "id": "e4f46050",
   "metadata": {
    "execution": {
     "iopub.execute_input": "2022-08-08T05:38:13.245531Z",
     "iopub.status.busy": "2022-08-08T05:38:13.244789Z",
     "iopub.status.idle": "2022-08-08T05:38:13.247839Z",
     "shell.execute_reply": "2022-08-08T05:38:13.248315Z",
     "shell.execute_reply.started": "2022-08-08T05:15:08.927446Z"
    },
    "papermill": {
     "duration": 0.045422,
     "end_time": "2022-08-08T05:38:13.248499",
     "exception": false,
     "start_time": "2022-08-08T05:38:13.203077",
     "status": "completed"
    },
    "tags": []
   },
   "outputs": [],
   "source": [
    "del train"
   ]
  },
  {
   "cell_type": "markdown",
   "id": "a502e52a",
   "metadata": {
    "papermill": {
     "duration": 0.036844,
     "end_time": "2022-08-08T05:38:13.320742",
     "exception": false,
     "start_time": "2022-08-08T05:38:13.283898",
     "status": "completed"
    },
    "tags": []
   },
   "source": [
    "Get a glimps of train_x and train_y"
   ]
  },
  {
   "cell_type": "code",
   "execution_count": 12,
   "id": "6acb08f4",
   "metadata": {
    "execution": {
     "iopub.execute_input": "2022-08-08T05:38:13.402985Z",
     "iopub.status.busy": "2022-08-08T05:38:13.402110Z",
     "iopub.status.idle": "2022-08-08T05:38:13.405555Z",
     "shell.execute_reply": "2022-08-08T05:38:13.406062Z",
     "shell.execute_reply.started": "2022-08-08T05:15:08.937167Z"
    },
    "papermill": {
     "duration": 0.051134,
     "end_time": "2022-08-08T05:38:13.406254",
     "exception": false,
     "start_time": "2022-08-08T05:38:13.355120",
     "status": "completed"
    },
    "tags": []
   },
   "outputs": [
    {
     "data": {
      "text/plain": [
       "0          0\n",
       "1          0\n",
       "2          0\n",
       "3          0\n",
       "4          0\n",
       "          ..\n",
       "5531446    0\n",
       "5531447    0\n",
       "5531448    0\n",
       "5531449    0\n",
       "5531450    0\n",
       "Name: target, Length: 5531451, dtype: int8"
      ]
     },
     "execution_count": 12,
     "metadata": {},
     "output_type": "execute_result"
    }
   ],
   "source": [
    "train_y"
   ]
  },
  {
   "cell_type": "code",
   "execution_count": 13,
   "id": "a6dd3eb5",
   "metadata": {
    "execution": {
     "iopub.execute_input": "2022-08-08T05:38:13.482565Z",
     "iopub.status.busy": "2022-08-08T05:38:13.481569Z",
     "iopub.status.idle": "2022-08-08T05:38:13.724016Z",
     "shell.execute_reply": "2022-08-08T05:38:13.723241Z",
     "shell.execute_reply.started": "2022-08-08T05:15:08.961755Z"
    },
    "papermill": {
     "duration": 0.282326,
     "end_time": "2022-08-08T05:38:13.724214",
     "exception": false,
     "start_time": "2022-08-08T05:38:13.441888",
     "status": "completed"
    },
    "tags": []
   },
   "outputs": [
    {
     "data": {
      "text/html": [
       "<div>\n",
       "<style scoped>\n",
       "    .dataframe tbody tr th:only-of-type {\n",
       "        vertical-align: middle;\n",
       "    }\n",
       "\n",
       "    .dataframe tbody tr th {\n",
       "        vertical-align: top;\n",
       "    }\n",
       "\n",
       "    .dataframe thead th {\n",
       "        text-align: right;\n",
       "    }\n",
       "</style>\n",
       "<table border=\"1\" class=\"dataframe\">\n",
       "  <thead>\n",
       "    <tr style=\"text-align: right;\">\n",
       "      <th></th>\n",
       "      <th>S_2</th>\n",
       "      <th>P_2</th>\n",
       "      <th>D_39</th>\n",
       "      <th>B_1</th>\n",
       "      <th>B_2</th>\n",
       "      <th>R_1</th>\n",
       "      <th>D_41</th>\n",
       "      <th>B_3</th>\n",
       "      <th>D_43</th>\n",
       "      <th>D_44</th>\n",
       "      <th>...</th>\n",
       "      <th>D_135</th>\n",
       "      <th>D_136</th>\n",
       "      <th>D_137</th>\n",
       "      <th>D_138</th>\n",
       "      <th>D_139</th>\n",
       "      <th>D_140</th>\n",
       "      <th>D_141</th>\n",
       "      <th>D_143</th>\n",
       "      <th>D_144</th>\n",
       "      <th>D_145</th>\n",
       "    </tr>\n",
       "  </thead>\n",
       "  <tbody>\n",
       "    <tr>\n",
       "      <th>0</th>\n",
       "      <td>0.232056</td>\n",
       "      <td>0.638672</td>\n",
       "      <td>0.000000</td>\n",
       "      <td>0.000978</td>\n",
       "      <td>0.392578</td>\n",
       "      <td>0.002834</td>\n",
       "      <td>0.0</td>\n",
       "      <td>0.002096</td>\n",
       "      <td>0.007229</td>\n",
       "      <td>0.0</td>\n",
       "      <td>...</td>\n",
       "      <td>-0.5</td>\n",
       "      <td>-0.125</td>\n",
       "      <td>-0.5</td>\n",
       "      <td>-0.142822</td>\n",
       "      <td>0.0</td>\n",
       "      <td>0.0</td>\n",
       "      <td>0.0</td>\n",
       "      <td>0.0</td>\n",
       "      <td>0.000454</td>\n",
       "      <td>0.0</td>\n",
       "    </tr>\n",
       "    <tr>\n",
       "      <th>1</th>\n",
       "      <td>0.236328</td>\n",
       "      <td>0.637695</td>\n",
       "      <td>0.000000</td>\n",
       "      <td>0.000552</td>\n",
       "      <td>0.390137</td>\n",
       "      <td>0.001889</td>\n",
       "      <td>0.0</td>\n",
       "      <td>0.001207</td>\n",
       "      <td>0.007229</td>\n",
       "      <td>0.0</td>\n",
       "      <td>...</td>\n",
       "      <td>-0.5</td>\n",
       "      <td>-0.125</td>\n",
       "      <td>-0.5</td>\n",
       "      <td>-0.142822</td>\n",
       "      <td>0.0</td>\n",
       "      <td>0.0</td>\n",
       "      <td>0.0</td>\n",
       "      <td>0.0</td>\n",
       "      <td>0.004089</td>\n",
       "      <td>0.0</td>\n",
       "    </tr>\n",
       "    <tr>\n",
       "      <th>2</th>\n",
       "      <td>0.238770</td>\n",
       "      <td>0.649414</td>\n",
       "      <td>0.016388</td>\n",
       "      <td>0.002430</td>\n",
       "      <td>0.393555</td>\n",
       "      <td>0.002092</td>\n",
       "      <td>0.0</td>\n",
       "      <td>0.004192</td>\n",
       "      <td>0.007229</td>\n",
       "      <td>0.0</td>\n",
       "      <td>...</td>\n",
       "      <td>-0.5</td>\n",
       "      <td>-0.125</td>\n",
       "      <td>-0.5</td>\n",
       "      <td>-0.142822</td>\n",
       "      <td>0.0</td>\n",
       "      <td>0.0</td>\n",
       "      <td>0.0</td>\n",
       "      <td>0.0</td>\n",
       "      <td>0.005199</td>\n",
       "      <td>0.0</td>\n",
       "    </tr>\n",
       "    <tr>\n",
       "      <th>3</th>\n",
       "      <td>0.242554</td>\n",
       "      <td>0.653809</td>\n",
       "      <td>0.000000</td>\n",
       "      <td>0.001535</td>\n",
       "      <td>0.390869</td>\n",
       "      <td>0.000422</td>\n",
       "      <td>0.0</td>\n",
       "      <td>0.002460</td>\n",
       "      <td>0.007229</td>\n",
       "      <td>0.0</td>\n",
       "      <td>...</td>\n",
       "      <td>-0.5</td>\n",
       "      <td>-0.125</td>\n",
       "      <td>-0.5</td>\n",
       "      <td>-0.142822</td>\n",
       "      <td>0.0</td>\n",
       "      <td>0.0</td>\n",
       "      <td>0.0</td>\n",
       "      <td>0.0</td>\n",
       "      <td>0.004860</td>\n",
       "      <td>0.0</td>\n",
       "    </tr>\n",
       "    <tr>\n",
       "      <th>4</th>\n",
       "      <td>0.245850</td>\n",
       "      <td>0.645020</td>\n",
       "      <td>0.000000</td>\n",
       "      <td>0.001704</td>\n",
       "      <td>0.390137</td>\n",
       "      <td>0.002335</td>\n",
       "      <td>0.0</td>\n",
       "      <td>0.004143</td>\n",
       "      <td>0.007229</td>\n",
       "      <td>0.0</td>\n",
       "      <td>...</td>\n",
       "      <td>-0.5</td>\n",
       "      <td>-0.125</td>\n",
       "      <td>-0.5</td>\n",
       "      <td>-0.142822</td>\n",
       "      <td>0.0</td>\n",
       "      <td>0.0</td>\n",
       "      <td>0.0</td>\n",
       "      <td>0.0</td>\n",
       "      <td>0.006050</td>\n",
       "      <td>0.0</td>\n",
       "    </tr>\n",
       "    <tr>\n",
       "      <th>...</th>\n",
       "      <td>...</td>\n",
       "      <td>...</td>\n",
       "      <td>...</td>\n",
       "      <td>...</td>\n",
       "      <td>...</td>\n",
       "      <td>...</td>\n",
       "      <td>...</td>\n",
       "      <td>...</td>\n",
       "      <td>...</td>\n",
       "      <td>...</td>\n",
       "      <td>...</td>\n",
       "      <td>...</td>\n",
       "      <td>...</td>\n",
       "      <td>...</td>\n",
       "      <td>...</td>\n",
       "      <td>...</td>\n",
       "      <td>...</td>\n",
       "      <td>...</td>\n",
       "      <td>...</td>\n",
       "      <td>...</td>\n",
       "      <td>...</td>\n",
       "    </tr>\n",
       "    <tr>\n",
       "      <th>5531446</th>\n",
       "      <td>0.254639</td>\n",
       "      <td>0.666504</td>\n",
       "      <td>0.076477</td>\n",
       "      <td>0.002337</td>\n",
       "      <td>0.322754</td>\n",
       "      <td>0.001071</td>\n",
       "      <td>0.0</td>\n",
       "      <td>0.011185</td>\n",
       "      <td>0.001407</td>\n",
       "      <td>0.0</td>\n",
       "      <td>...</td>\n",
       "      <td>-0.5</td>\n",
       "      <td>-0.125</td>\n",
       "      <td>-0.5</td>\n",
       "      <td>-0.142822</td>\n",
       "      <td>0.0</td>\n",
       "      <td>0.0</td>\n",
       "      <td>0.0</td>\n",
       "      <td>0.0</td>\n",
       "      <td>0.001115</td>\n",
       "      <td>0.0</td>\n",
       "    </tr>\n",
       "    <tr>\n",
       "      <th>5531447</th>\n",
       "      <td>0.256348</td>\n",
       "      <td>0.670410</td>\n",
       "      <td>0.054657</td>\n",
       "      <td>0.000809</td>\n",
       "      <td>0.316895</td>\n",
       "      <td>0.001813</td>\n",
       "      <td>0.0</td>\n",
       "      <td>0.010544</td>\n",
       "      <td>0.000936</td>\n",
       "      <td>0.0</td>\n",
       "      <td>...</td>\n",
       "      <td>-0.5</td>\n",
       "      <td>-0.125</td>\n",
       "      <td>-0.5</td>\n",
       "      <td>-0.142822</td>\n",
       "      <td>0.0</td>\n",
       "      <td>0.0</td>\n",
       "      <td>0.0</td>\n",
       "      <td>0.0</td>\n",
       "      <td>0.006123</td>\n",
       "      <td>0.0</td>\n",
       "    </tr>\n",
       "    <tr>\n",
       "      <th>5531448</th>\n",
       "      <td>0.257080</td>\n",
       "      <td>0.669434</td>\n",
       "      <td>0.081970</td>\n",
       "      <td>0.001475</td>\n",
       "      <td>0.317871</td>\n",
       "      <td>0.001061</td>\n",
       "      <td>0.0</td>\n",
       "      <td>0.005493</td>\n",
       "      <td>0.000652</td>\n",
       "      <td>0.0</td>\n",
       "      <td>...</td>\n",
       "      <td>-0.5</td>\n",
       "      <td>-0.125</td>\n",
       "      <td>-0.5</td>\n",
       "      <td>-0.142822</td>\n",
       "      <td>0.0</td>\n",
       "      <td>0.0</td>\n",
       "      <td>0.0</td>\n",
       "      <td>0.0</td>\n",
       "      <td>0.005043</td>\n",
       "      <td>0.0</td>\n",
       "    </tr>\n",
       "    <tr>\n",
       "      <th>5531449</th>\n",
       "      <td>0.257812</td>\n",
       "      <td>0.660156</td>\n",
       "      <td>0.081970</td>\n",
       "      <td>0.001105</td>\n",
       "      <td>0.391113</td>\n",
       "      <td>0.001572</td>\n",
       "      <td>0.0</td>\n",
       "      <td>0.003817</td>\n",
       "      <td>0.001408</td>\n",
       "      <td>0.0</td>\n",
       "      <td>...</td>\n",
       "      <td>-0.5</td>\n",
       "      <td>-0.125</td>\n",
       "      <td>-0.5</td>\n",
       "      <td>-0.142822</td>\n",
       "      <td>0.0</td>\n",
       "      <td>0.0</td>\n",
       "      <td>0.0</td>\n",
       "      <td>0.0</td>\n",
       "      <td>0.000869</td>\n",
       "      <td>0.0</td>\n",
       "    </tr>\n",
       "    <tr>\n",
       "      <th>5531450</th>\n",
       "      <td>0.259033</td>\n",
       "      <td>0.668457</td>\n",
       "      <td>0.000000</td>\n",
       "      <td>0.000009</td>\n",
       "      <td>0.386963</td>\n",
       "      <td>0.000248</td>\n",
       "      <td>0.0</td>\n",
       "      <td>0.006271</td>\n",
       "      <td>0.001330</td>\n",
       "      <td>0.0</td>\n",
       "      <td>...</td>\n",
       "      <td>-0.5</td>\n",
       "      <td>-0.125</td>\n",
       "      <td>-0.5</td>\n",
       "      <td>-0.142822</td>\n",
       "      <td>0.0</td>\n",
       "      <td>0.0</td>\n",
       "      <td>0.0</td>\n",
       "      <td>0.0</td>\n",
       "      <td>0.002371</td>\n",
       "      <td>0.0</td>\n",
       "    </tr>\n",
       "  </tbody>\n",
       "</table>\n",
       "<p>5531451 rows × 169 columns</p>\n",
       "</div>"
      ],
      "text/plain": [
       "              S_2       P_2      D_39       B_1       B_2       R_1  D_41  \\\n",
       "0        0.232056  0.638672  0.000000  0.000978  0.392578  0.002834   0.0   \n",
       "1        0.236328  0.637695  0.000000  0.000552  0.390137  0.001889   0.0   \n",
       "2        0.238770  0.649414  0.016388  0.002430  0.393555  0.002092   0.0   \n",
       "3        0.242554  0.653809  0.000000  0.001535  0.390869  0.000422   0.0   \n",
       "4        0.245850  0.645020  0.000000  0.001704  0.390137  0.002335   0.0   \n",
       "...           ...       ...       ...       ...       ...       ...   ...   \n",
       "5531446  0.254639  0.666504  0.076477  0.002337  0.322754  0.001071   0.0   \n",
       "5531447  0.256348  0.670410  0.054657  0.000809  0.316895  0.001813   0.0   \n",
       "5531448  0.257080  0.669434  0.081970  0.001475  0.317871  0.001061   0.0   \n",
       "5531449  0.257812  0.660156  0.081970  0.001105  0.391113  0.001572   0.0   \n",
       "5531450  0.259033  0.668457  0.000000  0.000009  0.386963  0.000248   0.0   \n",
       "\n",
       "              B_3      D_43  D_44  ...  D_135  D_136  D_137     D_138  D_139  \\\n",
       "0        0.002096  0.007229   0.0  ...   -0.5 -0.125   -0.5 -0.142822    0.0   \n",
       "1        0.001207  0.007229   0.0  ...   -0.5 -0.125   -0.5 -0.142822    0.0   \n",
       "2        0.004192  0.007229   0.0  ...   -0.5 -0.125   -0.5 -0.142822    0.0   \n",
       "3        0.002460  0.007229   0.0  ...   -0.5 -0.125   -0.5 -0.142822    0.0   \n",
       "4        0.004143  0.007229   0.0  ...   -0.5 -0.125   -0.5 -0.142822    0.0   \n",
       "...           ...       ...   ...  ...    ...    ...    ...       ...    ...   \n",
       "5531446  0.011185  0.001407   0.0  ...   -0.5 -0.125   -0.5 -0.142822    0.0   \n",
       "5531447  0.010544  0.000936   0.0  ...   -0.5 -0.125   -0.5 -0.142822    0.0   \n",
       "5531448  0.005493  0.000652   0.0  ...   -0.5 -0.125   -0.5 -0.142822    0.0   \n",
       "5531449  0.003817  0.001408   0.0  ...   -0.5 -0.125   -0.5 -0.142822    0.0   \n",
       "5531450  0.006271  0.001330   0.0  ...   -0.5 -0.125   -0.5 -0.142822    0.0   \n",
       "\n",
       "         D_140  D_141  D_143     D_144  D_145  \n",
       "0          0.0    0.0    0.0  0.000454    0.0  \n",
       "1          0.0    0.0    0.0  0.004089    0.0  \n",
       "2          0.0    0.0    0.0  0.005199    0.0  \n",
       "3          0.0    0.0    0.0  0.004860    0.0  \n",
       "4          0.0    0.0    0.0  0.006050    0.0  \n",
       "...        ...    ...    ...       ...    ...  \n",
       "5531446    0.0    0.0    0.0  0.001115    0.0  \n",
       "5531447    0.0    0.0    0.0  0.006123    0.0  \n",
       "5531448    0.0    0.0    0.0  0.005043    0.0  \n",
       "5531449    0.0    0.0    0.0  0.000869    0.0  \n",
       "5531450    0.0    0.0    0.0  0.002371    0.0  \n",
       "\n",
       "[5531451 rows x 169 columns]"
      ]
     },
     "execution_count": 13,
     "metadata": {},
     "output_type": "execute_result"
    }
   ],
   "source": [
    "train_x"
   ]
  },
  {
   "cell_type": "markdown",
   "id": "95506fc8",
   "metadata": {
    "papermill": {
     "duration": 0.036154,
     "end_time": "2022-08-08T05:38:13.800981",
     "exception": false,
     "start_time": "2022-08-08T05:38:13.764827",
     "status": "completed"
    },
    "tags": []
   },
   "source": [
    "Free the memory space"
   ]
  },
  {
   "cell_type": "code",
   "execution_count": 14,
   "id": "a86aef68",
   "metadata": {
    "execution": {
     "iopub.execute_input": "2022-08-08T05:38:14.228251Z",
     "iopub.status.busy": "2022-08-08T05:38:14.227064Z",
     "iopub.status.idle": "2022-08-08T05:38:14.231643Z",
     "shell.execute_reply": "2022-08-08T05:38:14.232343Z",
     "shell.execute_reply.started": "2022-08-08T05:15:09.458527Z"
    },
    "papermill": {
     "duration": 0.394875,
     "end_time": "2022-08-08T05:38:14.232648",
     "exception": false,
     "start_time": "2022-08-08T05:38:13.837773",
     "status": "completed"
    },
    "tags": []
   },
   "outputs": [
    {
     "data": {
      "text/plain": [
       "148"
      ]
     },
     "execution_count": 14,
     "metadata": {},
     "output_type": "execute_result"
    }
   ],
   "source": [
    "gc.collect()"
   ]
  },
  {
   "cell_type": "markdown",
   "id": "66ff74ce",
   "metadata": {
    "papermill": {
     "duration": 0.036378,
     "end_time": "2022-08-08T05:38:14.306479",
     "exception": false,
     "start_time": "2022-08-08T05:38:14.270101",
     "status": "completed"
    },
    "tags": []
   },
   "source": [
    "# 3 Training a model"
   ]
  },
  {
   "cell_type": "markdown",
   "id": "cf3ada7e",
   "metadata": {
    "papermill": {
     "duration": 0.037149,
     "end_time": "2022-08-08T05:38:14.380022",
     "exception": false,
     "start_time": "2022-08-08T05:38:14.342873",
     "status": "completed"
    },
    "tags": []
   },
   "source": [
    "Important link for hyperparameter tuning (https://medium.com/mini-distill/effect-of-batch-size-on-training-dynamics-21c14f7a716e)"
   ]
  },
  {
   "cell_type": "code",
   "execution_count": 15,
   "id": "80515a53",
   "metadata": {
    "execution": {
     "iopub.execute_input": "2022-08-08T05:38:14.493509Z",
     "iopub.status.busy": "2022-08-08T05:38:14.491787Z",
     "iopub.status.idle": "2022-08-08T05:38:20.845738Z",
     "shell.execute_reply": "2022-08-08T05:38:20.845037Z",
     "shell.execute_reply.started": "2022-08-08T05:15:09.768563Z"
    },
    "papermill": {
     "duration": 6.428423,
     "end_time": "2022-08-08T05:38:20.845906",
     "exception": false,
     "start_time": "2022-08-08T05:38:14.417483",
     "status": "completed"
    },
    "tags": []
   },
   "outputs": [
    {
     "name": "stderr",
     "output_type": "stream",
     "text": [
      "2022-08-08 05:38:14.468471: I tensorflow/compiler/jit/xla_cpu_device.cc:41] Not creating XLA devices, tf_xla_enable_xla_devices not set\n",
      "2022-08-08 05:38:14.473507: W tensorflow/stream_executor/platform/default/dso_loader.cc:60] Could not load dynamic library 'libcuda.so.1'; dlerror: libcuda.so.1: cannot open shared object file: No such file or directory; LD_LIBRARY_PATH: /opt/conda/lib\n",
      "2022-08-08 05:38:14.473618: W tensorflow/stream_executor/cuda/cuda_driver.cc:326] failed call to cuInit: UNKNOWN ERROR (303)\n",
      "2022-08-08 05:38:14.473745: I tensorflow/stream_executor/cuda/cuda_diagnostics.cc:156] kernel driver does not appear to be running on this host (5c6f3d166596): /proc/driver/nvidia/version does not exist\n",
      "2022-08-08 05:38:14.481388: I tensorflow/core/platform/cpu_feature_guard.cc:142] This TensorFlow binary is optimized with oneAPI Deep Neural Network Library (oneDNN) to use the following CPU instructions in performance-critical operations:  AVX2 FMA\n",
      "To enable them in other operations, rebuild TensorFlow with the appropriate compiler flags.\n",
      "2022-08-08 05:38:14.483123: I tensorflow/compiler/jit/xla_gpu_device.cc:99] Not creating XLA devices, tf_xla_enable_xla_devices not set\n",
      "2022-08-08 05:38:14.492690: I tensorflow/compiler/jit/xla_gpu_device.cc:99] Not creating XLA devices, tf_xla_enable_xla_devices not set\n",
      "2022-08-08 05:38:14.531738: I tensorflow/core/distributed_runtime/rpc/grpc_channel.cc:301] Initialize GrpcChannelCache for job worker -> {0 -> 10.0.0.2:8470}\n",
      "2022-08-08 05:38:14.531805: I tensorflow/core/distributed_runtime/rpc/grpc_channel.cc:301] Initialize GrpcChannelCache for job localhost -> {0 -> localhost:30020}\n",
      "2022-08-08 05:38:14.562276: I tensorflow/core/distributed_runtime/rpc/grpc_channel.cc:301] Initialize GrpcChannelCache for job worker -> {0 -> 10.0.0.2:8470}\n",
      "2022-08-08 05:38:14.562342: I tensorflow/core/distributed_runtime/rpc/grpc_channel.cc:301] Initialize GrpcChannelCache for job localhost -> {0 -> localhost:30020}\n",
      "2022-08-08 05:38:14.565274: I tensorflow/core/distributed_runtime/rpc/grpc_server_lib.cc:411] Started server with target: grpc://localhost:30020\n"
     ]
    }
   ],
   "source": [
    "# detect and init the TPU\n",
    "tpu = tf.distribute.cluster_resolver.TPUClusterResolver.connect()\n",
    "# instantiate a distribution strategy\n",
    "tpu_strategy = tf.distribute.experimental.TPUStrategy(tpu)"
   ]
  },
  {
   "cell_type": "code",
   "execution_count": 16,
   "id": "92c54a5a",
   "metadata": {
    "execution": {
     "iopub.execute_input": "2022-08-08T05:38:20.930666Z",
     "iopub.status.busy": "2022-08-08T05:38:20.929851Z",
     "iopub.status.idle": "2022-08-08T05:38:22.199295Z",
     "shell.execute_reply": "2022-08-08T05:38:22.198548Z",
     "shell.execute_reply.started": "2022-08-08T05:15:15.866796Z"
    },
    "papermill": {
     "duration": 1.314721,
     "end_time": "2022-08-08T05:38:22.199462",
     "exception": false,
     "start_time": "2022-08-08T05:38:20.884741",
     "status": "completed"
    },
    "tags": []
   },
   "outputs": [],
   "source": [
    "# instantiating the model in the strategy scope creates the model on the TPU\n",
    "with tpu_strategy.scope():\n",
    "    model=keras.Sequential([layers.Dense(units=338,activation=\"relu\",input_shape=[169]),layers.BatchNormalization(),layers.Dense(units=676,activation=\"relu\"),layers.BatchNormalization(),layers.Dense(units=1352,activation=\"relu\",kernel_regularizer=keras.regularizers.l1_l2(0.001)),layers.BatchNormalization(),layers.Dense(units=676,activation=\"relu\",kernel_regularizer=keras.regularizers.l1_l2(0.001)),layers.BatchNormalization(),layers.Dense(units=338,activation=\"relu\",kernel_regularizer=keras.regularizers.l1_l2(0.01)),layers.BatchNormalization(),layers.Dense(units=1,activation=\"sigmoid\")])"
   ]
  },
  {
   "cell_type": "code",
   "execution_count": 17,
   "id": "13d4e91c",
   "metadata": {
    "execution": {
     "iopub.execute_input": "2022-08-08T05:38:22.291626Z",
     "iopub.status.busy": "2022-08-08T05:38:22.286044Z",
     "iopub.status.idle": "2022-08-08T05:38:22.320367Z",
     "shell.execute_reply": "2022-08-08T05:38:22.320874Z",
     "shell.execute_reply.started": "2022-08-08T05:15:17.043661Z"
    },
    "papermill": {
     "duration": 0.081785,
     "end_time": "2022-08-08T05:38:22.321101",
     "exception": false,
     "start_time": "2022-08-08T05:38:22.239316",
     "status": "completed"
    },
    "tags": []
   },
   "outputs": [],
   "source": [
    "model.compile(loss=\"binary_crossentropy\",optimizer=keras.optimizers.Adam(learning_rate=0.00005))"
   ]
  },
  {
   "cell_type": "code",
   "execution_count": 18,
   "id": "1687a0b7",
   "metadata": {
    "execution": {
     "iopub.execute_input": "2022-08-08T05:38:22.409821Z",
     "iopub.status.busy": "2022-08-08T05:38:22.407901Z",
     "iopub.status.idle": "2022-08-08T05:38:22.410684Z",
     "shell.execute_reply": "2022-08-08T05:38:22.411212Z",
     "shell.execute_reply.started": "2022-08-08T05:15:17.081605Z"
    },
    "papermill": {
     "duration": 0.048631,
     "end_time": "2022-08-08T05:38:22.411408",
     "exception": false,
     "start_time": "2022-08-08T05:38:22.362777",
     "status": "completed"
    },
    "tags": []
   },
   "outputs": [],
   "source": [
    "early_stopping = EarlyStopping(\n",
    "    monitor='val_loss',\n",
    "    min_delta=0.001, # minimium amount of change to count as an improvement\n",
    "    patience=20, # how many epochs to wait before stopping\n",
    "    restore_best_weights=True,\n",
    ")"
   ]
  },
  {
   "cell_type": "code",
   "execution_count": 19,
   "id": "ab90c285",
   "metadata": {
    "execution": {
     "iopub.execute_input": "2022-08-08T05:38:22.501103Z",
     "iopub.status.busy": "2022-08-08T05:38:22.500076Z",
     "iopub.status.idle": "2022-08-08T05:41:17.866568Z",
     "shell.execute_reply": "2022-08-08T05:41:17.865762Z",
     "shell.execute_reply.started": "2022-08-08T05:15:17.088171Z"
    },
    "papermill": {
     "duration": 175.414138,
     "end_time": "2022-08-08T05:41:17.866787",
     "exception": false,
     "start_time": "2022-08-08T05:38:22.452649",
     "status": "completed"
    },
    "tags": []
   },
   "outputs": [
    {
     "name": "stderr",
     "output_type": "stream",
     "text": [
      "2022-08-08 05:38:24.716041: W tensorflow/core/framework/cpu_allocator_impl.cc:80] Allocation of 1308741070 exceeds 10% of free system memory.\n"
     ]
    },
    {
     "name": "stdout",
     "output_type": "stream",
     "text": [
      "Epoch 1/200\n",
      "97/97 [==============================] - 23s 151ms/step - loss: 154.8524 - val_loss: 137.1446\n",
      "Epoch 2/200\n",
      "97/97 [==============================] - 3s 30ms/step - loss: 131.4573 - val_loss: 115.5213\n",
      "Epoch 3/200\n",
      "97/97 [==============================] - 3s 30ms/step - loss: 110.4677 - val_loss: 96.2792\n",
      "Epoch 4/200\n",
      "97/97 [==============================] - 3s 29ms/step - loss: 91.8423 - val_loss: 79.2871\n",
      "Epoch 5/200\n",
      "97/97 [==============================] - 3s 30ms/step - loss: 75.4135 - val_loss: 64.3857\n",
      "Epoch 6/200\n",
      "97/97 [==============================] - 3s 29ms/step - loss: 61.0143 - val_loss: 51.4227\n",
      "Epoch 7/200\n",
      "97/97 [==============================] - 3s 30ms/step - loss: 48.5019 - val_loss: 40.2438\n",
      "Epoch 8/200\n",
      "97/97 [==============================] - 3s 30ms/step - loss: 37.7241 - val_loss: 30.7088\n",
      "Epoch 9/200\n",
      "97/97 [==============================] - 3s 30ms/step - loss: 28.5656 - val_loss: 22.7251\n",
      "Epoch 10/200\n",
      "97/97 [==============================] - 3s 30ms/step - loss: 20.9250 - val_loss: 16.1869\n",
      "Epoch 11/200\n",
      "97/97 [==============================] - 3s 30ms/step - loss: 14.7161 - val_loss: 11.0261\n",
      "Epoch 12/200\n",
      "97/97 [==============================] - 3s 30ms/step - loss: 9.8551 - val_loss: 7.1071\n",
      "Epoch 13/200\n",
      "97/97 [==============================] - 3s 31ms/step - loss: 6.1893 - val_loss: 4.2136\n",
      "Epoch 14/200\n",
      "97/97 [==============================] - 3s 30ms/step - loss: 3.5444 - val_loss: 2.2138\n",
      "Epoch 15/200\n",
      "97/97 [==============================] - 3s 29ms/step - loss: 1.7845 - val_loss: 0.9587\n",
      "Epoch 16/200\n",
      "97/97 [==============================] - 3s 30ms/step - loss: 0.7497 - val_loss: 0.3897\n",
      "Epoch 17/200\n",
      "97/97 [==============================] - 3s 31ms/step - loss: 0.3573 - val_loss: 0.3274\n",
      "Epoch 18/200\n",
      "97/97 [==============================] - 3s 30ms/step - loss: 0.3223 - val_loss: 0.3184\n",
      "Epoch 19/200\n",
      "97/97 [==============================] - 3s 30ms/step - loss: 0.3144 - val_loss: 0.3147\n",
      "Epoch 20/200\n",
      "97/97 [==============================] - 3s 30ms/step - loss: 0.3096 - val_loss: 0.3098\n",
      "Epoch 21/200\n",
      "97/97 [==============================] - 3s 30ms/step - loss: 0.3067 - val_loss: 0.3073\n",
      "Epoch 22/200\n",
      "97/97 [==============================] - 3s 30ms/step - loss: 0.3048 - val_loss: 0.3050\n",
      "Epoch 23/200\n",
      "97/97 [==============================] - 3s 30ms/step - loss: 0.3026 - val_loss: 0.3047\n",
      "Epoch 24/200\n",
      "97/97 [==============================] - 3s 30ms/step - loss: 0.3016 - val_loss: 0.3037\n",
      "Epoch 25/200\n",
      "97/97 [==============================] - 3s 31ms/step - loss: 0.3007 - val_loss: 0.3030\n",
      "Epoch 26/200\n",
      "97/97 [==============================] - 3s 31ms/step - loss: 0.2996 - val_loss: 0.3030\n",
      "Epoch 27/200\n",
      "97/97 [==============================] - 3s 31ms/step - loss: 0.2987 - val_loss: 0.3030\n",
      "Epoch 28/200\n",
      "97/97 [==============================] - 3s 32ms/step - loss: 0.2984 - val_loss: 0.3026\n",
      "Epoch 29/200\n",
      "97/97 [==============================] - 3s 31ms/step - loss: 0.2970 - val_loss: 0.3024\n",
      "Epoch 30/200\n",
      "97/97 [==============================] - 3s 36ms/step - loss: 0.2965 - val_loss: 0.3026\n",
      "Epoch 31/200\n",
      "97/97 [==============================] - 3s 30ms/step - loss: 0.2963 - val_loss: 0.3026\n",
      "Epoch 32/200\n",
      "97/97 [==============================] - 3s 30ms/step - loss: 0.2954 - val_loss: 0.3030\n",
      "Epoch 33/200\n",
      "97/97 [==============================] - 3s 30ms/step - loss: 0.2952 - val_loss: 0.3029\n",
      "Epoch 34/200\n",
      "97/97 [==============================] - 3s 30ms/step - loss: 0.2949 - val_loss: 0.3030\n",
      "Epoch 35/200\n",
      "97/97 [==============================] - 3s 30ms/step - loss: 0.2941 - val_loss: 0.3032\n",
      "Epoch 36/200\n",
      "97/97 [==============================] - 3s 30ms/step - loss: 0.2932 - val_loss: 0.3030\n",
      "Epoch 37/200\n",
      "97/97 [==============================] - 3s 30ms/step - loss: 0.2928 - val_loss: 0.3031\n",
      "Epoch 38/200\n",
      "97/97 [==============================] - 3s 30ms/step - loss: 0.2924 - val_loss: 0.3035\n",
      "Epoch 39/200\n",
      "97/97 [==============================] - 3s 30ms/step - loss: 0.2914 - val_loss: 0.3032\n",
      "Epoch 40/200\n",
      "97/97 [==============================] - 3s 29ms/step - loss: 0.2916 - val_loss: 0.3045\n",
      "Epoch 41/200\n",
      "97/97 [==============================] - 3s 30ms/step - loss: 0.2904 - val_loss: 0.3042\n",
      "Epoch 42/200\n",
      "97/97 [==============================] - 3s 31ms/step - loss: 0.2903 - val_loss: 0.3042\n",
      "Epoch 43/200\n",
      "97/97 [==============================] - 3s 30ms/step - loss: 0.2893 - val_loss: 0.3051\n",
      "Epoch 44/200\n",
      "97/97 [==============================] - 3s 30ms/step - loss: 0.2886 - val_loss: 0.3067\n",
      "Epoch 45/200\n",
      "97/97 [==============================] - 3s 31ms/step - loss: 0.2880 - val_loss: 0.3052\n",
      "Epoch 46/200\n",
      "97/97 [==============================] - 3s 30ms/step - loss: 0.2875 - val_loss: 0.3071\n",
      "Epoch 47/200\n",
      "97/97 [==============================] - 3s 30ms/step - loss: 0.2869 - val_loss: 0.3066\n",
      "Epoch 48/200\n",
      "97/97 [==============================] - 3s 30ms/step - loss: 0.2865 - val_loss: 0.3071\n"
     ]
    }
   ],
   "source": [
    "history=model.fit(x=train_x,y=train_y,batch_size=40000,epochs=200,validation_split=0.3,use_multiprocessing=True,class_weight={0:1,1:1},callbacks=[early_stopping],shuffle=True,validation_batch_size=17000)"
   ]
  },
  {
   "cell_type": "code",
   "execution_count": 20,
   "id": "011982b8",
   "metadata": {
    "execution": {
     "iopub.execute_input": "2022-08-08T05:41:18.705748Z",
     "iopub.status.busy": "2022-08-08T05:41:18.705065Z",
     "iopub.status.idle": "2022-08-08T05:41:19.047220Z",
     "shell.execute_reply": "2022-08-08T05:41:19.046520Z",
     "shell.execute_reply.started": "2022-08-08T05:17:44.204039Z"
    },
    "papermill": {
     "duration": 0.765602,
     "end_time": "2022-08-08T05:41:19.047373",
     "exception": false,
     "start_time": "2022-08-08T05:41:18.281771",
     "status": "completed"
    },
    "tags": []
   },
   "outputs": [
    {
     "name": "stdout",
     "output_type": "stream",
     "text": [
      "Minimum validation loss: 0.30244091153144836\n"
     ]
    },
    {
     "data": {
      "image/png": "[encoded data removed]",
      "text/plain": [
       "<Figure size 432x288 with 1 Axes>"
      ]
     },
     "metadata": {
      "needs_background": "light"
     },
     "output_type": "display_data"
    }
   ],
   "source": [
    "history_df = pd.DataFrame(history.history)\n",
    "history_df.loc[:, ['loss', 'val_loss']].plot();\n",
    "print(\"Minimum validation loss: {}\".format(history_df['val_loss'].min()))"
   ]
  },
  {
   "cell_type": "code",
   "execution_count": 21,
   "id": "0c16efc8",
   "metadata": {
    "execution": {
     "iopub.execute_input": "2022-08-08T05:41:19.865067Z",
     "iopub.status.busy": "2022-08-08T05:41:19.864084Z",
     "iopub.status.idle": "2022-08-08T05:41:19.875287Z",
     "shell.execute_reply": "2022-08-08T05:41:19.876044Z",
     "shell.execute_reply.started": "2022-08-08T05:17:44.512785Z"
    },
    "papermill": {
     "duration": 0.425091,
     "end_time": "2022-08-08T05:41:19.876301",
     "exception": false,
     "start_time": "2022-08-08T05:41:19.451210",
     "status": "completed"
    },
    "tags": []
   },
   "outputs": [
    {
     "name": "stdout",
     "output_type": "stream",
     "text": [
      "Model: \"sequential\"\n",
      "_________________________________________________________________\n",
      "Layer (type)                 Output Shape              Param #   \n",
      "=================================================================\n",
      "dense (Dense)                (None, 338)               57460     \n",
      "_________________________________________________________________\n",
      "batch_normalization (BatchNo (None, 338)               1352      \n",
      "_________________________________________________________________\n",
      "dense_1 (Dense)              (None, 676)               229164    \n",
      "_________________________________________________________________\n",
      "batch_normalization_1 (Batch (None, 676)               2704      \n",
      "_________________________________________________________________\n",
      "dense_2 (Dense)              (None, 1352)              915304    \n",
      "_________________________________________________________________\n",
      "batch_normalization_2 (Batch (None, 1352)              5408      \n",
      "_________________________________________________________________\n",
      "dense_3 (Dense)              (None, 676)               914628    \n",
      "_________________________________________________________________\n",
      "batch_normalization_3 (Batch (None, 676)               2704      \n",
      "_________________________________________________________________\n",
      "dense_4 (Dense)              (None, 338)               228826    \n",
      "_________________________________________________________________\n",
      "batch_normalization_4 (Batch (None, 338)               1352      \n",
      "_________________________________________________________________\n",
      "dense_5 (Dense)              (None, 1)                 339       \n",
      "=================================================================\n",
      "Total params: 2,359,241\n",
      "Trainable params: 2,352,481\n",
      "Non-trainable params: 6,760\n",
      "_________________________________________________________________\n"
     ]
    }
   ],
   "source": [
    "model.summary()"
   ]
  },
  {
   "cell_type": "code",
   "execution_count": 22,
   "id": "6136eeb5",
   "metadata": {
    "execution": {
     "iopub.execute_input": "2022-08-08T05:41:20.806646Z",
     "iopub.status.busy": "2022-08-08T05:41:20.805665Z",
     "iopub.status.idle": "2022-08-08T05:41:20.809573Z",
     "shell.execute_reply": "2022-08-08T05:41:20.808792Z",
     "shell.execute_reply.started": "2022-08-08T05:17:44.524948Z"
    },
    "papermill": {
     "duration": 0.524384,
     "end_time": "2022-08-08T05:41:20.809746",
     "exception": false,
     "start_time": "2022-08-08T05:41:20.285362",
     "status": "completed"
    },
    "tags": []
   },
   "outputs": [],
   "source": [
    "del train_x\n",
    "del train_y"
   ]
  },
  {
   "cell_type": "code",
   "execution_count": 23,
   "id": "b58858fd",
   "metadata": {
    "execution": {
     "iopub.execute_input": "2022-08-08T05:41:21.944622Z",
     "iopub.status.busy": "2022-08-08T05:41:21.943670Z",
     "iopub.status.idle": "2022-08-08T05:41:22.097907Z",
     "shell.execute_reply": "2022-08-08T05:41:22.097271Z",
     "shell.execute_reply.started": "2022-08-08T05:17:44.534879Z"
    },
    "papermill": {
     "duration": 0.887452,
     "end_time": "2022-08-08T05:41:22.098159",
     "exception": false,
     "start_time": "2022-08-08T05:41:21.210707",
     "status": "completed"
    },
    "tags": []
   },
   "outputs": [
    {
     "data": {
      "text/plain": [
       "58498"
      ]
     },
     "execution_count": 23,
     "metadata": {},
     "output_type": "execute_result"
    }
   ],
   "source": [
    "gc.collect()"
   ]
  },
  {
   "cell_type": "markdown",
   "id": "22e19928",
   "metadata": {
    "papermill": {
     "duration": 0.412461,
     "end_time": "2022-08-08T05:41:22.923389",
     "exception": false,
     "start_time": "2022-08-08T05:41:22.510928",
     "status": "completed"
    },
    "tags": []
   },
   "source": [
    "Here we free up space as training data is not needed now."
   ]
  },
  {
   "cell_type": "markdown",
   "id": "3f7d09f6",
   "metadata": {
    "papermill": {
     "duration": 0.418646,
     "end_time": "2022-08-08T05:41:23.753898",
     "exception": false,
     "start_time": "2022-08-08T05:41:23.335252",
     "status": "completed"
    },
    "tags": []
   },
   "source": [
    "# 4 Load the test data"
   ]
  },
  {
   "cell_type": "code",
   "execution_count": 24,
   "id": "cba4ab03",
   "metadata": {
    "execution": {
     "iopub.execute_input": "2022-08-08T05:41:24.586319Z",
     "iopub.status.busy": "2022-08-08T05:41:24.585135Z",
     "iopub.status.idle": "2022-08-08T05:42:24.529523Z",
     "shell.execute_reply": "2022-08-08T05:42:24.528619Z",
     "shell.execute_reply.started": "2022-08-08T05:17:44.837053Z"
    },
    "papermill": {
     "duration": 60.354371,
     "end_time": "2022-08-08T05:42:24.529716",
     "exception": false,
     "start_time": "2022-08-08T05:41:24.175345",
     "status": "completed"
    },
    "tags": []
   },
   "outputs": [],
   "source": [
    "test=pd.read_csv(\"../input/test-dataset/test_1.csv.gzip\",compression=\"gzip\")"
   ]
  },
  {
   "cell_type": "code",
   "execution_count": 25,
   "id": "6c7e2d7c",
   "metadata": {
    "execution": {
     "iopub.execute_input": "2022-08-08T05:42:25.397359Z",
     "iopub.status.busy": "2022-08-08T05:42:25.389125Z",
     "iopub.status.idle": "2022-08-08T05:42:25.407247Z",
     "shell.execute_reply": "2022-08-08T05:42:25.406447Z",
     "shell.execute_reply.started": "2022-08-08T05:18:37.094190Z"
    },
    "papermill": {
     "duration": 0.457312,
     "end_time": "2022-08-08T05:42:25.407434",
     "exception": false,
     "start_time": "2022-08-08T05:42:24.950122",
     "status": "completed"
    },
    "tags": []
   },
   "outputs": [
    {
     "data": {
      "text/html": [
       "<div>\n",
       "<style scoped>\n",
       "    .dataframe tbody tr th:only-of-type {\n",
       "        vertical-align: middle;\n",
       "    }\n",
       "\n",
       "    .dataframe tbody tr th {\n",
       "        vertical-align: top;\n",
       "    }\n",
       "\n",
       "    .dataframe thead th {\n",
       "        text-align: right;\n",
       "    }\n",
       "</style>\n",
       "<table border=\"1\" class=\"dataframe\">\n",
       "  <thead>\n",
       "    <tr style=\"text-align: right;\">\n",
       "      <th></th>\n",
       "      <th>Unnamed: 0</th>\n",
       "      <th>customer_ID</th>\n",
       "      <th>S_2</th>\n",
       "      <th>P_2</th>\n",
       "      <th>D_39</th>\n",
       "      <th>B_1</th>\n",
       "      <th>B_2</th>\n",
       "      <th>R_1</th>\n",
       "      <th>D_41</th>\n",
       "      <th>B_3</th>\n",
       "      <th>...</th>\n",
       "      <th>D_135</th>\n",
       "      <th>D_136</th>\n",
       "      <th>D_137</th>\n",
       "      <th>D_138</th>\n",
       "      <th>D_139</th>\n",
       "      <th>D_140</th>\n",
       "      <th>D_141</th>\n",
       "      <th>D_143</th>\n",
       "      <th>D_144</th>\n",
       "      <th>D_145</th>\n",
       "    </tr>\n",
       "  </thead>\n",
       "  <tbody>\n",
       "    <tr>\n",
       "      <th>0</th>\n",
       "      <td>0</td>\n",
       "      <td>00000469ba478561f23a92a868bd366de6f6527a684c9a...</td>\n",
       "      <td>0.2864</td>\n",
       "      <td>0.4412</td>\n",
       "      <td>0.00000</td>\n",
       "      <td>0.003925</td>\n",
       "      <td>0.4392</td>\n",
       "      <td>0.0</td>\n",
       "      <td>0.0</td>\n",
       "      <td>0.001382</td>\n",
       "      <td>...</td>\n",
       "      <td>-0.5</td>\n",
       "      <td>-0.125</td>\n",
       "      <td>-0.5</td>\n",
       "      <td>-0.1666</td>\n",
       "      <td>-0.5</td>\n",
       "      <td>0.0</td>\n",
       "      <td>0.0</td>\n",
       "      <td>-0.5</td>\n",
       "      <td>0.006165</td>\n",
       "      <td>-0.0238</td>\n",
       "    </tr>\n",
       "    <tr>\n",
       "      <th>1</th>\n",
       "      <td>1</td>\n",
       "      <td>00000469ba478561f23a92a868bd366de6f6527a684c9a...</td>\n",
       "      <td>0.2886</td>\n",
       "      <td>0.4102</td>\n",
       "      <td>0.00000</td>\n",
       "      <td>0.004036</td>\n",
       "      <td>0.4373</td>\n",
       "      <td>0.0</td>\n",
       "      <td>0.0</td>\n",
       "      <td>0.005375</td>\n",
       "      <td>...</td>\n",
       "      <td>-0.5</td>\n",
       "      <td>-0.125</td>\n",
       "      <td>-0.5</td>\n",
       "      <td>-0.1666</td>\n",
       "      <td>0.0</td>\n",
       "      <td>0.0</td>\n",
       "      <td>0.0</td>\n",
       "      <td>0.0</td>\n",
       "      <td>0.002794</td>\n",
       "      <td>0.0000</td>\n",
       "    </tr>\n",
       "    <tr>\n",
       "      <th>2</th>\n",
       "      <td>2</td>\n",
       "      <td>00000469ba478561f23a92a868bd366de6f6527a684c9a...</td>\n",
       "      <td>0.2908</td>\n",
       "      <td>0.4255</td>\n",
       "      <td>0.00000</td>\n",
       "      <td>0.005997</td>\n",
       "      <td>0.5420</td>\n",
       "      <td>0.0</td>\n",
       "      <td>0.0</td>\n",
       "      <td>0.002468</td>\n",
       "      <td>...</td>\n",
       "      <td>-0.5</td>\n",
       "      <td>-0.125</td>\n",
       "      <td>-0.5</td>\n",
       "      <td>-0.1666</td>\n",
       "      <td>0.0</td>\n",
       "      <td>0.0</td>\n",
       "      <td>0.0</td>\n",
       "      <td>0.0</td>\n",
       "      <td>0.001605</td>\n",
       "      <td>0.0000</td>\n",
       "    </tr>\n",
       "    <tr>\n",
       "      <th>3</th>\n",
       "      <td>3</td>\n",
       "      <td>00000469ba478561f23a92a868bd366de6f6527a684c9a...</td>\n",
       "      <td>0.2930</td>\n",
       "      <td>0.4297</td>\n",
       "      <td>0.00000</td>\n",
       "      <td>0.007930</td>\n",
       "      <td>0.4404</td>\n",
       "      <td>0.0</td>\n",
       "      <td>0.0</td>\n",
       "      <td>0.009026</td>\n",
       "      <td>...</td>\n",
       "      <td>-0.5</td>\n",
       "      <td>-0.125</td>\n",
       "      <td>-0.5</td>\n",
       "      <td>-0.1666</td>\n",
       "      <td>0.0</td>\n",
       "      <td>0.0</td>\n",
       "      <td>0.0</td>\n",
       "      <td>0.0</td>\n",
       "      <td>0.003876</td>\n",
       "      <td>0.0000</td>\n",
       "    </tr>\n",
       "    <tr>\n",
       "      <th>4</th>\n",
       "      <td>4</td>\n",
       "      <td>00000469ba478561f23a92a868bd366de6f6527a684c9a...</td>\n",
       "      <td>0.2952</td>\n",
       "      <td>0.4133</td>\n",
       "      <td>0.02524</td>\n",
       "      <td>0.005825</td>\n",
       "      <td>0.4370</td>\n",
       "      <td>0.0</td>\n",
       "      <td>0.0</td>\n",
       "      <td>0.006640</td>\n",
       "      <td>...</td>\n",
       "      <td>-0.5</td>\n",
       "      <td>-0.125</td>\n",
       "      <td>-0.5</td>\n",
       "      <td>-0.1666</td>\n",
       "      <td>0.0</td>\n",
       "      <td>0.0</td>\n",
       "      <td>0.0</td>\n",
       "      <td>0.0</td>\n",
       "      <td>0.005524</td>\n",
       "      <td>0.0000</td>\n",
       "    </tr>\n",
       "  </tbody>\n",
       "</table>\n",
       "<p>5 rows × 171 columns</p>\n",
       "</div>"
      ],
      "text/plain": [
       "   Unnamed: 0                                        customer_ID     S_2  \\\n",
       "0           0  00000469ba478561f23a92a868bd366de6f6527a684c9a...  0.2864   \n",
       "1           1  00000469ba478561f23a92a868bd366de6f6527a684c9a...  0.2886   \n",
       "2           2  00000469ba478561f23a92a868bd366de6f6527a684c9a...  0.2908   \n",
       "3           3  00000469ba478561f23a92a868bd366de6f6527a684c9a...  0.2930   \n",
       "4           4  00000469ba478561f23a92a868bd366de6f6527a684c9a...  0.2952   \n",
       "\n",
       "      P_2     D_39       B_1     B_2  R_1  D_41       B_3  ...  D_135  D_136  \\\n",
       "0  0.4412  0.00000  0.003925  0.4392  0.0   0.0  0.001382  ...   -0.5 -0.125   \n",
       "1  0.4102  0.00000  0.004036  0.4373  0.0   0.0  0.005375  ...   -0.5 -0.125   \n",
       "2  0.4255  0.00000  0.005997  0.5420  0.0   0.0  0.002468  ...   -0.5 -0.125   \n",
       "3  0.4297  0.00000  0.007930  0.4404  0.0   0.0  0.009026  ...   -0.5 -0.125   \n",
       "4  0.4133  0.02524  0.005825  0.4370  0.0   0.0  0.006640  ...   -0.5 -0.125   \n",
       "\n",
       "   D_137   D_138  D_139  D_140  D_141  D_143     D_144   D_145  \n",
       "0   -0.5 -0.1666   -0.5    0.0    0.0   -0.5  0.006165 -0.0238  \n",
       "1   -0.5 -0.1666    0.0    0.0    0.0    0.0  0.002794  0.0000  \n",
       "2   -0.5 -0.1666    0.0    0.0    0.0    0.0  0.001605  0.0000  \n",
       "3   -0.5 -0.1666    0.0    0.0    0.0    0.0  0.003876  0.0000  \n",
       "4   -0.5 -0.1666    0.0    0.0    0.0    0.0  0.005524  0.0000  \n",
       "\n",
       "[5 rows x 171 columns]"
      ]
     },
     "execution_count": 25,
     "metadata": {},
     "output_type": "execute_result"
    }
   ],
   "source": [
    "test.head()"
   ]
  },
  {
   "cell_type": "code",
   "execution_count": 26,
   "id": "737a7ed0",
   "metadata": {
    "execution": {
     "iopub.execute_input": "2022-08-08T05:42:26.245039Z",
     "iopub.status.busy": "2022-08-08T05:42:26.244347Z",
     "iopub.status.idle": "2022-08-08T05:42:26.247016Z",
     "shell.execute_reply": "2022-08-08T05:42:26.247532Z",
     "shell.execute_reply.started": "2022-08-08T05:18:37.127244Z"
    },
    "papermill": {
     "duration": 0.416333,
     "end_time": "2022-08-08T05:42:26.247722",
     "exception": false,
     "start_time": "2022-08-08T05:42:25.831389",
     "status": "completed"
    },
    "tags": []
   },
   "outputs": [
    {
     "data": {
      "text/plain": [
       "(1704564, 171)"
      ]
     },
     "execution_count": 26,
     "metadata": {},
     "output_type": "execute_result"
    }
   ],
   "source": [
    "test.shape"
   ]
  },
  {
   "cell_type": "code",
   "execution_count": 27,
   "id": "2e835646",
   "metadata": {
    "execution": {
     "iopub.execute_input": "2022-08-08T05:42:27.101080Z",
     "iopub.status.busy": "2022-08-08T05:42:27.100379Z",
     "iopub.status.idle": "2022-08-08T05:44:01.642063Z",
     "shell.execute_reply": "2022-08-08T05:44:01.641103Z",
     "shell.execute_reply.started": "2022-08-08T05:18:37.134224Z"
    },
    "papermill": {
     "duration": 94.95246,
     "end_time": "2022-08-08T05:44:01.642289",
     "exception": false,
     "start_time": "2022-08-08T05:42:26.689829",
     "status": "completed"
    },
    "tags": []
   },
   "outputs": [],
   "source": [
    "for col in test.columns:\n",
    "    if col not in ['customer_ID', 'target']:\n",
    "        test[col]=test[col].astype(\"float16\")"
   ]
  },
  {
   "cell_type": "markdown",
   "id": "7623f207",
   "metadata": {
    "papermill": {
     "duration": 0.443121,
     "end_time": "2022-08-08T05:44:02.513428",
     "exception": false,
     "start_time": "2022-08-08T05:44:02.070307",
     "status": "completed"
    },
    "tags": []
   },
   "source": [
    "# 5 Split the test data"
   ]
  },
  {
   "cell_type": "code",
   "execution_count": 28,
   "id": "f96b6acd",
   "metadata": {
    "execution": {
     "iopub.execute_input": "2022-08-08T05:44:03.764205Z",
     "iopub.status.busy": "2022-08-08T05:44:03.763242Z",
     "iopub.status.idle": "2022-08-08T05:44:03.785319Z",
     "shell.execute_reply": "2022-08-08T05:44:03.784365Z",
     "shell.execute_reply.started": "2022-08-08T05:19:41.773841Z"
    },
    "papermill": {
     "duration": 0.853882,
     "end_time": "2022-08-08T05:44:03.785528",
     "exception": false,
     "start_time": "2022-08-08T05:44:02.931646",
     "status": "completed"
    },
    "tags": []
   },
   "outputs": [],
   "source": [
    "customerID=test[\"customer_ID\"].copy()"
   ]
  },
  {
   "cell_type": "code",
   "execution_count": 29,
   "id": "64b34178",
   "metadata": {
    "execution": {
     "iopub.execute_input": "2022-08-08T05:44:04.922396Z",
     "iopub.status.busy": "2022-08-08T05:44:04.921243Z",
     "iopub.status.idle": "2022-08-08T05:44:04.930847Z",
     "shell.execute_reply": "2022-08-08T05:44:04.929770Z",
     "shell.execute_reply.started": "2022-08-08T05:19:41.790141Z"
    },
    "papermill": {
     "duration": 0.603945,
     "end_time": "2022-08-08T05:44:04.931179",
     "exception": false,
     "start_time": "2022-08-08T05:44:04.327234",
     "status": "completed"
    },
    "tags": []
   },
   "outputs": [],
   "source": [
    "del test[\"customer_ID\"]\n",
    "del test[\"Unnamed: 0\"]"
   ]
  },
  {
   "cell_type": "code",
   "execution_count": 30,
   "id": "5121bd10",
   "metadata": {
    "execution": {
     "iopub.execute_input": "2022-08-08T05:44:06.097130Z",
     "iopub.status.busy": "2022-08-08T05:44:06.095621Z",
     "iopub.status.idle": "2022-08-08T05:44:06.528156Z",
     "shell.execute_reply": "2022-08-08T05:44:06.527414Z",
     "shell.execute_reply.started": "2022-08-08T05:19:41.802745Z"
    },
    "papermill": {
     "duration": 1.034376,
     "end_time": "2022-08-08T05:44:06.528372",
     "exception": false,
     "start_time": "2022-08-08T05:44:05.493996",
     "status": "completed"
    },
    "tags": []
   },
   "outputs": [
    {
     "data": {
      "text/plain": [
       "21"
      ]
     },
     "execution_count": 30,
     "metadata": {},
     "output_type": "execute_result"
    }
   ],
   "source": [
    "gc.collect()"
   ]
  },
  {
   "cell_type": "markdown",
   "id": "69920088",
   "metadata": {
    "papermill": {
     "duration": 0.573106,
     "end_time": "2022-08-08T05:44:07.653920",
     "exception": false,
     "start_time": "2022-08-08T05:44:07.080814",
     "status": "completed"
    },
    "tags": []
   },
   "source": [
    "# 5 Fit the Data"
   ]
  },
  {
   "cell_type": "code",
   "execution_count": 31,
   "id": "1c765324",
   "metadata": {
    "execution": {
     "iopub.execute_input": "2022-08-08T05:44:08.905822Z",
     "iopub.status.busy": "2022-08-08T05:44:08.904253Z",
     "iopub.status.idle": "2022-08-08T05:47:25.605946Z",
     "shell.execute_reply": "2022-08-08T05:47:25.604880Z",
     "shell.execute_reply.started": "2022-08-08T05:19:42.058427Z"
    },
    "papermill": {
     "duration": 197.298324,
     "end_time": "2022-08-08T05:47:25.606585",
     "exception": false,
     "start_time": "2022-08-08T05:44:08.308261",
     "status": "completed"
    },
    "tags": []
   },
   "outputs": [
    {
     "name": "stderr",
     "output_type": "stream",
     "text": [
      "2022-08-08 05:44:10.613667: W tensorflow/core/framework/cpu_allocator_impl.cc:80] Allocation of 576142632 exceeds 10% of free system memory.\n"
     ]
    }
   ],
   "source": [
    "target=pd.DataFrame(model.predict(x=test))"
   ]
  },
  {
   "cell_type": "code",
   "execution_count": 32,
   "id": "60d03d9d",
   "metadata": {
    "execution": {
     "iopub.execute_input": "2022-08-08T05:47:26.709508Z",
     "iopub.status.busy": "2022-08-08T05:47:26.708368Z",
     "iopub.status.idle": "2022-08-08T05:47:26.768089Z",
     "shell.execute_reply": "2022-08-08T05:47:26.768696Z",
     "shell.execute_reply.started": "2022-08-08T05:23:00.699223Z"
    },
    "papermill": {
     "duration": 0.669482,
     "end_time": "2022-08-08T05:47:26.768910",
     "exception": false,
     "start_time": "2022-08-08T05:47:26.099428",
     "status": "completed"
    },
    "tags": []
   },
   "outputs": [],
   "source": [
    "output=pd.concat([customerID,target],axis=1)"
   ]
  },
  {
   "cell_type": "code",
   "execution_count": 33,
   "id": "e1f2bcf6",
   "metadata": {
    "execution": {
     "iopub.execute_input": "2022-08-08T05:47:27.694308Z",
     "iopub.status.busy": "2022-08-08T05:47:27.693432Z",
     "iopub.status.idle": "2022-08-08T05:47:27.696649Z",
     "shell.execute_reply": "2022-08-08T05:47:27.697218Z",
     "shell.execute_reply.started": "2022-08-08T05:23:00.740720Z"
    },
    "papermill": {
     "duration": 0.462604,
     "end_time": "2022-08-08T05:47:27.697433",
     "exception": false,
     "start_time": "2022-08-08T05:47:27.234829",
     "status": "completed"
    },
    "tags": []
   },
   "outputs": [],
   "source": [
    "output.columns=[\"customer_ID\",\"target\"]"
   ]
  },
  {
   "cell_type": "code",
   "execution_count": 34,
   "id": "61df2f4e",
   "metadata": {
    "execution": {
     "iopub.execute_input": "2022-08-08T05:47:28.585922Z",
     "iopub.status.busy": "2022-08-08T05:47:28.584902Z",
     "iopub.status.idle": "2022-08-08T05:47:34.818203Z",
     "shell.execute_reply": "2022-08-08T05:47:34.819291Z",
     "shell.execute_reply.started": "2022-08-08T05:23:00.748402Z"
    },
    "papermill": {
     "duration": 6.680258,
     "end_time": "2022-08-08T05:47:34.819527",
     "exception": false,
     "start_time": "2022-08-08T05:47:28.139269",
     "status": "completed"
    },
    "tags": []
   },
   "outputs": [],
   "source": [
    "output.to_csv(\"output1.csv\")"
   ]
  },
  {
   "cell_type": "code",
   "execution_count": null,
   "id": "be485c05",
   "metadata": {
    "papermill": {
     "duration": 0.410002,
     "end_time": "2022-08-08T05:47:35.659939",
     "exception": false,
     "start_time": "2022-08-08T05:47:35.249937",
     "status": "completed"
    },
    "tags": []
   },
   "outputs": [],
   "source": []
  }
 ],
 "metadata": {
  "kernelspec": {
   "display_name": "Python 3",
   "language": "python",
   "name": "python3"
  },
  "language_info": {
   "codemirror_mode": {
    "name": "ipython",
    "version": 3
   },
   "file_extension": ".py",
   "mimetype": "text/x-python",
   "name": "python",
   "nbconvert_exporter": "python",
   "pygments_lexer": "ipython3",
   "version": "3.7.10"
  },
  "papermill": {
   "default_parameters": {},
   "duration": 793.460613,
   "end_time": "2022-08-08T05:47:38.900327",
   "environment_variables": {},
   "exception": null,
   "input_path": "__notebook__.ipynb",
   "output_path": "__notebook__.ipynb",
   "parameters": {},
   "start_time": "2022-08-08T05:34:25.439714",
   "version": "2.3.3"
  }
 },
 "nbformat": 4,
 "nbformat_minor": 5
}
