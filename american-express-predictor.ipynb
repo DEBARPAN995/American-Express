{
 "cells": [
  {
   "cell_type": "markdown",
   "id": "6714f45f",
   "metadata": {
    "papermill": {
     "duration": 0.033647,
     "end_time": "2022-08-06T17:32:37.628592",
     "exception": false,
     "start_time": "2022-08-06T17:32:37.594945",
     "status": "completed"
    },
    "tags": []
   },
   "source": [
    "# 1 Loading Libraries and Data"
   ]
  },
  {
   "cell_type": "markdown",
   "id": "29cca13c",
   "metadata": {
    "papermill": {
     "duration": 0.031859,
     "end_time": "2022-08-06T17:32:37.697274",
     "exception": false,
     "start_time": "2022-08-06T17:32:37.665415",
     "status": "completed"
    },
    "tags": []
   },
   "source": [
    "# 1.1 Loading libraries"
   ]
  },
  {
   "cell_type": "code",
   "execution_count": 1,
   "id": "40d564fc",
   "metadata": {
    "execution": {
     "iopub.execute_input": "2022-08-06T17:32:37.783520Z",
     "iopub.status.busy": "2022-08-06T17:32:37.781517Z",
     "iopub.status.idle": "2022-08-06T17:32:43.565472Z",
     "shell.execute_reply": "2022-08-06T17:32:43.564644Z",
     "shell.execute_reply.started": "2022-08-06T17:18:40.519206Z"
    },
    "papermill": {
     "duration": 5.826499,
     "end_time": "2022-08-06T17:32:43.565647",
     "exception": false,
     "start_time": "2022-08-06T17:32:37.739148",
     "status": "completed"
    },
    "tags": []
   },
   "outputs": [
    {
     "name": "stderr",
     "output_type": "stream",
     "text": [
      "2022-08-06 17:32:39.196593: W tensorflow/stream_executor/platform/default/dso_loader.cc:60] Could not load dynamic library 'libcudart.so.11.0'; dlerror: libcudart.so.11.0: cannot open shared object file: No such file or directory; LD_LIBRARY_PATH: /opt/conda/lib\n",
      "2022-08-06 17:32:39.196701: I tensorflow/stream_executor/cuda/cudart_stub.cc:29] Ignore above cudart dlerror if you do not have a GPU set up on your machine.\n"
     ]
    }
   ],
   "source": [
    "import numpy as np\n",
    "import pandas as pd\n",
    "import matplotlib.pyplot as plt\n",
    "import seaborn as sns\n",
    "import tensorflow as tf\n",
    "from tensorflow import keras\n",
    "from tensorflow.keras import layers\n",
    "from tensorflow.keras.callbacks import EarlyStopping\n",
    "import gc"
   ]
  },
  {
   "cell_type": "markdown",
   "id": "d2dfd271",
   "metadata": {
    "papermill": {
     "duration": 0.034329,
     "end_time": "2022-08-06T17:32:43.634441",
     "exception": false,
     "start_time": "2022-08-06T17:32:43.600112",
     "status": "completed"
    },
    "tags": []
   },
   "source": [
    "# 1.2 Loading Data"
   ]
  },
  {
   "cell_type": "code",
   "execution_count": 2,
   "id": "2b15b3eb",
   "metadata": {
    "execution": {
     "iopub.execute_input": "2022-08-06T17:32:43.705740Z",
     "iopub.status.busy": "2022-08-06T17:32:43.704781Z",
     "iopub.status.idle": "2022-08-06T17:35:30.767473Z",
     "shell.execute_reply": "2022-08-06T17:35:30.766677Z",
     "shell.execute_reply.started": "2022-08-06T17:18:47.129873Z"
    },
    "papermill": {
     "duration": 167.099998,
     "end_time": "2022-08-06T17:35:30.767644",
     "exception": false,
     "start_time": "2022-08-06T17:32:43.667646",
     "status": "completed"
    },
    "tags": []
   },
   "outputs": [],
   "source": [
    "train=pd.read_csv(\"../input/training/train.csv.gzip\",compression=\"gzip\",dtype=\"float16\")"
   ]
  },
  {
   "cell_type": "markdown",
   "id": "5433e4a4",
   "metadata": {
    "papermill": {
     "duration": 0.031775,
     "end_time": "2022-08-06T17:35:30.832540",
     "exception": false,
     "start_time": "2022-08-06T17:35:30.800765",
     "status": "completed"
    },
    "tags": []
   },
   "source": [
    "# 1.3 Data size and structure"
   ]
  },
  {
   "cell_type": "markdown",
   "id": "910e8078",
   "metadata": {
    "papermill": {
     "duration": 0.031528,
     "end_time": "2022-08-06T17:35:30.896319",
     "exception": false,
     "start_time": "2022-08-06T17:35:30.864791",
     "status": "completed"
    },
    "tags": []
   },
   "source": [
    "Here we understant the shape of the table. We found that we have an extra column in the data set. So we need to remove it."
   ]
  },
  {
   "cell_type": "code",
   "execution_count": 3,
   "id": "08fe237b",
   "metadata": {
    "execution": {
     "iopub.execute_input": "2022-08-06T17:35:30.967959Z",
     "iopub.status.busy": "2022-08-06T17:35:30.967209Z",
     "iopub.status.idle": "2022-08-06T17:35:30.970731Z",
     "shell.execute_reply": "2022-08-06T17:35:30.971189Z",
     "shell.execute_reply.started": "2022-08-06T17:21:36.149917Z"
    },
    "papermill": {
     "duration": 0.043354,
     "end_time": "2022-08-06T17:35:30.971382",
     "exception": false,
     "start_time": "2022-08-06T17:35:30.928028",
     "status": "completed"
    },
    "tags": []
   },
   "outputs": [
    {
     "data": {
      "text/plain": [
       "(5531451, 171)"
      ]
     },
     "execution_count": 3,
     "metadata": {},
     "output_type": "execute_result"
    }
   ],
   "source": [
    "train.shape"
   ]
  },
  {
   "cell_type": "code",
   "execution_count": 4,
   "id": "12ae5790",
   "metadata": {
    "execution": {
     "iopub.execute_input": "2022-08-06T17:35:31.045312Z",
     "iopub.status.busy": "2022-08-06T17:35:31.039928Z",
     "iopub.status.idle": "2022-08-06T17:35:31.073778Z",
     "shell.execute_reply": "2022-08-06T17:35:31.074347Z",
     "shell.execute_reply.started": "2022-08-06T17:21:36.160107Z"
    },
    "papermill": {
     "duration": 0.070188,
     "end_time": "2022-08-06T17:35:31.074527",
     "exception": false,
     "start_time": "2022-08-06T17:35:31.004339",
     "status": "completed"
    },
    "tags": []
   },
   "outputs": [
    {
     "data": {
      "text/html": [
       "<div>\n",
       "<style scoped>\n",
       "    .dataframe tbody tr th:only-of-type {\n",
       "        vertical-align: middle;\n",
       "    }\n",
       "\n",
       "    .dataframe tbody tr th {\n",
       "        vertical-align: top;\n",
       "    }\n",
       "\n",
       "    .dataframe thead th {\n",
       "        text-align: right;\n",
       "    }\n",
       "</style>\n",
       "<table border=\"1\" class=\"dataframe\">\n",
       "  <thead>\n",
       "    <tr style=\"text-align: right;\">\n",
       "      <th></th>\n",
       "      <th>Unnamed: 0</th>\n",
       "      <th>target</th>\n",
       "      <th>S_2</th>\n",
       "      <th>P_2</th>\n",
       "      <th>D_39</th>\n",
       "      <th>B_1</th>\n",
       "      <th>B_2</th>\n",
       "      <th>R_1</th>\n",
       "      <th>D_41</th>\n",
       "      <th>B_3</th>\n",
       "      <th>...</th>\n",
       "      <th>D_135</th>\n",
       "      <th>D_136</th>\n",
       "      <th>D_137</th>\n",
       "      <th>D_138</th>\n",
       "      <th>D_139</th>\n",
       "      <th>D_140</th>\n",
       "      <th>D_141</th>\n",
       "      <th>D_143</th>\n",
       "      <th>D_144</th>\n",
       "      <th>D_145</th>\n",
       "    </tr>\n",
       "  </thead>\n",
       "  <tbody>\n",
       "    <tr>\n",
       "      <th>0</th>\n",
       "      <td>0.0</td>\n",
       "      <td>0.0</td>\n",
       "      <td>0.232056</td>\n",
       "      <td>0.638672</td>\n",
       "      <td>0.000000</td>\n",
       "      <td>0.000978</td>\n",
       "      <td>0.392578</td>\n",
       "      <td>0.002834</td>\n",
       "      <td>0.0</td>\n",
       "      <td>0.002096</td>\n",
       "      <td>...</td>\n",
       "      <td>-0.5</td>\n",
       "      <td>-0.125</td>\n",
       "      <td>-0.5</td>\n",
       "      <td>-0.142822</td>\n",
       "      <td>0.0</td>\n",
       "      <td>0.0</td>\n",
       "      <td>0.0</td>\n",
       "      <td>0.0</td>\n",
       "      <td>0.000454</td>\n",
       "      <td>0.0</td>\n",
       "    </tr>\n",
       "    <tr>\n",
       "      <th>1</th>\n",
       "      <td>1.0</td>\n",
       "      <td>0.0</td>\n",
       "      <td>0.236328</td>\n",
       "      <td>0.637695</td>\n",
       "      <td>0.000000</td>\n",
       "      <td>0.000552</td>\n",
       "      <td>0.390137</td>\n",
       "      <td>0.001889</td>\n",
       "      <td>0.0</td>\n",
       "      <td>0.001207</td>\n",
       "      <td>...</td>\n",
       "      <td>-0.5</td>\n",
       "      <td>-0.125</td>\n",
       "      <td>-0.5</td>\n",
       "      <td>-0.142822</td>\n",
       "      <td>0.0</td>\n",
       "      <td>0.0</td>\n",
       "      <td>0.0</td>\n",
       "      <td>0.0</td>\n",
       "      <td>0.004089</td>\n",
       "      <td>0.0</td>\n",
       "    </tr>\n",
       "    <tr>\n",
       "      <th>2</th>\n",
       "      <td>2.0</td>\n",
       "      <td>0.0</td>\n",
       "      <td>0.238770</td>\n",
       "      <td>0.649414</td>\n",
       "      <td>0.016388</td>\n",
       "      <td>0.002430</td>\n",
       "      <td>0.393555</td>\n",
       "      <td>0.002092</td>\n",
       "      <td>0.0</td>\n",
       "      <td>0.004192</td>\n",
       "      <td>...</td>\n",
       "      <td>-0.5</td>\n",
       "      <td>-0.125</td>\n",
       "      <td>-0.5</td>\n",
       "      <td>-0.142822</td>\n",
       "      <td>0.0</td>\n",
       "      <td>0.0</td>\n",
       "      <td>0.0</td>\n",
       "      <td>0.0</td>\n",
       "      <td>0.005199</td>\n",
       "      <td>0.0</td>\n",
       "    </tr>\n",
       "    <tr>\n",
       "      <th>3</th>\n",
       "      <td>3.0</td>\n",
       "      <td>0.0</td>\n",
       "      <td>0.242554</td>\n",
       "      <td>0.653809</td>\n",
       "      <td>0.000000</td>\n",
       "      <td>0.001535</td>\n",
       "      <td>0.390869</td>\n",
       "      <td>0.000422</td>\n",
       "      <td>0.0</td>\n",
       "      <td>0.002460</td>\n",
       "      <td>...</td>\n",
       "      <td>-0.5</td>\n",
       "      <td>-0.125</td>\n",
       "      <td>-0.5</td>\n",
       "      <td>-0.142822</td>\n",
       "      <td>0.0</td>\n",
       "      <td>0.0</td>\n",
       "      <td>0.0</td>\n",
       "      <td>0.0</td>\n",
       "      <td>0.004860</td>\n",
       "      <td>0.0</td>\n",
       "    </tr>\n",
       "    <tr>\n",
       "      <th>4</th>\n",
       "      <td>4.0</td>\n",
       "      <td>0.0</td>\n",
       "      <td>0.245850</td>\n",
       "      <td>0.645020</td>\n",
       "      <td>0.000000</td>\n",
       "      <td>0.001704</td>\n",
       "      <td>0.390137</td>\n",
       "      <td>0.002335</td>\n",
       "      <td>0.0</td>\n",
       "      <td>0.004143</td>\n",
       "      <td>...</td>\n",
       "      <td>-0.5</td>\n",
       "      <td>-0.125</td>\n",
       "      <td>-0.5</td>\n",
       "      <td>-0.142822</td>\n",
       "      <td>0.0</td>\n",
       "      <td>0.0</td>\n",
       "      <td>0.0</td>\n",
       "      <td>0.0</td>\n",
       "      <td>0.006050</td>\n",
       "      <td>0.0</td>\n",
       "    </tr>\n",
       "  </tbody>\n",
       "</table>\n",
       "<p>5 rows × 171 columns</p>\n",
       "</div>"
      ],
      "text/plain": [
       "   Unnamed: 0  target       S_2       P_2      D_39       B_1       B_2  \\\n",
       "0         0.0     0.0  0.232056  0.638672  0.000000  0.000978  0.392578   \n",
       "1         1.0     0.0  0.236328  0.637695  0.000000  0.000552  0.390137   \n",
       "2         2.0     0.0  0.238770  0.649414  0.016388  0.002430  0.393555   \n",
       "3         3.0     0.0  0.242554  0.653809  0.000000  0.001535  0.390869   \n",
       "4         4.0     0.0  0.245850  0.645020  0.000000  0.001704  0.390137   \n",
       "\n",
       "        R_1  D_41       B_3  ...  D_135  D_136  D_137     D_138  D_139  D_140  \\\n",
       "0  0.002834   0.0  0.002096  ...   -0.5 -0.125   -0.5 -0.142822    0.0    0.0   \n",
       "1  0.001889   0.0  0.001207  ...   -0.5 -0.125   -0.5 -0.142822    0.0    0.0   \n",
       "2  0.002092   0.0  0.004192  ...   -0.5 -0.125   -0.5 -0.142822    0.0    0.0   \n",
       "3  0.000422   0.0  0.002460  ...   -0.5 -0.125   -0.5 -0.142822    0.0    0.0   \n",
       "4  0.002335   0.0  0.004143  ...   -0.5 -0.125   -0.5 -0.142822    0.0    0.0   \n",
       "\n",
       "   D_141  D_143     D_144  D_145  \n",
       "0    0.0    0.0  0.000454    0.0  \n",
       "1    0.0    0.0  0.004089    0.0  \n",
       "2    0.0    0.0  0.005199    0.0  \n",
       "3    0.0    0.0  0.004860    0.0  \n",
       "4    0.0    0.0  0.006050    0.0  \n",
       "\n",
       "[5 rows x 171 columns]"
      ]
     },
     "execution_count": 4,
     "metadata": {},
     "output_type": "execute_result"
    }
   ],
   "source": [
    "train.head()"
   ]
  },
  {
   "cell_type": "markdown",
   "id": "3d9e1202",
   "metadata": {
    "papermill": {
     "duration": 0.033109,
     "end_time": "2022-08-06T17:35:31.140884",
     "exception": false,
     "start_time": "2022-08-06T17:35:31.107775",
     "status": "completed"
    },
    "tags": []
   },
   "source": [
    "When we save the dataframe as csv the datatypes are not maintained. So we need to reassign the data types. "
   ]
  },
  {
   "cell_type": "code",
   "execution_count": 5,
   "id": "e5155b2a",
   "metadata": {
    "execution": {
     "iopub.execute_input": "2022-08-06T17:35:31.210833Z",
     "iopub.status.busy": "2022-08-06T17:35:31.210276Z",
     "iopub.status.idle": "2022-08-06T17:35:31.807658Z",
     "shell.execute_reply": "2022-08-06T17:35:31.807072Z",
     "shell.execute_reply.started": "2022-08-06T17:21:36.202584Z"
    },
    "papermill": {
     "duration": 0.633779,
     "end_time": "2022-08-06T17:35:31.807819",
     "exception": false,
     "start_time": "2022-08-06T17:35:31.174040",
     "status": "completed"
    },
    "tags": []
   },
   "outputs": [],
   "source": [
    "train[\"target\"]=train[\"target\"].astype(\"int8\")"
   ]
  },
  {
   "cell_type": "markdown",
   "id": "83798fa2",
   "metadata": {
    "papermill": {
     "duration": 0.033347,
     "end_time": "2022-08-06T17:35:31.874432",
     "exception": false,
     "start_time": "2022-08-06T17:35:31.841085",
     "status": "completed"
    },
    "tags": []
   },
   "source": [
    "Drop the extra added column"
   ]
  },
  {
   "cell_type": "code",
   "execution_count": 6,
   "id": "6574c23b",
   "metadata": {
    "execution": {
     "iopub.execute_input": "2022-08-06T17:35:31.950554Z",
     "iopub.status.busy": "2022-08-06T17:35:31.949803Z",
     "iopub.status.idle": "2022-08-06T17:35:35.937797Z",
     "shell.execute_reply": "2022-08-06T17:35:35.938328Z",
     "shell.execute_reply.started": "2022-08-06T17:21:36.819913Z"
    },
    "papermill": {
     "duration": 4.029482,
     "end_time": "2022-08-06T17:35:35.938527",
     "exception": false,
     "start_time": "2022-08-06T17:35:31.909045",
     "status": "completed"
    },
    "tags": []
   },
   "outputs": [],
   "source": [
    "train.drop(\"Unnamed: 0\",axis=1,inplace=True)"
   ]
  },
  {
   "cell_type": "code",
   "execution_count": 7,
   "id": "e42ff8c7",
   "metadata": {
    "execution": {
     "iopub.execute_input": "2022-08-06T17:35:36.010738Z",
     "iopub.status.busy": "2022-08-06T17:35:36.009867Z",
     "iopub.status.idle": "2022-08-06T17:35:36.036357Z",
     "shell.execute_reply": "2022-08-06T17:35:36.035769Z",
     "shell.execute_reply.started": "2022-08-06T17:21:40.761474Z"
    },
    "papermill": {
     "duration": 0.062345,
     "end_time": "2022-08-06T17:35:36.036509",
     "exception": false,
     "start_time": "2022-08-06T17:35:35.974164",
     "status": "completed"
    },
    "tags": []
   },
   "outputs": [
    {
     "data": {
      "text/html": [
       "<div>\n",
       "<style scoped>\n",
       "    .dataframe tbody tr th:only-of-type {\n",
       "        vertical-align: middle;\n",
       "    }\n",
       "\n",
       "    .dataframe tbody tr th {\n",
       "        vertical-align: top;\n",
       "    }\n",
       "\n",
       "    .dataframe thead th {\n",
       "        text-align: right;\n",
       "    }\n",
       "</style>\n",
       "<table border=\"1\" class=\"dataframe\">\n",
       "  <thead>\n",
       "    <tr style=\"text-align: right;\">\n",
       "      <th></th>\n",
       "      <th>target</th>\n",
       "      <th>S_2</th>\n",
       "      <th>P_2</th>\n",
       "      <th>D_39</th>\n",
       "      <th>B_1</th>\n",
       "      <th>B_2</th>\n",
       "      <th>R_1</th>\n",
       "      <th>D_41</th>\n",
       "      <th>B_3</th>\n",
       "      <th>D_43</th>\n",
       "      <th>...</th>\n",
       "      <th>D_135</th>\n",
       "      <th>D_136</th>\n",
       "      <th>D_137</th>\n",
       "      <th>D_138</th>\n",
       "      <th>D_139</th>\n",
       "      <th>D_140</th>\n",
       "      <th>D_141</th>\n",
       "      <th>D_143</th>\n",
       "      <th>D_144</th>\n",
       "      <th>D_145</th>\n",
       "    </tr>\n",
       "  </thead>\n",
       "  <tbody>\n",
       "    <tr>\n",
       "      <th>0</th>\n",
       "      <td>0</td>\n",
       "      <td>0.232056</td>\n",
       "      <td>0.638672</td>\n",
       "      <td>0.000000</td>\n",
       "      <td>0.000978</td>\n",
       "      <td>0.392578</td>\n",
       "      <td>0.002834</td>\n",
       "      <td>0.0</td>\n",
       "      <td>0.002096</td>\n",
       "      <td>0.007229</td>\n",
       "      <td>...</td>\n",
       "      <td>-0.5</td>\n",
       "      <td>-0.125</td>\n",
       "      <td>-0.5</td>\n",
       "      <td>-0.142822</td>\n",
       "      <td>0.0</td>\n",
       "      <td>0.0</td>\n",
       "      <td>0.0</td>\n",
       "      <td>0.0</td>\n",
       "      <td>0.000454</td>\n",
       "      <td>0.0</td>\n",
       "    </tr>\n",
       "    <tr>\n",
       "      <th>1</th>\n",
       "      <td>0</td>\n",
       "      <td>0.236328</td>\n",
       "      <td>0.637695</td>\n",
       "      <td>0.000000</td>\n",
       "      <td>0.000552</td>\n",
       "      <td>0.390137</td>\n",
       "      <td>0.001889</td>\n",
       "      <td>0.0</td>\n",
       "      <td>0.001207</td>\n",
       "      <td>0.007229</td>\n",
       "      <td>...</td>\n",
       "      <td>-0.5</td>\n",
       "      <td>-0.125</td>\n",
       "      <td>-0.5</td>\n",
       "      <td>-0.142822</td>\n",
       "      <td>0.0</td>\n",
       "      <td>0.0</td>\n",
       "      <td>0.0</td>\n",
       "      <td>0.0</td>\n",
       "      <td>0.004089</td>\n",
       "      <td>0.0</td>\n",
       "    </tr>\n",
       "    <tr>\n",
       "      <th>2</th>\n",
       "      <td>0</td>\n",
       "      <td>0.238770</td>\n",
       "      <td>0.649414</td>\n",
       "      <td>0.016388</td>\n",
       "      <td>0.002430</td>\n",
       "      <td>0.393555</td>\n",
       "      <td>0.002092</td>\n",
       "      <td>0.0</td>\n",
       "      <td>0.004192</td>\n",
       "      <td>0.007229</td>\n",
       "      <td>...</td>\n",
       "      <td>-0.5</td>\n",
       "      <td>-0.125</td>\n",
       "      <td>-0.5</td>\n",
       "      <td>-0.142822</td>\n",
       "      <td>0.0</td>\n",
       "      <td>0.0</td>\n",
       "      <td>0.0</td>\n",
       "      <td>0.0</td>\n",
       "      <td>0.005199</td>\n",
       "      <td>0.0</td>\n",
       "    </tr>\n",
       "    <tr>\n",
       "      <th>3</th>\n",
       "      <td>0</td>\n",
       "      <td>0.242554</td>\n",
       "      <td>0.653809</td>\n",
       "      <td>0.000000</td>\n",
       "      <td>0.001535</td>\n",
       "      <td>0.390869</td>\n",
       "      <td>0.000422</td>\n",
       "      <td>0.0</td>\n",
       "      <td>0.002460</td>\n",
       "      <td>0.007229</td>\n",
       "      <td>...</td>\n",
       "      <td>-0.5</td>\n",
       "      <td>-0.125</td>\n",
       "      <td>-0.5</td>\n",
       "      <td>-0.142822</td>\n",
       "      <td>0.0</td>\n",
       "      <td>0.0</td>\n",
       "      <td>0.0</td>\n",
       "      <td>0.0</td>\n",
       "      <td>0.004860</td>\n",
       "      <td>0.0</td>\n",
       "    </tr>\n",
       "    <tr>\n",
       "      <th>4</th>\n",
       "      <td>0</td>\n",
       "      <td>0.245850</td>\n",
       "      <td>0.645020</td>\n",
       "      <td>0.000000</td>\n",
       "      <td>0.001704</td>\n",
       "      <td>0.390137</td>\n",
       "      <td>0.002335</td>\n",
       "      <td>0.0</td>\n",
       "      <td>0.004143</td>\n",
       "      <td>0.007229</td>\n",
       "      <td>...</td>\n",
       "      <td>-0.5</td>\n",
       "      <td>-0.125</td>\n",
       "      <td>-0.5</td>\n",
       "      <td>-0.142822</td>\n",
       "      <td>0.0</td>\n",
       "      <td>0.0</td>\n",
       "      <td>0.0</td>\n",
       "      <td>0.0</td>\n",
       "      <td>0.006050</td>\n",
       "      <td>0.0</td>\n",
       "    </tr>\n",
       "  </tbody>\n",
       "</table>\n",
       "<p>5 rows × 170 columns</p>\n",
       "</div>"
      ],
      "text/plain": [
       "   target       S_2       P_2      D_39       B_1       B_2       R_1  D_41  \\\n",
       "0       0  0.232056  0.638672  0.000000  0.000978  0.392578  0.002834   0.0   \n",
       "1       0  0.236328  0.637695  0.000000  0.000552  0.390137  0.001889   0.0   \n",
       "2       0  0.238770  0.649414  0.016388  0.002430  0.393555  0.002092   0.0   \n",
       "3       0  0.242554  0.653809  0.000000  0.001535  0.390869  0.000422   0.0   \n",
       "4       0  0.245850  0.645020  0.000000  0.001704  0.390137  0.002335   0.0   \n",
       "\n",
       "        B_3      D_43  ...  D_135  D_136  D_137     D_138  D_139  D_140  \\\n",
       "0  0.002096  0.007229  ...   -0.5 -0.125   -0.5 -0.142822    0.0    0.0   \n",
       "1  0.001207  0.007229  ...   -0.5 -0.125   -0.5 -0.142822    0.0    0.0   \n",
       "2  0.004192  0.007229  ...   -0.5 -0.125   -0.5 -0.142822    0.0    0.0   \n",
       "3  0.002460  0.007229  ...   -0.5 -0.125   -0.5 -0.142822    0.0    0.0   \n",
       "4  0.004143  0.007229  ...   -0.5 -0.125   -0.5 -0.142822    0.0    0.0   \n",
       "\n",
       "   D_141  D_143     D_144  D_145  \n",
       "0    0.0    0.0  0.000454    0.0  \n",
       "1    0.0    0.0  0.004089    0.0  \n",
       "2    0.0    0.0  0.005199    0.0  \n",
       "3    0.0    0.0  0.004860    0.0  \n",
       "4    0.0    0.0  0.006050    0.0  \n",
       "\n",
       "[5 rows x 170 columns]"
      ]
     },
     "execution_count": 7,
     "metadata": {},
     "output_type": "execute_result"
    }
   ],
   "source": [
    "train.head()"
   ]
  },
  {
   "cell_type": "markdown",
   "id": "8d319ab2",
   "metadata": {
    "papermill": {
     "duration": 0.032713,
     "end_time": "2022-08-06T17:35:36.102359",
     "exception": false,
     "start_time": "2022-08-06T17:35:36.069646",
     "status": "completed"
    },
    "tags": []
   },
   "source": [
    "# 1.4 Reduce the size of Data"
   ]
  },
  {
   "cell_type": "code",
   "execution_count": 8,
   "id": "f38751fa",
   "metadata": {
    "execution": {
     "iopub.execute_input": "2022-08-06T17:35:36.173525Z",
     "iopub.status.busy": "2022-08-06T17:35:36.172511Z",
     "iopub.status.idle": "2022-08-06T17:35:37.090782Z",
     "shell.execute_reply": "2022-08-06T17:35:37.090143Z",
     "shell.execute_reply.started": "2022-08-06T17:21:40.791567Z"
    },
    "papermill": {
     "duration": 0.955174,
     "end_time": "2022-08-06T17:35:37.090922",
     "exception": false,
     "start_time": "2022-08-06T17:35:36.135748",
     "status": "completed"
    },
    "tags": []
   },
   "outputs": [],
   "source": [
    "for col in train.columns:\n",
    "    if col not in ['customer_ID', 'target']:\n",
    "        train[col]=train[col].astype(\"float16\")\n",
    "train[\"target\"]=train[\"target\"].astype(\"int8\")"
   ]
  },
  {
   "cell_type": "markdown",
   "id": "8a9d60e2",
   "metadata": {
    "papermill": {
     "duration": 0.033205,
     "end_time": "2022-08-06T17:35:37.157998",
     "exception": false,
     "start_time": "2022-08-06T17:35:37.124793",
     "status": "completed"
    },
    "tags": []
   },
   "source": [
    "# 2 Splitting the Data "
   ]
  },
  {
   "cell_type": "code",
   "execution_count": 9,
   "id": "52f1d74a",
   "metadata": {
    "execution": {
     "iopub.execute_input": "2022-08-06T17:35:37.230803Z",
     "iopub.status.busy": "2022-08-06T17:35:37.230112Z",
     "iopub.status.idle": "2022-08-06T17:35:37.232389Z",
     "shell.execute_reply": "2022-08-06T17:35:37.232964Z",
     "shell.execute_reply.started": "2022-08-06T17:21:41.861198Z"
    },
    "papermill": {
     "duration": 0.041443,
     "end_time": "2022-08-06T17:35:37.233123",
     "exception": false,
     "start_time": "2022-08-06T17:35:37.191680",
     "status": "completed"
    },
    "tags": []
   },
   "outputs": [],
   "source": [
    "train_y=train[\"target\"].copy()"
   ]
  },
  {
   "cell_type": "code",
   "execution_count": 10,
   "id": "9aca9b35",
   "metadata": {
    "execution": {
     "iopub.execute_input": "2022-08-06T17:35:37.303295Z",
     "iopub.status.busy": "2022-08-06T17:35:37.302350Z",
     "iopub.status.idle": "2022-08-06T17:35:40.681086Z",
     "shell.execute_reply": "2022-08-06T17:35:40.680414Z",
     "shell.execute_reply.started": "2022-08-06T17:21:41.870616Z"
    },
    "papermill": {
     "duration": 3.414811,
     "end_time": "2022-08-06T17:35:40.681250",
     "exception": false,
     "start_time": "2022-08-06T17:35:37.266439",
     "status": "completed"
    },
    "tags": []
   },
   "outputs": [],
   "source": [
    "train_x=train.loc[:,train.columns!=\"target\"]"
   ]
  },
  {
   "cell_type": "code",
   "execution_count": 11,
   "id": "161d03b7",
   "metadata": {
    "execution": {
     "iopub.execute_input": "2022-08-06T17:35:40.755067Z",
     "iopub.status.busy": "2022-08-06T17:35:40.754323Z",
     "iopub.status.idle": "2022-08-06T17:35:40.757142Z",
     "shell.execute_reply": "2022-08-06T17:35:40.756669Z",
     "shell.execute_reply.started": "2022-08-06T17:21:45.292191Z"
    },
    "papermill": {
     "duration": 0.041378,
     "end_time": "2022-08-06T17:35:40.757304",
     "exception": false,
     "start_time": "2022-08-06T17:35:40.715926",
     "status": "completed"
    },
    "tags": []
   },
   "outputs": [],
   "source": [
    "del train"
   ]
  },
  {
   "cell_type": "markdown",
   "id": "03729f44",
   "metadata": {
    "papermill": {
     "duration": 0.033322,
     "end_time": "2022-08-06T17:35:40.823749",
     "exception": false,
     "start_time": "2022-08-06T17:35:40.790427",
     "status": "completed"
    },
    "tags": []
   },
   "source": [
    "Get a glimps of train_x and train_y"
   ]
  },
  {
   "cell_type": "code",
   "execution_count": 12,
   "id": "03b22817",
   "metadata": {
    "execution": {
     "iopub.execute_input": "2022-08-06T17:35:40.894930Z",
     "iopub.status.busy": "2022-08-06T17:35:40.894253Z",
     "iopub.status.idle": "2022-08-06T17:35:40.901513Z",
     "shell.execute_reply": "2022-08-06T17:35:40.901977Z",
     "shell.execute_reply.started": "2022-08-06T17:21:45.298767Z"
    },
    "papermill": {
     "duration": 0.04439,
     "end_time": "2022-08-06T17:35:40.902125",
     "exception": false,
     "start_time": "2022-08-06T17:35:40.857735",
     "status": "completed"
    },
    "tags": []
   },
   "outputs": [
    {
     "data": {
      "text/plain": [
       "0          0\n",
       "1          0\n",
       "2          0\n",
       "3          0\n",
       "4          0\n",
       "          ..\n",
       "5531446    0\n",
       "5531447    0\n",
       "5531448    0\n",
       "5531449    0\n",
       "5531450    0\n",
       "Name: target, Length: 5531451, dtype: int8"
      ]
     },
     "execution_count": 12,
     "metadata": {},
     "output_type": "execute_result"
    }
   ],
   "source": [
    "train_y"
   ]
  },
  {
   "cell_type": "code",
   "execution_count": 13,
   "id": "d6d870de",
   "metadata": {
    "execution": {
     "iopub.execute_input": "2022-08-06T17:35:40.974843Z",
     "iopub.status.busy": "2022-08-06T17:35:40.972346Z",
     "iopub.status.idle": "2022-08-06T17:35:41.098796Z",
     "shell.execute_reply": "2022-08-06T17:35:41.099366Z",
     "shell.execute_reply.started": "2022-08-06T17:21:45.316898Z"
    },
    "papermill": {
     "duration": 0.164394,
     "end_time": "2022-08-06T17:35:41.099552",
     "exception": false,
     "start_time": "2022-08-06T17:35:40.935158",
     "status": "completed"
    },
    "tags": []
   },
   "outputs": [
    {
     "data": {
      "text/html": [
       "<div>\n",
       "<style scoped>\n",
       "    .dataframe tbody tr th:only-of-type {\n",
       "        vertical-align: middle;\n",
       "    }\n",
       "\n",
       "    .dataframe tbody tr th {\n",
       "        vertical-align: top;\n",
       "    }\n",
       "\n",
       "    .dataframe thead th {\n",
       "        text-align: right;\n",
       "    }\n",
       "</style>\n",
       "<table border=\"1\" class=\"dataframe\">\n",
       "  <thead>\n",
       "    <tr style=\"text-align: right;\">\n",
       "      <th></th>\n",
       "      <th>S_2</th>\n",
       "      <th>P_2</th>\n",
       "      <th>D_39</th>\n",
       "      <th>B_1</th>\n",
       "      <th>B_2</th>\n",
       "      <th>R_1</th>\n",
       "      <th>D_41</th>\n",
       "      <th>B_3</th>\n",
       "      <th>D_43</th>\n",
       "      <th>D_44</th>\n",
       "      <th>...</th>\n",
       "      <th>D_135</th>\n",
       "      <th>D_136</th>\n",
       "      <th>D_137</th>\n",
       "      <th>D_138</th>\n",
       "      <th>D_139</th>\n",
       "      <th>D_140</th>\n",
       "      <th>D_141</th>\n",
       "      <th>D_143</th>\n",
       "      <th>D_144</th>\n",
       "      <th>D_145</th>\n",
       "    </tr>\n",
       "  </thead>\n",
       "  <tbody>\n",
       "    <tr>\n",
       "      <th>0</th>\n",
       "      <td>0.232056</td>\n",
       "      <td>0.638672</td>\n",
       "      <td>0.000000</td>\n",
       "      <td>0.000978</td>\n",
       "      <td>0.392578</td>\n",
       "      <td>0.002834</td>\n",
       "      <td>0.0</td>\n",
       "      <td>0.002096</td>\n",
       "      <td>0.007229</td>\n",
       "      <td>0.0</td>\n",
       "      <td>...</td>\n",
       "      <td>-0.5</td>\n",
       "      <td>-0.125</td>\n",
       "      <td>-0.5</td>\n",
       "      <td>-0.142822</td>\n",
       "      <td>0.0</td>\n",
       "      <td>0.0</td>\n",
       "      <td>0.0</td>\n",
       "      <td>0.0</td>\n",
       "      <td>0.000454</td>\n",
       "      <td>0.0</td>\n",
       "    </tr>\n",
       "    <tr>\n",
       "      <th>1</th>\n",
       "      <td>0.236328</td>\n",
       "      <td>0.637695</td>\n",
       "      <td>0.000000</td>\n",
       "      <td>0.000552</td>\n",
       "      <td>0.390137</td>\n",
       "      <td>0.001889</td>\n",
       "      <td>0.0</td>\n",
       "      <td>0.001207</td>\n",
       "      <td>0.007229</td>\n",
       "      <td>0.0</td>\n",
       "      <td>...</td>\n",
       "      <td>-0.5</td>\n",
       "      <td>-0.125</td>\n",
       "      <td>-0.5</td>\n",
       "      <td>-0.142822</td>\n",
       "      <td>0.0</td>\n",
       "      <td>0.0</td>\n",
       "      <td>0.0</td>\n",
       "      <td>0.0</td>\n",
       "      <td>0.004089</td>\n",
       "      <td>0.0</td>\n",
       "    </tr>\n",
       "    <tr>\n",
       "      <th>2</th>\n",
       "      <td>0.238770</td>\n",
       "      <td>0.649414</td>\n",
       "      <td>0.016388</td>\n",
       "      <td>0.002430</td>\n",
       "      <td>0.393555</td>\n",
       "      <td>0.002092</td>\n",
       "      <td>0.0</td>\n",
       "      <td>0.004192</td>\n",
       "      <td>0.007229</td>\n",
       "      <td>0.0</td>\n",
       "      <td>...</td>\n",
       "      <td>-0.5</td>\n",
       "      <td>-0.125</td>\n",
       "      <td>-0.5</td>\n",
       "      <td>-0.142822</td>\n",
       "      <td>0.0</td>\n",
       "      <td>0.0</td>\n",
       "      <td>0.0</td>\n",
       "      <td>0.0</td>\n",
       "      <td>0.005199</td>\n",
       "      <td>0.0</td>\n",
       "    </tr>\n",
       "    <tr>\n",
       "      <th>3</th>\n",
       "      <td>0.242554</td>\n",
       "      <td>0.653809</td>\n",
       "      <td>0.000000</td>\n",
       "      <td>0.001535</td>\n",
       "      <td>0.390869</td>\n",
       "      <td>0.000422</td>\n",
       "      <td>0.0</td>\n",
       "      <td>0.002460</td>\n",
       "      <td>0.007229</td>\n",
       "      <td>0.0</td>\n",
       "      <td>...</td>\n",
       "      <td>-0.5</td>\n",
       "      <td>-0.125</td>\n",
       "      <td>-0.5</td>\n",
       "      <td>-0.142822</td>\n",
       "      <td>0.0</td>\n",
       "      <td>0.0</td>\n",
       "      <td>0.0</td>\n",
       "      <td>0.0</td>\n",
       "      <td>0.004860</td>\n",
       "      <td>0.0</td>\n",
       "    </tr>\n",
       "    <tr>\n",
       "      <th>4</th>\n",
       "      <td>0.245850</td>\n",
       "      <td>0.645020</td>\n",
       "      <td>0.000000</td>\n",
       "      <td>0.001704</td>\n",
       "      <td>0.390137</td>\n",
       "      <td>0.002335</td>\n",
       "      <td>0.0</td>\n",
       "      <td>0.004143</td>\n",
       "      <td>0.007229</td>\n",
       "      <td>0.0</td>\n",
       "      <td>...</td>\n",
       "      <td>-0.5</td>\n",
       "      <td>-0.125</td>\n",
       "      <td>-0.5</td>\n",
       "      <td>-0.142822</td>\n",
       "      <td>0.0</td>\n",
       "      <td>0.0</td>\n",
       "      <td>0.0</td>\n",
       "      <td>0.0</td>\n",
       "      <td>0.006050</td>\n",
       "      <td>0.0</td>\n",
       "    </tr>\n",
       "    <tr>\n",
       "      <th>...</th>\n",
       "      <td>...</td>\n",
       "      <td>...</td>\n",
       "      <td>...</td>\n",
       "      <td>...</td>\n",
       "      <td>...</td>\n",
       "      <td>...</td>\n",
       "      <td>...</td>\n",
       "      <td>...</td>\n",
       "      <td>...</td>\n",
       "      <td>...</td>\n",
       "      <td>...</td>\n",
       "      <td>...</td>\n",
       "      <td>...</td>\n",
       "      <td>...</td>\n",
       "      <td>...</td>\n",
       "      <td>...</td>\n",
       "      <td>...</td>\n",
       "      <td>...</td>\n",
       "      <td>...</td>\n",
       "      <td>...</td>\n",
       "      <td>...</td>\n",
       "    </tr>\n",
       "    <tr>\n",
       "      <th>5531446</th>\n",
       "      <td>0.254639</td>\n",
       "      <td>0.666504</td>\n",
       "      <td>0.076477</td>\n",
       "      <td>0.002337</td>\n",
       "      <td>0.322754</td>\n",
       "      <td>0.001071</td>\n",
       "      <td>0.0</td>\n",
       "      <td>0.011185</td>\n",
       "      <td>0.001407</td>\n",
       "      <td>0.0</td>\n",
       "      <td>...</td>\n",
       "      <td>-0.5</td>\n",
       "      <td>-0.125</td>\n",
       "      <td>-0.5</td>\n",
       "      <td>-0.142822</td>\n",
       "      <td>0.0</td>\n",
       "      <td>0.0</td>\n",
       "      <td>0.0</td>\n",
       "      <td>0.0</td>\n",
       "      <td>0.001115</td>\n",
       "      <td>0.0</td>\n",
       "    </tr>\n",
       "    <tr>\n",
       "      <th>5531447</th>\n",
       "      <td>0.256348</td>\n",
       "      <td>0.670410</td>\n",
       "      <td>0.054657</td>\n",
       "      <td>0.000809</td>\n",
       "      <td>0.316895</td>\n",
       "      <td>0.001813</td>\n",
       "      <td>0.0</td>\n",
       "      <td>0.010544</td>\n",
       "      <td>0.000936</td>\n",
       "      <td>0.0</td>\n",
       "      <td>...</td>\n",
       "      <td>-0.5</td>\n",
       "      <td>-0.125</td>\n",
       "      <td>-0.5</td>\n",
       "      <td>-0.142822</td>\n",
       "      <td>0.0</td>\n",
       "      <td>0.0</td>\n",
       "      <td>0.0</td>\n",
       "      <td>0.0</td>\n",
       "      <td>0.006123</td>\n",
       "      <td>0.0</td>\n",
       "    </tr>\n",
       "    <tr>\n",
       "      <th>5531448</th>\n",
       "      <td>0.257080</td>\n",
       "      <td>0.669434</td>\n",
       "      <td>0.081970</td>\n",
       "      <td>0.001475</td>\n",
       "      <td>0.317871</td>\n",
       "      <td>0.001061</td>\n",
       "      <td>0.0</td>\n",
       "      <td>0.005493</td>\n",
       "      <td>0.000652</td>\n",
       "      <td>0.0</td>\n",
       "      <td>...</td>\n",
       "      <td>-0.5</td>\n",
       "      <td>-0.125</td>\n",
       "      <td>-0.5</td>\n",
       "      <td>-0.142822</td>\n",
       "      <td>0.0</td>\n",
       "      <td>0.0</td>\n",
       "      <td>0.0</td>\n",
       "      <td>0.0</td>\n",
       "      <td>0.005043</td>\n",
       "      <td>0.0</td>\n",
       "    </tr>\n",
       "    <tr>\n",
       "      <th>5531449</th>\n",
       "      <td>0.257812</td>\n",
       "      <td>0.660156</td>\n",
       "      <td>0.081970</td>\n",
       "      <td>0.001105</td>\n",
       "      <td>0.391113</td>\n",
       "      <td>0.001572</td>\n",
       "      <td>0.0</td>\n",
       "      <td>0.003817</td>\n",
       "      <td>0.001408</td>\n",
       "      <td>0.0</td>\n",
       "      <td>...</td>\n",
       "      <td>-0.5</td>\n",
       "      <td>-0.125</td>\n",
       "      <td>-0.5</td>\n",
       "      <td>-0.142822</td>\n",
       "      <td>0.0</td>\n",
       "      <td>0.0</td>\n",
       "      <td>0.0</td>\n",
       "      <td>0.0</td>\n",
       "      <td>0.000869</td>\n",
       "      <td>0.0</td>\n",
       "    </tr>\n",
       "    <tr>\n",
       "      <th>5531450</th>\n",
       "      <td>0.259033</td>\n",
       "      <td>0.668457</td>\n",
       "      <td>0.000000</td>\n",
       "      <td>0.000009</td>\n",
       "      <td>0.386963</td>\n",
       "      <td>0.000248</td>\n",
       "      <td>0.0</td>\n",
       "      <td>0.006271</td>\n",
       "      <td>0.001330</td>\n",
       "      <td>0.0</td>\n",
       "      <td>...</td>\n",
       "      <td>-0.5</td>\n",
       "      <td>-0.125</td>\n",
       "      <td>-0.5</td>\n",
       "      <td>-0.142822</td>\n",
       "      <td>0.0</td>\n",
       "      <td>0.0</td>\n",
       "      <td>0.0</td>\n",
       "      <td>0.0</td>\n",
       "      <td>0.002371</td>\n",
       "      <td>0.0</td>\n",
       "    </tr>\n",
       "  </tbody>\n",
       "</table>\n",
       "<p>5531451 rows × 169 columns</p>\n",
       "</div>"
      ],
      "text/plain": [
       "              S_2       P_2      D_39       B_1       B_2       R_1  D_41  \\\n",
       "0        0.232056  0.638672  0.000000  0.000978  0.392578  0.002834   0.0   \n",
       "1        0.236328  0.637695  0.000000  0.000552  0.390137  0.001889   0.0   \n",
       "2        0.238770  0.649414  0.016388  0.002430  0.393555  0.002092   0.0   \n",
       "3        0.242554  0.653809  0.000000  0.001535  0.390869  0.000422   0.0   \n",
       "4        0.245850  0.645020  0.000000  0.001704  0.390137  0.002335   0.0   \n",
       "...           ...       ...       ...       ...       ...       ...   ...   \n",
       "5531446  0.254639  0.666504  0.076477  0.002337  0.322754  0.001071   0.0   \n",
       "5531447  0.256348  0.670410  0.054657  0.000809  0.316895  0.001813   0.0   \n",
       "5531448  0.257080  0.669434  0.081970  0.001475  0.317871  0.001061   0.0   \n",
       "5531449  0.257812  0.660156  0.081970  0.001105  0.391113  0.001572   0.0   \n",
       "5531450  0.259033  0.668457  0.000000  0.000009  0.386963  0.000248   0.0   \n",
       "\n",
       "              B_3      D_43  D_44  ...  D_135  D_136  D_137     D_138  D_139  \\\n",
       "0        0.002096  0.007229   0.0  ...   -0.5 -0.125   -0.5 -0.142822    0.0   \n",
       "1        0.001207  0.007229   0.0  ...   -0.5 -0.125   -0.5 -0.142822    0.0   \n",
       "2        0.004192  0.007229   0.0  ...   -0.5 -0.125   -0.5 -0.142822    0.0   \n",
       "3        0.002460  0.007229   0.0  ...   -0.5 -0.125   -0.5 -0.142822    0.0   \n",
       "4        0.004143  0.007229   0.0  ...   -0.5 -0.125   -0.5 -0.142822    0.0   \n",
       "...           ...       ...   ...  ...    ...    ...    ...       ...    ...   \n",
       "5531446  0.011185  0.001407   0.0  ...   -0.5 -0.125   -0.5 -0.142822    0.0   \n",
       "5531447  0.010544  0.000936   0.0  ...   -0.5 -0.125   -0.5 -0.142822    0.0   \n",
       "5531448  0.005493  0.000652   0.0  ...   -0.5 -0.125   -0.5 -0.142822    0.0   \n",
       "5531449  0.003817  0.001408   0.0  ...   -0.5 -0.125   -0.5 -0.142822    0.0   \n",
       "5531450  0.006271  0.001330   0.0  ...   -0.5 -0.125   -0.5 -0.142822    0.0   \n",
       "\n",
       "         D_140  D_141  D_143     D_144  D_145  \n",
       "0          0.0    0.0    0.0  0.000454    0.0  \n",
       "1          0.0    0.0    0.0  0.004089    0.0  \n",
       "2          0.0    0.0    0.0  0.005199    0.0  \n",
       "3          0.0    0.0    0.0  0.004860    0.0  \n",
       "4          0.0    0.0    0.0  0.006050    0.0  \n",
       "...        ...    ...    ...       ...    ...  \n",
       "5531446    0.0    0.0    0.0  0.001115    0.0  \n",
       "5531447    0.0    0.0    0.0  0.006123    0.0  \n",
       "5531448    0.0    0.0    0.0  0.005043    0.0  \n",
       "5531449    0.0    0.0    0.0  0.000869    0.0  \n",
       "5531450    0.0    0.0    0.0  0.002371    0.0  \n",
       "\n",
       "[5531451 rows x 169 columns]"
      ]
     },
     "execution_count": 13,
     "metadata": {},
     "output_type": "execute_result"
    }
   ],
   "source": [
    "train_x"
   ]
  },
  {
   "cell_type": "markdown",
   "id": "2d833371",
   "metadata": {
    "papermill": {
     "duration": 0.034543,
     "end_time": "2022-08-06T17:35:41.169584",
     "exception": false,
     "start_time": "2022-08-06T17:35:41.135041",
     "status": "completed"
    },
    "tags": []
   },
   "source": [
    "Free the memory space"
   ]
  },
  {
   "cell_type": "code",
   "execution_count": 14,
   "id": "cbb1aef9",
   "metadata": {
    "execution": {
     "iopub.execute_input": "2022-08-06T17:35:41.246266Z",
     "iopub.status.busy": "2022-08-06T17:35:41.245300Z",
     "iopub.status.idle": "2022-08-06T17:35:41.417989Z",
     "shell.execute_reply": "2022-08-06T17:35:41.418518Z",
     "shell.execute_reply.started": "2022-08-06T17:21:45.447307Z"
    },
    "papermill": {
     "duration": 0.21218,
     "end_time": "2022-08-06T17:35:41.418701",
     "exception": false,
     "start_time": "2022-08-06T17:35:41.206521",
     "status": "completed"
    },
    "tags": []
   },
   "outputs": [
    {
     "data": {
      "text/plain": [
       "148"
      ]
     },
     "execution_count": 14,
     "metadata": {},
     "output_type": "execute_result"
    }
   ],
   "source": [
    "gc.collect()"
   ]
  },
  {
   "cell_type": "markdown",
   "id": "73b5a14e",
   "metadata": {
    "papermill": {
     "duration": 0.035198,
     "end_time": "2022-08-06T17:35:41.489138",
     "exception": false,
     "start_time": "2022-08-06T17:35:41.453940",
     "status": "completed"
    },
    "tags": []
   },
   "source": [
    "# 3 Training a model"
   ]
  },
  {
   "cell_type": "markdown",
   "id": "fcc03d87",
   "metadata": {
    "papermill": {
     "duration": 0.035643,
     "end_time": "2022-08-06T17:35:41.560705",
     "exception": false,
     "start_time": "2022-08-06T17:35:41.525062",
     "status": "completed"
    },
    "tags": []
   },
   "source": [
    "Important link for hyperparameter tuning (https://medium.com/mini-distill/effect-of-batch-size-on-training-dynamics-21c14f7a716e)"
   ]
  },
  {
   "cell_type": "code",
   "execution_count": 15,
   "id": "e0f02df4",
   "metadata": {
    "execution": {
     "iopub.execute_input": "2022-08-06T17:35:41.646401Z",
     "iopub.status.busy": "2022-08-06T17:35:41.645342Z",
     "iopub.status.idle": "2022-08-06T17:35:47.516595Z",
     "shell.execute_reply": "2022-08-06T17:35:47.515956Z",
     "shell.execute_reply.started": "2022-08-06T17:21:45.623618Z"
    },
    "papermill": {
     "duration": 5.91995,
     "end_time": "2022-08-06T17:35:47.516754",
     "exception": false,
     "start_time": "2022-08-06T17:35:41.596804",
     "status": "completed"
    },
    "tags": []
   },
   "outputs": [
    {
     "name": "stderr",
     "output_type": "stream",
     "text": [
      "2022-08-06 17:35:41.640380: I tensorflow/compiler/jit/xla_cpu_device.cc:41] Not creating XLA devices, tf_xla_enable_xla_devices not set\n",
      "2022-08-06 17:35:41.643390: W tensorflow/stream_executor/platform/default/dso_loader.cc:60] Could not load dynamic library 'libcuda.so.1'; dlerror: libcuda.so.1: cannot open shared object file: No such file or directory; LD_LIBRARY_PATH: /opt/conda/lib\n",
      "2022-08-06 17:35:41.643424: W tensorflow/stream_executor/cuda/cuda_driver.cc:326] failed call to cuInit: UNKNOWN ERROR (303)\n",
      "2022-08-06 17:35:41.643456: I tensorflow/stream_executor/cuda/cuda_diagnostics.cc:156] kernel driver does not appear to be running on this host (36d150b67fb7): /proc/driver/nvidia/version does not exist\n",
      "2022-08-06 17:35:41.646626: I tensorflow/core/platform/cpu_feature_guard.cc:142] This TensorFlow binary is optimized with oneAPI Deep Neural Network Library (oneDNN) to use the following CPU instructions in performance-critical operations:  AVX2 FMA\n",
      "To enable them in other operations, rebuild TensorFlow with the appropriate compiler flags.\n",
      "2022-08-06 17:35:41.647767: I tensorflow/compiler/jit/xla_gpu_device.cc:99] Not creating XLA devices, tf_xla_enable_xla_devices not set\n",
      "2022-08-06 17:35:41.673748: I tensorflow/core/distributed_runtime/rpc/grpc_channel.cc:301] Initialize GrpcChannelCache for job worker -> {0 -> 10.0.0.2:8470}\n",
      "2022-08-06 17:35:41.673809: I tensorflow/core/distributed_runtime/rpc/grpc_channel.cc:301] Initialize GrpcChannelCache for job localhost -> {0 -> localhost:30019}\n",
      "2022-08-06 17:35:41.699160: I tensorflow/core/distributed_runtime/rpc/grpc_channel.cc:301] Initialize GrpcChannelCache for job worker -> {0 -> 10.0.0.2:8470}\n",
      "2022-08-06 17:35:41.699221: I tensorflow/core/distributed_runtime/rpc/grpc_channel.cc:301] Initialize GrpcChannelCache for job localhost -> {0 -> localhost:30019}\n",
      "2022-08-06 17:35:41.700330: I tensorflow/core/distributed_runtime/rpc/grpc_server_lib.cc:411] Started server with target: grpc://localhost:30019\n"
     ]
    }
   ],
   "source": [
    "# detect and init the TPU\n",
    "tpu = tf.distribute.cluster_resolver.TPUClusterResolver.connect()\n",
    "# instantiate a distribution strategy\n",
    "tpu_strategy = tf.distribute.experimental.TPUStrategy(tpu)"
   ]
  },
  {
   "cell_type": "code",
   "execution_count": 16,
   "id": "3c2948e6",
   "metadata": {
    "execution": {
     "iopub.execute_input": "2022-08-06T17:35:47.597121Z",
     "iopub.status.busy": "2022-08-06T17:35:47.596439Z",
     "iopub.status.idle": "2022-08-06T17:35:48.790609Z",
     "shell.execute_reply": "2022-08-06T17:35:48.789969Z",
     "shell.execute_reply.started": "2022-08-06T17:21:51.722449Z"
    },
    "papermill": {
     "duration": 1.2369,
     "end_time": "2022-08-06T17:35:48.790749",
     "exception": false,
     "start_time": "2022-08-06T17:35:47.553849",
     "status": "completed"
    },
    "tags": []
   },
   "outputs": [],
   "source": [
    "# instantiating the model in the strategy scope creates the model on the TPU\n",
    "with tpu_strategy.scope():\n",
    "    model=keras.Sequential([layers.Dense(units=338,activation=\"relu\",input_shape=[169]),layers.BatchNormalization(),layers.Dense(units=676,activation=\"relu\"),layers.BatchNormalization(),layers.Dense(units=1352,activation=\"relu\",kernel_regularizer=keras.regularizers.l1_l2(0.001)),layers.BatchNormalization(),layers.Dense(units=676,activation=\"relu\",kernel_regularizer=keras.regularizers.l1_l2(0.001)),layers.BatchNormalization(),layers.Dense(units=338,activation=\"relu\",kernel_regularizer=keras.regularizers.l1_l2(0.01)),layers.BatchNormalization(),layers.Dense(units=1,activation=\"sigmoid\")])"
   ]
  },
  {
   "cell_type": "code",
   "execution_count": 17,
   "id": "92b5bf32",
   "metadata": {
    "execution": {
     "iopub.execute_input": "2022-08-06T17:35:48.872539Z",
     "iopub.status.busy": "2022-08-06T17:35:48.871581Z",
     "iopub.status.idle": "2022-08-06T17:35:48.901241Z",
     "shell.execute_reply": "2022-08-06T17:35:48.900711Z",
     "shell.execute_reply.started": "2022-08-06T17:21:52.874676Z"
    },
    "papermill": {
     "duration": 0.074065,
     "end_time": "2022-08-06T17:35:48.901401",
     "exception": false,
     "start_time": "2022-08-06T17:35:48.827336",
     "status": "completed"
    },
    "tags": []
   },
   "outputs": [],
   "source": [
    "model.compile(loss=\"binary_crossentropy\",optimizer=keras.optimizers.Adam(learning_rate=0.00005))"
   ]
  },
  {
   "cell_type": "code",
   "execution_count": 18,
   "id": "55040d4e",
   "metadata": {
    "execution": {
     "iopub.execute_input": "2022-08-06T17:35:48.979104Z",
     "iopub.status.busy": "2022-08-06T17:35:48.978406Z",
     "iopub.status.idle": "2022-08-06T17:35:48.982242Z",
     "shell.execute_reply": "2022-08-06T17:35:48.982662Z",
     "shell.execute_reply.started": "2022-08-06T17:21:52.912679Z"
    },
    "papermill": {
     "duration": 0.045582,
     "end_time": "2022-08-06T17:35:48.982812",
     "exception": false,
     "start_time": "2022-08-06T17:35:48.937230",
     "status": "completed"
    },
    "tags": []
   },
   "outputs": [],
   "source": [
    "early_stopping = EarlyStopping(\n",
    "    monitor='val_loss',\n",
    "    min_delta=0.001, # minimium amount of change to count as an improvement\n",
    "    patience=20, # how many epochs to wait before stopping\n",
    "    restore_best_weights=True,\n",
    ")"
   ]
  },
  {
   "cell_type": "code",
   "execution_count": 19,
   "id": "3f49f50d",
   "metadata": {
    "execution": {
     "iopub.execute_input": "2022-08-06T17:35:49.066696Z",
     "iopub.status.busy": "2022-08-06T17:35:49.065800Z",
     "iopub.status.idle": "2022-08-06T17:40:27.544913Z",
     "shell.execute_reply": "2022-08-06T17:40:27.545724Z",
     "shell.execute_reply.started": "2022-08-06T17:21:52.919688Z"
    },
    "papermill": {
     "duration": 278.527231,
     "end_time": "2022-08-06T17:40:27.546014",
     "exception": false,
     "start_time": "2022-08-06T17:35:49.018783",
     "status": "completed"
    },
    "tags": []
   },
   "outputs": [
    {
     "name": "stderr",
     "output_type": "stream",
     "text": [
      "2022-08-06 17:35:53.020300: W tensorflow/core/framework/cpu_allocator_impl.cc:80] Allocation of 1308741070 exceeds 10% of free system memory.\n"
     ]
    },
    {
     "name": "stdout",
     "output_type": "stream",
     "text": [
      "Epoch 1/200\n",
      "97/97 [==============================] - ETA: 0s - loss: 165.4256"
     ]
    },
    {
     "name": "stderr",
     "output_type": "stream",
     "text": [
      "2022-08-06 17:36:14.933191: W tensorflow/core/framework/cpu_allocator_impl.cc:80] Allocation of 560889368 exceeds 10% of free system memory.\n"
     ]
    },
    {
     "name": "stdout",
     "output_type": "stream",
     "text": [
      "97/97 [==============================] - 21s 137ms/step - loss: 165.3757 - val_loss: 146.5376\n",
      "Epoch 2/200\n",
      "97/97 [==============================] - 3s 27ms/step - loss: 146.7451 - val_loss: 129.9213\n",
      "Epoch 3/200\n",
      "97/97 [==============================] - 3s 26ms/step - loss: 129.2501 - val_loss: 113.4459\n",
      "Epoch 4/200\n",
      "97/97 [==============================] - 3s 26ms/step - loss: 112.4401 - val_loss: 97.7558\n",
      "Epoch 5/200\n",
      "97/97 [==============================] - 3s 28ms/step - loss: 96.7044 - val_loss: 83.1841\n",
      "Epoch 6/200\n",
      "97/97 [==============================] - 3s 27ms/step - loss: 82.1362 - val_loss: 69.8855\n",
      "Epoch 7/200\n",
      "97/97 [==============================] - 3s 27ms/step - loss: 68.8804 - val_loss: 57.9207\n",
      "Epoch 8/200\n",
      "97/97 [==============================] - 3s 27ms/step - loss: 56.9681 - val_loss: 47.3047\n",
      "Epoch 9/200\n",
      "97/97 [==============================] - 3s 27ms/step - loss: 46.4521 - val_loss: 38.0247\n",
      "Epoch 10/200\n",
      "97/97 [==============================] - 3s 26ms/step - loss: 37.3093 - val_loss: 30.0462\n",
      "Epoch 11/200\n",
      "97/97 [==============================] - 3s 27ms/step - loss: 29.4755 - val_loss: 23.3525\n",
      "Epoch 12/200\n",
      "97/97 [==============================] - 3s 27ms/step - loss: 22.9197 - val_loss: 17.8387\n",
      "Epoch 13/200\n",
      "97/97 [==============================] - 3s 27ms/step - loss: 17.5778 - val_loss: 13.4298\n",
      "Epoch 14/200\n",
      "97/97 [==============================] - 3s 27ms/step - loss: 13.3054 - val_loss: 9.9828\n",
      "Epoch 15/200\n",
      "97/97 [==============================] - 3s 27ms/step - loss: 9.9950 - val_loss: 7.3706\n",
      "Epoch 16/200\n",
      "97/97 [==============================] - 3s 27ms/step - loss: 7.5428 - val_loss: 5.5646\n",
      "Epoch 17/200\n",
      "97/97 [==============================] - 3s 27ms/step - loss: 5.8389 - val_loss: 4.3521\n",
      "Epoch 18/200\n",
      "97/97 [==============================] - 3s 27ms/step - loss: 4.6974 - val_loss: 3.5441\n",
      "Epoch 19/200\n",
      "97/97 [==============================] - 3s 26ms/step - loss: 3.9100 - val_loss: 2.9975\n",
      "Epoch 20/200\n",
      "97/97 [==============================] - 3s 27ms/step - loss: 3.3401 - val_loss: 2.5453\n",
      "Epoch 21/200\n",
      "97/97 [==============================] - 3s 27ms/step - loss: 2.8696 - val_loss: 2.2320\n",
      "Epoch 22/200\n",
      "97/97 [==============================] - 3s 27ms/step - loss: 2.5262 - val_loss: 1.9716\n",
      "Epoch 23/200\n",
      "97/97 [==============================] - 3s 27ms/step - loss: 2.2349 - val_loss: 1.8348\n",
      "Epoch 24/200\n",
      "97/97 [==============================] - 3s 27ms/step - loss: 2.0240 - val_loss: 1.6340\n",
      "Epoch 25/200\n",
      "97/97 [==============================] - 3s 27ms/step - loss: 1.8272 - val_loss: 1.4659\n",
      "Epoch 26/200\n",
      "97/97 [==============================] - 3s 27ms/step - loss: 1.6832 - val_loss: 1.3847\n",
      "Epoch 27/200\n",
      "97/97 [==============================] - 3s 27ms/step - loss: 1.5659 - val_loss: 1.3050\n",
      "Epoch 28/200\n",
      "97/97 [==============================] - 3s 27ms/step - loss: 1.4639 - val_loss: 1.1801\n",
      "Epoch 29/200\n",
      "97/97 [==============================] - 3s 27ms/step - loss: 1.3921 - val_loss: 1.1189\n",
      "Epoch 30/200\n",
      "97/97 [==============================] - 3s 30ms/step - loss: 1.3213 - val_loss: 1.0922\n",
      "Epoch 31/200\n",
      "97/97 [==============================] - 3s 27ms/step - loss: 1.2666 - val_loss: 1.0531\n",
      "Epoch 32/200\n",
      "97/97 [==============================] - 3s 27ms/step - loss: 1.2239 - val_loss: 0.9882\n",
      "Epoch 33/200\n",
      "97/97 [==============================] - 3s 27ms/step - loss: 1.1827 - val_loss: 0.9543\n",
      "Epoch 34/200\n",
      "97/97 [==============================] - 3s 27ms/step - loss: 1.1483 - val_loss: 0.9229\n",
      "Epoch 35/200\n",
      "97/97 [==============================] - 3s 27ms/step - loss: 1.1205 - val_loss: 0.9301\n",
      "Epoch 36/200\n",
      "97/97 [==============================] - 3s 27ms/step - loss: 1.0915 - val_loss: 0.8919\n",
      "Epoch 37/200\n",
      "97/97 [==============================] - 3s 27ms/step - loss: 1.0701 - val_loss: 0.8810\n",
      "Epoch 38/200\n",
      "97/97 [==============================] - 3s 27ms/step - loss: 1.0484 - val_loss: 0.8400\n",
      "Epoch 39/200\n",
      "97/97 [==============================] - 3s 27ms/step - loss: 1.0328 - val_loss: 0.8428\n",
      "Epoch 40/200\n",
      "97/97 [==============================] - 3s 27ms/step - loss: 1.0136 - val_loss: 0.8355\n",
      "Epoch 41/200\n",
      "97/97 [==============================] - 3s 27ms/step - loss: 0.9994 - val_loss: 0.8088\n",
      "Epoch 42/200\n",
      "97/97 [==============================] - 3s 27ms/step - loss: 0.9897 - val_loss: 0.7864\n",
      "Epoch 43/200\n",
      "97/97 [==============================] - 3s 27ms/step - loss: 0.9736 - val_loss: 0.7990\n",
      "Epoch 44/200\n",
      "97/97 [==============================] - 3s 27ms/step - loss: 0.9613 - val_loss: 0.7679\n",
      "Epoch 45/200\n",
      "97/97 [==============================] - 3s 27ms/step - loss: 0.9535 - val_loss: 0.7629\n",
      "Epoch 46/200\n",
      "97/97 [==============================] - 3s 27ms/step - loss: 0.9433 - val_loss: 0.7739\n",
      "Epoch 47/200\n",
      "97/97 [==============================] - 3s 27ms/step - loss: 0.9337 - val_loss: 0.7409\n",
      "Epoch 48/200\n",
      "97/97 [==============================] - 3s 26ms/step - loss: 0.9265 - val_loss: 0.7345\n",
      "Epoch 49/200\n",
      "97/97 [==============================] - 3s 27ms/step - loss: 0.9168 - val_loss: 0.7484\n",
      "Epoch 50/200\n",
      "97/97 [==============================] - 3s 27ms/step - loss: 0.9095 - val_loss: 0.7349\n",
      "Epoch 51/200\n",
      "97/97 [==============================] - 3s 27ms/step - loss: 0.9030 - val_loss: 0.7161\n",
      "Epoch 52/200\n",
      "97/97 [==============================] - 3s 27ms/step - loss: 0.8967 - val_loss: 0.6878\n",
      "Epoch 53/200\n",
      "97/97 [==============================] - 3s 27ms/step - loss: 0.8921 - val_loss: 0.6958\n",
      "Epoch 54/200\n",
      "97/97 [==============================] - 3s 28ms/step - loss: 0.8836 - val_loss: 0.6964\n",
      "Epoch 55/200\n",
      "97/97 [==============================] - 3s 28ms/step - loss: 0.8774 - val_loss: 0.6792\n",
      "Epoch 56/200\n",
      "97/97 [==============================] - 3s 27ms/step - loss: 0.8733 - val_loss: 0.6668\n",
      "Epoch 57/200\n",
      "97/97 [==============================] - 3s 28ms/step - loss: 0.8678 - val_loss: 0.7068\n",
      "Epoch 58/200\n",
      "97/97 [==============================] - 3s 29ms/step - loss: 0.8655 - val_loss: 0.6845\n",
      "Epoch 59/200\n",
      "97/97 [==============================] - 3s 28ms/step - loss: 0.8580 - val_loss: 0.6723\n",
      "Epoch 60/200\n",
      "97/97 [==============================] - 3s 27ms/step - loss: 0.8543 - val_loss: 0.6593\n",
      "Epoch 61/200\n",
      "97/97 [==============================] - 3s 28ms/step - loss: 0.8512 - val_loss: 0.6903\n",
      "Epoch 62/200\n",
      "97/97 [==============================] - 3s 28ms/step - loss: 0.8473 - val_loss: 0.6958\n",
      "Epoch 63/200\n",
      "97/97 [==============================] - 3s 27ms/step - loss: 0.8435 - val_loss: 0.6777\n",
      "Epoch 64/200\n",
      "97/97 [==============================] - 3s 28ms/step - loss: 0.8414 - val_loss: 0.6532\n",
      "Epoch 65/200\n",
      "97/97 [==============================] - 3s 27ms/step - loss: 0.8363 - val_loss: 0.6816\n",
      "Epoch 66/200\n",
      "97/97 [==============================] - 3s 28ms/step - loss: 0.8329 - val_loss: 0.6870\n",
      "Epoch 67/200\n",
      "97/97 [==============================] - 3s 27ms/step - loss: 0.8299 - val_loss: 0.6777\n",
      "Epoch 68/200\n",
      "97/97 [==============================] - 3s 32ms/step - loss: 0.8279 - val_loss: 0.6379\n",
      "Epoch 69/200\n",
      "97/97 [==============================] - 3s 28ms/step - loss: 0.8246 - val_loss: 0.6240\n",
      "Epoch 70/200\n",
      "97/97 [==============================] - 3s 27ms/step - loss: 0.8228 - val_loss: 0.6763\n",
      "Epoch 71/200\n",
      "97/97 [==============================] - 3s 28ms/step - loss: 0.8203 - val_loss: 0.6152\n",
      "Epoch 72/200\n",
      "97/97 [==============================] - 3s 27ms/step - loss: 0.8174 - val_loss: 0.6308\n",
      "Epoch 73/200\n",
      "97/97 [==============================] - 3s 27ms/step - loss: 0.8148 - val_loss: 0.6152\n",
      "Epoch 74/200\n",
      "97/97 [==============================] - 3s 28ms/step - loss: 0.8118 - val_loss: 0.6394\n",
      "Epoch 75/200\n",
      "97/97 [==============================] - 3s 27ms/step - loss: 0.8090 - val_loss: 0.6338\n",
      "Epoch 76/200\n",
      "97/97 [==============================] - 3s 27ms/step - loss: 0.8058 - val_loss: 0.6263\n",
      "Epoch 77/200\n",
      "97/97 [==============================] - 3s 27ms/step - loss: 0.8047 - val_loss: 0.6600\n",
      "Epoch 78/200\n",
      "97/97 [==============================] - 3s 27ms/step - loss: 0.8018 - val_loss: 0.6253\n",
      "Epoch 79/200\n",
      "97/97 [==============================] - 3s 27ms/step - loss: 0.8000 - val_loss: 0.6623\n",
      "Epoch 80/200\n",
      "97/97 [==============================] - 3s 27ms/step - loss: 0.7971 - val_loss: 0.6419\n",
      "Epoch 81/200\n",
      "97/97 [==============================] - 3s 28ms/step - loss: 0.7954 - val_loss: 0.6405\n",
      "Epoch 82/200\n",
      "97/97 [==============================] - 3s 27ms/step - loss: 0.7928 - val_loss: 0.6551\n",
      "Epoch 83/200\n",
      "97/97 [==============================] - 3s 27ms/step - loss: 0.7904 - val_loss: 0.6392\n",
      "Epoch 84/200\n",
      "97/97 [==============================] - 3s 28ms/step - loss: 0.7867 - val_loss: 0.6526\n",
      "Epoch 85/200\n",
      "97/97 [==============================] - 3s 28ms/step - loss: 0.7874 - val_loss: 0.6309\n",
      "Epoch 86/200\n",
      "97/97 [==============================] - 3s 29ms/step - loss: 0.7824 - val_loss: 0.6464\n",
      "Epoch 87/200\n",
      "97/97 [==============================] - 3s 27ms/step - loss: 0.7811 - val_loss: 0.6599\n",
      "Epoch 88/200\n",
      "97/97 [==============================] - 3s 27ms/step - loss: 0.7785 - val_loss: 0.6507\n",
      "Epoch 89/200\n",
      "97/97 [==============================] - 3s 27ms/step - loss: 0.7785 - val_loss: 0.6339\n",
      "Epoch 90/200\n",
      "97/97 [==============================] - 3s 28ms/step - loss: 0.7761 - val_loss: 0.6441\n",
      "Epoch 91/200\n",
      "97/97 [==============================] - 3s 27ms/step - loss: 0.7720 - val_loss: 0.6350\n"
     ]
    }
   ],
   "source": [
    "history=model.fit(x=train_x,y=train_y,batch_size=40000,epochs=200,validation_split=0.3,use_multiprocessing=True,class_weight={0:20,1:1},callbacks=[early_stopping],shuffle=True,validation_batch_size=17000)"
   ]
  },
  {
   "cell_type": "code",
   "execution_count": 20,
   "id": "b21608f1",
   "metadata": {
    "execution": {
     "iopub.execute_input": "2022-08-06T17:40:28.940882Z",
     "iopub.status.busy": "2022-08-06T17:40:28.933867Z",
     "iopub.status.idle": "2022-08-06T17:40:29.249870Z",
     "shell.execute_reply": "2022-08-06T17:40:29.249145Z",
     "shell.execute_reply.started": "2022-08-06T17:27:21.638866Z"
    },
    "papermill": {
     "duration": 1.008594,
     "end_time": "2022-08-06T17:40:29.250025",
     "exception": false,
     "start_time": "2022-08-06T17:40:28.241431",
     "status": "completed"
    },
    "tags": []
   },
   "outputs": [
    {
     "name": "stdout",
     "output_type": "stream",
     "text": [
      "Minimum validation loss: 0.6152225136756897\n"
     ]
    },
    {
     "data": {
      "image/png": "[encoded data removed]",
      "text/plain": [
       "<Figure size 432x288 with 1 Axes>"
      ]
     },
     "metadata": {
      "needs_background": "light"
     },
     "output_type": "display_data"
    }
   ],
   "source": [
    "history_df = pd.DataFrame(history.history)\n",
    "history_df.loc[:, ['loss', 'val_loss']].plot();\n",
    "print(\"Minimum validation loss: {}\".format(history_df['val_loss'].min()))"
   ]
  },
  {
   "cell_type": "code",
   "execution_count": 21,
   "id": "e976e2b0",
   "metadata": {
    "execution": {
     "iopub.execute_input": "2022-08-06T17:40:30.636280Z",
     "iopub.status.busy": "2022-08-06T17:40:30.635568Z",
     "iopub.status.idle": "2022-08-06T17:40:30.647675Z",
     "shell.execute_reply": "2022-08-06T17:40:30.646729Z",
     "shell.execute_reply.started": "2022-08-06T17:27:21.969511Z"
    },
    "papermill": {
     "duration": 0.708792,
     "end_time": "2022-08-06T17:40:30.647881",
     "exception": false,
     "start_time": "2022-08-06T17:40:29.939089",
     "status": "completed"
    },
    "tags": []
   },
   "outputs": [
    {
     "name": "stdout",
     "output_type": "stream",
     "text": [
      "Model: \"sequential\"\n",
      "_________________________________________________________________\n",
      "Layer (type)                 Output Shape              Param #   \n",
      "=================================================================\n",
      "dense (Dense)                (None, 338)               57460     \n",
      "_________________________________________________________________\n",
      "batch_normalization (BatchNo (None, 338)               1352      \n",
      "_________________________________________________________________\n",
      "dense_1 (Dense)              (None, 676)               229164    \n",
      "_________________________________________________________________\n",
      "batch_normalization_1 (Batch (None, 676)               2704      \n",
      "_________________________________________________________________\n",
      "dense_2 (Dense)              (None, 1352)              915304    \n",
      "_________________________________________________________________\n",
      "batch_normalization_2 (Batch (None, 1352)              5408      \n",
      "_________________________________________________________________\n",
      "dense_3 (Dense)              (None, 676)               914628    \n",
      "_________________________________________________________________\n",
      "batch_normalization_3 (Batch (None, 676)               2704      \n",
      "_________________________________________________________________\n",
      "dense_4 (Dense)              (None, 338)               228826    \n",
      "_________________________________________________________________\n",
      "batch_normalization_4 (Batch (None, 338)               1352      \n",
      "_________________________________________________________________\n",
      "dense_5 (Dense)              (None, 1)                 339       \n",
      "=================================================================\n",
      "Total params: 2,359,241\n",
      "Trainable params: 2,352,481\n",
      "Non-trainable params: 6,760\n",
      "_________________________________________________________________\n"
     ]
    }
   ],
   "source": [
    "model.summary()"
   ]
  },
  {
   "cell_type": "code",
   "execution_count": 22,
   "id": "f841934e",
   "metadata": {
    "execution": {
     "iopub.execute_input": "2022-08-06T17:40:32.049056Z",
     "iopub.status.busy": "2022-08-06T17:40:32.048415Z",
     "iopub.status.idle": "2022-08-06T17:40:32.051601Z",
     "shell.execute_reply": "2022-08-06T17:40:32.052248Z",
     "shell.execute_reply.started": "2022-08-06T17:27:21.983704Z"
    },
    "papermill": {
     "duration": 0.705506,
     "end_time": "2022-08-06T17:40:32.052481",
     "exception": false,
     "start_time": "2022-08-06T17:40:31.346975",
     "status": "completed"
    },
    "tags": []
   },
   "outputs": [],
   "source": [
    "del train_x\n",
    "del train_y"
   ]
  },
  {
   "cell_type": "code",
   "execution_count": 23,
   "id": "abf78645",
   "metadata": {
    "execution": {
     "iopub.execute_input": "2022-08-06T17:40:33.465693Z",
     "iopub.status.busy": "2022-08-06T17:40:33.464987Z",
     "iopub.status.idle": "2022-08-06T17:40:33.879330Z",
     "shell.execute_reply": "2022-08-06T17:40:33.878696Z",
     "shell.execute_reply.started": "2022-08-06T17:27:21.989297Z"
    },
    "papermill": {
     "duration": 1.112524,
     "end_time": "2022-08-06T17:40:33.879549",
     "exception": false,
     "start_time": "2022-08-06T17:40:32.767025",
     "status": "completed"
    },
    "tags": []
   },
   "outputs": [
    {
     "data": {
      "text/plain": [
       "91869"
      ]
     },
     "execution_count": 23,
     "metadata": {},
     "output_type": "execute_result"
    }
   ],
   "source": [
    "gc.collect()"
   ]
  },
  {
   "cell_type": "markdown",
   "id": "3878089a",
   "metadata": {
    "papermill": {
     "duration": 0.698047,
     "end_time": "2022-08-06T17:40:35.312151",
     "exception": false,
     "start_time": "2022-08-06T17:40:34.614104",
     "status": "completed"
    },
    "tags": []
   },
   "source": [
    "Here we free up space as training data is not needed now."
   ]
  },
  {
   "cell_type": "markdown",
   "id": "592be928",
   "metadata": {
    "papermill": {
     "duration": 0.6823,
     "end_time": "2022-08-06T17:40:36.697214",
     "exception": false,
     "start_time": "2022-08-06T17:40:36.014914",
     "status": "completed"
    },
    "tags": []
   },
   "source": [
    "# 4 Load the test data"
   ]
  },
  {
   "cell_type": "code",
   "execution_count": 24,
   "id": "0dfe3bee",
   "metadata": {
    "execution": {
     "iopub.execute_input": "2022-08-06T17:40:38.082880Z",
     "iopub.status.busy": "2022-08-06T17:40:38.082019Z",
     "iopub.status.idle": "2022-08-06T17:41:12.983506Z",
     "shell.execute_reply": "2022-08-06T17:41:12.982754Z",
     "shell.execute_reply.started": "2022-08-06T17:27:22.296947Z"
    },
    "papermill": {
     "duration": 35.59718,
     "end_time": "2022-08-06T17:41:12.983663",
     "exception": false,
     "start_time": "2022-08-06T17:40:37.386483",
     "status": "completed"
    },
    "tags": []
   },
   "outputs": [],
   "source": [
    "test=pd.read_csv(\"../input/test-7/test_7.csv.gzip\",compression=\"gzip\")"
   ]
  },
  {
   "cell_type": "code",
   "execution_count": 25,
   "id": "98c09440",
   "metadata": {
    "execution": {
     "iopub.execute_input": "2022-08-06T17:41:14.374026Z",
     "iopub.status.busy": "2022-08-06T17:41:14.373107Z",
     "iopub.status.idle": "2022-08-06T17:41:14.405073Z",
     "shell.execute_reply": "2022-08-06T17:41:14.404325Z",
     "shell.execute_reply.started": "2022-08-06T17:27:57.001469Z"
    },
    "papermill": {
     "duration": 0.73141,
     "end_time": "2022-08-06T17:41:14.405249",
     "exception": false,
     "start_time": "2022-08-06T17:41:13.673839",
     "status": "completed"
    },
    "tags": []
   },
   "outputs": [
    {
     "data": {
      "text/html": [
       "<div>\n",
       "<style scoped>\n",
       "    .dataframe tbody tr th:only-of-type {\n",
       "        vertical-align: middle;\n",
       "    }\n",
       "\n",
       "    .dataframe tbody tr th {\n",
       "        vertical-align: top;\n",
       "    }\n",
       "\n",
       "    .dataframe thead th {\n",
       "        text-align: right;\n",
       "    }\n",
       "</style>\n",
       "<table border=\"1\" class=\"dataframe\">\n",
       "  <thead>\n",
       "    <tr style=\"text-align: right;\">\n",
       "      <th></th>\n",
       "      <th>Unnamed: 0</th>\n",
       "      <th>customer_ID</th>\n",
       "      <th>S_2</th>\n",
       "      <th>P_2</th>\n",
       "      <th>D_39</th>\n",
       "      <th>B_1</th>\n",
       "      <th>B_2</th>\n",
       "      <th>R_1</th>\n",
       "      <th>D_41</th>\n",
       "      <th>B_3</th>\n",
       "      <th>...</th>\n",
       "      <th>D_135</th>\n",
       "      <th>D_136</th>\n",
       "      <th>D_137</th>\n",
       "      <th>D_138</th>\n",
       "      <th>D_139</th>\n",
       "      <th>D_140</th>\n",
       "      <th>D_141</th>\n",
       "      <th>D_143</th>\n",
       "      <th>D_144</th>\n",
       "      <th>D_145</th>\n",
       "    </tr>\n",
       "  </thead>\n",
       "  <tbody>\n",
       "    <tr>\n",
       "      <th>0</th>\n",
       "      <td>0</td>\n",
       "      <td>e669dd27dd84dfc5bd8ee32baf39a2ea89252657ef17ad...</td>\n",
       "      <td>0.2754</td>\n",
       "      <td>0.5510</td>\n",
       "      <td>0.05000</td>\n",
       "      <td>0.01288</td>\n",
       "      <td>0.4373</td>\n",
       "      <td>0.0</td>\n",
       "      <td>0.0</td>\n",
       "      <td>0.002506</td>\n",
       "      <td>...</td>\n",
       "      <td>-0.5</td>\n",
       "      <td>-0.125</td>\n",
       "      <td>-0.5</td>\n",
       "      <td>-0.1428</td>\n",
       "      <td>0.0</td>\n",
       "      <td>0.0</td>\n",
       "      <td>0.0</td>\n",
       "      <td>0.0</td>\n",
       "      <td>0.007385</td>\n",
       "      <td>0.0</td>\n",
       "    </tr>\n",
       "    <tr>\n",
       "      <th>1</th>\n",
       "      <td>1</td>\n",
       "      <td>e669dd27dd84dfc5bd8ee32baf39a2ea89252657ef17ad...</td>\n",
       "      <td>0.2776</td>\n",
       "      <td>0.6180</td>\n",
       "      <td>0.00000</td>\n",
       "      <td>0.01823</td>\n",
       "      <td>0.5425</td>\n",
       "      <td>0.0</td>\n",
       "      <td>0.0</td>\n",
       "      <td>0.007423</td>\n",
       "      <td>...</td>\n",
       "      <td>-0.5</td>\n",
       "      <td>-0.125</td>\n",
       "      <td>-0.5</td>\n",
       "      <td>-0.1428</td>\n",
       "      <td>0.0</td>\n",
       "      <td>0.0</td>\n",
       "      <td>0.0</td>\n",
       "      <td>0.0</td>\n",
       "      <td>0.004894</td>\n",
       "      <td>0.0</td>\n",
       "    </tr>\n",
       "    <tr>\n",
       "      <th>2</th>\n",
       "      <td>2</td>\n",
       "      <td>e669dd27dd84dfc5bd8ee32baf39a2ea89252657ef17ad...</td>\n",
       "      <td>0.2798</td>\n",
       "      <td>0.6130</td>\n",
       "      <td>0.05554</td>\n",
       "      <td>0.02713</td>\n",
       "      <td>0.5410</td>\n",
       "      <td>0.0</td>\n",
       "      <td>0.0</td>\n",
       "      <td>0.005726</td>\n",
       "      <td>...</td>\n",
       "      <td>-0.5</td>\n",
       "      <td>-0.125</td>\n",
       "      <td>-0.5</td>\n",
       "      <td>-0.1428</td>\n",
       "      <td>0.0</td>\n",
       "      <td>0.0</td>\n",
       "      <td>0.0</td>\n",
       "      <td>0.0</td>\n",
       "      <td>0.002337</td>\n",
       "      <td>0.0</td>\n",
       "    </tr>\n",
       "    <tr>\n",
       "      <th>3</th>\n",
       "      <td>3</td>\n",
       "      <td>e669dd27dd84dfc5bd8ee32baf39a2ea89252657ef17ad...</td>\n",
       "      <td>0.2820</td>\n",
       "      <td>0.6190</td>\n",
       "      <td>0.06110</td>\n",
       "      <td>0.04608</td>\n",
       "      <td>0.5390</td>\n",
       "      <td>0.0</td>\n",
       "      <td>0.0</td>\n",
       "      <td>0.002390</td>\n",
       "      <td>...</td>\n",
       "      <td>-0.5</td>\n",
       "      <td>-0.125</td>\n",
       "      <td>-0.5</td>\n",
       "      <td>-0.1428</td>\n",
       "      <td>0.0</td>\n",
       "      <td>0.0</td>\n",
       "      <td>0.0</td>\n",
       "      <td>0.0</td>\n",
       "      <td>0.001159</td>\n",
       "      <td>0.0</td>\n",
       "    </tr>\n",
       "    <tr>\n",
       "      <th>4</th>\n",
       "      <td>4</td>\n",
       "      <td>e669dd27dd84dfc5bd8ee32baf39a2ea89252657ef17ad...</td>\n",
       "      <td>0.2842</td>\n",
       "      <td>0.6143</td>\n",
       "      <td>0.00000</td>\n",
       "      <td>0.00558</td>\n",
       "      <td>0.5430</td>\n",
       "      <td>0.0</td>\n",
       "      <td>0.0</td>\n",
       "      <td>0.002780</td>\n",
       "      <td>...</td>\n",
       "      <td>-0.5</td>\n",
       "      <td>-0.125</td>\n",
       "      <td>-0.5</td>\n",
       "      <td>-0.1428</td>\n",
       "      <td>0.0</td>\n",
       "      <td>0.0</td>\n",
       "      <td>0.0</td>\n",
       "      <td>0.0</td>\n",
       "      <td>0.007256</td>\n",
       "      <td>0.0</td>\n",
       "    </tr>\n",
       "  </tbody>\n",
       "</table>\n",
       "<p>5 rows × 171 columns</p>\n",
       "</div>"
      ],
      "text/plain": [
       "   Unnamed: 0                                        customer_ID     S_2  \\\n",
       "0           0  e669dd27dd84dfc5bd8ee32baf39a2ea89252657ef17ad...  0.2754   \n",
       "1           1  e669dd27dd84dfc5bd8ee32baf39a2ea89252657ef17ad...  0.2776   \n",
       "2           2  e669dd27dd84dfc5bd8ee32baf39a2ea89252657ef17ad...  0.2798   \n",
       "3           3  e669dd27dd84dfc5bd8ee32baf39a2ea89252657ef17ad...  0.2820   \n",
       "4           4  e669dd27dd84dfc5bd8ee32baf39a2ea89252657ef17ad...  0.2842   \n",
       "\n",
       "      P_2     D_39      B_1     B_2  R_1  D_41       B_3  ...  D_135  D_136  \\\n",
       "0  0.5510  0.05000  0.01288  0.4373  0.0   0.0  0.002506  ...   -0.5 -0.125   \n",
       "1  0.6180  0.00000  0.01823  0.5425  0.0   0.0  0.007423  ...   -0.5 -0.125   \n",
       "2  0.6130  0.05554  0.02713  0.5410  0.0   0.0  0.005726  ...   -0.5 -0.125   \n",
       "3  0.6190  0.06110  0.04608  0.5390  0.0   0.0  0.002390  ...   -0.5 -0.125   \n",
       "4  0.6143  0.00000  0.00558  0.5430  0.0   0.0  0.002780  ...   -0.5 -0.125   \n",
       "\n",
       "   D_137   D_138  D_139  D_140  D_141  D_143     D_144  D_145  \n",
       "0   -0.5 -0.1428    0.0    0.0    0.0    0.0  0.007385    0.0  \n",
       "1   -0.5 -0.1428    0.0    0.0    0.0    0.0  0.004894    0.0  \n",
       "2   -0.5 -0.1428    0.0    0.0    0.0    0.0  0.002337    0.0  \n",
       "3   -0.5 -0.1428    0.0    0.0    0.0    0.0  0.001159    0.0  \n",
       "4   -0.5 -0.1428    0.0    0.0    0.0    0.0  0.007256    0.0  \n",
       "\n",
       "[5 rows x 171 columns]"
      ]
     },
     "execution_count": 25,
     "metadata": {},
     "output_type": "execute_result"
    }
   ],
   "source": [
    "test.head()"
   ]
  },
  {
   "cell_type": "code",
   "execution_count": 26,
   "id": "05116691",
   "metadata": {
    "execution": {
     "iopub.execute_input": "2022-08-06T17:41:15.810241Z",
     "iopub.status.busy": "2022-08-06T17:41:15.809212Z",
     "iopub.status.idle": "2022-08-06T17:41:15.815733Z",
     "shell.execute_reply": "2022-08-06T17:41:15.815042Z",
     "shell.execute_reply.started": "2022-08-06T17:27:57.034431Z"
    },
    "papermill": {
     "duration": 0.700377,
     "end_time": "2022-08-06T17:41:15.815881",
     "exception": false,
     "start_time": "2022-08-06T17:41:15.115504",
     "status": "completed"
    },
    "tags": []
   },
   "outputs": [
    {
     "data": {
      "text/plain": [
       "(1136379, 171)"
      ]
     },
     "execution_count": 26,
     "metadata": {},
     "output_type": "execute_result"
    }
   ],
   "source": [
    "test.shape"
   ]
  },
  {
   "cell_type": "code",
   "execution_count": 27,
   "id": "688e970c",
   "metadata": {
    "execution": {
     "iopub.execute_input": "2022-08-06T17:41:17.233824Z",
     "iopub.status.busy": "2022-08-06T17:41:17.232854Z",
     "iopub.status.idle": "2022-08-06T17:41:59.421905Z",
     "shell.execute_reply": "2022-08-06T17:41:59.421260Z",
     "shell.execute_reply.started": "2022-08-06T17:27:57.042157Z"
    },
    "papermill": {
     "duration": 42.888093,
     "end_time": "2022-08-06T17:41:59.422102",
     "exception": false,
     "start_time": "2022-08-06T17:41:16.534009",
     "status": "completed"
    },
    "tags": []
   },
   "outputs": [],
   "source": [
    "for col in test.columns:\n",
    "    if col not in ['customer_ID', 'target']:\n",
    "        test[col]=test[col].astype(\"float16\")"
   ]
  },
  {
   "cell_type": "markdown",
   "id": "a7f1bd83",
   "metadata": {
    "papermill": {
     "duration": 0.798913,
     "end_time": "2022-08-06T17:42:00.909929",
     "exception": false,
     "start_time": "2022-08-06T17:42:00.111016",
     "status": "completed"
    },
    "tags": []
   },
   "source": [
    "# 5 Split the test data"
   ]
  },
  {
   "cell_type": "code",
   "execution_count": 28,
   "id": "4980cd15",
   "metadata": {
    "execution": {
     "iopub.execute_input": "2022-08-06T17:42:02.294861Z",
     "iopub.status.busy": "2022-08-06T17:42:02.293964Z",
     "iopub.status.idle": "2022-08-06T17:42:02.305265Z",
     "shell.execute_reply": "2022-08-06T17:42:02.305814Z",
     "shell.execute_reply.started": "2022-08-06T17:28:39.927410Z"
    },
    "papermill": {
     "duration": 0.700881,
     "end_time": "2022-08-06T17:42:02.305987",
     "exception": false,
     "start_time": "2022-08-06T17:42:01.605106",
     "status": "completed"
    },
    "tags": []
   },
   "outputs": [],
   "source": [
    "customerID=test[\"customer_ID\"].copy()"
   ]
  },
  {
   "cell_type": "code",
   "execution_count": 29,
   "id": "4e6ce08e",
   "metadata": {
    "execution": {
     "iopub.execute_input": "2022-08-06T17:42:03.682650Z",
     "iopub.status.busy": "2022-08-06T17:42:03.681942Z",
     "iopub.status.idle": "2022-08-06T17:42:03.689600Z",
     "shell.execute_reply": "2022-08-06T17:42:03.690087Z",
     "shell.execute_reply.started": "2022-08-06T17:28:39.939281Z"
    },
    "papermill": {
     "duration": 0.697655,
     "end_time": "2022-08-06T17:42:03.690292",
     "exception": false,
     "start_time": "2022-08-06T17:42:02.992637",
     "status": "completed"
    },
    "tags": []
   },
   "outputs": [],
   "source": [
    "del test[\"customer_ID\"]\n",
    "del test[\"Unnamed: 0\"]"
   ]
  },
  {
   "cell_type": "code",
   "execution_count": 30,
   "id": "6084d171",
   "metadata": {
    "execution": {
     "iopub.execute_input": "2022-08-06T17:42:05.308902Z",
     "iopub.status.busy": "2022-08-06T17:42:05.307613Z",
     "iopub.status.idle": "2022-08-06T17:42:05.312697Z",
     "shell.execute_reply": "2022-08-06T17:42:05.312040Z",
     "shell.execute_reply.started": "2022-08-06T17:28:39.952134Z"
    },
    "papermill": {
     "duration": 0.934615,
     "end_time": "2022-08-06T17:42:05.312842",
     "exception": false,
     "start_time": "2022-08-06T17:42:04.378227",
     "status": "completed"
    },
    "tags": []
   },
   "outputs": [
    {
     "data": {
      "text/plain": [
       "21"
      ]
     },
     "execution_count": 30,
     "metadata": {},
     "output_type": "execute_result"
    }
   ],
   "source": [
    "gc.collect()"
   ]
  },
  {
   "cell_type": "markdown",
   "id": "7d3e92a1",
   "metadata": {
    "papermill": {
     "duration": 0.68431,
     "end_time": "2022-08-06T17:42:06.683916",
     "exception": false,
     "start_time": "2022-08-06T17:42:05.999606",
     "status": "completed"
    },
    "tags": []
   },
   "source": [
    "# 5 Fit the Data"
   ]
  },
  {
   "cell_type": "code",
   "execution_count": 31,
   "id": "84b54748",
   "metadata": {
    "execution": {
     "iopub.execute_input": "2022-08-06T17:42:08.110355Z",
     "iopub.status.busy": "2022-08-06T17:42:08.109655Z",
     "iopub.status.idle": "2022-08-06T17:44:17.003141Z",
     "shell.execute_reply": "2022-08-06T17:44:17.003918Z",
     "shell.execute_reply.started": "2022-08-06T17:28:40.193953Z"
    },
    "papermill": {
     "duration": 129.627501,
     "end_time": "2022-08-06T17:44:17.004123",
     "exception": false,
     "start_time": "2022-08-06T17:42:07.376622",
     "status": "completed"
    },
    "tags": []
   },
   "outputs": [
    {
     "name": "stderr",
     "output_type": "stream",
     "text": [
      "2022-08-06 17:42:08.930780: W tensorflow/core/framework/cpu_allocator_impl.cc:80] Allocation of 384096102 exceeds 10% of free system memory.\n"
     ]
    }
   ],
   "source": [
    "target=pd.DataFrame(model.predict(x=test))"
   ]
  },
  {
   "cell_type": "code",
   "execution_count": 32,
   "id": "2254bf26",
   "metadata": {
    "execution": {
     "iopub.execute_input": "2022-08-06T17:44:18.422240Z",
     "iopub.status.busy": "2022-08-06T17:44:18.421094Z",
     "iopub.status.idle": "2022-08-06T17:44:18.441774Z",
     "shell.execute_reply": "2022-08-06T17:44:18.442290Z",
     "shell.execute_reply.started": "2022-08-06T17:30:52.078876Z"
    },
    "papermill": {
     "duration": 0.72444,
     "end_time": "2022-08-06T17:44:18.442465",
     "exception": false,
     "start_time": "2022-08-06T17:44:17.718025",
     "status": "completed"
    },
    "tags": []
   },
   "outputs": [],
   "source": [
    "output=pd.concat([customerID,target],axis=1)"
   ]
  },
  {
   "cell_type": "code",
   "execution_count": 33,
   "id": "7b3f4fcd",
   "metadata": {
    "execution": {
     "iopub.execute_input": "2022-08-06T17:44:19.811439Z",
     "iopub.status.busy": "2022-08-06T17:44:19.810384Z",
     "iopub.status.idle": "2022-08-06T17:44:19.814713Z",
     "shell.execute_reply": "2022-08-06T17:44:19.815279Z",
     "shell.execute_reply.started": "2022-08-06T17:30:52.117244Z"
    },
    "papermill": {
     "duration": 0.688315,
     "end_time": "2022-08-06T17:44:19.815448",
     "exception": false,
     "start_time": "2022-08-06T17:44:19.127133",
     "status": "completed"
    },
    "tags": []
   },
   "outputs": [],
   "source": [
    "output.columns=[\"customer_ID\",\"target\"]"
   ]
  },
  {
   "cell_type": "code",
   "execution_count": 34,
   "id": "33877964",
   "metadata": {
    "execution": {
     "iopub.execute_input": "2022-08-06T17:44:21.192226Z",
     "iopub.status.busy": "2022-08-06T17:44:21.191224Z",
     "iopub.status.idle": "2022-08-06T17:44:25.082758Z",
     "shell.execute_reply": "2022-08-06T17:44:25.081858Z",
     "shell.execute_reply.started": "2022-08-06T17:30:52.123696Z"
    },
    "papermill": {
     "duration": 4.579974,
     "end_time": "2022-08-06T17:44:25.082926",
     "exception": false,
     "start_time": "2022-08-06T17:44:20.502952",
     "status": "completed"
    },
    "tags": []
   },
   "outputs": [],
   "source": [
    "output.to_csv(\"output7.csv\")"
   ]
  },
  {
   "cell_type": "code",
   "execution_count": null,
   "id": "dbaa7382",
   "metadata": {
    "papermill": {
     "duration": 0.685748,
     "end_time": "2022-08-06T17:44:26.463663",
     "exception": false,
     "start_time": "2022-08-06T17:44:25.777915",
     "status": "completed"
    },
    "tags": []
   },
   "outputs": [],
   "source": []
  }
 ],
 "metadata": {
  "kernelspec": {
   "display_name": "Python 3",
   "language": "python",
   "name": "python3"
  },
  "language_info": {
   "codemirror_mode": {
    "name": "ipython",
    "version": 3
   },
   "file_extension": ".py",
   "mimetype": "text/x-python",
   "name": "python",
   "nbconvert_exporter": "python",
   "pygments_lexer": "ipython3",
   "version": "3.7.10"
  },
  "papermill": {
   "default_parameters": {},
   "duration": 720.17975,
   "end_time": "2022-08-06T17:44:30.384876",
   "environment_variables": {},
   "exception": null,
   "input_path": "__notebook__.ipynb",
   "output_path": "__notebook__.ipynb",
   "parameters": {},
   "start_time": "2022-08-06T17:32:30.205126",
   "version": "2.3.3"
  }
 },
 "nbformat": 4,
 "nbformat_minor": 5
}
