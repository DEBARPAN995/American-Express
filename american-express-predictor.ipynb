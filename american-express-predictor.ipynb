{
 "cells": [
  {
   "cell_type": "markdown",
   "id": "329f7da2",
   "metadata": {
    "papermill": {
     "duration": 0.030586,
     "end_time": "2022-08-07T17:27:52.097172",
     "exception": false,
     "start_time": "2022-08-07T17:27:52.066586",
     "status": "completed"
    },
    "tags": []
   },
   "source": [
    "# 1 Loading Libraries and Data"
   ]
  },
  {
   "cell_type": "markdown",
   "id": "5375a8d8",
   "metadata": {
    "papermill": {
     "duration": 0.028173,
     "end_time": "2022-08-07T17:27:52.154150",
     "exception": false,
     "start_time": "2022-08-07T17:27:52.125977",
     "status": "completed"
    },
    "tags": []
   },
   "source": [
    "# 1.1 Loading libraries"
   ]
  },
  {
   "cell_type": "code",
   "execution_count": 1,
   "id": "53cb3311",
   "metadata": {
    "execution": {
     "iopub.execute_input": "2022-08-07T17:27:52.217022Z",
     "iopub.status.busy": "2022-08-07T17:27:52.215826Z",
     "iopub.status.idle": "2022-08-07T17:27:58.447721Z",
     "shell.execute_reply": "2022-08-07T17:27:58.446974Z",
     "shell.execute_reply.started": "2022-08-07T17:26:09.810508Z"
    },
    "papermill": {
     "duration": 6.263712,
     "end_time": "2022-08-07T17:27:58.447911",
     "exception": false,
     "start_time": "2022-08-07T17:27:52.184199",
     "status": "completed"
    },
    "tags": []
   },
   "outputs": [
    {
     "name": "stderr",
     "output_type": "stream",
     "text": [
      "2022-08-07 17:27:53.788760: W tensorflow/stream_executor/platform/default/dso_loader.cc:60] Could not load dynamic library 'libcudart.so.11.0'; dlerror: libcudart.so.11.0: cannot open shared object file: No such file or directory; LD_LIBRARY_PATH: /opt/conda/lib\n",
      "2022-08-07 17:27:53.788876: I tensorflow/stream_executor/cuda/cudart_stub.cc:29] Ignore above cudart dlerror if you do not have a GPU set up on your machine.\n"
     ]
    }
   ],
   "source": [
    "import numpy as np\n",
    "import pandas as pd\n",
    "import matplotlib.pyplot as plt\n",
    "import seaborn as sns\n",
    "import tensorflow as tf\n",
    "from tensorflow import keras\n",
    "from tensorflow.keras import layers\n",
    "from tensorflow.keras.callbacks import EarlyStopping\n",
    "import gc"
   ]
  },
  {
   "cell_type": "markdown",
   "id": "7928734e",
   "metadata": {
    "papermill": {
     "duration": 0.028579,
     "end_time": "2022-08-07T17:27:58.506064",
     "exception": false,
     "start_time": "2022-08-07T17:27:58.477485",
     "status": "completed"
    },
    "tags": []
   },
   "source": [
    "# 1.2 Loading Data"
   ]
  },
  {
   "cell_type": "code",
   "execution_count": 2,
   "id": "32a7a82f",
   "metadata": {
    "execution": {
     "iopub.execute_input": "2022-08-07T17:27:58.567805Z",
     "iopub.status.busy": "2022-08-07T17:27:58.566805Z",
     "iopub.status.idle": "2022-08-07T17:30:54.328078Z",
     "shell.execute_reply": "2022-08-07T17:30:54.327330Z"
    },
    "papermill": {
     "duration": 175.793218,
     "end_time": "2022-08-07T17:30:54.328276",
     "exception": false,
     "start_time": "2022-08-07T17:27:58.535058",
     "status": "completed"
    },
    "tags": []
   },
   "outputs": [],
   "source": [
    "train=pd.read_csv(\"../input/training/train.csv.gzip\",compression=\"gzip\",dtype=\"float16\")"
   ]
  },
  {
   "cell_type": "markdown",
   "id": "241a9bb4",
   "metadata": {
    "papermill": {
     "duration": 0.028813,
     "end_time": "2022-08-07T17:30:54.386661",
     "exception": false,
     "start_time": "2022-08-07T17:30:54.357848",
     "status": "completed"
    },
    "tags": []
   },
   "source": [
    "# 1.3 Data size and structure"
   ]
  },
  {
   "cell_type": "markdown",
   "id": "a2911499",
   "metadata": {
    "papermill": {
     "duration": 0.02837,
     "end_time": "2022-08-07T17:30:54.444055",
     "exception": false,
     "start_time": "2022-08-07T17:30:54.415685",
     "status": "completed"
    },
    "tags": []
   },
   "source": [
    "Here we understant the shape of the table. We found that we have an extra column in the data set. So we need to remove it."
   ]
  },
  {
   "cell_type": "code",
   "execution_count": 3,
   "id": "4b6aa824",
   "metadata": {
    "execution": {
     "iopub.execute_input": "2022-08-07T17:30:54.505594Z",
     "iopub.status.busy": "2022-08-07T17:30:54.504901Z",
     "iopub.status.idle": "2022-08-07T17:30:54.511858Z",
     "shell.execute_reply": "2022-08-07T17:30:54.512369Z"
    },
    "papermill": {
     "duration": 0.039571,
     "end_time": "2022-08-07T17:30:54.512546",
     "exception": false,
     "start_time": "2022-08-07T17:30:54.472975",
     "status": "completed"
    },
    "tags": []
   },
   "outputs": [
    {
     "data": {
      "text/plain": [
       "(5531451, 171)"
      ]
     },
     "execution_count": 3,
     "metadata": {},
     "output_type": "execute_result"
    }
   ],
   "source": [
    "train.shape"
   ]
  },
  {
   "cell_type": "code",
   "execution_count": 4,
   "id": "ff87b7b6",
   "metadata": {
    "execution": {
     "iopub.execute_input": "2022-08-07T17:30:54.575465Z",
     "iopub.status.busy": "2022-08-07T17:30:54.574813Z",
     "iopub.status.idle": "2022-08-07T17:30:54.608942Z",
     "shell.execute_reply": "2022-08-07T17:30:54.609472Z"
    },
    "papermill": {
     "duration": 0.067168,
     "end_time": "2022-08-07T17:30:54.609653",
     "exception": false,
     "start_time": "2022-08-07T17:30:54.542485",
     "status": "completed"
    },
    "tags": []
   },
   "outputs": [
    {
     "data": {
      "text/html": [
       "<div>\n",
       "<style scoped>\n",
       "    .dataframe tbody tr th:only-of-type {\n",
       "        vertical-align: middle;\n",
       "    }\n",
       "\n",
       "    .dataframe tbody tr th {\n",
       "        vertical-align: top;\n",
       "    }\n",
       "\n",
       "    .dataframe thead th {\n",
       "        text-align: right;\n",
       "    }\n",
       "</style>\n",
       "<table border=\"1\" class=\"dataframe\">\n",
       "  <thead>\n",
       "    <tr style=\"text-align: right;\">\n",
       "      <th></th>\n",
       "      <th>Unnamed: 0</th>\n",
       "      <th>target</th>\n",
       "      <th>S_2</th>\n",
       "      <th>P_2</th>\n",
       "      <th>D_39</th>\n",
       "      <th>B_1</th>\n",
       "      <th>B_2</th>\n",
       "      <th>R_1</th>\n",
       "      <th>D_41</th>\n",
       "      <th>B_3</th>\n",
       "      <th>...</th>\n",
       "      <th>D_135</th>\n",
       "      <th>D_136</th>\n",
       "      <th>D_137</th>\n",
       "      <th>D_138</th>\n",
       "      <th>D_139</th>\n",
       "      <th>D_140</th>\n",
       "      <th>D_141</th>\n",
       "      <th>D_143</th>\n",
       "      <th>D_144</th>\n",
       "      <th>D_145</th>\n",
       "    </tr>\n",
       "  </thead>\n",
       "  <tbody>\n",
       "    <tr>\n",
       "      <th>0</th>\n",
       "      <td>0.0</td>\n",
       "      <td>0.0</td>\n",
       "      <td>0.232056</td>\n",
       "      <td>0.638672</td>\n",
       "      <td>0.000000</td>\n",
       "      <td>0.000978</td>\n",
       "      <td>0.392578</td>\n",
       "      <td>0.002834</td>\n",
       "      <td>0.0</td>\n",
       "      <td>0.002096</td>\n",
       "      <td>...</td>\n",
       "      <td>-0.5</td>\n",
       "      <td>-0.125</td>\n",
       "      <td>-0.5</td>\n",
       "      <td>-0.142822</td>\n",
       "      <td>0.0</td>\n",
       "      <td>0.0</td>\n",
       "      <td>0.0</td>\n",
       "      <td>0.0</td>\n",
       "      <td>0.000454</td>\n",
       "      <td>0.0</td>\n",
       "    </tr>\n",
       "    <tr>\n",
       "      <th>1</th>\n",
       "      <td>1.0</td>\n",
       "      <td>0.0</td>\n",
       "      <td>0.236328</td>\n",
       "      <td>0.637695</td>\n",
       "      <td>0.000000</td>\n",
       "      <td>0.000552</td>\n",
       "      <td>0.390137</td>\n",
       "      <td>0.001889</td>\n",
       "      <td>0.0</td>\n",
       "      <td>0.001207</td>\n",
       "      <td>...</td>\n",
       "      <td>-0.5</td>\n",
       "      <td>-0.125</td>\n",
       "      <td>-0.5</td>\n",
       "      <td>-0.142822</td>\n",
       "      <td>0.0</td>\n",
       "      <td>0.0</td>\n",
       "      <td>0.0</td>\n",
       "      <td>0.0</td>\n",
       "      <td>0.004089</td>\n",
       "      <td>0.0</td>\n",
       "    </tr>\n",
       "    <tr>\n",
       "      <th>2</th>\n",
       "      <td>2.0</td>\n",
       "      <td>0.0</td>\n",
       "      <td>0.238770</td>\n",
       "      <td>0.649414</td>\n",
       "      <td>0.016388</td>\n",
       "      <td>0.002430</td>\n",
       "      <td>0.393555</td>\n",
       "      <td>0.002092</td>\n",
       "      <td>0.0</td>\n",
       "      <td>0.004192</td>\n",
       "      <td>...</td>\n",
       "      <td>-0.5</td>\n",
       "      <td>-0.125</td>\n",
       "      <td>-0.5</td>\n",
       "      <td>-0.142822</td>\n",
       "      <td>0.0</td>\n",
       "      <td>0.0</td>\n",
       "      <td>0.0</td>\n",
       "      <td>0.0</td>\n",
       "      <td>0.005199</td>\n",
       "      <td>0.0</td>\n",
       "    </tr>\n",
       "    <tr>\n",
       "      <th>3</th>\n",
       "      <td>3.0</td>\n",
       "      <td>0.0</td>\n",
       "      <td>0.242554</td>\n",
       "      <td>0.653809</td>\n",
       "      <td>0.000000</td>\n",
       "      <td>0.001535</td>\n",
       "      <td>0.390869</td>\n",
       "      <td>0.000422</td>\n",
       "      <td>0.0</td>\n",
       "      <td>0.002460</td>\n",
       "      <td>...</td>\n",
       "      <td>-0.5</td>\n",
       "      <td>-0.125</td>\n",
       "      <td>-0.5</td>\n",
       "      <td>-0.142822</td>\n",
       "      <td>0.0</td>\n",
       "      <td>0.0</td>\n",
       "      <td>0.0</td>\n",
       "      <td>0.0</td>\n",
       "      <td>0.004860</td>\n",
       "      <td>0.0</td>\n",
       "    </tr>\n",
       "    <tr>\n",
       "      <th>4</th>\n",
       "      <td>4.0</td>\n",
       "      <td>0.0</td>\n",
       "      <td>0.245850</td>\n",
       "      <td>0.645020</td>\n",
       "      <td>0.000000</td>\n",
       "      <td>0.001704</td>\n",
       "      <td>0.390137</td>\n",
       "      <td>0.002335</td>\n",
       "      <td>0.0</td>\n",
       "      <td>0.004143</td>\n",
       "      <td>...</td>\n",
       "      <td>-0.5</td>\n",
       "      <td>-0.125</td>\n",
       "      <td>-0.5</td>\n",
       "      <td>-0.142822</td>\n",
       "      <td>0.0</td>\n",
       "      <td>0.0</td>\n",
       "      <td>0.0</td>\n",
       "      <td>0.0</td>\n",
       "      <td>0.006050</td>\n",
       "      <td>0.0</td>\n",
       "    </tr>\n",
       "  </tbody>\n",
       "</table>\n",
       "<p>5 rows × 171 columns</p>\n",
       "</div>"
      ],
      "text/plain": [
       "   Unnamed: 0  target       S_2       P_2      D_39       B_1       B_2  \\\n",
       "0         0.0     0.0  0.232056  0.638672  0.000000  0.000978  0.392578   \n",
       "1         1.0     0.0  0.236328  0.637695  0.000000  0.000552  0.390137   \n",
       "2         2.0     0.0  0.238770  0.649414  0.016388  0.002430  0.393555   \n",
       "3         3.0     0.0  0.242554  0.653809  0.000000  0.001535  0.390869   \n",
       "4         4.0     0.0  0.245850  0.645020  0.000000  0.001704  0.390137   \n",
       "\n",
       "        R_1  D_41       B_3  ...  D_135  D_136  D_137     D_138  D_139  D_140  \\\n",
       "0  0.002834   0.0  0.002096  ...   -0.5 -0.125   -0.5 -0.142822    0.0    0.0   \n",
       "1  0.001889   0.0  0.001207  ...   -0.5 -0.125   -0.5 -0.142822    0.0    0.0   \n",
       "2  0.002092   0.0  0.004192  ...   -0.5 -0.125   -0.5 -0.142822    0.0    0.0   \n",
       "3  0.000422   0.0  0.002460  ...   -0.5 -0.125   -0.5 -0.142822    0.0    0.0   \n",
       "4  0.002335   0.0  0.004143  ...   -0.5 -0.125   -0.5 -0.142822    0.0    0.0   \n",
       "\n",
       "   D_141  D_143     D_144  D_145  \n",
       "0    0.0    0.0  0.000454    0.0  \n",
       "1    0.0    0.0  0.004089    0.0  \n",
       "2    0.0    0.0  0.005199    0.0  \n",
       "3    0.0    0.0  0.004860    0.0  \n",
       "4    0.0    0.0  0.006050    0.0  \n",
       "\n",
       "[5 rows x 171 columns]"
      ]
     },
     "execution_count": 4,
     "metadata": {},
     "output_type": "execute_result"
    }
   ],
   "source": [
    "train.head()"
   ]
  },
  {
   "cell_type": "markdown",
   "id": "be483b2f",
   "metadata": {
    "papermill": {
     "duration": 0.029859,
     "end_time": "2022-08-07T17:30:54.669635",
     "exception": false,
     "start_time": "2022-08-07T17:30:54.639776",
     "status": "completed"
    },
    "tags": []
   },
   "source": [
    "When we save the dataframe as csv the datatypes are not maintained. So we need to reassign the data types. "
   ]
  },
  {
   "cell_type": "code",
   "execution_count": 5,
   "id": "0fb0927f",
   "metadata": {
    "execution": {
     "iopub.execute_input": "2022-08-07T17:30:54.733607Z",
     "iopub.status.busy": "2022-08-07T17:30:54.732619Z",
     "iopub.status.idle": "2022-08-07T17:30:55.333113Z",
     "shell.execute_reply": "2022-08-07T17:30:55.332427Z"
    },
    "papermill": {
     "duration": 0.633625,
     "end_time": "2022-08-07T17:30:55.333286",
     "exception": false,
     "start_time": "2022-08-07T17:30:54.699661",
     "status": "completed"
    },
    "tags": []
   },
   "outputs": [],
   "source": [
    "train[\"target\"]=train[\"target\"].astype(\"int8\")"
   ]
  },
  {
   "cell_type": "markdown",
   "id": "285ddd1c",
   "metadata": {
    "papermill": {
     "duration": 0.029624,
     "end_time": "2022-08-07T17:30:55.393343",
     "exception": false,
     "start_time": "2022-08-07T17:30:55.363719",
     "status": "completed"
    },
    "tags": []
   },
   "source": [
    "Drop the extra added column"
   ]
  },
  {
   "cell_type": "code",
   "execution_count": 6,
   "id": "f7fbd43c",
   "metadata": {
    "execution": {
     "iopub.execute_input": "2022-08-07T17:30:55.488053Z",
     "iopub.status.busy": "2022-08-07T17:30:55.487313Z",
     "iopub.status.idle": "2022-08-07T17:30:59.421905Z",
     "shell.execute_reply": "2022-08-07T17:30:59.421147Z"
    },
    "papermill": {
     "duration": 3.998719,
     "end_time": "2022-08-07T17:30:59.422055",
     "exception": false,
     "start_time": "2022-08-07T17:30:55.423336",
     "status": "completed"
    },
    "tags": []
   },
   "outputs": [],
   "source": [
    "train.drop(\"Unnamed: 0\",axis=1,inplace=True)"
   ]
  },
  {
   "cell_type": "code",
   "execution_count": 7,
   "id": "e1133f18",
   "metadata": {
    "execution": {
     "iopub.execute_input": "2022-08-07T17:30:59.514326Z",
     "iopub.status.busy": "2022-08-07T17:30:59.501254Z",
     "iopub.status.idle": "2022-08-07T17:30:59.517947Z",
     "shell.execute_reply": "2022-08-07T17:30:59.518439Z"
    },
    "papermill": {
     "duration": 0.064633,
     "end_time": "2022-08-07T17:30:59.518627",
     "exception": false,
     "start_time": "2022-08-07T17:30:59.453994",
     "status": "completed"
    },
    "tags": []
   },
   "outputs": [
    {
     "data": {
      "text/html": [
       "<div>\n",
       "<style scoped>\n",
       "    .dataframe tbody tr th:only-of-type {\n",
       "        vertical-align: middle;\n",
       "    }\n",
       "\n",
       "    .dataframe tbody tr th {\n",
       "        vertical-align: top;\n",
       "    }\n",
       "\n",
       "    .dataframe thead th {\n",
       "        text-align: right;\n",
       "    }\n",
       "</style>\n",
       "<table border=\"1\" class=\"dataframe\">\n",
       "  <thead>\n",
       "    <tr style=\"text-align: right;\">\n",
       "      <th></th>\n",
       "      <th>target</th>\n",
       "      <th>S_2</th>\n",
       "      <th>P_2</th>\n",
       "      <th>D_39</th>\n",
       "      <th>B_1</th>\n",
       "      <th>B_2</th>\n",
       "      <th>R_1</th>\n",
       "      <th>D_41</th>\n",
       "      <th>B_3</th>\n",
       "      <th>D_43</th>\n",
       "      <th>...</th>\n",
       "      <th>D_135</th>\n",
       "      <th>D_136</th>\n",
       "      <th>D_137</th>\n",
       "      <th>D_138</th>\n",
       "      <th>D_139</th>\n",
       "      <th>D_140</th>\n",
       "      <th>D_141</th>\n",
       "      <th>D_143</th>\n",
       "      <th>D_144</th>\n",
       "      <th>D_145</th>\n",
       "    </tr>\n",
       "  </thead>\n",
       "  <tbody>\n",
       "    <tr>\n",
       "      <th>0</th>\n",
       "      <td>0</td>\n",
       "      <td>0.232056</td>\n",
       "      <td>0.638672</td>\n",
       "      <td>0.000000</td>\n",
       "      <td>0.000978</td>\n",
       "      <td>0.392578</td>\n",
       "      <td>0.002834</td>\n",
       "      <td>0.0</td>\n",
       "      <td>0.002096</td>\n",
       "      <td>0.007229</td>\n",
       "      <td>...</td>\n",
       "      <td>-0.5</td>\n",
       "      <td>-0.125</td>\n",
       "      <td>-0.5</td>\n",
       "      <td>-0.142822</td>\n",
       "      <td>0.0</td>\n",
       "      <td>0.0</td>\n",
       "      <td>0.0</td>\n",
       "      <td>0.0</td>\n",
       "      <td>0.000454</td>\n",
       "      <td>0.0</td>\n",
       "    </tr>\n",
       "    <tr>\n",
       "      <th>1</th>\n",
       "      <td>0</td>\n",
       "      <td>0.236328</td>\n",
       "      <td>0.637695</td>\n",
       "      <td>0.000000</td>\n",
       "      <td>0.000552</td>\n",
       "      <td>0.390137</td>\n",
       "      <td>0.001889</td>\n",
       "      <td>0.0</td>\n",
       "      <td>0.001207</td>\n",
       "      <td>0.007229</td>\n",
       "      <td>...</td>\n",
       "      <td>-0.5</td>\n",
       "      <td>-0.125</td>\n",
       "      <td>-0.5</td>\n",
       "      <td>-0.142822</td>\n",
       "      <td>0.0</td>\n",
       "      <td>0.0</td>\n",
       "      <td>0.0</td>\n",
       "      <td>0.0</td>\n",
       "      <td>0.004089</td>\n",
       "      <td>0.0</td>\n",
       "    </tr>\n",
       "    <tr>\n",
       "      <th>2</th>\n",
       "      <td>0</td>\n",
       "      <td>0.238770</td>\n",
       "      <td>0.649414</td>\n",
       "      <td>0.016388</td>\n",
       "      <td>0.002430</td>\n",
       "      <td>0.393555</td>\n",
       "      <td>0.002092</td>\n",
       "      <td>0.0</td>\n",
       "      <td>0.004192</td>\n",
       "      <td>0.007229</td>\n",
       "      <td>...</td>\n",
       "      <td>-0.5</td>\n",
       "      <td>-0.125</td>\n",
       "      <td>-0.5</td>\n",
       "      <td>-0.142822</td>\n",
       "      <td>0.0</td>\n",
       "      <td>0.0</td>\n",
       "      <td>0.0</td>\n",
       "      <td>0.0</td>\n",
       "      <td>0.005199</td>\n",
       "      <td>0.0</td>\n",
       "    </tr>\n",
       "    <tr>\n",
       "      <th>3</th>\n",
       "      <td>0</td>\n",
       "      <td>0.242554</td>\n",
       "      <td>0.653809</td>\n",
       "      <td>0.000000</td>\n",
       "      <td>0.001535</td>\n",
       "      <td>0.390869</td>\n",
       "      <td>0.000422</td>\n",
       "      <td>0.0</td>\n",
       "      <td>0.002460</td>\n",
       "      <td>0.007229</td>\n",
       "      <td>...</td>\n",
       "      <td>-0.5</td>\n",
       "      <td>-0.125</td>\n",
       "      <td>-0.5</td>\n",
       "      <td>-0.142822</td>\n",
       "      <td>0.0</td>\n",
       "      <td>0.0</td>\n",
       "      <td>0.0</td>\n",
       "      <td>0.0</td>\n",
       "      <td>0.004860</td>\n",
       "      <td>0.0</td>\n",
       "    </tr>\n",
       "    <tr>\n",
       "      <th>4</th>\n",
       "      <td>0</td>\n",
       "      <td>0.245850</td>\n",
       "      <td>0.645020</td>\n",
       "      <td>0.000000</td>\n",
       "      <td>0.001704</td>\n",
       "      <td>0.390137</td>\n",
       "      <td>0.002335</td>\n",
       "      <td>0.0</td>\n",
       "      <td>0.004143</td>\n",
       "      <td>0.007229</td>\n",
       "      <td>...</td>\n",
       "      <td>-0.5</td>\n",
       "      <td>-0.125</td>\n",
       "      <td>-0.5</td>\n",
       "      <td>-0.142822</td>\n",
       "      <td>0.0</td>\n",
       "      <td>0.0</td>\n",
       "      <td>0.0</td>\n",
       "      <td>0.0</td>\n",
       "      <td>0.006050</td>\n",
       "      <td>0.0</td>\n",
       "    </tr>\n",
       "  </tbody>\n",
       "</table>\n",
       "<p>5 rows × 170 columns</p>\n",
       "</div>"
      ],
      "text/plain": [
       "   target       S_2       P_2      D_39       B_1       B_2       R_1  D_41  \\\n",
       "0       0  0.232056  0.638672  0.000000  0.000978  0.392578  0.002834   0.0   \n",
       "1       0  0.236328  0.637695  0.000000  0.000552  0.390137  0.001889   0.0   \n",
       "2       0  0.238770  0.649414  0.016388  0.002430  0.393555  0.002092   0.0   \n",
       "3       0  0.242554  0.653809  0.000000  0.001535  0.390869  0.000422   0.0   \n",
       "4       0  0.245850  0.645020  0.000000  0.001704  0.390137  0.002335   0.0   \n",
       "\n",
       "        B_3      D_43  ...  D_135  D_136  D_137     D_138  D_139  D_140  \\\n",
       "0  0.002096  0.007229  ...   -0.5 -0.125   -0.5 -0.142822    0.0    0.0   \n",
       "1  0.001207  0.007229  ...   -0.5 -0.125   -0.5 -0.142822    0.0    0.0   \n",
       "2  0.004192  0.007229  ...   -0.5 -0.125   -0.5 -0.142822    0.0    0.0   \n",
       "3  0.002460  0.007229  ...   -0.5 -0.125   -0.5 -0.142822    0.0    0.0   \n",
       "4  0.004143  0.007229  ...   -0.5 -0.125   -0.5 -0.142822    0.0    0.0   \n",
       "\n",
       "   D_141  D_143     D_144  D_145  \n",
       "0    0.0    0.0  0.000454    0.0  \n",
       "1    0.0    0.0  0.004089    0.0  \n",
       "2    0.0    0.0  0.005199    0.0  \n",
       "3    0.0    0.0  0.004860    0.0  \n",
       "4    0.0    0.0  0.006050    0.0  \n",
       "\n",
       "[5 rows x 170 columns]"
      ]
     },
     "execution_count": 7,
     "metadata": {},
     "output_type": "execute_result"
    }
   ],
   "source": [
    "train.head()"
   ]
  },
  {
   "cell_type": "markdown",
   "id": "bd33fc4b",
   "metadata": {
    "papermill": {
     "duration": 0.030776,
     "end_time": "2022-08-07T17:30:59.580636",
     "exception": false,
     "start_time": "2022-08-07T17:30:59.549860",
     "status": "completed"
    },
    "tags": []
   },
   "source": [
    "# 1.4 Reduce the size of Data"
   ]
  },
  {
   "cell_type": "code",
   "execution_count": 8,
   "id": "7b32e710",
   "metadata": {
    "execution": {
     "iopub.execute_input": "2022-08-07T17:30:59.650920Z",
     "iopub.status.busy": "2022-08-07T17:30:59.649311Z",
     "iopub.status.idle": "2022-08-07T17:31:00.873433Z",
     "shell.execute_reply": "2022-08-07T17:31:00.872804Z"
    },
    "papermill": {
     "duration": 1.26198,
     "end_time": "2022-08-07T17:31:00.873600",
     "exception": false,
     "start_time": "2022-08-07T17:30:59.611620",
     "status": "completed"
    },
    "tags": []
   },
   "outputs": [],
   "source": [
    "for col in train.columns:\n",
    "    if col not in ['customer_ID', 'target']:\n",
    "        train[col]=train[col].astype(\"float16\")\n",
    "train[\"target\"]=train[\"target\"].astype(\"int8\")"
   ]
  },
  {
   "cell_type": "markdown",
   "id": "2588527b",
   "metadata": {
    "papermill": {
     "duration": 0.030676,
     "end_time": "2022-08-07T17:31:00.936034",
     "exception": false,
     "start_time": "2022-08-07T17:31:00.905358",
     "status": "completed"
    },
    "tags": []
   },
   "source": [
    "# 2 Splitting the Data "
   ]
  },
  {
   "cell_type": "code",
   "execution_count": 9,
   "id": "22111ff3",
   "metadata": {
    "execution": {
     "iopub.execute_input": "2022-08-07T17:31:01.002169Z",
     "iopub.status.busy": "2022-08-07T17:31:01.001491Z",
     "iopub.status.idle": "2022-08-07T17:31:01.006355Z",
     "shell.execute_reply": "2022-08-07T17:31:01.006838Z"
    },
    "papermill": {
     "duration": 0.03959,
     "end_time": "2022-08-07T17:31:01.007018",
     "exception": false,
     "start_time": "2022-08-07T17:31:00.967428",
     "status": "completed"
    },
    "tags": []
   },
   "outputs": [],
   "source": [
    "train_y=train[\"target\"].copy()"
   ]
  },
  {
   "cell_type": "code",
   "execution_count": 10,
   "id": "a9ae5868",
   "metadata": {
    "execution": {
     "iopub.execute_input": "2022-08-07T17:31:01.074518Z",
     "iopub.status.busy": "2022-08-07T17:31:01.073826Z",
     "iopub.status.idle": "2022-08-07T17:31:04.455662Z",
     "shell.execute_reply": "2022-08-07T17:31:04.455037Z"
    },
    "papermill": {
     "duration": 3.4164,
     "end_time": "2022-08-07T17:31:04.455850",
     "exception": false,
     "start_time": "2022-08-07T17:31:01.039450",
     "status": "completed"
    },
    "tags": []
   },
   "outputs": [],
   "source": [
    "train_x=train.loc[:,train.columns!=\"target\"]"
   ]
  },
  {
   "cell_type": "code",
   "execution_count": 11,
   "id": "f7148e13",
   "metadata": {
    "execution": {
     "iopub.execute_input": "2022-08-07T17:31:04.528925Z",
     "iopub.status.busy": "2022-08-07T17:31:04.527363Z",
     "iopub.status.idle": "2022-08-07T17:31:04.530951Z",
     "shell.execute_reply": "2022-08-07T17:31:04.531485Z"
    },
    "papermill": {
     "duration": 0.041338,
     "end_time": "2022-08-07T17:31:04.531669",
     "exception": false,
     "start_time": "2022-08-07T17:31:04.490331",
     "status": "completed"
    },
    "tags": []
   },
   "outputs": [],
   "source": [
    "del train"
   ]
  },
  {
   "cell_type": "markdown",
   "id": "4ac4af8e",
   "metadata": {
    "papermill": {
     "duration": 0.032635,
     "end_time": "2022-08-07T17:31:04.596337",
     "exception": false,
     "start_time": "2022-08-07T17:31:04.563702",
     "status": "completed"
    },
    "tags": []
   },
   "source": [
    "Get a glimps of train_x and train_y"
   ]
  },
  {
   "cell_type": "code",
   "execution_count": 12,
   "id": "a70f0ce6",
   "metadata": {
    "execution": {
     "iopub.execute_input": "2022-08-07T17:31:04.666521Z",
     "iopub.status.busy": "2022-08-07T17:31:04.665785Z",
     "iopub.status.idle": "2022-08-07T17:31:04.671881Z",
     "shell.execute_reply": "2022-08-07T17:31:04.672569Z"
    },
    "papermill": {
     "duration": 0.044324,
     "end_time": "2022-08-07T17:31:04.672817",
     "exception": false,
     "start_time": "2022-08-07T17:31:04.628493",
     "status": "completed"
    },
    "tags": []
   },
   "outputs": [
    {
     "data": {
      "text/plain": [
       "0          0\n",
       "1          0\n",
       "2          0\n",
       "3          0\n",
       "4          0\n",
       "          ..\n",
       "5531446    0\n",
       "5531447    0\n",
       "5531448    0\n",
       "5531449    0\n",
       "5531450    0\n",
       "Name: target, Length: 5531451, dtype: int8"
      ]
     },
     "execution_count": 12,
     "metadata": {},
     "output_type": "execute_result"
    }
   ],
   "source": [
    "train_y"
   ]
  },
  {
   "cell_type": "code",
   "execution_count": 13,
   "id": "81a5b309",
   "metadata": {
    "execution": {
     "iopub.execute_input": "2022-08-07T17:31:04.742959Z",
     "iopub.status.busy": "2022-08-07T17:31:04.742191Z",
     "iopub.status.idle": "2022-08-07T17:31:04.867243Z",
     "shell.execute_reply": "2022-08-07T17:31:04.866726Z"
    },
    "papermill": {
     "duration": 0.161175,
     "end_time": "2022-08-07T17:31:04.867427",
     "exception": false,
     "start_time": "2022-08-07T17:31:04.706252",
     "status": "completed"
    },
    "tags": []
   },
   "outputs": [
    {
     "data": {
      "text/html": [
       "<div>\n",
       "<style scoped>\n",
       "    .dataframe tbody tr th:only-of-type {\n",
       "        vertical-align: middle;\n",
       "    }\n",
       "\n",
       "    .dataframe tbody tr th {\n",
       "        vertical-align: top;\n",
       "    }\n",
       "\n",
       "    .dataframe thead th {\n",
       "        text-align: right;\n",
       "    }\n",
       "</style>\n",
       "<table border=\"1\" class=\"dataframe\">\n",
       "  <thead>\n",
       "    <tr style=\"text-align: right;\">\n",
       "      <th></th>\n",
       "      <th>S_2</th>\n",
       "      <th>P_2</th>\n",
       "      <th>D_39</th>\n",
       "      <th>B_1</th>\n",
       "      <th>B_2</th>\n",
       "      <th>R_1</th>\n",
       "      <th>D_41</th>\n",
       "      <th>B_3</th>\n",
       "      <th>D_43</th>\n",
       "      <th>D_44</th>\n",
       "      <th>...</th>\n",
       "      <th>D_135</th>\n",
       "      <th>D_136</th>\n",
       "      <th>D_137</th>\n",
       "      <th>D_138</th>\n",
       "      <th>D_139</th>\n",
       "      <th>D_140</th>\n",
       "      <th>D_141</th>\n",
       "      <th>D_143</th>\n",
       "      <th>D_144</th>\n",
       "      <th>D_145</th>\n",
       "    </tr>\n",
       "  </thead>\n",
       "  <tbody>\n",
       "    <tr>\n",
       "      <th>0</th>\n",
       "      <td>0.232056</td>\n",
       "      <td>0.638672</td>\n",
       "      <td>0.000000</td>\n",
       "      <td>0.000978</td>\n",
       "      <td>0.392578</td>\n",
       "      <td>0.002834</td>\n",
       "      <td>0.0</td>\n",
       "      <td>0.002096</td>\n",
       "      <td>0.007229</td>\n",
       "      <td>0.0</td>\n",
       "      <td>...</td>\n",
       "      <td>-0.5</td>\n",
       "      <td>-0.125</td>\n",
       "      <td>-0.5</td>\n",
       "      <td>-0.142822</td>\n",
       "      <td>0.0</td>\n",
       "      <td>0.0</td>\n",
       "      <td>0.0</td>\n",
       "      <td>0.0</td>\n",
       "      <td>0.000454</td>\n",
       "      <td>0.0</td>\n",
       "    </tr>\n",
       "    <tr>\n",
       "      <th>1</th>\n",
       "      <td>0.236328</td>\n",
       "      <td>0.637695</td>\n",
       "      <td>0.000000</td>\n",
       "      <td>0.000552</td>\n",
       "      <td>0.390137</td>\n",
       "      <td>0.001889</td>\n",
       "      <td>0.0</td>\n",
       "      <td>0.001207</td>\n",
       "      <td>0.007229</td>\n",
       "      <td>0.0</td>\n",
       "      <td>...</td>\n",
       "      <td>-0.5</td>\n",
       "      <td>-0.125</td>\n",
       "      <td>-0.5</td>\n",
       "      <td>-0.142822</td>\n",
       "      <td>0.0</td>\n",
       "      <td>0.0</td>\n",
       "      <td>0.0</td>\n",
       "      <td>0.0</td>\n",
       "      <td>0.004089</td>\n",
       "      <td>0.0</td>\n",
       "    </tr>\n",
       "    <tr>\n",
       "      <th>2</th>\n",
       "      <td>0.238770</td>\n",
       "      <td>0.649414</td>\n",
       "      <td>0.016388</td>\n",
       "      <td>0.002430</td>\n",
       "      <td>0.393555</td>\n",
       "      <td>0.002092</td>\n",
       "      <td>0.0</td>\n",
       "      <td>0.004192</td>\n",
       "      <td>0.007229</td>\n",
       "      <td>0.0</td>\n",
       "      <td>...</td>\n",
       "      <td>-0.5</td>\n",
       "      <td>-0.125</td>\n",
       "      <td>-0.5</td>\n",
       "      <td>-0.142822</td>\n",
       "      <td>0.0</td>\n",
       "      <td>0.0</td>\n",
       "      <td>0.0</td>\n",
       "      <td>0.0</td>\n",
       "      <td>0.005199</td>\n",
       "      <td>0.0</td>\n",
       "    </tr>\n",
       "    <tr>\n",
       "      <th>3</th>\n",
       "      <td>0.242554</td>\n",
       "      <td>0.653809</td>\n",
       "      <td>0.000000</td>\n",
       "      <td>0.001535</td>\n",
       "      <td>0.390869</td>\n",
       "      <td>0.000422</td>\n",
       "      <td>0.0</td>\n",
       "      <td>0.002460</td>\n",
       "      <td>0.007229</td>\n",
       "      <td>0.0</td>\n",
       "      <td>...</td>\n",
       "      <td>-0.5</td>\n",
       "      <td>-0.125</td>\n",
       "      <td>-0.5</td>\n",
       "      <td>-0.142822</td>\n",
       "      <td>0.0</td>\n",
       "      <td>0.0</td>\n",
       "      <td>0.0</td>\n",
       "      <td>0.0</td>\n",
       "      <td>0.004860</td>\n",
       "      <td>0.0</td>\n",
       "    </tr>\n",
       "    <tr>\n",
       "      <th>4</th>\n",
       "      <td>0.245850</td>\n",
       "      <td>0.645020</td>\n",
       "      <td>0.000000</td>\n",
       "      <td>0.001704</td>\n",
       "      <td>0.390137</td>\n",
       "      <td>0.002335</td>\n",
       "      <td>0.0</td>\n",
       "      <td>0.004143</td>\n",
       "      <td>0.007229</td>\n",
       "      <td>0.0</td>\n",
       "      <td>...</td>\n",
       "      <td>-0.5</td>\n",
       "      <td>-0.125</td>\n",
       "      <td>-0.5</td>\n",
       "      <td>-0.142822</td>\n",
       "      <td>0.0</td>\n",
       "      <td>0.0</td>\n",
       "      <td>0.0</td>\n",
       "      <td>0.0</td>\n",
       "      <td>0.006050</td>\n",
       "      <td>0.0</td>\n",
       "    </tr>\n",
       "    <tr>\n",
       "      <th>...</th>\n",
       "      <td>...</td>\n",
       "      <td>...</td>\n",
       "      <td>...</td>\n",
       "      <td>...</td>\n",
       "      <td>...</td>\n",
       "      <td>...</td>\n",
       "      <td>...</td>\n",
       "      <td>...</td>\n",
       "      <td>...</td>\n",
       "      <td>...</td>\n",
       "      <td>...</td>\n",
       "      <td>...</td>\n",
       "      <td>...</td>\n",
       "      <td>...</td>\n",
       "      <td>...</td>\n",
       "      <td>...</td>\n",
       "      <td>...</td>\n",
       "      <td>...</td>\n",
       "      <td>...</td>\n",
       "      <td>...</td>\n",
       "      <td>...</td>\n",
       "    </tr>\n",
       "    <tr>\n",
       "      <th>5531446</th>\n",
       "      <td>0.254639</td>\n",
       "      <td>0.666504</td>\n",
       "      <td>0.076477</td>\n",
       "      <td>0.002337</td>\n",
       "      <td>0.322754</td>\n",
       "      <td>0.001071</td>\n",
       "      <td>0.0</td>\n",
       "      <td>0.011185</td>\n",
       "      <td>0.001407</td>\n",
       "      <td>0.0</td>\n",
       "      <td>...</td>\n",
       "      <td>-0.5</td>\n",
       "      <td>-0.125</td>\n",
       "      <td>-0.5</td>\n",
       "      <td>-0.142822</td>\n",
       "      <td>0.0</td>\n",
       "      <td>0.0</td>\n",
       "      <td>0.0</td>\n",
       "      <td>0.0</td>\n",
       "      <td>0.001115</td>\n",
       "      <td>0.0</td>\n",
       "    </tr>\n",
       "    <tr>\n",
       "      <th>5531447</th>\n",
       "      <td>0.256348</td>\n",
       "      <td>0.670410</td>\n",
       "      <td>0.054657</td>\n",
       "      <td>0.000809</td>\n",
       "      <td>0.316895</td>\n",
       "      <td>0.001813</td>\n",
       "      <td>0.0</td>\n",
       "      <td>0.010544</td>\n",
       "      <td>0.000936</td>\n",
       "      <td>0.0</td>\n",
       "      <td>...</td>\n",
       "      <td>-0.5</td>\n",
       "      <td>-0.125</td>\n",
       "      <td>-0.5</td>\n",
       "      <td>-0.142822</td>\n",
       "      <td>0.0</td>\n",
       "      <td>0.0</td>\n",
       "      <td>0.0</td>\n",
       "      <td>0.0</td>\n",
       "      <td>0.006123</td>\n",
       "      <td>0.0</td>\n",
       "    </tr>\n",
       "    <tr>\n",
       "      <th>5531448</th>\n",
       "      <td>0.257080</td>\n",
       "      <td>0.669434</td>\n",
       "      <td>0.081970</td>\n",
       "      <td>0.001475</td>\n",
       "      <td>0.317871</td>\n",
       "      <td>0.001061</td>\n",
       "      <td>0.0</td>\n",
       "      <td>0.005493</td>\n",
       "      <td>0.000652</td>\n",
       "      <td>0.0</td>\n",
       "      <td>...</td>\n",
       "      <td>-0.5</td>\n",
       "      <td>-0.125</td>\n",
       "      <td>-0.5</td>\n",
       "      <td>-0.142822</td>\n",
       "      <td>0.0</td>\n",
       "      <td>0.0</td>\n",
       "      <td>0.0</td>\n",
       "      <td>0.0</td>\n",
       "      <td>0.005043</td>\n",
       "      <td>0.0</td>\n",
       "    </tr>\n",
       "    <tr>\n",
       "      <th>5531449</th>\n",
       "      <td>0.257812</td>\n",
       "      <td>0.660156</td>\n",
       "      <td>0.081970</td>\n",
       "      <td>0.001105</td>\n",
       "      <td>0.391113</td>\n",
       "      <td>0.001572</td>\n",
       "      <td>0.0</td>\n",
       "      <td>0.003817</td>\n",
       "      <td>0.001408</td>\n",
       "      <td>0.0</td>\n",
       "      <td>...</td>\n",
       "      <td>-0.5</td>\n",
       "      <td>-0.125</td>\n",
       "      <td>-0.5</td>\n",
       "      <td>-0.142822</td>\n",
       "      <td>0.0</td>\n",
       "      <td>0.0</td>\n",
       "      <td>0.0</td>\n",
       "      <td>0.0</td>\n",
       "      <td>0.000869</td>\n",
       "      <td>0.0</td>\n",
       "    </tr>\n",
       "    <tr>\n",
       "      <th>5531450</th>\n",
       "      <td>0.259033</td>\n",
       "      <td>0.668457</td>\n",
       "      <td>0.000000</td>\n",
       "      <td>0.000009</td>\n",
       "      <td>0.386963</td>\n",
       "      <td>0.000248</td>\n",
       "      <td>0.0</td>\n",
       "      <td>0.006271</td>\n",
       "      <td>0.001330</td>\n",
       "      <td>0.0</td>\n",
       "      <td>...</td>\n",
       "      <td>-0.5</td>\n",
       "      <td>-0.125</td>\n",
       "      <td>-0.5</td>\n",
       "      <td>-0.142822</td>\n",
       "      <td>0.0</td>\n",
       "      <td>0.0</td>\n",
       "      <td>0.0</td>\n",
       "      <td>0.0</td>\n",
       "      <td>0.002371</td>\n",
       "      <td>0.0</td>\n",
       "    </tr>\n",
       "  </tbody>\n",
       "</table>\n",
       "<p>5531451 rows × 169 columns</p>\n",
       "</div>"
      ],
      "text/plain": [
       "              S_2       P_2      D_39       B_1       B_2       R_1  D_41  \\\n",
       "0        0.232056  0.638672  0.000000  0.000978  0.392578  0.002834   0.0   \n",
       "1        0.236328  0.637695  0.000000  0.000552  0.390137  0.001889   0.0   \n",
       "2        0.238770  0.649414  0.016388  0.002430  0.393555  0.002092   0.0   \n",
       "3        0.242554  0.653809  0.000000  0.001535  0.390869  0.000422   0.0   \n",
       "4        0.245850  0.645020  0.000000  0.001704  0.390137  0.002335   0.0   \n",
       "...           ...       ...       ...       ...       ...       ...   ...   \n",
       "5531446  0.254639  0.666504  0.076477  0.002337  0.322754  0.001071   0.0   \n",
       "5531447  0.256348  0.670410  0.054657  0.000809  0.316895  0.001813   0.0   \n",
       "5531448  0.257080  0.669434  0.081970  0.001475  0.317871  0.001061   0.0   \n",
       "5531449  0.257812  0.660156  0.081970  0.001105  0.391113  0.001572   0.0   \n",
       "5531450  0.259033  0.668457  0.000000  0.000009  0.386963  0.000248   0.0   \n",
       "\n",
       "              B_3      D_43  D_44  ...  D_135  D_136  D_137     D_138  D_139  \\\n",
       "0        0.002096  0.007229   0.0  ...   -0.5 -0.125   -0.5 -0.142822    0.0   \n",
       "1        0.001207  0.007229   0.0  ...   -0.5 -0.125   -0.5 -0.142822    0.0   \n",
       "2        0.004192  0.007229   0.0  ...   -0.5 -0.125   -0.5 -0.142822    0.0   \n",
       "3        0.002460  0.007229   0.0  ...   -0.5 -0.125   -0.5 -0.142822    0.0   \n",
       "4        0.004143  0.007229   0.0  ...   -0.5 -0.125   -0.5 -0.142822    0.0   \n",
       "...           ...       ...   ...  ...    ...    ...    ...       ...    ...   \n",
       "5531446  0.011185  0.001407   0.0  ...   -0.5 -0.125   -0.5 -0.142822    0.0   \n",
       "5531447  0.010544  0.000936   0.0  ...   -0.5 -0.125   -0.5 -0.142822    0.0   \n",
       "5531448  0.005493  0.000652   0.0  ...   -0.5 -0.125   -0.5 -0.142822    0.0   \n",
       "5531449  0.003817  0.001408   0.0  ...   -0.5 -0.125   -0.5 -0.142822    0.0   \n",
       "5531450  0.006271  0.001330   0.0  ...   -0.5 -0.125   -0.5 -0.142822    0.0   \n",
       "\n",
       "         D_140  D_141  D_143     D_144  D_145  \n",
       "0          0.0    0.0    0.0  0.000454    0.0  \n",
       "1          0.0    0.0    0.0  0.004089    0.0  \n",
       "2          0.0    0.0    0.0  0.005199    0.0  \n",
       "3          0.0    0.0    0.0  0.004860    0.0  \n",
       "4          0.0    0.0    0.0  0.006050    0.0  \n",
       "...        ...    ...    ...       ...    ...  \n",
       "5531446    0.0    0.0    0.0  0.001115    0.0  \n",
       "5531447    0.0    0.0    0.0  0.006123    0.0  \n",
       "5531448    0.0    0.0    0.0  0.005043    0.0  \n",
       "5531449    0.0    0.0    0.0  0.000869    0.0  \n",
       "5531450    0.0    0.0    0.0  0.002371    0.0  \n",
       "\n",
       "[5531451 rows x 169 columns]"
      ]
     },
     "execution_count": 13,
     "metadata": {},
     "output_type": "execute_result"
    }
   ],
   "source": [
    "train_x"
   ]
  },
  {
   "cell_type": "markdown",
   "id": "12ce4912",
   "metadata": {
    "papermill": {
     "duration": 0.033886,
     "end_time": "2022-08-07T17:31:04.936671",
     "exception": false,
     "start_time": "2022-08-07T17:31:04.902785",
     "status": "completed"
    },
    "tags": []
   },
   "source": [
    "Free the memory space"
   ]
  },
  {
   "cell_type": "code",
   "execution_count": 14,
   "id": "12f416af",
   "metadata": {
    "execution": {
     "iopub.execute_input": "2022-08-07T17:31:05.174059Z",
     "iopub.status.busy": "2022-08-07T17:31:05.173207Z",
     "iopub.status.idle": "2022-08-07T17:31:05.177016Z",
     "shell.execute_reply": "2022-08-07T17:31:05.176517Z"
    },
    "papermill": {
     "duration": 0.2053,
     "end_time": "2022-08-07T17:31:05.177167",
     "exception": false,
     "start_time": "2022-08-07T17:31:04.971867",
     "status": "completed"
    },
    "tags": []
   },
   "outputs": [
    {
     "data": {
      "text/plain": [
       "169"
      ]
     },
     "execution_count": 14,
     "metadata": {},
     "output_type": "execute_result"
    }
   ],
   "source": [
    "gc.collect()"
   ]
  },
  {
   "cell_type": "markdown",
   "id": "dcefef66",
   "metadata": {
    "papermill": {
     "duration": 0.034109,
     "end_time": "2022-08-07T17:31:05.245062",
     "exception": false,
     "start_time": "2022-08-07T17:31:05.210953",
     "status": "completed"
    },
    "tags": []
   },
   "source": [
    "# 3 Training a model"
   ]
  },
  {
   "cell_type": "markdown",
   "id": "9e0bd806",
   "metadata": {
    "papermill": {
     "duration": 0.032897,
     "end_time": "2022-08-07T17:31:05.311382",
     "exception": false,
     "start_time": "2022-08-07T17:31:05.278485",
     "status": "completed"
    },
    "tags": []
   },
   "source": [
    "Important link for hyperparameter tuning (https://medium.com/mini-distill/effect-of-batch-size-on-training-dynamics-21c14f7a716e)"
   ]
  },
  {
   "cell_type": "code",
   "execution_count": 15,
   "id": "309185dc",
   "metadata": {
    "execution": {
     "iopub.execute_input": "2022-08-07T17:31:05.381393Z",
     "iopub.status.busy": "2022-08-07T17:31:05.380713Z",
     "iopub.status.idle": "2022-08-07T17:31:11.089707Z",
     "shell.execute_reply": "2022-08-07T17:31:11.090319Z"
    },
    "papermill": {
     "duration": 5.746055,
     "end_time": "2022-08-07T17:31:11.090513",
     "exception": false,
     "start_time": "2022-08-07T17:31:05.344458",
     "status": "completed"
    },
    "tags": []
   },
   "outputs": [
    {
     "name": "stderr",
     "output_type": "stream",
     "text": [
      "2022-08-07 17:31:05.385638: I tensorflow/compiler/jit/xla_cpu_device.cc:41] Not creating XLA devices, tf_xla_enable_xla_devices not set\n",
      "2022-08-07 17:31:05.389047: W tensorflow/stream_executor/platform/default/dso_loader.cc:60] Could not load dynamic library 'libcuda.so.1'; dlerror: libcuda.so.1: cannot open shared object file: No such file or directory; LD_LIBRARY_PATH: /opt/conda/lib\n",
      "2022-08-07 17:31:05.389083: W tensorflow/stream_executor/cuda/cuda_driver.cc:326] failed call to cuInit: UNKNOWN ERROR (303)\n",
      "2022-08-07 17:31:05.389118: I tensorflow/stream_executor/cuda/cuda_diagnostics.cc:156] kernel driver does not appear to be running on this host (8d2ea3d2356c): /proc/driver/nvidia/version does not exist\n",
      "2022-08-07 17:31:05.391753: I tensorflow/core/platform/cpu_feature_guard.cc:142] This TensorFlow binary is optimized with oneAPI Deep Neural Network Library (oneDNN) to use the following CPU instructions in performance-critical operations:  AVX2 FMA\n",
      "To enable them in other operations, rebuild TensorFlow with the appropriate compiler flags.\n",
      "2022-08-07 17:31:05.392990: I tensorflow/compiler/jit/xla_gpu_device.cc:99] Not creating XLA devices, tf_xla_enable_xla_devices not set\n",
      "2022-08-07 17:31:05.423665: I tensorflow/core/distributed_runtime/rpc/grpc_channel.cc:301] Initialize GrpcChannelCache for job worker -> {0 -> 10.0.0.2:8470}\n",
      "2022-08-07 17:31:05.423742: I tensorflow/core/distributed_runtime/rpc/grpc_channel.cc:301] Initialize GrpcChannelCache for job localhost -> {0 -> localhost:30019}\n",
      "2022-08-07 17:31:05.448148: I tensorflow/core/distributed_runtime/rpc/grpc_channel.cc:301] Initialize GrpcChannelCache for job worker -> {0 -> 10.0.0.2:8470}\n",
      "2022-08-07 17:31:05.448219: I tensorflow/core/distributed_runtime/rpc/grpc_channel.cc:301] Initialize GrpcChannelCache for job localhost -> {0 -> localhost:30019}\n",
      "2022-08-07 17:31:05.449576: I tensorflow/core/distributed_runtime/rpc/grpc_server_lib.cc:411] Started server with target: grpc://localhost:30019\n"
     ]
    }
   ],
   "source": [
    "# detect and init the TPU\n",
    "tpu = tf.distribute.cluster_resolver.TPUClusterResolver.connect()\n",
    "# instantiate a distribution strategy\n",
    "tpu_strategy = tf.distribute.experimental.TPUStrategy(tpu)"
   ]
  },
  {
   "cell_type": "code",
   "execution_count": 16,
   "id": "bc81d94a",
   "metadata": {
    "execution": {
     "iopub.execute_input": "2022-08-07T17:31:11.161876Z",
     "iopub.status.busy": "2022-08-07T17:31:11.160935Z",
     "iopub.status.idle": "2022-08-07T17:31:12.312333Z",
     "shell.execute_reply": "2022-08-07T17:31:12.311735Z"
    },
    "papermill": {
     "duration": 1.188175,
     "end_time": "2022-08-07T17:31:12.312504",
     "exception": false,
     "start_time": "2022-08-07T17:31:11.124329",
     "status": "completed"
    },
    "tags": []
   },
   "outputs": [],
   "source": [
    "# instantiating the model in the strategy scope creates the model on the TPU\n",
    "with tpu_strategy.scope():\n",
    "    model=keras.Sequential([layers.Dense(units=338,activation=\"relu\",input_shape=[169]),layers.BatchNormalization(),layers.Dense(units=676,activation=\"relu\"),layers.BatchNormalization(),layers.Dense(units=1352,activation=\"relu\",kernel_regularizer=keras.regularizers.l1_l2(0.001)),layers.BatchNormalization(),layers.Dense(units=676,activation=\"relu\",kernel_regularizer=keras.regularizers.l1_l2(0.001)),layers.BatchNormalization(),layers.Dense(units=338,activation=\"relu\",kernel_regularizer=keras.regularizers.l1_l2(0.01)),layers.BatchNormalization(),layers.Dense(units=1,activation=\"sigmoid\")])"
   ]
  },
  {
   "cell_type": "code",
   "execution_count": 17,
   "id": "f8e6e9d7",
   "metadata": {
    "execution": {
     "iopub.execute_input": "2022-08-07T17:31:12.389829Z",
     "iopub.status.busy": "2022-08-07T17:31:12.389115Z",
     "iopub.status.idle": "2022-08-07T17:31:12.417526Z",
     "shell.execute_reply": "2022-08-07T17:31:12.416938Z"
    },
    "papermill": {
     "duration": 0.071088,
     "end_time": "2022-08-07T17:31:12.417693",
     "exception": false,
     "start_time": "2022-08-07T17:31:12.346605",
     "status": "completed"
    },
    "tags": []
   },
   "outputs": [],
   "source": [
    "model.compile(loss=\"binary_crossentropy\",optimizer=keras.optimizers.Adam(learning_rate=0.00005))"
   ]
  },
  {
   "cell_type": "code",
   "execution_count": 18,
   "id": "f83e66d0",
   "metadata": {
    "execution": {
     "iopub.execute_input": "2022-08-07T17:31:12.488739Z",
     "iopub.status.busy": "2022-08-07T17:31:12.488084Z",
     "iopub.status.idle": "2022-08-07T17:31:12.492893Z",
     "shell.execute_reply": "2022-08-07T17:31:12.492388Z"
    },
    "papermill": {
     "duration": 0.041561,
     "end_time": "2022-08-07T17:31:12.493040",
     "exception": false,
     "start_time": "2022-08-07T17:31:12.451479",
     "status": "completed"
    },
    "tags": []
   },
   "outputs": [],
   "source": [
    "early_stopping = EarlyStopping(\n",
    "    monitor='val_loss',\n",
    "    min_delta=0.001, # minimium amount of change to count as an improvement\n",
    "    patience=20, # how many epochs to wait before stopping\n",
    "    restore_best_weights=True,\n",
    ")"
   ]
  },
  {
   "cell_type": "code",
   "execution_count": 19,
   "id": "78053cc1",
   "metadata": {
    "execution": {
     "iopub.execute_input": "2022-08-07T17:31:12.571845Z",
     "iopub.status.busy": "2022-08-07T17:31:12.567115Z",
     "iopub.status.idle": "2022-08-07T17:35:55.395246Z",
     "shell.execute_reply": "2022-08-07T17:35:55.394666Z"
    },
    "papermill": {
     "duration": 282.868013,
     "end_time": "2022-08-07T17:35:55.395446",
     "exception": false,
     "start_time": "2022-08-07T17:31:12.527433",
     "status": "completed"
    },
    "tags": []
   },
   "outputs": [
    {
     "name": "stderr",
     "output_type": "stream",
     "text": [
      "2022-08-07 17:31:14.195824: W tensorflow/core/framework/cpu_allocator_impl.cc:80] Allocation of 1308741070 exceeds 10% of free system memory.\n"
     ]
    },
    {
     "name": "stdout",
     "output_type": "stream",
     "text": [
      "Epoch 1/200\n",
      "97/97 [==============================] - ETA: 0s - loss: 166.0199"
     ]
    },
    {
     "name": "stderr",
     "output_type": "stream",
     "text": [
      "2022-08-07 17:31:34.743924: W tensorflow/core/framework/cpu_allocator_impl.cc:80] Allocation of 560889368 exceeds 10% of free system memory.\n"
     ]
    },
    {
     "name": "stdout",
     "output_type": "stream",
     "text": [
      "97/97 [==============================] - 21s 138ms/step - loss: 165.9724 - val_loss: 147.9859\n",
      "Epoch 2/200\n",
      "97/97 [==============================] - 3s 27ms/step - loss: 148.5692 - val_loss: 132.4027\n",
      "Epoch 3/200\n",
      "97/97 [==============================] - 3s 29ms/step - loss: 132.0597 - val_loss: 116.7169\n",
      "Epoch 4/200\n",
      "97/97 [==============================] - 3s 28ms/step - loss: 115.9740 - val_loss: 101.5865\n",
      "Epoch 5/200\n",
      "97/97 [==============================] - 3s 29ms/step - loss: 100.6749 - val_loss: 87.3418\n",
      "Epoch 6/200\n",
      "97/97 [==============================] - 3s 27ms/step - loss: 86.4029 - val_loss: 74.1538\n",
      "Epoch 7/200\n",
      "97/97 [==============================] - 3s 28ms/step - loss: 73.1690 - val_loss: 62.1472\n",
      "Epoch 8/200\n",
      "97/97 [==============================] - 3s 27ms/step - loss: 61.2469 - val_loss: 51.3871\n",
      "Epoch 9/200\n",
      "97/97 [==============================] - 3s 28ms/step - loss: 50.5348 - val_loss: 41.8572\n",
      "Epoch 10/200\n",
      "97/97 [==============================] - 3s 28ms/step - loss: 41.1292 - val_loss: 33.5938\n",
      "Epoch 11/200\n",
      "97/97 [==============================] - 3s 28ms/step - loss: 32.9883 - val_loss: 26.5555\n",
      "Epoch 12/200\n",
      "97/97 [==============================] - 3s 27ms/step - loss: 26.0915 - val_loss: 20.6927\n",
      "Epoch 13/200\n",
      "97/97 [==============================] - 3s 27ms/step - loss: 20.3513 - val_loss: 15.9226\n",
      "Epoch 14/200\n",
      "97/97 [==============================] - 3s 27ms/step - loss: 15.7437 - val_loss: 12.1457\n",
      "Epoch 15/200\n",
      "97/97 [==============================] - 3s 27ms/step - loss: 12.0975 - val_loss: 9.2756\n",
      "Epoch 16/200\n",
      "97/97 [==============================] - 3s 28ms/step - loss: 9.3166 - val_loss: 7.1375\n",
      "Epoch 17/200\n",
      "97/97 [==============================] - 3s 28ms/step - loss: 7.3217 - val_loss: 5.6061\n",
      "Epoch 18/200\n",
      "97/97 [==============================] - 3s 27ms/step - loss: 5.9239 - val_loss: 4.5701\n",
      "Epoch 19/200\n",
      "97/97 [==============================] - 3s 28ms/step - loss: 4.9131 - val_loss: 3.7638\n",
      "Epoch 20/200\n",
      "97/97 [==============================] - 3s 27ms/step - loss: 4.1419 - val_loss: 3.1683\n",
      "Epoch 21/200\n",
      "97/97 [==============================] - 3s 27ms/step - loss: 3.5503 - val_loss: 2.7333\n",
      "Epoch 22/200\n",
      "97/97 [==============================] - 3s 27ms/step - loss: 3.0982 - val_loss: 2.4039\n",
      "Epoch 23/200\n",
      "97/97 [==============================] - 3s 27ms/step - loss: 2.6974 - val_loss: 2.1280\n",
      "Epoch 24/200\n",
      "97/97 [==============================] - 3s 27ms/step - loss: 2.3859 - val_loss: 1.8644\n",
      "Epoch 25/200\n",
      "97/97 [==============================] - 3s 26ms/step - loss: 2.1372 - val_loss: 1.6743\n",
      "Epoch 26/200\n",
      "97/97 [==============================] - 3s 27ms/step - loss: 1.9253 - val_loss: 1.5665\n",
      "Epoch 27/200\n",
      "97/97 [==============================] - 3s 27ms/step - loss: 1.7610 - val_loss: 1.4024\n",
      "Epoch 28/200\n",
      "97/97 [==============================] - 3s 27ms/step - loss: 1.6225 - val_loss: 1.3428\n",
      "Epoch 29/200\n",
      "97/97 [==============================] - 3s 27ms/step - loss: 1.5134 - val_loss: 1.2011\n",
      "Epoch 30/200\n",
      "97/97 [==============================] - 3s 33ms/step - loss: 1.4125 - val_loss: 1.1860\n",
      "Epoch 31/200\n",
      "97/97 [==============================] - 3s 28ms/step - loss: 1.3404 - val_loss: 1.1094\n",
      "Epoch 32/200\n",
      "97/97 [==============================] - 3s 28ms/step - loss: 1.2783 - val_loss: 1.0526\n",
      "Epoch 33/200\n",
      "97/97 [==============================] - 3s 28ms/step - loss: 1.2250 - val_loss: 0.9871\n",
      "Epoch 34/200\n",
      "97/97 [==============================] - 3s 28ms/step - loss: 1.1800 - val_loss: 0.9773\n",
      "Epoch 35/200\n",
      "97/97 [==============================] - 3s 28ms/step - loss: 1.1411 - val_loss: 0.9610\n",
      "Epoch 36/200\n",
      "97/97 [==============================] - 3s 28ms/step - loss: 1.1133 - val_loss: 0.9064\n",
      "Epoch 37/200\n",
      "97/97 [==============================] - 3s 27ms/step - loss: 1.0849 - val_loss: 0.8754\n",
      "Epoch 38/200\n",
      "97/97 [==============================] - 3s 28ms/step - loss: 1.0615 - val_loss: 0.8660\n",
      "Epoch 39/200\n",
      "97/97 [==============================] - 3s 27ms/step - loss: 1.0392 - val_loss: 0.8371\n",
      "Epoch 40/200\n",
      "97/97 [==============================] - 3s 27ms/step - loss: 1.0245 - val_loss: 0.8230\n",
      "Epoch 41/200\n",
      "97/97 [==============================] - 3s 28ms/step - loss: 1.0088 - val_loss: 0.8346\n",
      "Epoch 42/200\n",
      "97/97 [==============================] - 3s 28ms/step - loss: 0.9958 - val_loss: 0.7976\n",
      "Epoch 43/200\n",
      "97/97 [==============================] - 3s 27ms/step - loss: 0.9846 - val_loss: 0.8158\n",
      "Epoch 44/200\n",
      "97/97 [==============================] - 3s 27ms/step - loss: 0.9701 - val_loss: 0.7874\n",
      "Epoch 45/200\n",
      "97/97 [==============================] - 3s 27ms/step - loss: 0.9587 - val_loss: 0.7922\n",
      "Epoch 46/200\n",
      "97/97 [==============================] - 3s 27ms/step - loss: 0.9491 - val_loss: 0.7384\n",
      "Epoch 47/200\n",
      "97/97 [==============================] - 3s 27ms/step - loss: 0.9409 - val_loss: 0.7524\n",
      "Epoch 48/200\n",
      "97/97 [==============================] - 3s 27ms/step - loss: 0.9320 - val_loss: 0.7330\n",
      "Epoch 49/200\n",
      "97/97 [==============================] - 3s 27ms/step - loss: 0.9239 - val_loss: 0.7176\n",
      "Epoch 50/200\n",
      "97/97 [==============================] - 3s 27ms/step - loss: 0.9154 - val_loss: 0.7153\n",
      "Epoch 51/200\n",
      "97/97 [==============================] - 3s 28ms/step - loss: 0.9084 - val_loss: 0.7274\n",
      "Epoch 52/200\n",
      "97/97 [==============================] - 3s 27ms/step - loss: 0.9043 - val_loss: 0.6994\n",
      "Epoch 53/200\n",
      "97/97 [==============================] - 3s 27ms/step - loss: 0.8964 - val_loss: 0.6823\n",
      "Epoch 54/200\n",
      "97/97 [==============================] - 3s 27ms/step - loss: 0.8914 - val_loss: 0.7214\n",
      "Epoch 55/200\n",
      "97/97 [==============================] - 3s 28ms/step - loss: 0.8844 - val_loss: 0.7096\n",
      "Epoch 56/200\n",
      "97/97 [==============================] - 3s 27ms/step - loss: 0.8800 - val_loss: 0.7026\n",
      "Epoch 57/200\n",
      "97/97 [==============================] - 3s 27ms/step - loss: 0.8744 - val_loss: 0.6702\n",
      "Epoch 58/200\n",
      "97/97 [==============================] - 3s 27ms/step - loss: 0.8706 - val_loss: 0.6880\n",
      "Epoch 59/200\n",
      "97/97 [==============================] - 3s 27ms/step - loss: 0.8650 - val_loss: 0.6851\n",
      "Epoch 60/200\n",
      "97/97 [==============================] - 3s 27ms/step - loss: 0.8598 - val_loss: 0.6982\n",
      "Epoch 61/200\n",
      "97/97 [==============================] - 3s 27ms/step - loss: 0.8561 - val_loss: 0.6613\n",
      "Epoch 62/200\n",
      "97/97 [==============================] - 3s 28ms/step - loss: 0.8529 - val_loss: 0.6892\n",
      "Epoch 63/200\n",
      "97/97 [==============================] - 3s 28ms/step - loss: 0.8496 - val_loss: 0.6681\n",
      "Epoch 64/200\n",
      "97/97 [==============================] - 3s 27ms/step - loss: 0.8459 - val_loss: 0.6377\n",
      "Epoch 65/200\n",
      "97/97 [==============================] - 3s 27ms/step - loss: 0.8409 - val_loss: 0.6781\n",
      "Epoch 66/200\n",
      "97/97 [==============================] - 3s 27ms/step - loss: 0.8402 - val_loss: 0.6264\n",
      "Epoch 67/200\n",
      "97/97 [==============================] - 3s 28ms/step - loss: 0.8365 - val_loss: 0.6387\n",
      "Epoch 68/200\n",
      "97/97 [==============================] - 3s 31ms/step - loss: 0.8327 - val_loss: 0.6334\n",
      "Epoch 69/200\n",
      "97/97 [==============================] - 3s 27ms/step - loss: 0.8291 - val_loss: 0.6691\n",
      "Epoch 70/200\n",
      "97/97 [==============================] - 3s 28ms/step - loss: 0.8263 - val_loss: 0.6690\n",
      "Epoch 71/200\n",
      "97/97 [==============================] - 3s 27ms/step - loss: 0.8250 - val_loss: 0.6640\n",
      "Epoch 72/200\n",
      "97/97 [==============================] - 3s 27ms/step - loss: 0.8216 - val_loss: 0.6532\n",
      "Epoch 73/200\n",
      "97/97 [==============================] - 3s 27ms/step - loss: 0.8190 - val_loss: 0.6222\n",
      "Epoch 74/200\n",
      "97/97 [==============================] - 3s 28ms/step - loss: 0.8155 - val_loss: 0.6455\n",
      "Epoch 75/200\n",
      "97/97 [==============================] - 3s 28ms/step - loss: 0.8114 - val_loss: 0.6317\n",
      "Epoch 76/200\n",
      "97/97 [==============================] - 3s 27ms/step - loss: 0.8102 - val_loss: 0.6553\n",
      "Epoch 77/200\n",
      "97/97 [==============================] - 3s 27ms/step - loss: 0.8083 - val_loss: 0.6495\n",
      "Epoch 78/200\n",
      "97/97 [==============================] - 3s 27ms/step - loss: 0.8051 - val_loss: 0.6346\n",
      "Epoch 79/200\n",
      "97/97 [==============================] - 3s 27ms/step - loss: 0.8042 - val_loss: 0.6320\n",
      "Epoch 80/200\n",
      "97/97 [==============================] - 3s 28ms/step - loss: 0.8005 - val_loss: 0.6609\n",
      "Epoch 81/200\n",
      "97/97 [==============================] - 3s 27ms/step - loss: 0.7977 - val_loss: 0.6689\n",
      "Epoch 82/200\n",
      "97/97 [==============================] - 3s 28ms/step - loss: 0.7953 - val_loss: 0.6545\n",
      "Epoch 83/200\n",
      "97/97 [==============================] - 3s 28ms/step - loss: 0.7927 - val_loss: 0.6608\n",
      "Epoch 84/200\n",
      "97/97 [==============================] - 3s 28ms/step - loss: 0.7906 - val_loss: 0.6731\n",
      "Epoch 85/200\n",
      "97/97 [==============================] - 3s 28ms/step - loss: 0.7882 - val_loss: 0.6473\n",
      "Epoch 86/200\n",
      "97/97 [==============================] - 3s 27ms/step - loss: 0.7854 - val_loss: 0.6390\n",
      "Epoch 87/200\n",
      "97/97 [==============================] - 3s 27ms/step - loss: 0.7836 - val_loss: 0.6574\n",
      "Epoch 88/200\n",
      "97/97 [==============================] - 3s 27ms/step - loss: 0.7803 - val_loss: 0.6691\n",
      "Epoch 89/200\n",
      "97/97 [==============================] - 3s 27ms/step - loss: 0.7772 - val_loss: 0.6627\n",
      "Epoch 90/200\n",
      "97/97 [==============================] - 3s 28ms/step - loss: 0.7754 - val_loss: 0.6285\n",
      "Epoch 91/200\n",
      "97/97 [==============================] - 3s 28ms/step - loss: 0.7743 - val_loss: 0.6576\n",
      "Epoch 92/200\n",
      "97/97 [==============================] - 3s 27ms/step - loss: 0.7702 - val_loss: 0.6540\n",
      "Epoch 93/200\n",
      "97/97 [==============================] - 3s 28ms/step - loss: 0.7692 - val_loss: 0.6593\n"
     ]
    }
   ],
   "source": [
    "history=model.fit(x=train_x,y=train_y,batch_size=40000,epochs=200,validation_split=0.3,use_multiprocessing=True,class_weight={0:20,1:1},callbacks=[early_stopping],shuffle=True,validation_batch_size=17000)"
   ]
  },
  {
   "cell_type": "code",
   "execution_count": 20,
   "id": "15c567c8",
   "metadata": {
    "execution": {
     "iopub.execute_input": "2022-08-07T17:35:56.852962Z",
     "iopub.status.busy": "2022-08-07T17:35:56.852310Z",
     "iopub.status.idle": "2022-08-07T17:35:57.166425Z",
     "shell.execute_reply": "2022-08-07T17:35:57.166977Z"
    },
    "papermill": {
     "duration": 1.045157,
     "end_time": "2022-08-07T17:35:57.167170",
     "exception": false,
     "start_time": "2022-08-07T17:35:56.122013",
     "status": "completed"
    },
    "tags": []
   },
   "outputs": [
    {
     "name": "stdout",
     "output_type": "stream",
     "text": [
      "Minimum validation loss: 0.6221582889556885\n"
     ]
    },
    {
     "data": {
      "image/png": "[encoded data removed]",
      "text/plain": [
       "<Figure size 432x288 with 1 Axes>"
      ]
     },
     "metadata": {
      "needs_background": "light"
     },
     "output_type": "display_data"
    }
   ],
   "source": [
    "history_df = pd.DataFrame(history.history)\n",
    "history_df.loc[:, ['loss', 'val_loss']].plot();\n",
    "print(\"Minimum validation loss: {}\".format(history_df['val_loss'].min()))"
   ]
  },
  {
   "cell_type": "code",
   "execution_count": 21,
   "id": "64fe7999",
   "metadata": {
    "execution": {
     "iopub.execute_input": "2022-08-07T17:35:58.637674Z",
     "iopub.status.busy": "2022-08-07T17:35:58.636627Z",
     "iopub.status.idle": "2022-08-07T17:35:58.646461Z",
     "shell.execute_reply": "2022-08-07T17:35:58.645742Z"
    },
    "papermill": {
     "duration": 0.754463,
     "end_time": "2022-08-07T17:35:58.646624",
     "exception": false,
     "start_time": "2022-08-07T17:35:57.892161",
     "status": "completed"
    },
    "tags": []
   },
   "outputs": [
    {
     "name": "stdout",
     "output_type": "stream",
     "text": [
      "Model: \"sequential\"\n",
      "_________________________________________________________________\n",
      "Layer (type)                 Output Shape              Param #   \n",
      "=================================================================\n",
      "dense (Dense)                (None, 338)               57460     \n",
      "_________________________________________________________________\n",
      "batch_normalization (BatchNo (None, 338)               1352      \n",
      "_________________________________________________________________\n",
      "dense_1 (Dense)              (None, 676)               229164    \n",
      "_________________________________________________________________\n",
      "batch_normalization_1 (Batch (None, 676)               2704      \n",
      "_________________________________________________________________\n",
      "dense_2 (Dense)              (None, 1352)              915304    \n",
      "_________________________________________________________________\n",
      "batch_normalization_2 (Batch (None, 1352)              5408      \n",
      "_________________________________________________________________\n",
      "dense_3 (Dense)              (None, 676)               914628    \n",
      "_________________________________________________________________\n",
      "batch_normalization_3 (Batch (None, 676)               2704      \n",
      "_________________________________________________________________\n",
      "dense_4 (Dense)              (None, 338)               228826    \n",
      "_________________________________________________________________\n",
      "batch_normalization_4 (Batch (None, 338)               1352      \n",
      "_________________________________________________________________\n",
      "dense_5 (Dense)              (None, 1)                 339       \n",
      "=================================================================\n",
      "Total params: 2,359,241\n",
      "Trainable params: 2,352,481\n",
      "Non-trainable params: 6,760\n",
      "_________________________________________________________________\n"
     ]
    }
   ],
   "source": [
    "model.summary()"
   ]
  },
  {
   "cell_type": "code",
   "execution_count": 22,
   "id": "77862867",
   "metadata": {
    "execution": {
     "iopub.execute_input": "2022-08-07T17:36:00.108455Z",
     "iopub.status.busy": "2022-08-07T17:36:00.107730Z",
     "iopub.status.idle": "2022-08-07T17:36:00.112461Z",
     "shell.execute_reply": "2022-08-07T17:36:00.111880Z"
    },
    "papermill": {
     "duration": 0.73119,
     "end_time": "2022-08-07T17:36:00.112616",
     "exception": false,
     "start_time": "2022-08-07T17:35:59.381426",
     "status": "completed"
    },
    "tags": []
   },
   "outputs": [],
   "source": [
    "del train_x\n",
    "del train_y"
   ]
  },
  {
   "cell_type": "code",
   "execution_count": 23,
   "id": "27cef202",
   "metadata": {
    "execution": {
     "iopub.execute_input": "2022-08-07T17:36:01.566383Z",
     "iopub.status.busy": "2022-08-07T17:36:01.565397Z",
     "iopub.status.idle": "2022-08-07T17:36:01.987704Z",
     "shell.execute_reply": "2022-08-07T17:36:01.987115Z"
    },
    "papermill": {
     "duration": 1.150853,
     "end_time": "2022-08-07T17:36:01.987858",
     "exception": false,
     "start_time": "2022-08-07T17:36:00.837005",
     "status": "completed"
    },
    "tags": []
   },
   "outputs": [
    {
     "data": {
      "text/plain": [
       "92280"
      ]
     },
     "execution_count": 23,
     "metadata": {},
     "output_type": "execute_result"
    }
   ],
   "source": [
    "gc.collect()"
   ]
  },
  {
   "cell_type": "markdown",
   "id": "44d84126",
   "metadata": {
    "papermill": {
     "duration": 0.732626,
     "end_time": "2022-08-07T17:36:03.455568",
     "exception": false,
     "start_time": "2022-08-07T17:36:02.722942",
     "status": "completed"
    },
    "tags": []
   },
   "source": [
    "Here we free up space as training data is not needed now."
   ]
  },
  {
   "cell_type": "markdown",
   "id": "ab93df6d",
   "metadata": {
    "papermill": {
     "duration": 0.77429,
     "end_time": "2022-08-07T17:36:04.955040",
     "exception": false,
     "start_time": "2022-08-07T17:36:04.180750",
     "status": "completed"
    },
    "tags": []
   },
   "source": [
    "# 4 Load the test data"
   ]
  },
  {
   "cell_type": "code",
   "execution_count": 24,
   "id": "5d913685",
   "metadata": {
    "execution": {
     "iopub.execute_input": "2022-08-07T17:36:06.476563Z",
     "iopub.status.busy": "2022-08-07T17:36:06.475876Z",
     "iopub.status.idle": "2022-08-07T17:37:02.000044Z",
     "shell.execute_reply": "2022-08-07T17:37:01.998937Z"
    },
    "papermill": {
     "duration": 56.251902,
     "end_time": "2022-08-07T17:37:02.000235",
     "exception": false,
     "start_time": "2022-08-07T17:36:05.748333",
     "status": "completed"
    },
    "tags": []
   },
   "outputs": [],
   "source": [
    "test=pd.read_csv(\"../input/test-dataset/test_2.csv.gzip\",compression=\"gzip\")"
   ]
  },
  {
   "cell_type": "code",
   "execution_count": 25,
   "id": "a0268007",
   "metadata": {
    "execution": {
     "iopub.execute_input": "2022-08-07T17:37:03.474388Z",
     "iopub.status.busy": "2022-08-07T17:37:03.473695Z",
     "iopub.status.idle": "2022-08-07T17:37:03.501668Z",
     "shell.execute_reply": "2022-08-07T17:37:03.502178Z"
    },
    "papermill": {
     "duration": 0.771076,
     "end_time": "2022-08-07T17:37:03.502373",
     "exception": false,
     "start_time": "2022-08-07T17:37:02.731297",
     "status": "completed"
    },
    "tags": []
   },
   "outputs": [
    {
     "data": {
      "text/html": [
       "<div>\n",
       "<style scoped>\n",
       "    .dataframe tbody tr th:only-of-type {\n",
       "        vertical-align: middle;\n",
       "    }\n",
       "\n",
       "    .dataframe tbody tr th {\n",
       "        vertical-align: top;\n",
       "    }\n",
       "\n",
       "    .dataframe thead th {\n",
       "        text-align: right;\n",
       "    }\n",
       "</style>\n",
       "<table border=\"1\" class=\"dataframe\">\n",
       "  <thead>\n",
       "    <tr style=\"text-align: right;\">\n",
       "      <th></th>\n",
       "      <th>Unnamed: 0</th>\n",
       "      <th>customer_ID</th>\n",
       "      <th>S_2</th>\n",
       "      <th>P_2</th>\n",
       "      <th>D_39</th>\n",
       "      <th>B_1</th>\n",
       "      <th>B_2</th>\n",
       "      <th>R_1</th>\n",
       "      <th>D_41</th>\n",
       "      <th>B_3</th>\n",
       "      <th>...</th>\n",
       "      <th>D_135</th>\n",
       "      <th>D_136</th>\n",
       "      <th>D_137</th>\n",
       "      <th>D_138</th>\n",
       "      <th>D_139</th>\n",
       "      <th>D_140</th>\n",
       "      <th>D_141</th>\n",
       "      <th>D_143</th>\n",
       "      <th>D_144</th>\n",
       "      <th>D_145</th>\n",
       "    </tr>\n",
       "  </thead>\n",
       "  <tbody>\n",
       "    <tr>\n",
       "      <th>0</th>\n",
       "      <td>0</td>\n",
       "      <td>267b9c7508a18859b9365d41490225e0afbca09ddd600b...</td>\n",
       "      <td>0.3020</td>\n",
       "      <td>0.2310</td>\n",
       "      <td>0.005493</td>\n",
       "      <td>0.019530</td>\n",
       "      <td>0.01907</td>\n",
       "      <td>0.1818</td>\n",
       "      <td>0.00000</td>\n",
       "      <td>0.510000</td>\n",
       "      <td>...</td>\n",
       "      <td>0.0</td>\n",
       "      <td>0.125</td>\n",
       "      <td>0.0</td>\n",
       "      <td>0.0000</td>\n",
       "      <td>0.5</td>\n",
       "      <td>0.0</td>\n",
       "      <td>0.7085</td>\n",
       "      <td>0.5</td>\n",
       "      <td>0.005530</td>\n",
       "      <td>0.02083</td>\n",
       "    </tr>\n",
       "    <tr>\n",
       "      <th>1</th>\n",
       "      <td>1</td>\n",
       "      <td>267b9c7508a18859b9365d41490225e0afbca09ddd600b...</td>\n",
       "      <td>0.3042</td>\n",
       "      <td>0.2334</td>\n",
       "      <td>0.005493</td>\n",
       "      <td>0.021730</td>\n",
       "      <td>0.01894</td>\n",
       "      <td>0.0000</td>\n",
       "      <td>0.00000</td>\n",
       "      <td>0.498800</td>\n",
       "      <td>...</td>\n",
       "      <td>0.0</td>\n",
       "      <td>0.125</td>\n",
       "      <td>0.0</td>\n",
       "      <td>0.0000</td>\n",
       "      <td>0.5</td>\n",
       "      <td>0.0</td>\n",
       "      <td>0.7160</td>\n",
       "      <td>0.5</td>\n",
       "      <td>0.001051</td>\n",
       "      <td>0.02083</td>\n",
       "    </tr>\n",
       "    <tr>\n",
       "      <th>2</th>\n",
       "      <td>2</td>\n",
       "      <td>267bc5eb0f603d6d24484777e1dffb3d9746f0ce299f51...</td>\n",
       "      <td>0.2776</td>\n",
       "      <td>0.6720</td>\n",
       "      <td>0.093400</td>\n",
       "      <td>0.005005</td>\n",
       "      <td>0.54150</td>\n",
       "      <td>0.0000</td>\n",
       "      <td>0.04984</td>\n",
       "      <td>0.004180</td>\n",
       "      <td>...</td>\n",
       "      <td>-0.5</td>\n",
       "      <td>-0.125</td>\n",
       "      <td>-0.5</td>\n",
       "      <td>-0.1428</td>\n",
       "      <td>0.0</td>\n",
       "      <td>0.0</td>\n",
       "      <td>0.0000</td>\n",
       "      <td>0.0</td>\n",
       "      <td>0.001953</td>\n",
       "      <td>0.00000</td>\n",
       "    </tr>\n",
       "    <tr>\n",
       "      <th>3</th>\n",
       "      <td>3</td>\n",
       "      <td>267bc5eb0f603d6d24484777e1dffb3d9746f0ce299f51...</td>\n",
       "      <td>0.2798</td>\n",
       "      <td>0.6685</td>\n",
       "      <td>0.000000</td>\n",
       "      <td>0.004128</td>\n",
       "      <td>0.54250</td>\n",
       "      <td>0.0000</td>\n",
       "      <td>0.04965</td>\n",
       "      <td>0.003994</td>\n",
       "      <td>...</td>\n",
       "      <td>-0.5</td>\n",
       "      <td>-0.125</td>\n",
       "      <td>-0.5</td>\n",
       "      <td>-0.1428</td>\n",
       "      <td>0.0</td>\n",
       "      <td>0.0</td>\n",
       "      <td>0.0000</td>\n",
       "      <td>0.0</td>\n",
       "      <td>0.002546</td>\n",
       "      <td>0.00000</td>\n",
       "    </tr>\n",
       "    <tr>\n",
       "      <th>4</th>\n",
       "      <td>4</td>\n",
       "      <td>267bc5eb0f603d6d24484777e1dffb3d9746f0ce299f51...</td>\n",
       "      <td>0.2820</td>\n",
       "      <td>0.6533</td>\n",
       "      <td>0.038450</td>\n",
       "      <td>0.005325</td>\n",
       "      <td>0.50200</td>\n",
       "      <td>0.0000</td>\n",
       "      <td>0.02931</td>\n",
       "      <td>0.007180</td>\n",
       "      <td>...</td>\n",
       "      <td>-0.5</td>\n",
       "      <td>-0.125</td>\n",
       "      <td>-0.5</td>\n",
       "      <td>-0.1428</td>\n",
       "      <td>0.0</td>\n",
       "      <td>0.0</td>\n",
       "      <td>0.0000</td>\n",
       "      <td>0.0</td>\n",
       "      <td>0.002703</td>\n",
       "      <td>0.00000</td>\n",
       "    </tr>\n",
       "  </tbody>\n",
       "</table>\n",
       "<p>5 rows × 171 columns</p>\n",
       "</div>"
      ],
      "text/plain": [
       "   Unnamed: 0                                        customer_ID     S_2  \\\n",
       "0           0  267b9c7508a18859b9365d41490225e0afbca09ddd600b...  0.3020   \n",
       "1           1  267b9c7508a18859b9365d41490225e0afbca09ddd600b...  0.3042   \n",
       "2           2  267bc5eb0f603d6d24484777e1dffb3d9746f0ce299f51...  0.2776   \n",
       "3           3  267bc5eb0f603d6d24484777e1dffb3d9746f0ce299f51...  0.2798   \n",
       "4           4  267bc5eb0f603d6d24484777e1dffb3d9746f0ce299f51...  0.2820   \n",
       "\n",
       "      P_2      D_39       B_1      B_2     R_1     D_41       B_3  ...  D_135  \\\n",
       "0  0.2310  0.005493  0.019530  0.01907  0.1818  0.00000  0.510000  ...    0.0   \n",
       "1  0.2334  0.005493  0.021730  0.01894  0.0000  0.00000  0.498800  ...    0.0   \n",
       "2  0.6720  0.093400  0.005005  0.54150  0.0000  0.04984  0.004180  ...   -0.5   \n",
       "3  0.6685  0.000000  0.004128  0.54250  0.0000  0.04965  0.003994  ...   -0.5   \n",
       "4  0.6533  0.038450  0.005325  0.50200  0.0000  0.02931  0.007180  ...   -0.5   \n",
       "\n",
       "   D_136  D_137   D_138  D_139  D_140   D_141  D_143     D_144    D_145  \n",
       "0  0.125    0.0  0.0000    0.5    0.0  0.7085    0.5  0.005530  0.02083  \n",
       "1  0.125    0.0  0.0000    0.5    0.0  0.7160    0.5  0.001051  0.02083  \n",
       "2 -0.125   -0.5 -0.1428    0.0    0.0  0.0000    0.0  0.001953  0.00000  \n",
       "3 -0.125   -0.5 -0.1428    0.0    0.0  0.0000    0.0  0.002546  0.00000  \n",
       "4 -0.125   -0.5 -0.1428    0.0    0.0  0.0000    0.0  0.002703  0.00000  \n",
       "\n",
       "[5 rows x 171 columns]"
      ]
     },
     "execution_count": 25,
     "metadata": {},
     "output_type": "execute_result"
    }
   ],
   "source": [
    "test.head()"
   ]
  },
  {
   "cell_type": "code",
   "execution_count": 26,
   "id": "0ea6fe12",
   "metadata": {
    "execution": {
     "iopub.execute_input": "2022-08-07T17:37:04.978088Z",
     "iopub.status.busy": "2022-08-07T17:37:04.977447Z",
     "iopub.status.idle": "2022-08-07T17:37:04.982251Z",
     "shell.execute_reply": "2022-08-07T17:37:04.982792Z"
    },
    "papermill": {
     "duration": 0.753169,
     "end_time": "2022-08-07T17:37:04.982963",
     "exception": false,
     "start_time": "2022-08-07T17:37:04.229794",
     "status": "completed"
    },
    "tags": []
   },
   "outputs": [
    {
     "data": {
      "text/plain": [
       "(1704564, 171)"
      ]
     },
     "execution_count": 26,
     "metadata": {},
     "output_type": "execute_result"
    }
   ],
   "source": [
    "test.shape"
   ]
  },
  {
   "cell_type": "code",
   "execution_count": 27,
   "id": "363d7be1",
   "metadata": {
    "execution": {
     "iopub.execute_input": "2022-08-07T17:37:06.437594Z",
     "iopub.status.busy": "2022-08-07T17:37:06.436868Z",
     "iopub.status.idle": "2022-08-07T17:38:14.549662Z",
     "shell.execute_reply": "2022-08-07T17:38:14.548978Z"
    },
    "papermill": {
     "duration": 68.843222,
     "end_time": "2022-08-07T17:38:14.549827",
     "exception": false,
     "start_time": "2022-08-07T17:37:05.706605",
     "status": "completed"
    },
    "tags": []
   },
   "outputs": [],
   "source": [
    "for col in test.columns:\n",
    "    if col not in ['customer_ID', 'target']:\n",
    "        test[col]=test[col].astype(\"float16\")"
   ]
  },
  {
   "cell_type": "markdown",
   "id": "7dbb7cac",
   "metadata": {
    "papermill": {
     "duration": 0.724039,
     "end_time": "2022-08-07T17:38:16.002871",
     "exception": false,
     "start_time": "2022-08-07T17:38:15.278832",
     "status": "completed"
    },
    "tags": []
   },
   "source": [
    "# 5 Split the test data"
   ]
  },
  {
   "cell_type": "code",
   "execution_count": 28,
   "id": "00ef42a4",
   "metadata": {
    "execution": {
     "iopub.execute_input": "2022-08-07T17:38:17.510026Z",
     "iopub.status.busy": "2022-08-07T17:38:17.509313Z",
     "iopub.status.idle": "2022-08-07T17:38:17.520945Z",
     "shell.execute_reply": "2022-08-07T17:38:17.521511Z"
    },
    "papermill": {
     "duration": 0.791327,
     "end_time": "2022-08-07T17:38:17.521709",
     "exception": false,
     "start_time": "2022-08-07T17:38:16.730382",
     "status": "completed"
    },
    "tags": []
   },
   "outputs": [],
   "source": [
    "customerID=test[\"customer_ID\"].copy()"
   ]
  },
  {
   "cell_type": "code",
   "execution_count": 29,
   "id": "c58263d4",
   "metadata": {
    "execution": {
     "iopub.execute_input": "2022-08-07T17:38:18.979223Z",
     "iopub.status.busy": "2022-08-07T17:38:18.978509Z",
     "iopub.status.idle": "2022-08-07T17:38:18.983147Z",
     "shell.execute_reply": "2022-08-07T17:38:18.983641Z"
    },
    "papermill": {
     "duration": 0.735788,
     "end_time": "2022-08-07T17:38:18.983841",
     "exception": false,
     "start_time": "2022-08-07T17:38:18.248053",
     "status": "completed"
    },
    "tags": []
   },
   "outputs": [],
   "source": [
    "del test[\"customer_ID\"]\n",
    "del test[\"Unnamed: 0\"]"
   ]
  },
  {
   "cell_type": "code",
   "execution_count": 30,
   "id": "7af3bfe5",
   "metadata": {
    "execution": {
     "iopub.execute_input": "2022-08-07T17:38:20.664363Z",
     "iopub.status.busy": "2022-08-07T17:38:20.663520Z",
     "iopub.status.idle": "2022-08-07T17:38:20.667232Z",
     "shell.execute_reply": "2022-08-07T17:38:20.666676Z"
    },
    "papermill": {
     "duration": 0.959689,
     "end_time": "2022-08-07T17:38:20.667414",
     "exception": false,
     "start_time": "2022-08-07T17:38:19.707725",
     "status": "completed"
    },
    "tags": []
   },
   "outputs": [
    {
     "data": {
      "text/plain": [
       "21"
      ]
     },
     "execution_count": 30,
     "metadata": {},
     "output_type": "execute_result"
    }
   ],
   "source": [
    "gc.collect()"
   ]
  },
  {
   "cell_type": "markdown",
   "id": "1aaf6b25",
   "metadata": {
    "papermill": {
     "duration": 0.749514,
     "end_time": "2022-08-07T17:38:22.149924",
     "exception": false,
     "start_time": "2022-08-07T17:38:21.400410",
     "status": "completed"
    },
    "tags": []
   },
   "source": [
    "# 5 Fit the Data"
   ]
  },
  {
   "cell_type": "code",
   "execution_count": 31,
   "id": "c6330e7d",
   "metadata": {
    "execution": {
     "iopub.execute_input": "2022-08-07T17:38:23.611098Z",
     "iopub.status.busy": "2022-08-07T17:38:23.610359Z",
     "iopub.status.idle": "2022-08-07T17:41:36.746074Z",
     "shell.execute_reply": "2022-08-07T17:41:36.745175Z"
    },
    "papermill": {
     "duration": 193.867647,
     "end_time": "2022-08-07T17:41:36.746358",
     "exception": false,
     "start_time": "2022-08-07T17:38:22.878711",
     "status": "completed"
    },
    "tags": []
   },
   "outputs": [
    {
     "name": "stderr",
     "output_type": "stream",
     "text": [
      "2022-08-07 17:38:24.575151: W tensorflow/core/framework/cpu_allocator_impl.cc:80] Allocation of 576142632 exceeds 10% of free system memory.\n"
     ]
    }
   ],
   "source": [
    "target=pd.DataFrame(model.predict(x=test))"
   ]
  },
  {
   "cell_type": "code",
   "execution_count": 32,
   "id": "79dc79a7",
   "metadata": {
    "execution": {
     "iopub.execute_input": "2022-08-07T17:41:38.237245Z",
     "iopub.status.busy": "2022-08-07T17:41:38.236561Z",
     "iopub.status.idle": "2022-08-07T17:41:38.268459Z",
     "shell.execute_reply": "2022-08-07T17:41:38.269017Z"
    },
    "papermill": {
     "duration": 0.781297,
     "end_time": "2022-08-07T17:41:38.269205",
     "exception": false,
     "start_time": "2022-08-07T17:41:37.487908",
     "status": "completed"
    },
    "tags": []
   },
   "outputs": [],
   "source": [
    "output=pd.concat([customerID,target],axis=1)"
   ]
  },
  {
   "cell_type": "code",
   "execution_count": 33,
   "id": "f11974f2",
   "metadata": {
    "execution": {
     "iopub.execute_input": "2022-08-07T17:41:39.803915Z",
     "iopub.status.busy": "2022-08-07T17:41:39.802930Z",
     "iopub.status.idle": "2022-08-07T17:41:39.807666Z",
     "shell.execute_reply": "2022-08-07T17:41:39.807065Z"
    },
    "papermill": {
     "duration": 0.758303,
     "end_time": "2022-08-07T17:41:39.807837",
     "exception": false,
     "start_time": "2022-08-07T17:41:39.049534",
     "status": "completed"
    },
    "tags": []
   },
   "outputs": [],
   "source": [
    "output.columns=[\"customer_ID\",\"target\"]"
   ]
  },
  {
   "cell_type": "code",
   "execution_count": 34,
   "id": "57185dfa",
   "metadata": {
    "execution": {
     "iopub.execute_input": "2022-08-07T17:41:41.265630Z",
     "iopub.status.busy": "2022-08-07T17:41:41.264907Z",
     "iopub.status.idle": "2022-08-07T17:41:47.157290Z",
     "shell.execute_reply": "2022-08-07T17:41:47.156549Z"
    },
    "papermill": {
     "duration": 6.623437,
     "end_time": "2022-08-07T17:41:47.157457",
     "exception": false,
     "start_time": "2022-08-07T17:41:40.534020",
     "status": "completed"
    },
    "tags": []
   },
   "outputs": [],
   "source": [
    "output.to_csv(\"output2.csv\")"
   ]
  },
  {
   "cell_type": "code",
   "execution_count": null,
   "id": "3f6dded8",
   "metadata": {
    "papermill": {
     "duration": 0.72375,
     "end_time": "2022-08-07T17:41:48.604838",
     "exception": false,
     "start_time": "2022-08-07T17:41:47.881088",
     "status": "completed"
    },
    "tags": []
   },
   "outputs": [],
   "source": []
  }
 ],
 "metadata": {
  "kernelspec": {
   "display_name": "Python 3",
   "language": "python",
   "name": "python3"
  },
  "language_info": {
   "codemirror_mode": {
    "name": "ipython",
    "version": 3
   },
   "file_extension": ".py",
   "mimetype": "text/x-python",
   "name": "python",
   "nbconvert_exporter": "python",
   "pygments_lexer": "ipython3",
   "version": "3.7.10"
  },
  "papermill": {
   "default_parameters": {},
   "duration": 848.314057,
   "end_time": "2022-08-07T17:41:52.532670",
   "environment_variables": {},
   "exception": null,
   "input_path": "__notebook__.ipynb",
   "output_path": "__notebook__.ipynb",
   "parameters": {},
   "start_time": "2022-08-07T17:27:44.218613",
   "version": "2.3.3"
  }
 },
 "nbformat": 4,
 "nbformat_minor": 5
}
