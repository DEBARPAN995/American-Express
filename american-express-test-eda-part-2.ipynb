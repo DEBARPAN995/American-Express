{
 "cells": [
  {
   "cell_type": "markdown",
   "id": "e4241d27",
   "metadata": {
    "papermill": {
     "duration": 0.010976,
     "end_time": "2022-08-07T10:28:54.897065",
     "exception": false,
     "start_time": "2022-08-07T10:28:54.886089",
     "status": "completed"
    },
    "tags": []
   },
   "source": [
    "# 1 Loading Libraries"
   ]
  },
  {
   "cell_type": "code",
   "execution_count": 1,
   "id": "79745e1c",
   "metadata": {
    "execution": {
     "iopub.execute_input": "2022-08-07T10:28:54.917591Z",
     "iopub.status.busy": "2022-08-07T10:28:54.917109Z",
     "iopub.status.idle": "2022-08-07T10:28:56.152135Z",
     "shell.execute_reply": "2022-08-07T10:28:56.150831Z"
    },
    "papermill": {
     "duration": 1.249264,
     "end_time": "2022-08-07T10:28:56.155545",
     "exception": false,
     "start_time": "2022-08-07T10:28:54.906281",
     "status": "completed"
    },
    "tags": []
   },
   "outputs": [],
   "source": [
    "import numpy as np\n",
    "import pandas as pd\n",
    "import matplotlib.pyplot as plt\n",
    "import seaborn as sns\n",
    "import gc"
   ]
  },
  {
   "cell_type": "markdown",
   "id": "f8d1fd5c",
   "metadata": {
    "papermill": {
     "duration": 0.008809,
     "end_time": "2022-08-07T10:28:56.174037",
     "exception": false,
     "start_time": "2022-08-07T10:28:56.165228",
     "status": "completed"
    },
    "tags": []
   },
   "source": [
    "# 2 Reading a part of the CSV"
   ]
  },
  {
   "cell_type": "code",
   "execution_count": 2,
   "id": "a0b89905",
   "metadata": {
    "execution": {
     "iopub.execute_input": "2022-08-07T10:28:56.193680Z",
     "iopub.status.busy": "2022-08-07T10:28:56.193242Z",
     "iopub.status.idle": "2022-08-07T10:28:56.198617Z",
     "shell.execute_reply": "2022-08-07T10:28:56.197190Z"
    },
    "papermill": {
     "duration": 0.018049,
     "end_time": "2022-08-07T10:28:56.201023",
     "exception": false,
     "start_time": "2022-08-07T10:28:56.182974",
     "status": "completed"
    },
    "tags": []
   },
   "outputs": [],
   "source": [
    "skiprows=10227384\n",
    "nrows=1704564"
   ]
  },
  {
   "cell_type": "code",
   "execution_count": 3,
   "id": "8a2a1830",
   "metadata": {
    "execution": {
     "iopub.execute_input": "2022-08-07T10:28:56.221119Z",
     "iopub.status.busy": "2022-08-07T10:28:56.220705Z",
     "iopub.status.idle": "2022-08-07T10:32:30.908551Z",
     "shell.execute_reply": "2022-08-07T10:32:30.907520Z"
    },
    "papermill": {
     "duration": 214.701183,
     "end_time": "2022-08-07T10:32:30.911436",
     "exception": false,
     "start_time": "2022-08-07T10:28:56.210253",
     "status": "completed"
    },
    "tags": []
   },
   "outputs": [],
   "source": [
    "test=pd.read_csv(\"../input/testing/test.csv.gzip\",compression=\"gzip\",skiprows=range(1,skiprows),nrows=nrows)"
   ]
  },
  {
   "cell_type": "markdown",
   "id": "6905b23e",
   "metadata": {
    "papermill": {
     "duration": 0.009918,
     "end_time": "2022-08-07T10:32:30.930780",
     "exception": false,
     "start_time": "2022-08-07T10:32:30.920862",
     "status": "completed"
    },
    "tags": []
   },
   "source": [
    "# 3 Understanding the Data"
   ]
  },
  {
   "cell_type": "markdown",
   "id": "19563f2c",
   "metadata": {
    "papermill": {
     "duration": 0.008591,
     "end_time": "2022-08-07T10:32:30.948069",
     "exception": false,
     "start_time": "2022-08-07T10:32:30.939478",
     "status": "completed"
    },
    "tags": []
   },
   "source": [
    "# 3.1 Shape of the Data"
   ]
  },
  {
   "cell_type": "code",
   "execution_count": 4,
   "id": "4c1a0e43",
   "metadata": {
    "execution": {
     "iopub.execute_input": "2022-08-07T10:32:30.968555Z",
     "iopub.status.busy": "2022-08-07T10:32:30.967676Z",
     "iopub.status.idle": "2022-08-07T10:32:30.976888Z",
     "shell.execute_reply": "2022-08-07T10:32:30.975880Z"
    },
    "papermill": {
     "duration": 0.022313,
     "end_time": "2022-08-07T10:32:30.979221",
     "exception": false,
     "start_time": "2022-08-07T10:32:30.956908",
     "status": "completed"
    },
    "tags": []
   },
   "outputs": [
    {
     "data": {
      "text/plain": [
       "(1136379, 170)"
      ]
     },
     "execution_count": 4,
     "metadata": {},
     "output_type": "execute_result"
    }
   ],
   "source": [
    "test.shape"
   ]
  },
  {
   "cell_type": "markdown",
   "id": "324c23a4",
   "metadata": {
    "papermill": {
     "duration": 0.008482,
     "end_time": "2022-08-07T10:32:30.996824",
     "exception": false,
     "start_time": "2022-08-07T10:32:30.988342",
     "status": "completed"
    },
    "tags": []
   },
   "source": [
    "# 3.2 Find the Data Types"
   ]
  },
  {
   "cell_type": "code",
   "execution_count": 5,
   "id": "3b5eaf6c",
   "metadata": {
    "execution": {
     "iopub.execute_input": "2022-08-07T10:32:31.018990Z",
     "iopub.status.busy": "2022-08-07T10:32:31.018081Z",
     "iopub.status.idle": "2022-08-07T10:32:31.030888Z",
     "shell.execute_reply": "2022-08-07T10:32:31.029426Z"
    },
    "papermill": {
     "duration": 0.02664,
     "end_time": "2022-08-07T10:32:31.033369",
     "exception": false,
     "start_time": "2022-08-07T10:32:31.006729",
     "status": "completed"
    },
    "tags": []
   },
   "outputs": [
    {
     "data": {
      "text/plain": [
       "customer_ID     object\n",
       "S_2             object\n",
       "P_2            float64\n",
       "D_39             int64\n",
       "B_1            float64\n",
       "                ...   \n",
       "D_140            int64\n",
       "D_141          float64\n",
       "D_143            int64\n",
       "D_144          float64\n",
       "D_145            int64\n",
       "Length: 170, dtype: object"
      ]
     },
     "execution_count": 5,
     "metadata": {},
     "output_type": "execute_result"
    }
   ],
   "source": [
    "test.dtypes"
   ]
  },
  {
   "cell_type": "markdown",
   "id": "4554f5ef",
   "metadata": {
    "papermill": {
     "duration": 0.009171,
     "end_time": "2022-08-07T10:32:31.052216",
     "exception": false,
     "start_time": "2022-08-07T10:32:31.043045",
     "status": "completed"
    },
    "tags": []
   },
   "source": [
    "# 3.3 Glimps of Data"
   ]
  },
  {
   "cell_type": "code",
   "execution_count": 6,
   "id": "844d0db2",
   "metadata": {
    "execution": {
     "iopub.execute_input": "2022-08-07T10:32:31.074089Z",
     "iopub.status.busy": "2022-08-07T10:32:31.073368Z",
     "iopub.status.idle": "2022-08-07T10:32:31.108383Z",
     "shell.execute_reply": "2022-08-07T10:32:31.107271Z"
    },
    "papermill": {
     "duration": 0.049401,
     "end_time": "2022-08-07T10:32:31.110872",
     "exception": false,
     "start_time": "2022-08-07T10:32:31.061471",
     "status": "completed"
    },
    "tags": []
   },
   "outputs": [
    {
     "data": {
      "text/html": [
       "<div>\n",
       "<style scoped>\n",
       "    .dataframe tbody tr th:only-of-type {\n",
       "        vertical-align: middle;\n",
       "    }\n",
       "\n",
       "    .dataframe tbody tr th {\n",
       "        vertical-align: top;\n",
       "    }\n",
       "\n",
       "    .dataframe thead th {\n",
       "        text-align: right;\n",
       "    }\n",
       "</style>\n",
       "<table border=\"1\" class=\"dataframe\">\n",
       "  <thead>\n",
       "    <tr style=\"text-align: right;\">\n",
       "      <th></th>\n",
       "      <th>customer_ID</th>\n",
       "      <th>S_2</th>\n",
       "      <th>P_2</th>\n",
       "      <th>D_39</th>\n",
       "      <th>B_1</th>\n",
       "      <th>B_2</th>\n",
       "      <th>R_1</th>\n",
       "      <th>D_41</th>\n",
       "      <th>B_3</th>\n",
       "      <th>D_43</th>\n",
       "      <th>...</th>\n",
       "      <th>D_135</th>\n",
       "      <th>D_136</th>\n",
       "      <th>D_137</th>\n",
       "      <th>D_138</th>\n",
       "      <th>D_139</th>\n",
       "      <th>D_140</th>\n",
       "      <th>D_141</th>\n",
       "      <th>D_143</th>\n",
       "      <th>D_144</th>\n",
       "      <th>D_145</th>\n",
       "    </tr>\n",
       "  </thead>\n",
       "  <tbody>\n",
       "    <tr>\n",
       "      <th>0</th>\n",
       "      <td>e669dd27dd84dfc5bd8ee32baf39a2ea89252657ef17ad...</td>\n",
       "      <td>2018-09-02</td>\n",
       "      <td>0.760419</td>\n",
       "      <td>9</td>\n",
       "      <td>0.029606</td>\n",
       "      <td>0.810839</td>\n",
       "      <td>0.0</td>\n",
       "      <td>0.0</td>\n",
       "      <td>0.003970</td>\n",
       "      <td>0.078262</td>\n",
       "      <td>...</td>\n",
       "      <td>-1</td>\n",
       "      <td>-1</td>\n",
       "      <td>-1</td>\n",
       "      <td>-1</td>\n",
       "      <td>0</td>\n",
       "      <td>0</td>\n",
       "      <td>0.0</td>\n",
       "      <td>0</td>\n",
       "      <td>0.009921</td>\n",
       "      <td>0</td>\n",
       "    </tr>\n",
       "    <tr>\n",
       "      <th>1</th>\n",
       "      <td>e669dd27dd84dfc5bd8ee32baf39a2ea89252657ef17ad...</td>\n",
       "      <td>2018-10-23</td>\n",
       "      <td>0.853384</td>\n",
       "      <td>0</td>\n",
       "      <td>0.041925</td>\n",
       "      <td>1.005659</td>\n",
       "      <td>0.0</td>\n",
       "      <td>0.0</td>\n",
       "      <td>0.011763</td>\n",
       "      <td>0.078262</td>\n",
       "      <td>...</td>\n",
       "      <td>-1</td>\n",
       "      <td>-1</td>\n",
       "      <td>-1</td>\n",
       "      <td>-1</td>\n",
       "      <td>0</td>\n",
       "      <td>0</td>\n",
       "      <td>0.0</td>\n",
       "      <td>0</td>\n",
       "      <td>0.006576</td>\n",
       "      <td>0</td>\n",
       "    </tr>\n",
       "    <tr>\n",
       "      <th>2</th>\n",
       "      <td>e669dd27dd84dfc5bd8ee32baf39a2ea89252657ef17ad...</td>\n",
       "      <td>2018-11-04</td>\n",
       "      <td>0.846441</td>\n",
       "      <td>10</td>\n",
       "      <td>0.062382</td>\n",
       "      <td>1.003084</td>\n",
       "      <td>0.0</td>\n",
       "      <td>0.0</td>\n",
       "      <td>0.009071</td>\n",
       "      <td>0.078262</td>\n",
       "      <td>...</td>\n",
       "      <td>-1</td>\n",
       "      <td>-1</td>\n",
       "      <td>-1</td>\n",
       "      <td>-1</td>\n",
       "      <td>0</td>\n",
       "      <td>0</td>\n",
       "      <td>0.0</td>\n",
       "      <td>0</td>\n",
       "      <td>0.003138</td>\n",
       "      <td>0</td>\n",
       "    </tr>\n",
       "    <tr>\n",
       "      <th>3</th>\n",
       "      <td>e669dd27dd84dfc5bd8ee32baf39a2ea89252657ef17ad...</td>\n",
       "      <td>2018-12-04</td>\n",
       "      <td>0.854945</td>\n",
       "      <td>11</td>\n",
       "      <td>0.105960</td>\n",
       "      <td>1.000066</td>\n",
       "      <td>0.0</td>\n",
       "      <td>0.0</td>\n",
       "      <td>0.003787</td>\n",
       "      <td>0.078262</td>\n",
       "      <td>...</td>\n",
       "      <td>-1</td>\n",
       "      <td>-1</td>\n",
       "      <td>-1</td>\n",
       "      <td>-1</td>\n",
       "      <td>0</td>\n",
       "      <td>0</td>\n",
       "      <td>0.0</td>\n",
       "      <td>0</td>\n",
       "      <td>0.001557</td>\n",
       "      <td>0</td>\n",
       "    </tr>\n",
       "    <tr>\n",
       "      <th>4</th>\n",
       "      <td>e669dd27dd84dfc5bd8ee32baf39a2ea89252657ef17ad...</td>\n",
       "      <td>2019-01-04</td>\n",
       "      <td>0.848144</td>\n",
       "      <td>0</td>\n",
       "      <td>0.012834</td>\n",
       "      <td>1.006813</td>\n",
       "      <td>0.0</td>\n",
       "      <td>0.0</td>\n",
       "      <td>0.004408</td>\n",
       "      <td>0.078262</td>\n",
       "      <td>...</td>\n",
       "      <td>-1</td>\n",
       "      <td>-1</td>\n",
       "      <td>-1</td>\n",
       "      <td>-1</td>\n",
       "      <td>0</td>\n",
       "      <td>0</td>\n",
       "      <td>0.0</td>\n",
       "      <td>0</td>\n",
       "      <td>0.009747</td>\n",
       "      <td>0</td>\n",
       "    </tr>\n",
       "  </tbody>\n",
       "</table>\n",
       "<p>5 rows × 170 columns</p>\n",
       "</div>"
      ],
      "text/plain": [
       "                                         customer_ID         S_2       P_2  \\\n",
       "0  e669dd27dd84dfc5bd8ee32baf39a2ea89252657ef17ad...  2018-09-02  0.760419   \n",
       "1  e669dd27dd84dfc5bd8ee32baf39a2ea89252657ef17ad...  2018-10-23  0.853384   \n",
       "2  e669dd27dd84dfc5bd8ee32baf39a2ea89252657ef17ad...  2018-11-04  0.846441   \n",
       "3  e669dd27dd84dfc5bd8ee32baf39a2ea89252657ef17ad...  2018-12-04  0.854945   \n",
       "4  e669dd27dd84dfc5bd8ee32baf39a2ea89252657ef17ad...  2019-01-04  0.848144   \n",
       "\n",
       "   D_39       B_1       B_2  R_1  D_41       B_3      D_43  ...  D_135  D_136  \\\n",
       "0     9  0.029606  0.810839  0.0   0.0  0.003970  0.078262  ...     -1     -1   \n",
       "1     0  0.041925  1.005659  0.0   0.0  0.011763  0.078262  ...     -1     -1   \n",
       "2    10  0.062382  1.003084  0.0   0.0  0.009071  0.078262  ...     -1     -1   \n",
       "3    11  0.105960  1.000066  0.0   0.0  0.003787  0.078262  ...     -1     -1   \n",
       "4     0  0.012834  1.006813  0.0   0.0  0.004408  0.078262  ...     -1     -1   \n",
       "\n",
       "   D_137  D_138  D_139  D_140  D_141  D_143     D_144  D_145  \n",
       "0     -1     -1      0      0    0.0      0  0.009921      0  \n",
       "1     -1     -1      0      0    0.0      0  0.006576      0  \n",
       "2     -1     -1      0      0    0.0      0  0.003138      0  \n",
       "3     -1     -1      0      0    0.0      0  0.001557      0  \n",
       "4     -1     -1      0      0    0.0      0  0.009747      0  \n",
       "\n",
       "[5 rows x 170 columns]"
      ]
     },
     "execution_count": 6,
     "metadata": {},
     "output_type": "execute_result"
    }
   ],
   "source": [
    "test.head()"
   ]
  },
  {
   "cell_type": "markdown",
   "id": "6de79a2a",
   "metadata": {
    "papermill": {
     "duration": 0.008869,
     "end_time": "2022-08-07T10:32:31.129109",
     "exception": false,
     "start_time": "2022-08-07T10:32:31.120240",
     "status": "completed"
    },
    "tags": []
   },
   "source": [
    "Thus we can reduce the size of the data to float16"
   ]
  },
  {
   "cell_type": "markdown",
   "id": "0cacfe33",
   "metadata": {
    "papermill": {
     "duration": 0.009226,
     "end_time": "2022-08-07T10:32:31.147506",
     "exception": false,
     "start_time": "2022-08-07T10:32:31.138280",
     "status": "completed"
    },
    "tags": []
   },
   "source": [
    "# 4 Data Compression"
   ]
  },
  {
   "cell_type": "code",
   "execution_count": 7,
   "id": "2bf4ef2b",
   "metadata": {
    "execution": {
     "iopub.execute_input": "2022-08-07T10:32:31.170256Z",
     "iopub.status.busy": "2022-08-07T10:32:31.169329Z",
     "iopub.status.idle": "2022-08-07T10:32:57.411381Z",
     "shell.execute_reply": "2022-08-07T10:32:57.410453Z"
    },
    "papermill": {
     "duration": 26.257304,
     "end_time": "2022-08-07T10:32:57.414375",
     "exception": false,
     "start_time": "2022-08-07T10:32:31.157071",
     "status": "completed"
    },
    "tags": []
   },
   "outputs": [],
   "source": [
    "for col in test.columns:\n",
    "    if col not in ['customer_ID', 'target', 'B_30', 'B_38', 'D_114', 'D_116', 'D_117', 'D_120', 'D_126', 'D_63', 'D_64', 'D_66', 'D_68','S_2']:\n",
    "        test[col]=test[col]/(test[col].max()-test[col].min())\n",
    "    if col not in ['customer_ID', 'target', 'B_30', 'B_38', 'D_114', 'D_116', 'D_117', 'D_120', 'D_126', 'D_63', 'D_64', 'D_66', 'D_68','S_2']:\n",
    "        test[col]=test[col].astype(\"float16\")"
   ]
  },
  {
   "cell_type": "markdown",
   "id": "70947453",
   "metadata": {
    "papermill": {
     "duration": 0.009996,
     "end_time": "2022-08-07T10:32:57.434101",
     "exception": false,
     "start_time": "2022-08-07T10:32:57.424105",
     "status": "completed"
    },
    "tags": []
   },
   "source": [
    "# 5 Label encoding/factorizing the remaining character variables"
   ]
  },
  {
   "cell_type": "markdown",
   "id": "42ec995f",
   "metadata": {
    "papermill": {
     "duration": 0.0092,
     "end_time": "2022-08-07T10:32:57.453174",
     "exception": false,
     "start_time": "2022-08-07T10:32:57.443974",
     "status": "completed"
    },
    "tags": []
   },
   "source": [
    "The categorical features are the followings ['B_30', 'B_38', 'D_114', 'D_116', 'D_117', 'D_120', 'D_126', 'D_63', 'D_64', 'D_66', 'D_68']"
   ]
  },
  {
   "cell_type": "code",
   "execution_count": 8,
   "id": "3627e0a8",
   "metadata": {
    "execution": {
     "iopub.execute_input": "2022-08-07T10:32:57.482518Z",
     "iopub.status.busy": "2022-08-07T10:32:57.482107Z",
     "iopub.status.idle": "2022-08-07T10:32:57.609818Z",
     "shell.execute_reply": "2022-08-07T10:32:57.608673Z"
    },
    "papermill": {
     "duration": 0.143147,
     "end_time": "2022-08-07T10:32:57.613828",
     "exception": false,
     "start_time": "2022-08-07T10:32:57.470681",
     "status": "completed"
    },
    "tags": []
   },
   "outputs": [
    {
     "name": "stdout",
     "output_type": "stream",
     "text": [
      " 0    961470\n",
      " 1    164433\n",
      " 2     10194\n",
      "-1       282\n",
      "Name: B_30, dtype: int64\n",
      " 2    412646\n",
      " 3    278316\n",
      " 1    208135\n",
      " 5     87714\n",
      " 7     63844\n",
      " 4     49625\n",
      " 6     35817\n",
      "-1       282\n",
      "Name: B_38, dtype: int64\n",
      " 1    696384\n",
      " 0    411464\n",
      "-1     28531\n",
      "Name: D_114, dtype: int64\n",
      " 0    1104401\n",
      "-1      28531\n",
      " 1       3447\n",
      "Name: D_116, dtype: int64\n",
      " 0    308562\n",
      " 5    243201\n",
      " 4    231095\n",
      " 3    124772\n",
      " 6     98549\n",
      " 7     80825\n",
      "-1     28531\n",
      " 2     20844\n",
      "Name: D_117, dtype: int64\n",
      " 0    881450\n",
      " 1    226398\n",
      "-1     28531\n",
      "Name: D_120, dtype: int64\n",
      " 2    863914\n",
      " 1    233226\n",
      " 0     30999\n",
      "-1      8240\n",
      "Name: D_126, dtype: int64\n",
      "3    841824\n",
      "0    182936\n",
      "4     92931\n",
      "1     11124\n",
      "2      4877\n",
      "5      2687\n",
      "Name: D_63, dtype: int64\n",
      " 0    600856\n",
      " 3    294472\n",
      " 2    203076\n",
      "-1     37975\n",
      "Name: D_64, dtype: int64\n",
      "-1    1002737\n",
      " 1     133642\n",
      "Name: D_66, dtype: int64\n",
      " 6    562717\n",
      " 5    262087\n",
      " 4    102719\n",
      " 3     98554\n",
      " 2     48456\n",
      "-1     34757\n",
      " 1     27089\n",
      "Name: D_68, dtype: int64\n"
     ]
    }
   ],
   "source": [
    "columns=['B_30', 'B_38', 'D_114', 'D_116', 'D_117', 'D_120', 'D_126', 'D_63', 'D_64', 'D_66', 'D_68'] \n",
    "for col in columns: \n",
    "    print(test[col].value_counts())"
   ]
  },
  {
   "cell_type": "markdown",
   "id": "474e297e",
   "metadata": {
    "papermill": {
     "duration": 0.009221,
     "end_time": "2022-08-07T10:32:57.634028",
     "exception": false,
     "start_time": "2022-08-07T10:32:57.624807",
     "status": "completed"
    },
    "tags": []
   },
   "source": [
    "* D_64 has category 1 missing which is present in training data set.\n",
    "* D_66 has category 0 missing which is present in training dataset.\n",
    "* D_68 has category 0 missing which is present in training dataset."
   ]
  },
  {
   "cell_type": "code",
   "execution_count": 9,
   "id": "4240544d",
   "metadata": {
    "execution": {
     "iopub.execute_input": "2022-08-07T10:32:57.655526Z",
     "iopub.status.busy": "2022-08-07T10:32:57.654756Z",
     "iopub.status.idle": "2022-08-07T10:32:57.661699Z",
     "shell.execute_reply": "2022-08-07T10:32:57.660523Z"
    },
    "papermill": {
     "duration": 0.020449,
     "end_time": "2022-08-07T10:32:57.664147",
     "exception": false,
     "start_time": "2022-08-07T10:32:57.643698",
     "status": "completed"
    },
    "tags": []
   },
   "outputs": [
    {
     "data": {
      "text/plain": [
       "<pandas.core.groupby.generic.DataFrameGroupBy object at 0x7f19f96d7910>"
      ]
     },
     "execution_count": 9,
     "metadata": {},
     "output_type": "execute_result"
    }
   ],
   "source": [
    "test.groupby(by=\"customer_ID\")"
   ]
  },
  {
   "cell_type": "markdown",
   "id": "ded15f57",
   "metadata": {
    "papermill": {
     "duration": 0.009622,
     "end_time": "2022-08-07T10:32:57.683894",
     "exception": false,
     "start_time": "2022-08-07T10:32:57.674272",
     "status": "completed"
    },
    "tags": []
   },
   "source": [
    "Here we factorize the date column."
   ]
  },
  {
   "cell_type": "code",
   "execution_count": 10,
   "id": "c90a1dc1",
   "metadata": {
    "execution": {
     "iopub.execute_input": "2022-08-07T10:32:57.706265Z",
     "iopub.status.busy": "2022-08-07T10:32:57.705495Z",
     "iopub.status.idle": "2022-08-07T10:32:59.709589Z",
     "shell.execute_reply": "2022-08-07T10:32:59.708465Z"
    },
    "papermill": {
     "duration": 2.018465,
     "end_time": "2022-08-07T10:32:59.712471",
     "exception": false,
     "start_time": "2022-08-07T10:32:57.694006",
     "status": "completed"
    },
    "tags": []
   },
   "outputs": [
    {
     "data": {
      "text/plain": [
       "0          18\n",
       "1          19\n",
       "2          20\n",
       "3          21\n",
       "4          22\n",
       "           ..\n",
       "1136374    21\n",
       "1136375    22\n",
       "1136376    23\n",
       "1136377    24\n",
       "1136378    25\n",
       "Name: S_2, Length: 1136379, dtype: int64"
      ]
     },
     "execution_count": 10,
     "metadata": {},
     "output_type": "execute_result"
    }
   ],
   "source": [
    "test[\"S_2\"]=test[\"S_2\"].str.slice(start=0,stop=7)\n",
    "mapping={\"2018-04\":13,\"2018-05\":14,\"2018-06\":15,\"2018-07\":16,\"2018-08\":17,\"2018-09\":18,\"2018-10\":19,\"2018-11\":20,\"2018-12\":21,\"2019-01\":22,\"2019-02\":23,\"2019-03\":24,\"2019-04\":25,\"2019-05\":26,\"2019-06\":27,\"2019-07\":28,\"2019-08\":29,\"2019-09\":30,\"2019-10\":31} \n",
    "test=test.replace({\"S_2\":mapping}) \n",
    "test[\"S_2\"]"
   ]
  },
  {
   "cell_type": "code",
   "execution_count": 11,
   "id": "1a031543",
   "metadata": {
    "execution": {
     "iopub.execute_input": "2022-08-07T10:32:59.735461Z",
     "iopub.status.busy": "2022-08-07T10:32:59.734116Z",
     "iopub.status.idle": "2022-08-07T10:33:00.016258Z",
     "shell.execute_reply": "2022-08-07T10:33:00.014995Z"
    },
    "papermill": {
     "duration": 0.296192,
     "end_time": "2022-08-07T10:33:00.018942",
     "exception": false,
     "start_time": "2022-08-07T10:32:59.722750",
     "status": "completed"
    },
    "tags": []
   },
   "outputs": [
    {
     "data": {
      "text/plain": [
       "0          0.183402\n",
       "1          0.183402\n",
       "2          0.183402\n",
       "3          0.183402\n",
       "4          0.183402\n",
       "             ...   \n",
       "1136374    0.183402\n",
       "1136375    0.183402\n",
       "1136376    0.183402\n",
       "1136377    0.183402\n",
       "1136378    0.183402\n",
       "Name: B_30, Length: 1136379, dtype: float64"
      ]
     },
     "execution_count": 11,
     "metadata": {},
     "output_type": "execute_result"
    }
   ],
   "source": [
    "mapping={0:0.183402,1:0.627797,2:0.612930,-1:0.356151}\n",
    "test=test.replace({\"B_30\":mapping}) \n",
    "test[\"B_30\"]"
   ]
  },
  {
   "cell_type": "code",
   "execution_count": 12,
   "id": "321df768",
   "metadata": {
    "execution": {
     "iopub.execute_input": "2022-08-07T10:33:00.040601Z",
     "iopub.status.busy": "2022-08-07T10:33:00.040171Z",
     "iopub.status.idle": "2022-08-07T10:33:00.205024Z",
     "shell.execute_reply": "2022-08-07T10:33:00.203678Z"
    },
    "papermill": {
     "duration": 0.178837,
     "end_time": "2022-08-07T10:33:00.207567",
     "exception": false,
     "start_time": "2022-08-07T10:33:00.028730",
     "status": "completed"
    },
    "tags": []
   },
   "outputs": [
    {
     "data": {
      "text/plain": [
       "0          0.063306\n",
       "1          0.063306\n",
       "2          0.063306\n",
       "3          0.063306\n",
       "4          0.063306\n",
       "             ...   \n",
       "1136374    0.135264\n",
       "1136375    0.135264\n",
       "1136376    0.135264\n",
       "1136377    0.135264\n",
       "1136378    0.135264\n",
       "Name: B_38, Length: 1136379, dtype: float64"
      ]
     },
     "execution_count": 12,
     "metadata": {},
     "output_type": "execute_result"
    }
   ],
   "source": [
    "mapping={2:0.063306,3:0.328604,1:0.135264,5:0.559430,4:0.699716,7:0.498865,6:0.614916,-1:0.356151}\n",
    "test=test.replace({\"B_38\":mapping}) \n",
    "test[\"B_38\"]"
   ]
  },
  {
   "cell_type": "code",
   "execution_count": 13,
   "id": "23492ffd",
   "metadata": {
    "execution": {
     "iopub.execute_input": "2022-08-07T10:33:00.228968Z",
     "iopub.status.busy": "2022-08-07T10:33:00.228584Z",
     "iopub.status.idle": "2022-08-07T10:33:00.463958Z",
     "shell.execute_reply": "2022-08-07T10:33:00.462571Z"
    },
    "papermill": {
     "duration": 0.249301,
     "end_time": "2022-08-07T10:33:00.466748",
     "exception": false,
     "start_time": "2022-08-07T10:33:00.217447",
     "status": "completed"
    },
    "tags": []
   },
   "outputs": [
    {
     "data": {
      "text/plain": [
       "0          0.179497\n",
       "1          0.179497\n",
       "2          0.179497\n",
       "3          0.179497\n",
       "4          0.179497\n",
       "             ...   \n",
       "1136374    0.345989\n",
       "1136375    0.345989\n",
       "1136376    0.345989\n",
       "1136377    0.345989\n",
       "1136378    0.345989\n",
       "Name: D_114, Length: 1136379, dtype: float64"
      ]
     },
     "execution_count": 13,
     "metadata": {},
     "output_type": "execute_result"
    }
   ],
   "source": [
    "mapping={1:0.179497,0:0.345989,-1:0.437736}\n",
    "test=test.replace({\"D_114\":mapping}) \n",
    "test[\"D_114\"]"
   ]
  },
  {
   "cell_type": "code",
   "execution_count": 14,
   "id": "bc9ae34f",
   "metadata": {
    "execution": {
     "iopub.execute_input": "2022-08-07T10:33:00.488643Z",
     "iopub.status.busy": "2022-08-07T10:33:00.488224Z",
     "iopub.status.idle": "2022-08-07T10:33:00.652996Z",
     "shell.execute_reply": "2022-08-07T10:33:00.651934Z"
    },
    "papermill": {
     "duration": 0.178406,
     "end_time": "2022-08-07T10:33:00.655267",
     "exception": false,
     "start_time": "2022-08-07T10:33:00.476861",
     "status": "completed"
    },
    "tags": []
   },
   "outputs": [
    {
     "data": {
      "text/plain": [
       "0          0.242413\n",
       "1          0.242413\n",
       "2          0.242413\n",
       "3          0.242413\n",
       "4          0.242413\n",
       "             ...   \n",
       "1136374    0.242413\n",
       "1136375    0.242413\n",
       "1136376    0.242413\n",
       "1136377    0.242413\n",
       "1136378    0.242413\n",
       "Name: D_116, Length: 1136379, dtype: float64"
      ]
     },
     "execution_count": 14,
     "metadata": {},
     "output_type": "execute_result"
    }
   ],
   "source": [
    "mapping={0:0.242413,-1:0.437736,1:0.613341}\n",
    "test=test.replace({\"D_116\":mapping}) \n",
    "test[\"D_116\"]"
   ]
  },
  {
   "cell_type": "code",
   "execution_count": 15,
   "id": "be900da6",
   "metadata": {
    "execution": {
     "iopub.execute_input": "2022-08-07T10:33:00.677769Z",
     "iopub.status.busy": "2022-08-07T10:33:00.677246Z",
     "iopub.status.idle": "2022-08-07T10:33:01.066425Z",
     "shell.execute_reply": "2022-08-07T10:33:01.065258Z"
    },
    "papermill": {
     "duration": 0.403533,
     "end_time": "2022-08-07T10:33:01.068922",
     "exception": false,
     "start_time": "2022-08-07T10:33:00.665389",
     "status": "completed"
    },
    "tags": []
   },
   "outputs": [
    {
     "data": {
      "text/plain": [
       "0          0.173700\n",
       "1          0.173700\n",
       "2          0.173700\n",
       "3          0.173700\n",
       "4          0.173700\n",
       "             ...   \n",
       "1136374    0.134076\n",
       "1136375    0.134076\n",
       "1136376    0.134076\n",
       "1136377    0.134076\n",
       "1136378    0.134076\n",
       "Name: D_117, Length: 1136379, dtype: float64"
      ]
     },
     "execution_count": 15,
     "metadata": {},
     "output_type": "execute_result"
    }
   ],
   "source": [
    "mapping={0:0.273270,4:0.269573,5:0.173700,3:0.340783,6:0.135087,7:0.134076,-1:0.437736,2:0.446632}\n",
    "test=test.replace({\"D_117\":mapping}) \n",
    "test[\"D_117\"]"
   ]
  },
  {
   "cell_type": "code",
   "execution_count": 16,
   "id": "fdda638f",
   "metadata": {
    "execution": {
     "iopub.execute_input": "2022-08-07T10:33:01.091429Z",
     "iopub.status.busy": "2022-08-07T10:33:01.090913Z",
     "iopub.status.idle": "2022-08-07T10:33:01.260866Z",
     "shell.execute_reply": "2022-08-07T10:33:01.259726Z"
    },
    "papermill": {
     "duration": 0.184279,
     "end_time": "2022-08-07T10:33:01.263476",
     "exception": false,
     "start_time": "2022-08-07T10:33:01.079197",
     "status": "completed"
    },
    "tags": []
   },
   "outputs": [
    {
     "data": {
      "text/plain": [
       "0          0.212713\n",
       "1          0.212713\n",
       "2          0.212713\n",
       "3          0.212713\n",
       "4          0.212713\n",
       "             ...   \n",
       "1136374    0.471097\n",
       "1136375    0.471097\n",
       "1136376    0.471097\n",
       "1136377    0.471097\n",
       "1136378    0.471097\n",
       "Name: D_120, Length: 1136379, dtype: float64"
      ]
     },
     "execution_count": 16,
     "metadata": {},
     "output_type": "execute_result"
    }
   ],
   "source": [
    "mapping={0:0.212713,1:0.471097,-1:0.437736}\n",
    "test=test.replace({\"D_120\":mapping}) \n",
    "test[\"D_120\"]"
   ]
  },
  {
   "cell_type": "code",
   "execution_count": 17,
   "id": "acb6c254",
   "metadata": {
    "execution": {
     "iopub.execute_input": "2022-08-07T10:33:01.286597Z",
     "iopub.status.busy": "2022-08-07T10:33:01.286092Z",
     "iopub.status.idle": "2022-08-07T10:33:01.662769Z",
     "shell.execute_reply": "2022-08-07T10:33:01.661247Z"
    },
    "papermill": {
     "duration": 0.391443,
     "end_time": "2022-08-07T10:33:01.665646",
     "exception": false,
     "start_time": "2022-08-07T10:33:01.274203",
     "status": "completed"
    },
    "tags": []
   },
   "outputs": [
    {
     "data": {
      "text/plain": [
       "0          0.232809\n",
       "1          0.232809\n",
       "2          0.232809\n",
       "3          0.232809\n",
       "4          0.232809\n",
       "             ...   \n",
       "1136374    0.232809\n",
       "1136375    0.232809\n",
       "1136376    0.232809\n",
       "1136377    0.232809\n",
       "1136378    0.232809\n",
       "Name: D_126, Length: 1136379, dtype: float64"
      ]
     },
     "execution_count": 17,
     "metadata": {},
     "output_type": "execute_result"
    }
   ],
   "source": [
    "mapping={2:0.232809,1:0.309875,0:0.209538,-1:0.468044}\n",
    "test=test.replace({\"D_126\":mapping}) \n",
    "test[\"D_126\"]"
   ]
  },
  {
   "cell_type": "code",
   "execution_count": 18,
   "id": "7d5850ed",
   "metadata": {
    "execution": {
     "iopub.execute_input": "2022-08-07T10:33:01.689274Z",
     "iopub.status.busy": "2022-08-07T10:33:01.688808Z",
     "iopub.status.idle": "2022-08-07T10:33:01.865881Z",
     "shell.execute_reply": "2022-08-07T10:33:01.864413Z"
    },
    "papermill": {
     "duration": 0.192494,
     "end_time": "2022-08-07T10:33:01.868990",
     "exception": false,
     "start_time": "2022-08-07T10:33:01.676496",
     "status": "completed"
    },
    "tags": []
   },
   "outputs": [
    {
     "data": {
      "text/plain": [
       "0          0.169865\n",
       "1          0.169865\n",
       "2          0.169865\n",
       "3          0.169865\n",
       "4          0.169865\n",
       "             ...   \n",
       "1136374    0.262817\n",
       "1136375    0.262817\n",
       "1136376    0.262817\n",
       "1136377    0.262817\n",
       "1136378    0.262817\n",
       "Name: D_63, Length: 1136379, dtype: float64"
      ]
     },
     "execution_count": 18,
     "metadata": {},
     "output_type": "execute_result"
    }
   ],
   "source": [
    "mapping={3:0.262817,0:0.169865,4:0.290894,1:0.190918,2:0.237401,5:0.317444}\n",
    "test=test.replace({\"D_63\":mapping}) \n",
    "test[\"D_63\"]"
   ]
  },
  {
   "cell_type": "code",
   "execution_count": 19,
   "id": "6d36572b",
   "metadata": {
    "execution": {
     "iopub.execute_input": "2022-08-07T10:33:01.892923Z",
     "iopub.status.busy": "2022-08-07T10:33:01.892471Z",
     "iopub.status.idle": "2022-08-07T10:33:02.268353Z",
     "shell.execute_reply": "2022-08-07T10:33:02.266900Z"
    },
    "papermill": {
     "duration": 0.391146,
     "end_time": "2022-08-07T10:33:02.271191",
     "exception": false,
     "start_time": "2022-08-07T10:33:01.880045",
     "status": "completed"
    },
    "tags": []
   },
   "outputs": [
    {
     "data": {
      "text/plain": [
       "0          0.343223\n",
       "1          0.343223\n",
       "2          0.343223\n",
       "3          0.343223\n",
       "4          0.343223\n",
       "             ...   \n",
       "1136374    0.315242\n",
       "1136375    0.315242\n",
       "1136376    0.315242\n",
       "1136377    0.315242\n",
       "1136378    0.315242\n",
       "Name: D_64, Length: 1136379, dtype: float64"
      ]
     },
     "execution_count": 19,
     "metadata": {},
     "output_type": "execute_result"
    }
   ],
   "source": [
    "mapping={0:0.169255,3:0.343223,2:0.315242,-1:0.408642,1:0.220723}\n",
    "test=test.replace({\"D_64\":mapping}) \n",
    "test[\"D_64\"]"
   ]
  },
  {
   "cell_type": "code",
   "execution_count": 20,
   "id": "9373fe99",
   "metadata": {
    "execution": {
     "iopub.execute_input": "2022-08-07T10:33:02.295511Z",
     "iopub.status.busy": "2022-08-07T10:33:02.295031Z",
     "iopub.status.idle": "2022-08-07T10:33:02.464126Z",
     "shell.execute_reply": "2022-08-07T10:33:02.462867Z"
    },
    "papermill": {
     "duration": 0.184805,
     "end_time": "2022-08-07T10:33:02.467223",
     "exception": false,
     "start_time": "2022-08-07T10:33:02.282418",
     "status": "completed"
    },
    "tags": []
   },
   "outputs": [
    {
     "data": {
      "text/plain": [
       "0          0.257171\n",
       "1          0.257171\n",
       "2          0.257171\n",
       "3          0.257171\n",
       "4          0.257171\n",
       "             ...   \n",
       "1136374    0.257171\n",
       "1136375    0.257171\n",
       "1136376    0.257171\n",
       "1136377    0.257171\n",
       "1136378    0.257171\n",
       "Name: D_66, Length: 1136379, dtype: float64"
      ]
     },
     "execution_count": 20,
     "metadata": {},
     "output_type": "execute_result"
    }
   ],
   "source": [
    "mapping={-1:0.257171,1:0.183504,0:0.383747}\n",
    "test=test.replace({\"D_66\":mapping}) \n",
    "test[\"D_66\"]"
   ]
  },
  {
   "cell_type": "code",
   "execution_count": 21,
   "id": "215a076a",
   "metadata": {
    "execution": {
     "iopub.execute_input": "2022-08-07T10:33:02.492863Z",
     "iopub.status.busy": "2022-08-07T10:33:02.491642Z",
     "iopub.status.idle": "2022-08-07T10:33:02.879511Z",
     "shell.execute_reply": "2022-08-07T10:33:02.878319Z"
    },
    "papermill": {
     "duration": 0.403552,
     "end_time": "2022-08-07T10:33:02.882115",
     "exception": false,
     "start_time": "2022-08-07T10:33:02.478563",
     "status": "completed"
    },
    "tags": []
   },
   "outputs": [
    {
     "data": {
      "text/plain": [
       "0          0.174952\n",
       "1          0.174952\n",
       "2          0.174952\n",
       "3          0.174952\n",
       "4          0.174952\n",
       "             ...   \n",
       "1136374    0.174952\n",
       "1136375    0.174952\n",
       "1136376    0.174952\n",
       "1136377    0.174952\n",
       "1136378    0.174952\n",
       "Name: D_68, Length: 1136379, dtype: float64"
      ]
     },
     "execution_count": 21,
     "metadata": {},
     "output_type": "execute_result"
    }
   ],
   "source": [
    "mapping={6:0.174952,5:0.262219,3:0.369780,4:0.343603,2:0.392902,-1:0.414493,1:0.403990,0:0.179717}\n",
    "test=test.replace({\"D_68\":mapping}) \n",
    "test[\"D_68\"]"
   ]
  },
  {
   "cell_type": "code",
   "execution_count": 22,
   "id": "0afe07c5",
   "metadata": {
    "execution": {
     "iopub.execute_input": "2022-08-07T10:33:02.906394Z",
     "iopub.status.busy": "2022-08-07T10:33:02.905884Z",
     "iopub.status.idle": "2022-08-07T10:33:03.144164Z",
     "shell.execute_reply": "2022-08-07T10:33:03.142643Z"
    },
    "papermill": {
     "duration": 0.25358,
     "end_time": "2022-08-07T10:33:03.146859",
     "exception": false,
     "start_time": "2022-08-07T10:33:02.893279",
     "status": "completed"
    },
    "tags": []
   },
   "outputs": [
    {
     "data": {
      "text/plain": [
       "0          0.275312\n",
       "1          0.277528\n",
       "2          0.279744\n",
       "3          0.281961\n",
       "4          0.284177\n",
       "             ...   \n",
       "1136374    0.281961\n",
       "1136375    0.284177\n",
       "1136376    0.286393\n",
       "1136377    0.288609\n",
       "1136378    0.290826\n",
       "Name: S_2, Length: 1136379, dtype: float64"
      ]
     },
     "execution_count": 22,
     "metadata": {},
     "output_type": "execute_result"
    }
   ],
   "source": [
    "x=pd.DataFrame(np.linspace(start=12,stop=0,num=13))\n",
    "y=pd.DataFrame([0.258934,0.257893,0.257176,0.256362,0.254698,0.252840,0.250988,0.248830,0.245882,0.242539,0.236346,0.238807,0.232017])\n",
    "\n",
    "mapping={}\n",
    "for i in range(13,32):\n",
    "    mapping[i]=(x[0].corr(y[0])*y[0].std()/x[0].std())*(i-x[0].mean())+y[0].mean()\n",
    "test=test.replace({\"S_2\":mapping}) \n",
    "test[\"S_2\"]"
   ]
  },
  {
   "cell_type": "markdown",
   "id": "feb3baf9",
   "metadata": {
    "papermill": {
     "duration": 0.011554,
     "end_time": "2022-08-07T10:33:03.169594",
     "exception": false,
     "start_time": "2022-08-07T10:33:03.158040",
     "status": "completed"
    },
    "tags": []
   },
   "source": [
    "# 6 Normalise all the numerical columns"
   ]
  },
  {
   "cell_type": "markdown",
   "id": "d0784ab9",
   "metadata": {
    "papermill": {
     "duration": 0.010868,
     "end_time": "2022-08-07T10:33:03.192015",
     "exception": false,
     "start_time": "2022-08-07T10:33:03.181147",
     "status": "completed"
    },
    "tags": []
   },
   "source": [
    "Here I normalize the numerical columns and change the data type to save some space. Here we have used min max normalizer."
   ]
  },
  {
   "cell_type": "markdown",
   "id": "dc026d1a",
   "metadata": {
    "papermill": {
     "duration": 0.010727,
     "end_time": "2022-08-07T10:33:03.213876",
     "exception": false,
     "start_time": "2022-08-07T10:33:03.203149",
     "status": "completed"
    },
    "tags": []
   },
   "source": [
    "There are still some null values which was giving us trouble during prediction. So we will remove them here."
   ]
  },
  {
   "cell_type": "code",
   "execution_count": 23,
   "id": "8952612b",
   "metadata": {
    "execution": {
     "iopub.execute_input": "2022-08-07T10:33:03.238562Z",
     "iopub.status.busy": "2022-08-07T10:33:03.237714Z",
     "iopub.status.idle": "2022-08-07T10:33:17.179119Z",
     "shell.execute_reply": "2022-08-07T10:33:17.177847Z"
    },
    "papermill": {
     "duration": 13.957388,
     "end_time": "2022-08-07T10:33:17.182282",
     "exception": false,
     "start_time": "2022-08-07T10:33:03.224894",
     "status": "completed"
    },
    "tags": []
   },
   "outputs": [],
   "source": [
    "for col in test.columns:\n",
    "    if col not in ['customer_ID', 'target', 'B_30', 'B_38', 'D_114', 'D_116', 'D_117', 'D_120', 'D_126', 'D_63', 'D_64', 'D_66', 'D_68','S_2']:\n",
    "        test[col].fillna(value=test[col].mean(),inplace=True)\n",
    "        test[col]=test[col]/(test[col].max()-test[col].min())\n",
    "    else:\n",
    "        test[col].fillna(value=test[col].mode(),inplace=True)\n",
    "    if col not in ['customer_ID', 'target']:\n",
    "        test[col]=test[col].astype(\"float16\")"
   ]
  },
  {
   "cell_type": "code",
   "execution_count": 24,
   "id": "f0138584",
   "metadata": {
    "execution": {
     "iopub.execute_input": "2022-08-07T10:33:17.207876Z",
     "iopub.status.busy": "2022-08-07T10:33:17.206933Z",
     "iopub.status.idle": "2022-08-07T10:33:18.433767Z",
     "shell.execute_reply": "2022-08-07T10:33:18.432371Z"
    },
    "papermill": {
     "duration": 1.242691,
     "end_time": "2022-08-07T10:33:18.436824",
     "exception": false,
     "start_time": "2022-08-07T10:33:17.194133",
     "status": "completed"
    },
    "tags": []
   },
   "outputs": [
    {
     "data": {
      "text/plain": [
       "0"
      ]
     },
     "execution_count": 24,
     "metadata": {},
     "output_type": "execute_result"
    }
   ],
   "source": [
    "test.isnull().values.sum()"
   ]
  },
  {
   "cell_type": "markdown",
   "id": "f802d094",
   "metadata": {
    "papermill": {
     "duration": 0.011356,
     "end_time": "2022-08-07T10:33:18.459913",
     "exception": false,
     "start_time": "2022-08-07T10:33:18.448557",
     "status": "completed"
    },
    "tags": []
   },
   "source": [
    "# 7 Upload the test data"
   ]
  },
  {
   "cell_type": "code",
   "execution_count": 25,
   "id": "62c4bad1",
   "metadata": {
    "execution": {
     "iopub.execute_input": "2022-08-07T10:33:18.485566Z",
     "iopub.status.busy": "2022-08-07T10:33:18.485086Z",
     "iopub.status.idle": "2022-08-07T10:45:44.678580Z",
     "shell.execute_reply": "2022-08-07T10:45:44.676599Z"
    },
    "papermill": {
     "duration": 746.212779,
     "end_time": "2022-08-07T10:45:44.684394",
     "exception": false,
     "start_time": "2022-08-07T10:33:18.471615",
     "status": "completed"
    },
    "tags": []
   },
   "outputs": [],
   "source": [
    "test.to_csv(\"test_1.csv.gzip\",compression=\"gzip\")"
   ]
  },
  {
   "cell_type": "code",
   "execution_count": null,
   "id": "03fe13aa",
   "metadata": {
    "papermill": {
     "duration": 0.012634,
     "end_time": "2022-08-07T10:45:44.721232",
     "exception": false,
     "start_time": "2022-08-07T10:45:44.708598",
     "status": "completed"
    },
    "tags": []
   },
   "outputs": [],
   "source": []
  }
 ],
 "metadata": {
  "kernelspec": {
   "display_name": "Python 3",
   "language": "python",
   "name": "python3"
  },
  "language_info": {
   "codemirror_mode": {
    "name": "ipython",
    "version": 3
   },
   "file_extension": ".py",
   "mimetype": "text/x-python",
   "name": "python",
   "nbconvert_exporter": "python",
   "pygments_lexer": "ipython3",
   "version": "3.7.12"
  },
  "papermill": {
   "default_parameters": {},
   "duration": 1021.953131,
   "end_time": "2022-08-07T10:45:46.167569",
   "environment_variables": {},
   "exception": null,
   "input_path": "__notebook__.ipynb",
   "output_path": "__notebook__.ipynb",
   "parameters": {},
   "start_time": "2022-08-07T10:28:44.214438",
   "version": "2.3.4"
  }
 },
 "nbformat": 4,
 "nbformat_minor": 5
}
