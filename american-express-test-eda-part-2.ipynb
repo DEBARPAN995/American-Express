{
 "cells": [
  {
   "cell_type": "markdown",
   "id": "ddd6f019",
   "metadata": {
    "papermill": {
     "duration": 0.00874,
     "end_time": "2022-08-04T23:24:35.774665",
     "exception": false,
     "start_time": "2022-08-04T23:24:35.765925",
     "status": "completed"
    },
    "tags": []
   },
   "source": [
    "# 1 Loading Libraries"
   ]
  },
  {
   "cell_type": "code",
   "execution_count": 1,
   "id": "ad05b6e9",
   "metadata": {
    "execution": {
     "iopub.execute_input": "2022-08-04T23:24:35.791852Z",
     "iopub.status.busy": "2022-08-04T23:24:35.791047Z",
     "iopub.status.idle": "2022-08-04T23:24:37.394468Z",
     "shell.execute_reply": "2022-08-04T23:24:37.393365Z"
    },
    "papermill": {
     "duration": 1.615286,
     "end_time": "2022-08-04T23:24:37.397405",
     "exception": false,
     "start_time": "2022-08-04T23:24:35.782119",
     "status": "completed"
    },
    "tags": []
   },
   "outputs": [],
   "source": [
    "import numpy as np\n",
    "import pandas as pd\n",
    "import matplotlib.pyplot as plt\n",
    "import seaborn as sns\n",
    "import gc\n",
    "import dask\n",
    "import dask.dataframe as df"
   ]
  },
  {
   "cell_type": "markdown",
   "id": "22cc950d",
   "metadata": {
    "papermill": {
     "duration": 0.00758,
     "end_time": "2022-08-04T23:24:37.412683",
     "exception": false,
     "start_time": "2022-08-04T23:24:37.405103",
     "status": "completed"
    },
    "tags": []
   },
   "source": [
    "# 2 Reading a part of the CSV"
   ]
  },
  {
   "cell_type": "code",
   "execution_count": 2,
   "id": "ab8cf507",
   "metadata": {
    "execution": {
     "iopub.execute_input": "2022-08-04T23:24:37.429608Z",
     "iopub.status.busy": "2022-08-04T23:24:37.429174Z",
     "iopub.status.idle": "2022-08-04T23:24:37.434296Z",
     "shell.execute_reply": "2022-08-04T23:24:37.432902Z"
    },
    "papermill": {
     "duration": 0.016544,
     "end_time": "2022-08-04T23:24:37.436824",
     "exception": false,
     "start_time": "2022-08-04T23:24:37.420280",
     "status": "completed"
    },
    "tags": []
   },
   "outputs": [],
   "source": [
    "skiprows=0\n",
    "nrows=1136376"
   ]
  },
  {
   "cell_type": "code",
   "execution_count": 3,
   "id": "572987a8",
   "metadata": {
    "execution": {
     "iopub.execute_input": "2022-08-04T23:24:37.454159Z",
     "iopub.status.busy": "2022-08-04T23:24:37.453383Z",
     "iopub.status.idle": "2022-08-04T23:25:14.822159Z",
     "shell.execute_reply": "2022-08-04T23:25:14.821159Z"
    },
    "papermill": {
     "duration": 37.380349,
     "end_time": "2022-08-04T23:25:14.824766",
     "exception": false,
     "start_time": "2022-08-04T23:24:37.444417",
     "status": "completed"
    },
    "tags": []
   },
   "outputs": [],
   "source": [
    "test=pd.read_csv(\"../input/test-eda-part1/test.csv.gzip\",compression=\"gzip\",skiprows=skiprows,nrows=nrows)"
   ]
  },
  {
   "cell_type": "markdown",
   "id": "7c495e5b",
   "metadata": {
    "papermill": {
     "duration": 0.007286,
     "end_time": "2022-08-04T23:25:14.840687",
     "exception": false,
     "start_time": "2022-08-04T23:25:14.833401",
     "status": "completed"
    },
    "tags": []
   },
   "source": [
    "# 3 Understanding the Data"
   ]
  },
  {
   "cell_type": "markdown",
   "id": "82af4b03",
   "metadata": {
    "papermill": {
     "duration": 0.007136,
     "end_time": "2022-08-04T23:25:14.855271",
     "exception": false,
     "start_time": "2022-08-04T23:25:14.848135",
     "status": "completed"
    },
    "tags": []
   },
   "source": [
    "# 3.1 Shape of the Data"
   ]
  },
  {
   "cell_type": "code",
   "execution_count": 4,
   "id": "dd7d6fe5",
   "metadata": {
    "execution": {
     "iopub.execute_input": "2022-08-04T23:25:14.871816Z",
     "iopub.status.busy": "2022-08-04T23:25:14.871423Z",
     "iopub.status.idle": "2022-08-04T23:25:14.880534Z",
     "shell.execute_reply": "2022-08-04T23:25:14.879606Z"
    },
    "papermill": {
     "duration": 0.02088,
     "end_time": "2022-08-04T23:25:14.883653",
     "exception": false,
     "start_time": "2022-08-04T23:25:14.862773",
     "status": "completed"
    },
    "tags": []
   },
   "outputs": [
    {
     "data": {
      "text/plain": [
       "(1136376, 170)"
      ]
     },
     "execution_count": 4,
     "metadata": {},
     "output_type": "execute_result"
    }
   ],
   "source": [
    "test.shape"
   ]
  },
  {
   "cell_type": "markdown",
   "id": "1bd8bbd1",
   "metadata": {
    "papermill": {
     "duration": 0.007387,
     "end_time": "2022-08-04T23:25:14.899813",
     "exception": false,
     "start_time": "2022-08-04T23:25:14.892426",
     "status": "completed"
    },
    "tags": []
   },
   "source": [
    "# 3.2 Find the Data Types"
   ]
  },
  {
   "cell_type": "code",
   "execution_count": 5,
   "id": "0dd3dd81",
   "metadata": {
    "execution": {
     "iopub.execute_input": "2022-08-04T23:25:14.917489Z",
     "iopub.status.busy": "2022-08-04T23:25:14.916673Z",
     "iopub.status.idle": "2022-08-04T23:25:14.927450Z",
     "shell.execute_reply": "2022-08-04T23:25:14.926481Z"
    },
    "papermill": {
     "duration": 0.022562,
     "end_time": "2022-08-04T23:25:14.930063",
     "exception": false,
     "start_time": "2022-08-04T23:25:14.907501",
     "status": "completed"
    },
    "tags": []
   },
   "outputs": [
    {
     "data": {
      "text/plain": [
       "customer_ID     object\n",
       "S_2             object\n",
       "P_2            float64\n",
       "D_39             int64\n",
       "B_1            float64\n",
       "                ...   \n",
       "D_140            int64\n",
       "D_141          float64\n",
       "D_143            int64\n",
       "D_144          float64\n",
       "D_145            int64\n",
       "Length: 170, dtype: object"
      ]
     },
     "execution_count": 5,
     "metadata": {},
     "output_type": "execute_result"
    }
   ],
   "source": [
    "test.dtypes"
   ]
  },
  {
   "cell_type": "markdown",
   "id": "2ddac8d3",
   "metadata": {
    "papermill": {
     "duration": 0.007621,
     "end_time": "2022-08-04T23:25:14.945586",
     "exception": false,
     "start_time": "2022-08-04T23:25:14.937965",
     "status": "completed"
    },
    "tags": []
   },
   "source": [
    "# 3.3 Glimps of Data"
   ]
  },
  {
   "cell_type": "code",
   "execution_count": 6,
   "id": "45fd5bc7",
   "metadata": {
    "execution": {
     "iopub.execute_input": "2022-08-04T23:25:14.963620Z",
     "iopub.status.busy": "2022-08-04T23:25:14.963037Z",
     "iopub.status.idle": "2022-08-04T23:25:14.997044Z",
     "shell.execute_reply": "2022-08-04T23:25:14.995903Z"
    },
    "papermill": {
     "duration": 0.045652,
     "end_time": "2022-08-04T23:25:14.999365",
     "exception": false,
     "start_time": "2022-08-04T23:25:14.953713",
     "status": "completed"
    },
    "tags": []
   },
   "outputs": [
    {
     "data": {
      "text/html": [
       "<div>\n",
       "<style scoped>\n",
       "    .dataframe tbody tr th:only-of-type {\n",
       "        vertical-align: middle;\n",
       "    }\n",
       "\n",
       "    .dataframe tbody tr th {\n",
       "        vertical-align: top;\n",
       "    }\n",
       "\n",
       "    .dataframe thead th {\n",
       "        text-align: right;\n",
       "    }\n",
       "</style>\n",
       "<table border=\"1\" class=\"dataframe\">\n",
       "  <thead>\n",
       "    <tr style=\"text-align: right;\">\n",
       "      <th></th>\n",
       "      <th>customer_ID</th>\n",
       "      <th>S_2</th>\n",
       "      <th>P_2</th>\n",
       "      <th>D_39</th>\n",
       "      <th>B_1</th>\n",
       "      <th>B_2</th>\n",
       "      <th>R_1</th>\n",
       "      <th>D_41</th>\n",
       "      <th>B_3</th>\n",
       "      <th>D_43</th>\n",
       "      <th>...</th>\n",
       "      <th>D_135</th>\n",
       "      <th>D_136</th>\n",
       "      <th>D_137</th>\n",
       "      <th>D_138</th>\n",
       "      <th>D_139</th>\n",
       "      <th>D_140</th>\n",
       "      <th>D_141</th>\n",
       "      <th>D_143</th>\n",
       "      <th>D_144</th>\n",
       "      <th>D_145</th>\n",
       "    </tr>\n",
       "  </thead>\n",
       "  <tbody>\n",
       "    <tr>\n",
       "      <th>0</th>\n",
       "      <td>00000469ba478561f23a92a868bd366de6f6527a684c9a...</td>\n",
       "      <td>2019-02-19</td>\n",
       "      <td>0.631315</td>\n",
       "      <td>0</td>\n",
       "      <td>0.010728</td>\n",
       "      <td>0.814497</td>\n",
       "      <td>0.0</td>\n",
       "      <td>0.0</td>\n",
       "      <td>0.002347</td>\n",
       "      <td>1.031165</td>\n",
       "      <td>...</td>\n",
       "      <td>-1</td>\n",
       "      <td>-1</td>\n",
       "      <td>-1</td>\n",
       "      <td>-1</td>\n",
       "      <td>-1</td>\n",
       "      <td>0</td>\n",
       "      <td>0.0</td>\n",
       "      <td>-1</td>\n",
       "      <td>0.008281</td>\n",
       "      <td>-1</td>\n",
       "    </tr>\n",
       "    <tr>\n",
       "      <th>1</th>\n",
       "      <td>00000469ba478561f23a92a868bd366de6f6527a684c9a...</td>\n",
       "      <td>2019-03-25</td>\n",
       "      <td>0.587042</td>\n",
       "      <td>0</td>\n",
       "      <td>0.011026</td>\n",
       "      <td>0.810848</td>\n",
       "      <td>0.0</td>\n",
       "      <td>0.0</td>\n",
       "      <td>0.009132</td>\n",
       "      <td>1.031165</td>\n",
       "      <td>...</td>\n",
       "      <td>-1</td>\n",
       "      <td>-1</td>\n",
       "      <td>-1</td>\n",
       "      <td>-1</td>\n",
       "      <td>0</td>\n",
       "      <td>0</td>\n",
       "      <td>0.0</td>\n",
       "      <td>0</td>\n",
       "      <td>0.003753</td>\n",
       "      <td>0</td>\n",
       "    </tr>\n",
       "    <tr>\n",
       "      <th>2</th>\n",
       "      <td>00000469ba478561f23a92a868bd366de6f6527a684c9a...</td>\n",
       "      <td>2019-04-25</td>\n",
       "      <td>0.609056</td>\n",
       "      <td>0</td>\n",
       "      <td>0.016390</td>\n",
       "      <td>1.004620</td>\n",
       "      <td>0.0</td>\n",
       "      <td>0.0</td>\n",
       "      <td>0.004192</td>\n",
       "      <td>1.031165</td>\n",
       "      <td>...</td>\n",
       "      <td>-1</td>\n",
       "      <td>-1</td>\n",
       "      <td>-1</td>\n",
       "      <td>-1</td>\n",
       "      <td>0</td>\n",
       "      <td>0</td>\n",
       "      <td>0.0</td>\n",
       "      <td>0</td>\n",
       "      <td>0.002156</td>\n",
       "      <td>0</td>\n",
       "    </tr>\n",
       "    <tr>\n",
       "      <th>3</th>\n",
       "      <td>00000469ba478561f23a92a868bd366de6f6527a684c9a...</td>\n",
       "      <td>2019-05-20</td>\n",
       "      <td>0.614911</td>\n",
       "      <td>0</td>\n",
       "      <td>0.021672</td>\n",
       "      <td>0.816549</td>\n",
       "      <td>0.0</td>\n",
       "      <td>0.0</td>\n",
       "      <td>0.015325</td>\n",
       "      <td>1.031165</td>\n",
       "      <td>...</td>\n",
       "      <td>-1</td>\n",
       "      <td>-1</td>\n",
       "      <td>-1</td>\n",
       "      <td>-1</td>\n",
       "      <td>0</td>\n",
       "      <td>0</td>\n",
       "      <td>0.0</td>\n",
       "      <td>0</td>\n",
       "      <td>0.005206</td>\n",
       "      <td>0</td>\n",
       "    </tr>\n",
       "    <tr>\n",
       "      <th>4</th>\n",
       "      <td>00000469ba478561f23a92a868bd366de6f6527a684c9a...</td>\n",
       "      <td>2019-06-15</td>\n",
       "      <td>0.591673</td>\n",
       "      <td>8</td>\n",
       "      <td>0.015923</td>\n",
       "      <td>0.810456</td>\n",
       "      <td>0.0</td>\n",
       "      <td>0.0</td>\n",
       "      <td>0.011281</td>\n",
       "      <td>1.031165</td>\n",
       "      <td>...</td>\n",
       "      <td>-1</td>\n",
       "      <td>-1</td>\n",
       "      <td>-1</td>\n",
       "      <td>-1</td>\n",
       "      <td>0</td>\n",
       "      <td>0</td>\n",
       "      <td>0.0</td>\n",
       "      <td>0</td>\n",
       "      <td>0.007421</td>\n",
       "      <td>0</td>\n",
       "    </tr>\n",
       "  </tbody>\n",
       "</table>\n",
       "<p>5 rows × 170 columns</p>\n",
       "</div>"
      ],
      "text/plain": [
       "                                         customer_ID         S_2       P_2  \\\n",
       "0  00000469ba478561f23a92a868bd366de6f6527a684c9a...  2019-02-19  0.631315   \n",
       "1  00000469ba478561f23a92a868bd366de6f6527a684c9a...  2019-03-25  0.587042   \n",
       "2  00000469ba478561f23a92a868bd366de6f6527a684c9a...  2019-04-25  0.609056   \n",
       "3  00000469ba478561f23a92a868bd366de6f6527a684c9a...  2019-05-20  0.614911   \n",
       "4  00000469ba478561f23a92a868bd366de6f6527a684c9a...  2019-06-15  0.591673   \n",
       "\n",
       "   D_39       B_1       B_2  R_1  D_41       B_3      D_43  ...  D_135  D_136  \\\n",
       "0     0  0.010728  0.814497  0.0   0.0  0.002347  1.031165  ...     -1     -1   \n",
       "1     0  0.011026  0.810848  0.0   0.0  0.009132  1.031165  ...     -1     -1   \n",
       "2     0  0.016390  1.004620  0.0   0.0  0.004192  1.031165  ...     -1     -1   \n",
       "3     0  0.021672  0.816549  0.0   0.0  0.015325  1.031165  ...     -1     -1   \n",
       "4     8  0.015923  0.810456  0.0   0.0  0.011281  1.031165  ...     -1     -1   \n",
       "\n",
       "   D_137  D_138  D_139  D_140  D_141  D_143     D_144  D_145  \n",
       "0     -1     -1     -1      0    0.0     -1  0.008281     -1  \n",
       "1     -1     -1      0      0    0.0      0  0.003753      0  \n",
       "2     -1     -1      0      0    0.0      0  0.002156      0  \n",
       "3     -1     -1      0      0    0.0      0  0.005206      0  \n",
       "4     -1     -1      0      0    0.0      0  0.007421      0  \n",
       "\n",
       "[5 rows x 170 columns]"
      ]
     },
     "execution_count": 6,
     "metadata": {},
     "output_type": "execute_result"
    }
   ],
   "source": [
    "test.head()"
   ]
  },
  {
   "cell_type": "markdown",
   "id": "7766738d",
   "metadata": {
    "papermill": {
     "duration": 0.007907,
     "end_time": "2022-08-04T23:25:15.015552",
     "exception": false,
     "start_time": "2022-08-04T23:25:15.007645",
     "status": "completed"
    },
    "tags": []
   },
   "source": [
    "Thus we can reduce the size of the data to float16"
   ]
  },
  {
   "cell_type": "markdown",
   "id": "967adee3",
   "metadata": {
    "papermill": {
     "duration": 0.007835,
     "end_time": "2022-08-04T23:25:15.031529",
     "exception": false,
     "start_time": "2022-08-04T23:25:15.023694",
     "status": "completed"
    },
    "tags": []
   },
   "source": [
    "# 4 Data Compression"
   ]
  },
  {
   "cell_type": "code",
   "execution_count": 7,
   "id": "99470448",
   "metadata": {
    "execution": {
     "iopub.execute_input": "2022-08-04T23:25:15.050343Z",
     "iopub.status.busy": "2022-08-04T23:25:15.049535Z",
     "iopub.status.idle": "2022-08-04T23:25:40.634441Z",
     "shell.execute_reply": "2022-08-04T23:25:40.632063Z"
    },
    "papermill": {
     "duration": 25.600058,
     "end_time": "2022-08-04T23:25:40.639853",
     "exception": false,
     "start_time": "2022-08-04T23:25:15.039795",
     "status": "completed"
    },
    "tags": []
   },
   "outputs": [],
   "source": [
    "for col in test.columns:\n",
    "    if col not in ['customer_ID', 'target', 'B_30', 'B_38', 'D_114', 'D_116', 'D_117', 'D_120', 'D_126', 'D_63', 'D_64', 'D_66', 'D_68','S_2']:\n",
    "        test[col]=test[col]/(test[col].max()-test[col].min())\n",
    "    if col not in ['customer_ID', 'target', 'B_30', 'B_38', 'D_114', 'D_116', 'D_117', 'D_120', 'D_126', 'D_63', 'D_64', 'D_66', 'D_68','S_2']:\n",
    "        test[col]=test[col].astype(\"float16\")"
   ]
  },
  {
   "cell_type": "markdown",
   "id": "de82fa1f",
   "metadata": {
    "papermill": {
     "duration": 0.007938,
     "end_time": "2022-08-04T23:25:40.658666",
     "exception": false,
     "start_time": "2022-08-04T23:25:40.650728",
     "status": "completed"
    },
    "tags": []
   },
   "source": [
    "# 5 Label encoding/factorizing the remaining character variables"
   ]
  },
  {
   "cell_type": "markdown",
   "id": "09b73ccc",
   "metadata": {
    "papermill": {
     "duration": 0.007941,
     "end_time": "2022-08-04T23:25:40.674801",
     "exception": false,
     "start_time": "2022-08-04T23:25:40.666860",
     "status": "completed"
    },
    "tags": []
   },
   "source": [
    "The categorical features are the followings ['B_30', 'B_38', 'D_114', 'D_116', 'D_117', 'D_120', 'D_126', 'D_63', 'D_64', 'D_66', 'D_68']"
   ]
  },
  {
   "cell_type": "code",
   "execution_count": 8,
   "id": "7e0a9611",
   "metadata": {
    "execution": {
     "iopub.execute_input": "2022-08-04T23:25:40.693871Z",
     "iopub.status.busy": "2022-08-04T23:25:40.692854Z",
     "iopub.status.idle": "2022-08-04T23:25:40.823614Z",
     "shell.execute_reply": "2022-08-04T23:25:40.822389Z"
    },
    "papermill": {
     "duration": 0.144211,
     "end_time": "2022-08-04T23:25:40.827086",
     "exception": false,
     "start_time": "2022-08-04T23:25:40.682875",
     "status": "completed"
    },
    "tags": []
   },
   "outputs": [
    {
     "name": "stdout",
     "output_type": "stream",
     "text": [
      " 0    963349\n",
      " 1    162530\n",
      " 2     10190\n",
      "-1       307\n",
      "Name: B_30, dtype: int64\n",
      " 2    413304\n",
      " 3    277283\n",
      " 1    210904\n",
      " 5     88326\n",
      " 7     62451\n",
      " 4     49343\n",
      " 6     34458\n",
      "-1       307\n",
      "Name: B_38, dtype: int64\n",
      " 1    698399\n",
      " 0    409915\n",
      "-1     28062\n",
      "Name: D_114, dtype: int64\n",
      " 0    1105269\n",
      "-1      28062\n",
      " 1       3045\n",
      "Name: D_116, dtype: int64\n",
      " 0    313184\n",
      " 5    241097\n",
      " 4    228537\n",
      " 3    124490\n",
      " 6     98995\n",
      " 7     80266\n",
      "-1     28062\n",
      " 2     21745\n",
      "Name: D_117, dtype: int64\n",
      " 0    882598\n",
      " 1    225716\n",
      "-1     28062\n",
      "Name: D_120, dtype: int64\n",
      " 2    865654\n",
      " 1    231805\n",
      " 0     30830\n",
      "-1      8087\n",
      "Name: D_126, dtype: int64\n",
      "3    841163\n",
      "0    185266\n",
      "4     91101\n",
      "1     11120\n",
      "2      5021\n",
      "5      2705\n",
      "Name: D_63, dtype: int64\n",
      " 0    600344\n",
      " 3    295432\n",
      " 2    202857\n",
      "-1     37743\n",
      "Name: D_64, dtype: int64\n",
      "-1    1001277\n",
      " 1     135099\n",
      "Name: D_66, dtype: int64\n",
      " 6    565011\n",
      " 5    258919\n",
      " 4    104134\n",
      " 3     99040\n",
      " 2     48057\n",
      "-1     34650\n",
      " 1     26565\n",
      "Name: D_68, dtype: int64\n"
     ]
    }
   ],
   "source": [
    "columns=['B_30', 'B_38', 'D_114', 'D_116', 'D_117', 'D_120', 'D_126', 'D_63', 'D_64', 'D_66', 'D_68'] \n",
    "for col in columns: \n",
    "    print(test[col].value_counts())"
   ]
  },
  {
   "cell_type": "markdown",
   "id": "2a11c047",
   "metadata": {
    "papermill": {
     "duration": 0.007901,
     "end_time": "2022-08-04T23:25:40.843443",
     "exception": false,
     "start_time": "2022-08-04T23:25:40.835542",
     "status": "completed"
    },
    "tags": []
   },
   "source": [
    "* D_64 has category 1 missing which is present in training data set.\n",
    "* D_66 has category 0 missing which is present in training dataset.\n",
    "* D_68 has category 0 missing which is present in training dataset."
   ]
  },
  {
   "cell_type": "code",
   "execution_count": 9,
   "id": "8a8d7e60",
   "metadata": {
    "execution": {
     "iopub.execute_input": "2022-08-04T23:25:40.861963Z",
     "iopub.status.busy": "2022-08-04T23:25:40.861582Z",
     "iopub.status.idle": "2022-08-04T23:25:40.869877Z",
     "shell.execute_reply": "2022-08-04T23:25:40.868775Z"
    },
    "papermill": {
     "duration": 0.020254,
     "end_time": "2022-08-04T23:25:40.872107",
     "exception": false,
     "start_time": "2022-08-04T23:25:40.851853",
     "status": "completed"
    },
    "tags": []
   },
   "outputs": [
    {
     "data": {
      "text/plain": [
       "<pandas.core.groupby.generic.DataFrameGroupBy object at 0x7f3a1a3c9c90>"
      ]
     },
     "execution_count": 9,
     "metadata": {},
     "output_type": "execute_result"
    }
   ],
   "source": [
    "test.groupby(by=\"customer_ID\")"
   ]
  },
  {
   "cell_type": "markdown",
   "id": "9f4cfe45",
   "metadata": {
    "papermill": {
     "duration": 0.009264,
     "end_time": "2022-08-04T23:25:40.890081",
     "exception": false,
     "start_time": "2022-08-04T23:25:40.880817",
     "status": "completed"
    },
    "tags": []
   },
   "source": [
    "Here we factorize the date column."
   ]
  },
  {
   "cell_type": "code",
   "execution_count": 10,
   "id": "50c77d24",
   "metadata": {
    "execution": {
     "iopub.execute_input": "2022-08-04T23:25:40.908645Z",
     "iopub.status.busy": "2022-08-04T23:25:40.907947Z",
     "iopub.status.idle": "2022-08-04T23:25:43.172994Z",
     "shell.execute_reply": "2022-08-04T23:25:43.171815Z"
    },
    "papermill": {
     "duration": 2.277169,
     "end_time": "2022-08-04T23:25:43.175654",
     "exception": false,
     "start_time": "2022-08-04T23:25:40.898485",
     "status": "completed"
    },
    "tags": []
   },
   "outputs": [
    {
     "data": {
      "text/plain": [
       "0          23\n",
       "1          24\n",
       "2          25\n",
       "3          26\n",
       "4          27\n",
       "           ..\n",
       "1136371    26\n",
       "1136372    27\n",
       "1136373    28\n",
       "1136374    30\n",
       "1136375    31\n",
       "Name: S_2, Length: 1136376, dtype: int64"
      ]
     },
     "execution_count": 10,
     "metadata": {},
     "output_type": "execute_result"
    }
   ],
   "source": [
    "test[\"S_2\"]=test[\"S_2\"].str.slice(start=0,stop=7)\n",
    "mapping={\"2018-04\":13,\"2018-05\":14,\"2018-06\":15,\"2018-07\":16,\"2018-08\":17,\"2018-09\":18,\"2018-10\":19,\"2018-11\":20,\"2018-12\":21,\"2019-01\":22,\"2019-02\":23,\"2019-03\":24,\"2019-04\":25,\"2019-05\":26,\"2019-06\":27,\"2019-07\":28,\"2019-08\":29,\"2019-09\":30,\"2019-10\":31} \n",
    "test=test.replace({\"S_2\":mapping}) \n",
    "test[\"S_2\"]"
   ]
  },
  {
   "cell_type": "code",
   "execution_count": 11,
   "id": "5cfa9943",
   "metadata": {
    "execution": {
     "iopub.execute_input": "2022-08-04T23:25:43.194247Z",
     "iopub.status.busy": "2022-08-04T23:25:43.193861Z",
     "iopub.status.idle": "2022-08-04T23:25:43.453750Z",
     "shell.execute_reply": "2022-08-04T23:25:43.452632Z"
    },
    "papermill": {
     "duration": 0.272479,
     "end_time": "2022-08-04T23:25:43.456542",
     "exception": false,
     "start_time": "2022-08-04T23:25:43.184063",
     "status": "completed"
    },
    "tags": []
   },
   "outputs": [
    {
     "data": {
      "text/plain": [
       "0          0.183402\n",
       "1          0.183402\n",
       "2          0.183402\n",
       "3          0.183402\n",
       "4          0.183402\n",
       "             ...   \n",
       "1136371    0.183402\n",
       "1136372    0.183402\n",
       "1136373    0.627797\n",
       "1136374    0.183402\n",
       "1136375    0.183402\n",
       "Name: B_30, Length: 1136376, dtype: float64"
      ]
     },
     "execution_count": 11,
     "metadata": {},
     "output_type": "execute_result"
    }
   ],
   "source": [
    "mapping={0:0.183402,1:0.627797,2:0.612930,-1:0.356151}\n",
    "test=test.replace({\"B_30\":mapping}) \n",
    "test[\"B_30\"]"
   ]
  },
  {
   "cell_type": "code",
   "execution_count": 12,
   "id": "253169bf",
   "metadata": {
    "execution": {
     "iopub.execute_input": "2022-08-04T23:25:43.475206Z",
     "iopub.status.busy": "2022-08-04T23:25:43.474826Z",
     "iopub.status.idle": "2022-08-04T23:25:43.699986Z",
     "shell.execute_reply": "2022-08-04T23:25:43.698762Z"
    },
    "papermill": {
     "duration": 0.237455,
     "end_time": "2022-08-04T23:25:43.702536",
     "exception": false,
     "start_time": "2022-08-04T23:25:43.465081",
     "status": "completed"
    },
    "tags": []
   },
   "outputs": [
    {
     "data": {
      "text/plain": [
       "0          0.135264\n",
       "1          0.135264\n",
       "2          0.063306\n",
       "3          0.063306\n",
       "4          0.063306\n",
       "             ...   \n",
       "1136371    0.328604\n",
       "1136372    0.559430\n",
       "1136373    0.559430\n",
       "1136374    0.328604\n",
       "1136375    0.328604\n",
       "Name: B_38, Length: 1136376, dtype: float64"
      ]
     },
     "execution_count": 12,
     "metadata": {},
     "output_type": "execute_result"
    }
   ],
   "source": [
    "mapping={2:0.063306,3:0.328604,1:0.135264,5:0.559430,4:0.699716,7:0.498865,6:0.614916,-1:0.356151}\n",
    "test=test.replace({\"B_38\":mapping}) \n",
    "test[\"B_38\"]"
   ]
  },
  {
   "cell_type": "code",
   "execution_count": 13,
   "id": "8dc36b7b",
   "metadata": {
    "execution": {
     "iopub.execute_input": "2022-08-04T23:25:43.722392Z",
     "iopub.status.busy": "2022-08-04T23:25:43.721194Z",
     "iopub.status.idle": "2022-08-04T23:25:43.940623Z",
     "shell.execute_reply": "2022-08-04T23:25:43.939697Z"
    },
    "papermill": {
     "duration": 0.231653,
     "end_time": "2022-08-04T23:25:43.942990",
     "exception": false,
     "start_time": "2022-08-04T23:25:43.711337",
     "status": "completed"
    },
    "tags": []
   },
   "outputs": [
    {
     "data": {
      "text/plain": [
       "0          0.437736\n",
       "1          0.437736\n",
       "2          0.437736\n",
       "3          0.437736\n",
       "4          0.345989\n",
       "             ...   \n",
       "1136371    0.179497\n",
       "1136372    0.179497\n",
       "1136373    0.179497\n",
       "1136374    0.179497\n",
       "1136375    0.179497\n",
       "Name: D_114, Length: 1136376, dtype: float64"
      ]
     },
     "execution_count": 13,
     "metadata": {},
     "output_type": "execute_result"
    }
   ],
   "source": [
    "mapping={1:0.179497,0:0.345989,-1:0.437736}\n",
    "test=test.replace({\"D_114\":mapping}) \n",
    "test[\"D_114\"]"
   ]
  },
  {
   "cell_type": "code",
   "execution_count": 14,
   "id": "7cd3955b",
   "metadata": {
    "execution": {
     "iopub.execute_input": "2022-08-04T23:25:43.962657Z",
     "iopub.status.busy": "2022-08-04T23:25:43.962266Z",
     "iopub.status.idle": "2022-08-04T23:25:44.185241Z",
     "shell.execute_reply": "2022-08-04T23:25:44.184059Z"
    },
    "papermill": {
     "duration": 0.235881,
     "end_time": "2022-08-04T23:25:44.187808",
     "exception": false,
     "start_time": "2022-08-04T23:25:43.951927",
     "status": "completed"
    },
    "tags": []
   },
   "outputs": [
    {
     "data": {
      "text/plain": [
       "0          0.437736\n",
       "1          0.437736\n",
       "2          0.437736\n",
       "3          0.437736\n",
       "4          0.242413\n",
       "             ...   \n",
       "1136371    0.242413\n",
       "1136372    0.242413\n",
       "1136373    0.242413\n",
       "1136374    0.242413\n",
       "1136375    0.242413\n",
       "Name: D_116, Length: 1136376, dtype: float64"
      ]
     },
     "execution_count": 14,
     "metadata": {},
     "output_type": "execute_result"
    }
   ],
   "source": [
    "mapping={0:0.242413,-1:0.437736,1:0.613341}\n",
    "test=test.replace({\"D_116\":mapping}) \n",
    "test[\"D_116\"]"
   ]
  },
  {
   "cell_type": "code",
   "execution_count": 15,
   "id": "e6f88916",
   "metadata": {
    "execution": {
     "iopub.execute_input": "2022-08-04T23:25:44.208207Z",
     "iopub.status.busy": "2022-08-04T23:25:44.207290Z",
     "iopub.status.idle": "2022-08-04T23:25:44.439465Z",
     "shell.execute_reply": "2022-08-04T23:25:44.438070Z"
    },
    "papermill": {
     "duration": 0.245082,
     "end_time": "2022-08-04T23:25:44.442022",
     "exception": false,
     "start_time": "2022-08-04T23:25:44.196940",
     "status": "completed"
    },
    "tags": []
   },
   "outputs": [
    {
     "data": {
      "text/plain": [
       "0          0.437736\n",
       "1          0.437736\n",
       "2          0.437736\n",
       "3          0.437736\n",
       "4          0.273270\n",
       "             ...   \n",
       "1136371    0.273270\n",
       "1136372    0.273270\n",
       "1136373    0.273270\n",
       "1136374    0.134076\n",
       "1136375    0.134076\n",
       "Name: D_117, Length: 1136376, dtype: float64"
      ]
     },
     "execution_count": 15,
     "metadata": {},
     "output_type": "execute_result"
    }
   ],
   "source": [
    "mapping={0:0.273270,4:0.269573,5:0.173700,3:0.340783,6:0.135087,7:0.134076,-1:0.437736,2:0.446632}\n",
    "test=test.replace({\"D_117\":mapping}) \n",
    "test[\"D_117\"]"
   ]
  },
  {
   "cell_type": "code",
   "execution_count": 16,
   "id": "6770b499",
   "metadata": {
    "execution": {
     "iopub.execute_input": "2022-08-04T23:25:44.462105Z",
     "iopub.status.busy": "2022-08-04T23:25:44.461696Z",
     "iopub.status.idle": "2022-08-04T23:25:44.689199Z",
     "shell.execute_reply": "2022-08-04T23:25:44.688137Z"
    },
    "papermill": {
     "duration": 0.240306,
     "end_time": "2022-08-04T23:25:44.691584",
     "exception": false,
     "start_time": "2022-08-04T23:25:44.451278",
     "status": "completed"
    },
    "tags": []
   },
   "outputs": [
    {
     "data": {
      "text/plain": [
       "0          0.437736\n",
       "1          0.437736\n",
       "2          0.437736\n",
       "3          0.437736\n",
       "4          0.471097\n",
       "             ...   \n",
       "1136371    0.471097\n",
       "1136372    0.471097\n",
       "1136373    0.471097\n",
       "1136374    0.471097\n",
       "1136375    0.471097\n",
       "Name: D_120, Length: 1136376, dtype: float64"
      ]
     },
     "execution_count": 16,
     "metadata": {},
     "output_type": "execute_result"
    }
   ],
   "source": [
    "mapping={0:0.212713,1:0.471097,-1:0.437736}\n",
    "test=test.replace({\"D_120\":mapping}) \n",
    "test[\"D_120\"]"
   ]
  },
  {
   "cell_type": "code",
   "execution_count": 17,
   "id": "a740c114",
   "metadata": {
    "execution": {
     "iopub.execute_input": "2022-08-04T23:25:44.712373Z",
     "iopub.status.busy": "2022-08-04T23:25:44.711615Z",
     "iopub.status.idle": "2022-08-04T23:25:44.938535Z",
     "shell.execute_reply": "2022-08-04T23:25:44.937366Z"
    },
    "papermill": {
     "duration": 0.239954,
     "end_time": "2022-08-04T23:25:44.940894",
     "exception": false,
     "start_time": "2022-08-04T23:25:44.700940",
     "status": "completed"
    },
    "tags": []
   },
   "outputs": [
    {
     "data": {
      "text/plain": [
       "0          0.309875\n",
       "1          0.309875\n",
       "2          0.309875\n",
       "3          0.309875\n",
       "4          0.309875\n",
       "             ...   \n",
       "1136371    0.232809\n",
       "1136372    0.232809\n",
       "1136373    0.232809\n",
       "1136374    0.232809\n",
       "1136375    0.232809\n",
       "Name: D_126, Length: 1136376, dtype: float64"
      ]
     },
     "execution_count": 17,
     "metadata": {},
     "output_type": "execute_result"
    }
   ],
   "source": [
    "mapping={2:0.232809,1:0.309875,0:0.209538,-1:0.468044}\n",
    "test=test.replace({\"D_126\":mapping}) \n",
    "test[\"D_126\"]"
   ]
  },
  {
   "cell_type": "code",
   "execution_count": 18,
   "id": "30d26cc3",
   "metadata": {
    "execution": {
     "iopub.execute_input": "2022-08-04T23:25:44.961735Z",
     "iopub.status.busy": "2022-08-04T23:25:44.961325Z",
     "iopub.status.idle": "2022-08-04T23:25:45.200122Z",
     "shell.execute_reply": "2022-08-04T23:25:45.199033Z"
    },
    "papermill": {
     "duration": 0.25195,
     "end_time": "2022-08-04T23:25:45.202585",
     "exception": false,
     "start_time": "2022-08-04T23:25:44.950635",
     "status": "completed"
    },
    "tags": []
   },
   "outputs": [
    {
     "data": {
      "text/plain": [
       "0          0.169865\n",
       "1          0.169865\n",
       "2          0.169865\n",
       "3          0.169865\n",
       "4          0.169865\n",
       "             ...   \n",
       "1136371    0.262817\n",
       "1136372    0.262817\n",
       "1136373    0.262817\n",
       "1136374    0.262817\n",
       "1136375    0.262817\n",
       "Name: D_63, Length: 1136376, dtype: float64"
      ]
     },
     "execution_count": 18,
     "metadata": {},
     "output_type": "execute_result"
    }
   ],
   "source": [
    "mapping={3:0.262817,0:0.169865,4:0.290894,1:0.190918,2:0.237401,5:0.317444}\n",
    "test=test.replace({\"D_63\":mapping}) \n",
    "test[\"D_63\"]"
   ]
  },
  {
   "cell_type": "code",
   "execution_count": 19,
   "id": "dacb9ecc",
   "metadata": {
    "execution": {
     "iopub.execute_input": "2022-08-04T23:25:45.223729Z",
     "iopub.status.busy": "2022-08-04T23:25:45.223328Z",
     "iopub.status.idle": "2022-08-04T23:25:45.452264Z",
     "shell.execute_reply": "2022-08-04T23:25:45.451114Z"
    },
    "papermill": {
     "duration": 0.24269,
     "end_time": "2022-08-04T23:25:45.454777",
     "exception": false,
     "start_time": "2022-08-04T23:25:45.212087",
     "status": "completed"
    },
    "tags": []
   },
   "outputs": [
    {
     "data": {
      "text/plain": [
       "0          0.408642\n",
       "1          0.408642\n",
       "2          0.408642\n",
       "3          0.408642\n",
       "4          0.343223\n",
       "             ...   \n",
       "1136371    0.169255\n",
       "1136372    0.315242\n",
       "1136373    0.315242\n",
       "1136374    0.169255\n",
       "1136375    0.169255\n",
       "Name: D_64, Length: 1136376, dtype: float64"
      ]
     },
     "execution_count": 19,
     "metadata": {},
     "output_type": "execute_result"
    }
   ],
   "source": [
    "mapping={0:0.169255,3:0.343223,2:0.315242,-1:0.408642,1:0.220723}\n",
    "test=test.replace({\"D_64\":mapping}) \n",
    "test[\"D_64\"]"
   ]
  },
  {
   "cell_type": "code",
   "execution_count": 20,
   "id": "c09090a0",
   "metadata": {
    "execution": {
     "iopub.execute_input": "2022-08-04T23:25:45.476044Z",
     "iopub.status.busy": "2022-08-04T23:25:45.474753Z",
     "iopub.status.idle": "2022-08-04T23:25:45.708482Z",
     "shell.execute_reply": "2022-08-04T23:25:45.707279Z"
    },
    "papermill": {
     "duration": 0.246935,
     "end_time": "2022-08-04T23:25:45.711093",
     "exception": false,
     "start_time": "2022-08-04T23:25:45.464158",
     "status": "completed"
    },
    "tags": []
   },
   "outputs": [
    {
     "data": {
      "text/plain": [
       "0          0.257171\n",
       "1          0.257171\n",
       "2          0.257171\n",
       "3          0.257171\n",
       "4          0.257171\n",
       "             ...   \n",
       "1136371    0.257171\n",
       "1136372    0.257171\n",
       "1136373    0.257171\n",
       "1136374    0.257171\n",
       "1136375    0.257171\n",
       "Name: D_66, Length: 1136376, dtype: float64"
      ]
     },
     "execution_count": 20,
     "metadata": {},
     "output_type": "execute_result"
    }
   ],
   "source": [
    "mapping={-1:0.257171,1:0.183504,0:0.383747}\n",
    "test=test.replace({\"D_66\":mapping}) \n",
    "test[\"D_66\"]"
   ]
  },
  {
   "cell_type": "code",
   "execution_count": 21,
   "id": "289b4651",
   "metadata": {
    "execution": {
     "iopub.execute_input": "2022-08-04T23:25:45.733606Z",
     "iopub.status.busy": "2022-08-04T23:25:45.733119Z",
     "iopub.status.idle": "2022-08-04T23:25:45.976672Z",
     "shell.execute_reply": "2022-08-04T23:25:45.975526Z"
    },
    "papermill": {
     "duration": 0.257782,
     "end_time": "2022-08-04T23:25:45.979265",
     "exception": false,
     "start_time": "2022-08-04T23:25:45.721483",
     "status": "completed"
    },
    "tags": []
   },
   "outputs": [
    {
     "data": {
      "text/plain": [
       "0          0.414493\n",
       "1          0.414493\n",
       "2          0.414493\n",
       "3          0.414493\n",
       "4          0.174952\n",
       "             ...   \n",
       "1136371    0.343603\n",
       "1136372    0.174952\n",
       "1136373    0.174952\n",
       "1136374    0.262219\n",
       "1136375    0.262219\n",
       "Name: D_68, Length: 1136376, dtype: float64"
      ]
     },
     "execution_count": 21,
     "metadata": {},
     "output_type": "execute_result"
    }
   ],
   "source": [
    "mapping={6:0.174952,5:0.262219,3:0.369780,4:0.343603,2:0.392902,-1:0.414493,1:0.403990,0:0.179717}\n",
    "test=test.replace({\"D_68\":mapping}) \n",
    "test[\"D_68\"]"
   ]
  },
  {
   "cell_type": "code",
   "execution_count": 22,
   "id": "d9e2d910",
   "metadata": {
    "execution": {
     "iopub.execute_input": "2022-08-04T23:25:46.000660Z",
     "iopub.status.busy": "2022-08-04T23:25:45.999627Z",
     "iopub.status.idle": "2022-08-04T23:25:46.291439Z",
     "shell.execute_reply": "2022-08-04T23:25:46.290344Z"
    },
    "papermill": {
     "duration": 0.305153,
     "end_time": "2022-08-04T23:25:46.293998",
     "exception": false,
     "start_time": "2022-08-04T23:25:45.988845",
     "status": "completed"
    },
    "tags": []
   },
   "outputs": [
    {
     "data": {
      "text/plain": [
       "0          0.286393\n",
       "1          0.288609\n",
       "2          0.290826\n",
       "3          0.293042\n",
       "4          0.295258\n",
       "             ...   \n",
       "1136371    0.293042\n",
       "1136372    0.295258\n",
       "1136373    0.297474\n",
       "1136374    0.301907\n",
       "1136375    0.304123\n",
       "Name: S_2, Length: 1136376, dtype: float64"
      ]
     },
     "execution_count": 22,
     "metadata": {},
     "output_type": "execute_result"
    }
   ],
   "source": [
    "x=pd.DataFrame(np.linspace(start=12,stop=0,num=13))\n",
    "y=pd.DataFrame([0.258934,0.257893,0.257176,0.256362,0.254698,0.252840,0.250988,0.248830,0.245882,0.242539,0.236346,0.238807,0.232017])\n",
    "\n",
    "mapping={}\n",
    "for i in range(13,32):\n",
    "    mapping[i]=(x[0].corr(y[0])*y[0].std()/x[0].std())*(i-x[0].mean())+y[0].mean()\n",
    "test=test.replace({\"S_2\":mapping}) \n",
    "test[\"S_2\"]"
   ]
  },
  {
   "cell_type": "code",
   "execution_count": null,
   "id": "65ced5a4",
   "metadata": {
    "papermill": {
     "duration": 0.009455,
     "end_time": "2022-08-04T23:25:46.313285",
     "exception": false,
     "start_time": "2022-08-04T23:25:46.303830",
     "status": "completed"
    },
    "tags": []
   },
   "outputs": [],
   "source": []
  }
 ],
 "metadata": {
  "kernelspec": {
   "display_name": "Python 3",
   "language": "python",
   "name": "python3"
  },
  "language_info": {
   "codemirror_mode": {
    "name": "ipython",
    "version": 3
   },
   "file_extension": ".py",
   "mimetype": "text/x-python",
   "name": "python",
   "nbconvert_exporter": "python",
   "pygments_lexer": "ipython3",
   "version": "3.7.12"
  },
  "papermill": {
   "default_parameters": {},
   "duration": 80.729159,
   "end_time": "2022-08-04T23:25:47.347156",
   "environment_variables": {},
   "exception": null,
   "input_path": "__notebook__.ipynb",
   "output_path": "__notebook__.ipynb",
   "parameters": {},
   "start_time": "2022-08-04T23:24:26.617997",
   "version": "2.3.4"
  }
 },
 "nbformat": 4,
 "nbformat_minor": 5
}
