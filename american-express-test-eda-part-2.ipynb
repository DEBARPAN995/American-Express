{
 "cells": [
  {
   "cell_type": "markdown",
   "id": "b2fc07a9",
   "metadata": {
    "papermill": {
     "duration": 0.009382,
     "end_time": "2022-08-06T17:19:38.641125",
     "exception": false,
     "start_time": "2022-08-06T17:19:38.631743",
     "status": "completed"
    },
    "tags": []
   },
   "source": [
    "# 1 Loading Libraries"
   ]
  },
  {
   "cell_type": "code",
   "execution_count": 1,
   "id": "593c69b0",
   "metadata": {
    "execution": {
     "iopub.execute_input": "2022-08-06T17:19:38.660187Z",
     "iopub.status.busy": "2022-08-06T17:19:38.659242Z",
     "iopub.status.idle": "2022-08-06T17:19:39.762370Z",
     "shell.execute_reply": "2022-08-06T17:19:39.761424Z"
    },
    "papermill": {
     "duration": 1.115906,
     "end_time": "2022-08-06T17:19:39.765300",
     "exception": false,
     "start_time": "2022-08-06T17:19:38.649394",
     "status": "completed"
    },
    "tags": []
   },
   "outputs": [],
   "source": [
    "import numpy as np\n",
    "import pandas as pd\n",
    "import matplotlib.pyplot as plt\n",
    "import seaborn as sns\n",
    "import gc"
   ]
  },
  {
   "cell_type": "markdown",
   "id": "e3b432da",
   "metadata": {
    "papermill": {
     "duration": 0.008207,
     "end_time": "2022-08-06T17:19:39.782157",
     "exception": false,
     "start_time": "2022-08-06T17:19:39.773950",
     "status": "completed"
    },
    "tags": []
   },
   "source": [
    "# 2 Reading a part of the CSV"
   ]
  },
  {
   "cell_type": "code",
   "execution_count": 2,
   "id": "eca4e758",
   "metadata": {
    "execution": {
     "iopub.execute_input": "2022-08-06T17:19:39.800387Z",
     "iopub.status.busy": "2022-08-06T17:19:39.799958Z",
     "iopub.status.idle": "2022-08-06T17:19:39.804826Z",
     "shell.execute_reply": "2022-08-06T17:19:39.803466Z"
    },
    "papermill": {
     "duration": 0.016925,
     "end_time": "2022-08-06T17:19:39.807428",
     "exception": false,
     "start_time": "2022-08-06T17:19:39.790503",
     "status": "completed"
    },
    "tags": []
   },
   "outputs": [],
   "source": [
    "skiprows=10227384\n",
    "nrows=1704564"
   ]
  },
  {
   "cell_type": "code",
   "execution_count": 3,
   "id": "2ef3baa5",
   "metadata": {
    "execution": {
     "iopub.execute_input": "2022-08-06T17:19:39.825911Z",
     "iopub.status.busy": "2022-08-06T17:19:39.825490Z",
     "iopub.status.idle": "2022-08-06T17:23:12.380954Z",
     "shell.execute_reply": "2022-08-06T17:23:12.379982Z"
    },
    "papermill": {
     "duration": 212.568012,
     "end_time": "2022-08-06T17:23:12.383736",
     "exception": false,
     "start_time": "2022-08-06T17:19:39.815724",
     "status": "completed"
    },
    "tags": []
   },
   "outputs": [],
   "source": [
    "test=pd.read_csv(\"../input/testing/test.csv.gzip\",compression=\"gzip\",skiprows=range(1,skiprows),nrows=nrows)"
   ]
  },
  {
   "cell_type": "markdown",
   "id": "07e39150",
   "metadata": {
    "papermill": {
     "duration": 0.009109,
     "end_time": "2022-08-06T17:23:12.401480",
     "exception": false,
     "start_time": "2022-08-06T17:23:12.392371",
     "status": "completed"
    },
    "tags": []
   },
   "source": [
    "# 3 Understanding the Data"
   ]
  },
  {
   "cell_type": "markdown",
   "id": "80708661",
   "metadata": {
    "papermill": {
     "duration": 0.007896,
     "end_time": "2022-08-06T17:23:12.417466",
     "exception": false,
     "start_time": "2022-08-06T17:23:12.409570",
     "status": "completed"
    },
    "tags": []
   },
   "source": [
    "# 3.1 Shape of the Data"
   ]
  },
  {
   "cell_type": "code",
   "execution_count": 4,
   "id": "92e1ad0e",
   "metadata": {
    "execution": {
     "iopub.execute_input": "2022-08-06T17:23:12.435932Z",
     "iopub.status.busy": "2022-08-06T17:23:12.435546Z",
     "iopub.status.idle": "2022-08-06T17:23:12.444550Z",
     "shell.execute_reply": "2022-08-06T17:23:12.443462Z"
    },
    "papermill": {
     "duration": 0.021888,
     "end_time": "2022-08-06T17:23:12.447453",
     "exception": false,
     "start_time": "2022-08-06T17:23:12.425565",
     "status": "completed"
    },
    "tags": []
   },
   "outputs": [
    {
     "data": {
      "text/plain": [
       "(1136379, 170)"
      ]
     },
     "execution_count": 4,
     "metadata": {},
     "output_type": "execute_result"
    }
   ],
   "source": [
    "test.shape"
   ]
  },
  {
   "cell_type": "markdown",
   "id": "86a27f29",
   "metadata": {
    "papermill": {
     "duration": 0.008075,
     "end_time": "2022-08-06T17:23:12.464314",
     "exception": false,
     "start_time": "2022-08-06T17:23:12.456239",
     "status": "completed"
    },
    "tags": []
   },
   "source": [
    "# 3.2 Find the Data Types"
   ]
  },
  {
   "cell_type": "code",
   "execution_count": 5,
   "id": "fc3ca723",
   "metadata": {
    "execution": {
     "iopub.execute_input": "2022-08-06T17:23:12.482788Z",
     "iopub.status.busy": "2022-08-06T17:23:12.482399Z",
     "iopub.status.idle": "2022-08-06T17:23:12.494095Z",
     "shell.execute_reply": "2022-08-06T17:23:12.492834Z"
    },
    "papermill": {
     "duration": 0.023729,
     "end_time": "2022-08-06T17:23:12.496386",
     "exception": false,
     "start_time": "2022-08-06T17:23:12.472657",
     "status": "completed"
    },
    "tags": []
   },
   "outputs": [
    {
     "data": {
      "text/plain": [
       "customer_ID     object\n",
       "S_2             object\n",
       "P_2            float64\n",
       "D_39             int64\n",
       "B_1            float64\n",
       "                ...   \n",
       "D_140            int64\n",
       "D_141          float64\n",
       "D_143            int64\n",
       "D_144          float64\n",
       "D_145            int64\n",
       "Length: 170, dtype: object"
      ]
     },
     "execution_count": 5,
     "metadata": {},
     "output_type": "execute_result"
    }
   ],
   "source": [
    "test.dtypes"
   ]
  },
  {
   "cell_type": "markdown",
   "id": "cc55738b",
   "metadata": {
    "papermill": {
     "duration": 0.008649,
     "end_time": "2022-08-06T17:23:12.513448",
     "exception": false,
     "start_time": "2022-08-06T17:23:12.504799",
     "status": "completed"
    },
    "tags": []
   },
   "source": [
    "# 3.3 Glimps of Data"
   ]
  },
  {
   "cell_type": "code",
   "execution_count": 6,
   "id": "29e8d7a0",
   "metadata": {
    "execution": {
     "iopub.execute_input": "2022-08-06T17:23:12.532188Z",
     "iopub.status.busy": "2022-08-06T17:23:12.531751Z",
     "iopub.status.idle": "2022-08-06T17:23:12.561416Z",
     "shell.execute_reply": "2022-08-06T17:23:12.560577Z"
    },
    "papermill": {
     "duration": 0.041539,
     "end_time": "2022-08-06T17:23:12.563494",
     "exception": false,
     "start_time": "2022-08-06T17:23:12.521955",
     "status": "completed"
    },
    "tags": []
   },
   "outputs": [
    {
     "data": {
      "text/html": [
       "<div>\n",
       "<style scoped>\n",
       "    .dataframe tbody tr th:only-of-type {\n",
       "        vertical-align: middle;\n",
       "    }\n",
       "\n",
       "    .dataframe tbody tr th {\n",
       "        vertical-align: top;\n",
       "    }\n",
       "\n",
       "    .dataframe thead th {\n",
       "        text-align: right;\n",
       "    }\n",
       "</style>\n",
       "<table border=\"1\" class=\"dataframe\">\n",
       "  <thead>\n",
       "    <tr style=\"text-align: right;\">\n",
       "      <th></th>\n",
       "      <th>customer_ID</th>\n",
       "      <th>S_2</th>\n",
       "      <th>P_2</th>\n",
       "      <th>D_39</th>\n",
       "      <th>B_1</th>\n",
       "      <th>B_2</th>\n",
       "      <th>R_1</th>\n",
       "      <th>D_41</th>\n",
       "      <th>B_3</th>\n",
       "      <th>D_43</th>\n",
       "      <th>...</th>\n",
       "      <th>D_135</th>\n",
       "      <th>D_136</th>\n",
       "      <th>D_137</th>\n",
       "      <th>D_138</th>\n",
       "      <th>D_139</th>\n",
       "      <th>D_140</th>\n",
       "      <th>D_141</th>\n",
       "      <th>D_143</th>\n",
       "      <th>D_144</th>\n",
       "      <th>D_145</th>\n",
       "    </tr>\n",
       "  </thead>\n",
       "  <tbody>\n",
       "    <tr>\n",
       "      <th>0</th>\n",
       "      <td>e669dd27dd84dfc5bd8ee32baf39a2ea89252657ef17ad...</td>\n",
       "      <td>2018-09-02</td>\n",
       "      <td>0.760419</td>\n",
       "      <td>9</td>\n",
       "      <td>0.029606</td>\n",
       "      <td>0.810839</td>\n",
       "      <td>0.0</td>\n",
       "      <td>0.0</td>\n",
       "      <td>0.003970</td>\n",
       "      <td>0.078262</td>\n",
       "      <td>...</td>\n",
       "      <td>-1</td>\n",
       "      <td>-1</td>\n",
       "      <td>-1</td>\n",
       "      <td>-1</td>\n",
       "      <td>0</td>\n",
       "      <td>0</td>\n",
       "      <td>0.0</td>\n",
       "      <td>0</td>\n",
       "      <td>0.009921</td>\n",
       "      <td>0</td>\n",
       "    </tr>\n",
       "    <tr>\n",
       "      <th>1</th>\n",
       "      <td>e669dd27dd84dfc5bd8ee32baf39a2ea89252657ef17ad...</td>\n",
       "      <td>2018-10-23</td>\n",
       "      <td>0.853384</td>\n",
       "      <td>0</td>\n",
       "      <td>0.041925</td>\n",
       "      <td>1.005659</td>\n",
       "      <td>0.0</td>\n",
       "      <td>0.0</td>\n",
       "      <td>0.011763</td>\n",
       "      <td>0.078262</td>\n",
       "      <td>...</td>\n",
       "      <td>-1</td>\n",
       "      <td>-1</td>\n",
       "      <td>-1</td>\n",
       "      <td>-1</td>\n",
       "      <td>0</td>\n",
       "      <td>0</td>\n",
       "      <td>0.0</td>\n",
       "      <td>0</td>\n",
       "      <td>0.006576</td>\n",
       "      <td>0</td>\n",
       "    </tr>\n",
       "    <tr>\n",
       "      <th>2</th>\n",
       "      <td>e669dd27dd84dfc5bd8ee32baf39a2ea89252657ef17ad...</td>\n",
       "      <td>2018-11-04</td>\n",
       "      <td>0.846441</td>\n",
       "      <td>10</td>\n",
       "      <td>0.062382</td>\n",
       "      <td>1.003084</td>\n",
       "      <td>0.0</td>\n",
       "      <td>0.0</td>\n",
       "      <td>0.009071</td>\n",
       "      <td>0.078262</td>\n",
       "      <td>...</td>\n",
       "      <td>-1</td>\n",
       "      <td>-1</td>\n",
       "      <td>-1</td>\n",
       "      <td>-1</td>\n",
       "      <td>0</td>\n",
       "      <td>0</td>\n",
       "      <td>0.0</td>\n",
       "      <td>0</td>\n",
       "      <td>0.003138</td>\n",
       "      <td>0</td>\n",
       "    </tr>\n",
       "    <tr>\n",
       "      <th>3</th>\n",
       "      <td>e669dd27dd84dfc5bd8ee32baf39a2ea89252657ef17ad...</td>\n",
       "      <td>2018-12-04</td>\n",
       "      <td>0.854945</td>\n",
       "      <td>11</td>\n",
       "      <td>0.105960</td>\n",
       "      <td>1.000066</td>\n",
       "      <td>0.0</td>\n",
       "      <td>0.0</td>\n",
       "      <td>0.003787</td>\n",
       "      <td>0.078262</td>\n",
       "      <td>...</td>\n",
       "      <td>-1</td>\n",
       "      <td>-1</td>\n",
       "      <td>-1</td>\n",
       "      <td>-1</td>\n",
       "      <td>0</td>\n",
       "      <td>0</td>\n",
       "      <td>0.0</td>\n",
       "      <td>0</td>\n",
       "      <td>0.001557</td>\n",
       "      <td>0</td>\n",
       "    </tr>\n",
       "    <tr>\n",
       "      <th>4</th>\n",
       "      <td>e669dd27dd84dfc5bd8ee32baf39a2ea89252657ef17ad...</td>\n",
       "      <td>2019-01-04</td>\n",
       "      <td>0.848144</td>\n",
       "      <td>0</td>\n",
       "      <td>0.012834</td>\n",
       "      <td>1.006813</td>\n",
       "      <td>0.0</td>\n",
       "      <td>0.0</td>\n",
       "      <td>0.004408</td>\n",
       "      <td>0.078262</td>\n",
       "      <td>...</td>\n",
       "      <td>-1</td>\n",
       "      <td>-1</td>\n",
       "      <td>-1</td>\n",
       "      <td>-1</td>\n",
       "      <td>0</td>\n",
       "      <td>0</td>\n",
       "      <td>0.0</td>\n",
       "      <td>0</td>\n",
       "      <td>0.009747</td>\n",
       "      <td>0</td>\n",
       "    </tr>\n",
       "  </tbody>\n",
       "</table>\n",
       "<p>5 rows × 170 columns</p>\n",
       "</div>"
      ],
      "text/plain": [
       "                                         customer_ID         S_2       P_2  \\\n",
       "0  e669dd27dd84dfc5bd8ee32baf39a2ea89252657ef17ad...  2018-09-02  0.760419   \n",
       "1  e669dd27dd84dfc5bd8ee32baf39a2ea89252657ef17ad...  2018-10-23  0.853384   \n",
       "2  e669dd27dd84dfc5bd8ee32baf39a2ea89252657ef17ad...  2018-11-04  0.846441   \n",
       "3  e669dd27dd84dfc5bd8ee32baf39a2ea89252657ef17ad...  2018-12-04  0.854945   \n",
       "4  e669dd27dd84dfc5bd8ee32baf39a2ea89252657ef17ad...  2019-01-04  0.848144   \n",
       "\n",
       "   D_39       B_1       B_2  R_1  D_41       B_3      D_43  ...  D_135  D_136  \\\n",
       "0     9  0.029606  0.810839  0.0   0.0  0.003970  0.078262  ...     -1     -1   \n",
       "1     0  0.041925  1.005659  0.0   0.0  0.011763  0.078262  ...     -1     -1   \n",
       "2    10  0.062382  1.003084  0.0   0.0  0.009071  0.078262  ...     -1     -1   \n",
       "3    11  0.105960  1.000066  0.0   0.0  0.003787  0.078262  ...     -1     -1   \n",
       "4     0  0.012834  1.006813  0.0   0.0  0.004408  0.078262  ...     -1     -1   \n",
       "\n",
       "   D_137  D_138  D_139  D_140  D_141  D_143     D_144  D_145  \n",
       "0     -1     -1      0      0    0.0      0  0.009921      0  \n",
       "1     -1     -1      0      0    0.0      0  0.006576      0  \n",
       "2     -1     -1      0      0    0.0      0  0.003138      0  \n",
       "3     -1     -1      0      0    0.0      0  0.001557      0  \n",
       "4     -1     -1      0      0    0.0      0  0.009747      0  \n",
       "\n",
       "[5 rows x 170 columns]"
      ]
     },
     "execution_count": 6,
     "metadata": {},
     "output_type": "execute_result"
    }
   ],
   "source": [
    "test.head()"
   ]
  },
  {
   "cell_type": "markdown",
   "id": "9d787704",
   "metadata": {
    "papermill": {
     "duration": 0.008389,
     "end_time": "2022-08-06T17:23:12.580913",
     "exception": false,
     "start_time": "2022-08-06T17:23:12.572524",
     "status": "completed"
    },
    "tags": []
   },
   "source": [
    "Thus we can reduce the size of the data to float16"
   ]
  },
  {
   "cell_type": "markdown",
   "id": "1bcd0df8",
   "metadata": {
    "papermill": {
     "duration": 0.008292,
     "end_time": "2022-08-06T17:23:12.597896",
     "exception": false,
     "start_time": "2022-08-06T17:23:12.589604",
     "status": "completed"
    },
    "tags": []
   },
   "source": [
    "# 4 Data Compression"
   ]
  },
  {
   "cell_type": "code",
   "execution_count": 7,
   "id": "77aa8685",
   "metadata": {
    "execution": {
     "iopub.execute_input": "2022-08-06T17:23:12.617336Z",
     "iopub.status.busy": "2022-08-06T17:23:12.616553Z",
     "iopub.status.idle": "2022-08-06T17:23:33.906343Z",
     "shell.execute_reply": "2022-08-06T17:23:33.905112Z"
    },
    "papermill": {
     "duration": 21.302646,
     "end_time": "2022-08-06T17:23:33.909320",
     "exception": false,
     "start_time": "2022-08-06T17:23:12.606674",
     "status": "completed"
    },
    "tags": []
   },
   "outputs": [],
   "source": [
    "for col in test.columns:\n",
    "    if col not in ['customer_ID', 'target', 'B_30', 'B_38', 'D_114', 'D_116', 'D_117', 'D_120', 'D_126', 'D_63', 'D_64', 'D_66', 'D_68','S_2']:\n",
    "        test[col]=test[col]/(test[col].max()-test[col].min())\n",
    "    if col not in ['customer_ID', 'target', 'B_30', 'B_38', 'D_114', 'D_116', 'D_117', 'D_120', 'D_126', 'D_63', 'D_64', 'D_66', 'D_68','S_2']:\n",
    "        test[col]=test[col].astype(\"float16\")"
   ]
  },
  {
   "cell_type": "markdown",
   "id": "f1973066",
   "metadata": {
    "papermill": {
     "duration": 0.008276,
     "end_time": "2022-08-06T17:23:33.926616",
     "exception": false,
     "start_time": "2022-08-06T17:23:33.918340",
     "status": "completed"
    },
    "tags": []
   },
   "source": [
    "# 5 Label encoding/factorizing the remaining character variables"
   ]
  },
  {
   "cell_type": "markdown",
   "id": "f60595eb",
   "metadata": {
    "papermill": {
     "duration": 0.00819,
     "end_time": "2022-08-06T17:23:33.943540",
     "exception": false,
     "start_time": "2022-08-06T17:23:33.935350",
     "status": "completed"
    },
    "tags": []
   },
   "source": [
    "The categorical features are the followings ['B_30', 'B_38', 'D_114', 'D_116', 'D_117', 'D_120', 'D_126', 'D_63', 'D_64', 'D_66', 'D_68']"
   ]
  },
  {
   "cell_type": "code",
   "execution_count": 8,
   "id": "94de4448",
   "metadata": {
    "execution": {
     "iopub.execute_input": "2022-08-06T17:23:33.963120Z",
     "iopub.status.busy": "2022-08-06T17:23:33.962191Z",
     "iopub.status.idle": "2022-08-06T17:23:34.091861Z",
     "shell.execute_reply": "2022-08-06T17:23:34.090266Z"
    },
    "papermill": {
     "duration": 0.143165,
     "end_time": "2022-08-06T17:23:34.095408",
     "exception": false,
     "start_time": "2022-08-06T17:23:33.952243",
     "status": "completed"
    },
    "tags": []
   },
   "outputs": [
    {
     "name": "stdout",
     "output_type": "stream",
     "text": [
      " 0    961470\n",
      " 1    164433\n",
      " 2     10194\n",
      "-1       282\n",
      "Name: B_30, dtype: int64\n",
      " 2    412646\n",
      " 3    278316\n",
      " 1    208135\n",
      " 5     87714\n",
      " 7     63844\n",
      " 4     49625\n",
      " 6     35817\n",
      "-1       282\n",
      "Name: B_38, dtype: int64\n",
      " 1    696384\n",
      " 0    411464\n",
      "-1     28531\n",
      "Name: D_114, dtype: int64\n",
      " 0    1104401\n",
      "-1      28531\n",
      " 1       3447\n",
      "Name: D_116, dtype: int64\n",
      " 0    308562\n",
      " 5    243201\n",
      " 4    231095\n",
      " 3    124772\n",
      " 6     98549\n",
      " 7     80825\n",
      "-1     28531\n",
      " 2     20844\n",
      "Name: D_117, dtype: int64\n",
      " 0    881450\n",
      " 1    226398\n",
      "-1     28531\n",
      "Name: D_120, dtype: int64\n",
      " 2    863914\n",
      " 1    233226\n",
      " 0     30999\n",
      "-1      8240\n",
      "Name: D_126, dtype: int64\n",
      "3    841824\n",
      "0    182936\n",
      "4     92931\n",
      "1     11124\n",
      "2      4877\n",
      "5      2687\n",
      "Name: D_63, dtype: int64\n",
      " 0    600856\n",
      " 3    294472\n",
      " 2    203076\n",
      "-1     37975\n",
      "Name: D_64, dtype: int64\n",
      "-1    1002737\n",
      " 1     133642\n",
      "Name: D_66, dtype: int64\n",
      " 6    562717\n",
      " 5    262087\n",
      " 4    102719\n",
      " 3     98554\n",
      " 2     48456\n",
      "-1     34757\n",
      " 1     27089\n",
      "Name: D_68, dtype: int64\n"
     ]
    }
   ],
   "source": [
    "columns=['B_30', 'B_38', 'D_114', 'D_116', 'D_117', 'D_120', 'D_126', 'D_63', 'D_64', 'D_66', 'D_68'] \n",
    "for col in columns: \n",
    "    print(test[col].value_counts())"
   ]
  },
  {
   "cell_type": "markdown",
   "id": "156933e9",
   "metadata": {
    "papermill": {
     "duration": 0.008635,
     "end_time": "2022-08-06T17:23:34.113149",
     "exception": false,
     "start_time": "2022-08-06T17:23:34.104514",
     "status": "completed"
    },
    "tags": []
   },
   "source": [
    "* D_64 has category 1 missing which is present in training data set.\n",
    "* D_66 has category 0 missing which is present in training dataset.\n",
    "* D_68 has category 0 missing which is present in training dataset."
   ]
  },
  {
   "cell_type": "code",
   "execution_count": 9,
   "id": "d39d736e",
   "metadata": {
    "execution": {
     "iopub.execute_input": "2022-08-06T17:23:34.132366Z",
     "iopub.status.busy": "2022-08-06T17:23:34.131944Z",
     "iopub.status.idle": "2022-08-06T17:23:34.139480Z",
     "shell.execute_reply": "2022-08-06T17:23:34.138356Z"
    },
    "papermill": {
     "duration": 0.01988,
     "end_time": "2022-08-06T17:23:34.141787",
     "exception": false,
     "start_time": "2022-08-06T17:23:34.121907",
     "status": "completed"
    },
    "tags": []
   },
   "outputs": [
    {
     "data": {
      "text/plain": [
       "<pandas.core.groupby.generic.DataFrameGroupBy object at 0x7ff08dd48e50>"
      ]
     },
     "execution_count": 9,
     "metadata": {},
     "output_type": "execute_result"
    }
   ],
   "source": [
    "test.groupby(by=\"customer_ID\")"
   ]
  },
  {
   "cell_type": "markdown",
   "id": "54ae42e5",
   "metadata": {
    "papermill": {
     "duration": 0.008518,
     "end_time": "2022-08-06T17:23:34.159277",
     "exception": false,
     "start_time": "2022-08-06T17:23:34.150759",
     "status": "completed"
    },
    "tags": []
   },
   "source": [
    "Here we factorize the date column."
   ]
  },
  {
   "cell_type": "code",
   "execution_count": 10,
   "id": "7860369f",
   "metadata": {
    "execution": {
     "iopub.execute_input": "2022-08-06T17:23:34.178685Z",
     "iopub.status.busy": "2022-08-06T17:23:34.178301Z",
     "iopub.status.idle": "2022-08-06T17:23:36.235248Z",
     "shell.execute_reply": "2022-08-06T17:23:36.234039Z"
    },
    "papermill": {
     "duration": 2.069457,
     "end_time": "2022-08-06T17:23:36.237595",
     "exception": false,
     "start_time": "2022-08-06T17:23:34.168138",
     "status": "completed"
    },
    "tags": []
   },
   "outputs": [
    {
     "data": {
      "text/plain": [
       "0          18\n",
       "1          19\n",
       "2          20\n",
       "3          21\n",
       "4          22\n",
       "           ..\n",
       "1136374    21\n",
       "1136375    22\n",
       "1136376    23\n",
       "1136377    24\n",
       "1136378    25\n",
       "Name: S_2, Length: 1136379, dtype: int64"
      ]
     },
     "execution_count": 10,
     "metadata": {},
     "output_type": "execute_result"
    }
   ],
   "source": [
    "test[\"S_2\"]=test[\"S_2\"].str.slice(start=0,stop=7)\n",
    "mapping={\"2018-04\":13,\"2018-05\":14,\"2018-06\":15,\"2018-07\":16,\"2018-08\":17,\"2018-09\":18,\"2018-10\":19,\"2018-11\":20,\"2018-12\":21,\"2019-01\":22,\"2019-02\":23,\"2019-03\":24,\"2019-04\":25,\"2019-05\":26,\"2019-06\":27,\"2019-07\":28,\"2019-08\":29,\"2019-09\":30,\"2019-10\":31} \n",
    "test=test.replace({\"S_2\":mapping}) \n",
    "test[\"S_2\"]"
   ]
  },
  {
   "cell_type": "code",
   "execution_count": 11,
   "id": "d05a9e95",
   "metadata": {
    "execution": {
     "iopub.execute_input": "2022-08-06T17:23:36.257408Z",
     "iopub.status.busy": "2022-08-06T17:23:36.257018Z",
     "iopub.status.idle": "2022-08-06T17:23:36.524921Z",
     "shell.execute_reply": "2022-08-06T17:23:36.523848Z"
    },
    "papermill": {
     "duration": 0.280661,
     "end_time": "2022-08-06T17:23:36.527335",
     "exception": false,
     "start_time": "2022-08-06T17:23:36.246674",
     "status": "completed"
    },
    "tags": []
   },
   "outputs": [
    {
     "data": {
      "text/plain": [
       "0          0.183402\n",
       "1          0.183402\n",
       "2          0.183402\n",
       "3          0.183402\n",
       "4          0.183402\n",
       "             ...   \n",
       "1136374    0.183402\n",
       "1136375    0.183402\n",
       "1136376    0.183402\n",
       "1136377    0.183402\n",
       "1136378    0.183402\n",
       "Name: B_30, Length: 1136379, dtype: float64"
      ]
     },
     "execution_count": 11,
     "metadata": {},
     "output_type": "execute_result"
    }
   ],
   "source": [
    "mapping={0:0.183402,1:0.627797,2:0.612930,-1:0.356151}\n",
    "test=test.replace({\"B_30\":mapping}) \n",
    "test[\"B_30\"]"
   ]
  },
  {
   "cell_type": "code",
   "execution_count": 12,
   "id": "4c8d2e39",
   "metadata": {
    "execution": {
     "iopub.execute_input": "2022-08-06T17:23:36.547684Z",
     "iopub.status.busy": "2022-08-06T17:23:36.547333Z",
     "iopub.status.idle": "2022-08-06T17:23:36.707381Z",
     "shell.execute_reply": "2022-08-06T17:23:36.706305Z"
    },
    "papermill": {
     "duration": 0.172909,
     "end_time": "2022-08-06T17:23:36.709699",
     "exception": false,
     "start_time": "2022-08-06T17:23:36.536790",
     "status": "completed"
    },
    "tags": []
   },
   "outputs": [
    {
     "data": {
      "text/plain": [
       "0          0.063306\n",
       "1          0.063306\n",
       "2          0.063306\n",
       "3          0.063306\n",
       "4          0.063306\n",
       "             ...   \n",
       "1136374    0.135264\n",
       "1136375    0.135264\n",
       "1136376    0.135264\n",
       "1136377    0.135264\n",
       "1136378    0.135264\n",
       "Name: B_38, Length: 1136379, dtype: float64"
      ]
     },
     "execution_count": 12,
     "metadata": {},
     "output_type": "execute_result"
    }
   ],
   "source": [
    "mapping={2:0.063306,3:0.328604,1:0.135264,5:0.559430,4:0.699716,7:0.498865,6:0.614916,-1:0.356151}\n",
    "test=test.replace({\"B_38\":mapping}) \n",
    "test[\"B_38\"]"
   ]
  },
  {
   "cell_type": "code",
   "execution_count": 13,
   "id": "acc1a1a5",
   "metadata": {
    "execution": {
     "iopub.execute_input": "2022-08-06T17:23:36.729962Z",
     "iopub.status.busy": "2022-08-06T17:23:36.729547Z",
     "iopub.status.idle": "2022-08-06T17:23:36.958201Z",
     "shell.execute_reply": "2022-08-06T17:23:36.957153Z"
    },
    "papermill": {
     "duration": 0.241478,
     "end_time": "2022-08-06T17:23:36.960448",
     "exception": false,
     "start_time": "2022-08-06T17:23:36.718970",
     "status": "completed"
    },
    "tags": []
   },
   "outputs": [
    {
     "data": {
      "text/plain": [
       "0          0.179497\n",
       "1          0.179497\n",
       "2          0.179497\n",
       "3          0.179497\n",
       "4          0.179497\n",
       "             ...   \n",
       "1136374    0.345989\n",
       "1136375    0.345989\n",
       "1136376    0.345989\n",
       "1136377    0.345989\n",
       "1136378    0.345989\n",
       "Name: D_114, Length: 1136379, dtype: float64"
      ]
     },
     "execution_count": 13,
     "metadata": {},
     "output_type": "execute_result"
    }
   ],
   "source": [
    "mapping={1:0.179497,0:0.345989,-1:0.437736}\n",
    "test=test.replace({\"D_114\":mapping}) \n",
    "test[\"D_114\"]"
   ]
  },
  {
   "cell_type": "code",
   "execution_count": 14,
   "id": "adb0ca9a",
   "metadata": {
    "execution": {
     "iopub.execute_input": "2022-08-06T17:23:36.980947Z",
     "iopub.status.busy": "2022-08-06T17:23:36.980294Z",
     "iopub.status.idle": "2022-08-06T17:23:37.135203Z",
     "shell.execute_reply": "2022-08-06T17:23:37.134176Z"
    },
    "papermill": {
     "duration": 0.167815,
     "end_time": "2022-08-06T17:23:37.137611",
     "exception": false,
     "start_time": "2022-08-06T17:23:36.969796",
     "status": "completed"
    },
    "tags": []
   },
   "outputs": [
    {
     "data": {
      "text/plain": [
       "0          0.242413\n",
       "1          0.242413\n",
       "2          0.242413\n",
       "3          0.242413\n",
       "4          0.242413\n",
       "             ...   \n",
       "1136374    0.242413\n",
       "1136375    0.242413\n",
       "1136376    0.242413\n",
       "1136377    0.242413\n",
       "1136378    0.242413\n",
       "Name: D_116, Length: 1136379, dtype: float64"
      ]
     },
     "execution_count": 14,
     "metadata": {},
     "output_type": "execute_result"
    }
   ],
   "source": [
    "mapping={0:0.242413,-1:0.437736,1:0.613341}\n",
    "test=test.replace({\"D_116\":mapping}) \n",
    "test[\"D_116\"]"
   ]
  },
  {
   "cell_type": "code",
   "execution_count": 15,
   "id": "71288832",
   "metadata": {
    "execution": {
     "iopub.execute_input": "2022-08-06T17:23:37.158359Z",
     "iopub.status.busy": "2022-08-06T17:23:37.157972Z",
     "iopub.status.idle": "2022-08-06T17:23:37.398704Z",
     "shell.execute_reply": "2022-08-06T17:23:37.397547Z"
    },
    "papermill": {
     "duration": 0.253896,
     "end_time": "2022-08-06T17:23:37.401163",
     "exception": false,
     "start_time": "2022-08-06T17:23:37.147267",
     "status": "completed"
    },
    "tags": []
   },
   "outputs": [
    {
     "data": {
      "text/plain": [
       "0          0.173700\n",
       "1          0.173700\n",
       "2          0.173700\n",
       "3          0.173700\n",
       "4          0.173700\n",
       "             ...   \n",
       "1136374    0.134076\n",
       "1136375    0.134076\n",
       "1136376    0.134076\n",
       "1136377    0.134076\n",
       "1136378    0.134076\n",
       "Name: D_117, Length: 1136379, dtype: float64"
      ]
     },
     "execution_count": 15,
     "metadata": {},
     "output_type": "execute_result"
    }
   ],
   "source": [
    "mapping={0:0.273270,4:0.269573,5:0.173700,3:0.340783,6:0.135087,7:0.134076,-1:0.437736,2:0.446632}\n",
    "test=test.replace({\"D_117\":mapping}) \n",
    "test[\"D_117\"]"
   ]
  },
  {
   "cell_type": "code",
   "execution_count": 16,
   "id": "c0f75ddf",
   "metadata": {
    "execution": {
     "iopub.execute_input": "2022-08-06T17:23:37.422357Z",
     "iopub.status.busy": "2022-08-06T17:23:37.421659Z",
     "iopub.status.idle": "2022-08-06T17:23:37.583339Z",
     "shell.execute_reply": "2022-08-06T17:23:37.582227Z"
    },
    "papermill": {
     "duration": 0.174952,
     "end_time": "2022-08-06T17:23:37.585732",
     "exception": false,
     "start_time": "2022-08-06T17:23:37.410780",
     "status": "completed"
    },
    "tags": []
   },
   "outputs": [
    {
     "data": {
      "text/plain": [
       "0          0.212713\n",
       "1          0.212713\n",
       "2          0.212713\n",
       "3          0.212713\n",
       "4          0.212713\n",
       "             ...   \n",
       "1136374    0.471097\n",
       "1136375    0.471097\n",
       "1136376    0.471097\n",
       "1136377    0.471097\n",
       "1136378    0.471097\n",
       "Name: D_120, Length: 1136379, dtype: float64"
      ]
     },
     "execution_count": 16,
     "metadata": {},
     "output_type": "execute_result"
    }
   ],
   "source": [
    "mapping={0:0.212713,1:0.471097,-1:0.437736}\n",
    "test=test.replace({\"D_120\":mapping}) \n",
    "test[\"D_120\"]"
   ]
  },
  {
   "cell_type": "code",
   "execution_count": 17,
   "id": "aea66ec2",
   "metadata": {
    "execution": {
     "iopub.execute_input": "2022-08-06T17:23:37.607756Z",
     "iopub.status.busy": "2022-08-06T17:23:37.607038Z",
     "iopub.status.idle": "2022-08-06T17:23:37.842445Z",
     "shell.execute_reply": "2022-08-06T17:23:37.841408Z"
    },
    "papermill": {
     "duration": 0.248614,
     "end_time": "2022-08-06T17:23:37.844700",
     "exception": false,
     "start_time": "2022-08-06T17:23:37.596086",
     "status": "completed"
    },
    "tags": []
   },
   "outputs": [
    {
     "data": {
      "text/plain": [
       "0          0.232809\n",
       "1          0.232809\n",
       "2          0.232809\n",
       "3          0.232809\n",
       "4          0.232809\n",
       "             ...   \n",
       "1136374    0.232809\n",
       "1136375    0.232809\n",
       "1136376    0.232809\n",
       "1136377    0.232809\n",
       "1136378    0.232809\n",
       "Name: D_126, Length: 1136379, dtype: float64"
      ]
     },
     "execution_count": 17,
     "metadata": {},
     "output_type": "execute_result"
    }
   ],
   "source": [
    "mapping={2:0.232809,1:0.309875,0:0.209538,-1:0.468044}\n",
    "test=test.replace({\"D_126\":mapping}) \n",
    "test[\"D_126\"]"
   ]
  },
  {
   "cell_type": "code",
   "execution_count": 18,
   "id": "b2c102d8",
   "metadata": {
    "execution": {
     "iopub.execute_input": "2022-08-06T17:23:37.866959Z",
     "iopub.status.busy": "2022-08-06T17:23:37.866557Z",
     "iopub.status.idle": "2022-08-06T17:23:38.035702Z",
     "shell.execute_reply": "2022-08-06T17:23:38.034745Z"
    },
    "papermill": {
     "duration": 0.182661,
     "end_time": "2022-08-06T17:23:38.037993",
     "exception": false,
     "start_time": "2022-08-06T17:23:37.855332",
     "status": "completed"
    },
    "tags": []
   },
   "outputs": [
    {
     "data": {
      "text/plain": [
       "0          0.169865\n",
       "1          0.169865\n",
       "2          0.169865\n",
       "3          0.169865\n",
       "4          0.169865\n",
       "             ...   \n",
       "1136374    0.262817\n",
       "1136375    0.262817\n",
       "1136376    0.262817\n",
       "1136377    0.262817\n",
       "1136378    0.262817\n",
       "Name: D_63, Length: 1136379, dtype: float64"
      ]
     },
     "execution_count": 18,
     "metadata": {},
     "output_type": "execute_result"
    }
   ],
   "source": [
    "mapping={3:0.262817,0:0.169865,4:0.290894,1:0.190918,2:0.237401,5:0.317444}\n",
    "test=test.replace({\"D_63\":mapping}) \n",
    "test[\"D_63\"]"
   ]
  },
  {
   "cell_type": "code",
   "execution_count": 19,
   "id": "78e1190e",
   "metadata": {
    "execution": {
     "iopub.execute_input": "2022-08-06T17:23:38.060236Z",
     "iopub.status.busy": "2022-08-06T17:23:38.059540Z",
     "iopub.status.idle": "2022-08-06T17:23:38.301493Z",
     "shell.execute_reply": "2022-08-06T17:23:38.300485Z"
    },
    "papermill": {
     "duration": 0.2559,
     "end_time": "2022-08-06T17:23:38.304319",
     "exception": false,
     "start_time": "2022-08-06T17:23:38.048419",
     "status": "completed"
    },
    "tags": []
   },
   "outputs": [
    {
     "data": {
      "text/plain": [
       "0          0.343223\n",
       "1          0.343223\n",
       "2          0.343223\n",
       "3          0.343223\n",
       "4          0.343223\n",
       "             ...   \n",
       "1136374    0.315242\n",
       "1136375    0.315242\n",
       "1136376    0.315242\n",
       "1136377    0.315242\n",
       "1136378    0.315242\n",
       "Name: D_64, Length: 1136379, dtype: float64"
      ]
     },
     "execution_count": 19,
     "metadata": {},
     "output_type": "execute_result"
    }
   ],
   "source": [
    "mapping={0:0.169255,3:0.343223,2:0.315242,-1:0.408642,1:0.220723}\n",
    "test=test.replace({\"D_64\":mapping}) \n",
    "test[\"D_64\"]"
   ]
  },
  {
   "cell_type": "code",
   "execution_count": 20,
   "id": "300744dc",
   "metadata": {
    "execution": {
     "iopub.execute_input": "2022-08-06T17:23:38.326223Z",
     "iopub.status.busy": "2022-08-06T17:23:38.325490Z",
     "iopub.status.idle": "2022-08-06T17:23:38.493473Z",
     "shell.execute_reply": "2022-08-06T17:23:38.492437Z"
    },
    "papermill": {
     "duration": 0.181459,
     "end_time": "2022-08-06T17:23:38.495872",
     "exception": false,
     "start_time": "2022-08-06T17:23:38.314413",
     "status": "completed"
    },
    "tags": []
   },
   "outputs": [
    {
     "data": {
      "text/plain": [
       "0          0.257171\n",
       "1          0.257171\n",
       "2          0.257171\n",
       "3          0.257171\n",
       "4          0.257171\n",
       "             ...   \n",
       "1136374    0.257171\n",
       "1136375    0.257171\n",
       "1136376    0.257171\n",
       "1136377    0.257171\n",
       "1136378    0.257171\n",
       "Name: D_66, Length: 1136379, dtype: float64"
      ]
     },
     "execution_count": 20,
     "metadata": {},
     "output_type": "execute_result"
    }
   ],
   "source": [
    "mapping={-1:0.257171,1:0.183504,0:0.383747}\n",
    "test=test.replace({\"D_66\":mapping}) \n",
    "test[\"D_66\"]"
   ]
  },
  {
   "cell_type": "code",
   "execution_count": 21,
   "id": "f53a4b74",
   "metadata": {
    "execution": {
     "iopub.execute_input": "2022-08-06T17:23:38.518555Z",
     "iopub.status.busy": "2022-08-06T17:23:38.517715Z",
     "iopub.status.idle": "2022-08-06T17:23:38.768745Z",
     "shell.execute_reply": "2022-08-06T17:23:38.767794Z"
    },
    "papermill": {
     "duration": 0.265132,
     "end_time": "2022-08-06T17:23:38.771217",
     "exception": false,
     "start_time": "2022-08-06T17:23:38.506085",
     "status": "completed"
    },
    "tags": []
   },
   "outputs": [
    {
     "data": {
      "text/plain": [
       "0          0.174952\n",
       "1          0.174952\n",
       "2          0.174952\n",
       "3          0.174952\n",
       "4          0.174952\n",
       "             ...   \n",
       "1136374    0.174952\n",
       "1136375    0.174952\n",
       "1136376    0.174952\n",
       "1136377    0.174952\n",
       "1136378    0.174952\n",
       "Name: D_68, Length: 1136379, dtype: float64"
      ]
     },
     "execution_count": 21,
     "metadata": {},
     "output_type": "execute_result"
    }
   ],
   "source": [
    "mapping={6:0.174952,5:0.262219,3:0.369780,4:0.343603,2:0.392902,-1:0.414493,1:0.403990,0:0.179717}\n",
    "test=test.replace({\"D_68\":mapping}) \n",
    "test[\"D_68\"]"
   ]
  },
  {
   "cell_type": "code",
   "execution_count": 22,
   "id": "320f26df",
   "metadata": {
    "execution": {
     "iopub.execute_input": "2022-08-06T17:23:38.793641Z",
     "iopub.status.busy": "2022-08-06T17:23:38.793257Z",
     "iopub.status.idle": "2022-08-06T17:23:39.020260Z",
     "shell.execute_reply": "2022-08-06T17:23:39.019014Z"
    },
    "papermill": {
     "duration": 0.241226,
     "end_time": "2022-08-06T17:23:39.022792",
     "exception": false,
     "start_time": "2022-08-06T17:23:38.781566",
     "status": "completed"
    },
    "tags": []
   },
   "outputs": [
    {
     "data": {
      "text/plain": [
       "0          0.275312\n",
       "1          0.277528\n",
       "2          0.279744\n",
       "3          0.281961\n",
       "4          0.284177\n",
       "             ...   \n",
       "1136374    0.281961\n",
       "1136375    0.284177\n",
       "1136376    0.286393\n",
       "1136377    0.288609\n",
       "1136378    0.290826\n",
       "Name: S_2, Length: 1136379, dtype: float64"
      ]
     },
     "execution_count": 22,
     "metadata": {},
     "output_type": "execute_result"
    }
   ],
   "source": [
    "x=pd.DataFrame(np.linspace(start=12,stop=0,num=13))\n",
    "y=pd.DataFrame([0.258934,0.257893,0.257176,0.256362,0.254698,0.252840,0.250988,0.248830,0.245882,0.242539,0.236346,0.238807,0.232017])\n",
    "\n",
    "mapping={}\n",
    "for i in range(13,32):\n",
    "    mapping[i]=(x[0].corr(y[0])*y[0].std()/x[0].std())*(i-x[0].mean())+y[0].mean()\n",
    "test=test.replace({\"S_2\":mapping}) \n",
    "test[\"S_2\"]"
   ]
  },
  {
   "cell_type": "markdown",
   "id": "448769a5",
   "metadata": {
    "papermill": {
     "duration": 0.010585,
     "end_time": "2022-08-06T17:23:39.044256",
     "exception": false,
     "start_time": "2022-08-06T17:23:39.033671",
     "status": "completed"
    },
    "tags": []
   },
   "source": [
    "# 6 Normalise all the numerical columns"
   ]
  },
  {
   "cell_type": "markdown",
   "id": "1b9486b8",
   "metadata": {
    "papermill": {
     "duration": 0.010119,
     "end_time": "2022-08-06T17:23:39.064620",
     "exception": false,
     "start_time": "2022-08-06T17:23:39.054501",
     "status": "completed"
    },
    "tags": []
   },
   "source": [
    "Here I normalize the numerical columns and change the data type to save some space. Here we have used min max normalizer."
   ]
  },
  {
   "cell_type": "code",
   "execution_count": 23,
   "id": "4ec16b2e",
   "metadata": {
    "execution": {
     "iopub.execute_input": "2022-08-06T17:23:39.087317Z",
     "iopub.status.busy": "2022-08-06T17:23:39.086919Z",
     "iopub.status.idle": "2022-08-06T17:23:48.936331Z",
     "shell.execute_reply": "2022-08-06T17:23:48.935033Z"
    },
    "papermill": {
     "duration": 9.863875,
     "end_time": "2022-08-06T17:23:48.939019",
     "exception": false,
     "start_time": "2022-08-06T17:23:39.075144",
     "status": "completed"
    },
    "tags": []
   },
   "outputs": [],
   "source": [
    "for col in test.columns:\n",
    "    if col not in ['customer_ID', 'target', 'B_30', 'B_38', 'D_114', 'D_116', 'D_117', 'D_120', 'D_126', 'D_63', 'D_64', 'D_66', 'D_68','S_2']:\n",
    "        test[col]=test[col]/(test[col].max()-test[col].min())\n",
    "    if col not in ['customer_ID', 'target']:\n",
    "        test[col]=test[col].astype(\"float16\")"
   ]
  },
  {
   "cell_type": "markdown",
   "id": "6481f47d",
   "metadata": {
    "papermill": {
     "duration": 0.010077,
     "end_time": "2022-08-06T17:23:48.959708",
     "exception": false,
     "start_time": "2022-08-06T17:23:48.949631",
     "status": "completed"
    },
    "tags": []
   },
   "source": [
    "# 7 Upload the test data"
   ]
  },
  {
   "cell_type": "code",
   "execution_count": 24,
   "id": "f2768749",
   "metadata": {
    "execution": {
     "iopub.execute_input": "2022-08-06T17:23:48.982240Z",
     "iopub.status.busy": "2022-08-06T17:23:48.981550Z",
     "iopub.status.idle": "2022-08-06T17:35:54.476681Z",
     "shell.execute_reply": "2022-08-06T17:35:54.474847Z"
    },
    "papermill": {
     "duration": 725.51165,
     "end_time": "2022-08-06T17:35:54.481735",
     "exception": false,
     "start_time": "2022-08-06T17:23:48.970085",
     "status": "completed"
    },
    "tags": []
   },
   "outputs": [],
   "source": [
    "test.to_csv(\"test_1.csv.gzip\",compression=\"gzip\")"
   ]
  },
  {
   "cell_type": "code",
   "execution_count": null,
   "id": "493ceead",
   "metadata": {
    "papermill": {
     "duration": 0.010398,
     "end_time": "2022-08-06T17:35:54.505747",
     "exception": false,
     "start_time": "2022-08-06T17:35:54.495349",
     "status": "completed"
    },
    "tags": []
   },
   "outputs": [],
   "source": []
  }
 ],
 "metadata": {
  "kernelspec": {
   "display_name": "Python 3",
   "language": "python",
   "name": "python3"
  },
  "language_info": {
   "codemirror_mode": {
    "name": "ipython",
    "version": 3
   },
   "file_extension": ".py",
   "mimetype": "text/x-python",
   "name": "python",
   "nbconvert_exporter": "python",
   "pygments_lexer": "ipython3",
   "version": "3.7.12"
  },
  "papermill": {
   "default_parameters": {},
   "duration": 986.370016,
   "end_time": "2022-08-06T17:35:55.543515",
   "environment_variables": {},
   "exception": null,
   "input_path": "__notebook__.ipynb",
   "output_path": "__notebook__.ipynb",
   "parameters": {},
   "start_time": "2022-08-06T17:19:29.173499",
   "version": "2.3.4"
  }
 },
 "nbformat": 4,
 "nbformat_minor": 5
}
