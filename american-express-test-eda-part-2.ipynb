{
 "cells": [
  {
   "cell_type": "markdown",
   "id": "0a282bd9",
   "metadata": {
    "papermill": {
     "duration": 0.010896,
     "end_time": "2022-08-06T04:05:40.335797",
     "exception": false,
     "start_time": "2022-08-06T04:05:40.324901",
     "status": "completed"
    },
    "tags": []
   },
   "source": [
    "# 1 Loading Libraries"
   ]
  },
  {
   "cell_type": "code",
   "execution_count": 1,
   "id": "2e31f2f5",
   "metadata": {
    "execution": {
     "iopub.execute_input": "2022-08-06T04:05:40.354982Z",
     "iopub.status.busy": "2022-08-06T04:05:40.353977Z",
     "iopub.status.idle": "2022-08-06T04:05:41.406485Z",
     "shell.execute_reply": "2022-08-06T04:05:41.405494Z"
    },
    "papermill": {
     "duration": 1.064901,
     "end_time": "2022-08-06T04:05:41.409327",
     "exception": false,
     "start_time": "2022-08-06T04:05:40.344426",
     "status": "completed"
    },
    "tags": []
   },
   "outputs": [],
   "source": [
    "import numpy as np\n",
    "import pandas as pd\n",
    "import matplotlib.pyplot as plt\n",
    "import seaborn as sns\n",
    "import gc"
   ]
  },
  {
   "cell_type": "markdown",
   "id": "f4478b1b",
   "metadata": {
    "papermill": {
     "duration": 0.007945,
     "end_time": "2022-08-06T04:05:41.425794",
     "exception": false,
     "start_time": "2022-08-06T04:05:41.417849",
     "status": "completed"
    },
    "tags": []
   },
   "source": [
    "# 2 Reading a part of the CSV"
   ]
  },
  {
   "cell_type": "code",
   "execution_count": 2,
   "id": "29bf9586",
   "metadata": {
    "execution": {
     "iopub.execute_input": "2022-08-06T04:05:41.443949Z",
     "iopub.status.busy": "2022-08-06T04:05:41.443551Z",
     "iopub.status.idle": "2022-08-06T04:05:41.448295Z",
     "shell.execute_reply": "2022-08-06T04:05:41.447238Z"
    },
    "papermill": {
     "duration": 0.016358,
     "end_time": "2022-08-06T04:05:41.450495",
     "exception": false,
     "start_time": "2022-08-06T04:05:41.434137",
     "status": "completed"
    },
    "tags": []
   },
   "outputs": [],
   "source": [
    "skiprows=0\n",
    "nrows=1704564"
   ]
  },
  {
   "cell_type": "code",
   "execution_count": 3,
   "id": "e37d0cfa",
   "metadata": {
    "execution": {
     "iopub.execute_input": "2022-08-06T04:05:41.469100Z",
     "iopub.status.busy": "2022-08-06T04:05:41.468210Z",
     "iopub.status.idle": "2022-08-06T04:06:37.621412Z",
     "shell.execute_reply": "2022-08-06T04:06:37.620513Z"
    },
    "papermill": {
     "duration": 56.165353,
     "end_time": "2022-08-06T04:06:37.624288",
     "exception": false,
     "start_time": "2022-08-06T04:05:41.458935",
     "status": "completed"
    },
    "tags": []
   },
   "outputs": [],
   "source": [
    "test=pd.read_csv(\"../input/testing/test.csv.gzip\",compression=\"gzip\",skiprows=skiprows,nrows=nrows)"
   ]
  },
  {
   "cell_type": "markdown",
   "id": "9d190ece",
   "metadata": {
    "papermill": {
     "duration": 0.008266,
     "end_time": "2022-08-06T04:06:37.640995",
     "exception": false,
     "start_time": "2022-08-06T04:06:37.632729",
     "status": "completed"
    },
    "tags": []
   },
   "source": [
    "# 3 Understanding the Data"
   ]
  },
  {
   "cell_type": "markdown",
   "id": "303d9063",
   "metadata": {
    "papermill": {
     "duration": 0.008876,
     "end_time": "2022-08-06T04:06:37.657841",
     "exception": false,
     "start_time": "2022-08-06T04:06:37.648965",
     "status": "completed"
    },
    "tags": []
   },
   "source": [
    "# 3.1 Shape of the Data"
   ]
  },
  {
   "cell_type": "code",
   "execution_count": 4,
   "id": "8d4fb935",
   "metadata": {
    "execution": {
     "iopub.execute_input": "2022-08-06T04:06:37.676226Z",
     "iopub.status.busy": "2022-08-06T04:06:37.675443Z",
     "iopub.status.idle": "2022-08-06T04:06:37.683478Z",
     "shell.execute_reply": "2022-08-06T04:06:37.682688Z"
    },
    "papermill": {
     "duration": 0.019945,
     "end_time": "2022-08-06T04:06:37.685850",
     "exception": false,
     "start_time": "2022-08-06T04:06:37.665905",
     "status": "completed"
    },
    "tags": []
   },
   "outputs": [
    {
     "data": {
      "text/plain": [
       "(1704564, 170)"
      ]
     },
     "execution_count": 4,
     "metadata": {},
     "output_type": "execute_result"
    }
   ],
   "source": [
    "test.shape"
   ]
  },
  {
   "cell_type": "markdown",
   "id": "03270d1b",
   "metadata": {
    "papermill": {
     "duration": 0.007939,
     "end_time": "2022-08-06T04:06:37.702228",
     "exception": false,
     "start_time": "2022-08-06T04:06:37.694289",
     "status": "completed"
    },
    "tags": []
   },
   "source": [
    "# 3.2 Find the Data Types"
   ]
  },
  {
   "cell_type": "code",
   "execution_count": 5,
   "id": "a7cf7b69",
   "metadata": {
    "execution": {
     "iopub.execute_input": "2022-08-06T04:06:37.720429Z",
     "iopub.status.busy": "2022-08-06T04:06:37.720034Z",
     "iopub.status.idle": "2022-08-06T04:06:37.730817Z",
     "shell.execute_reply": "2022-08-06T04:06:37.729657Z"
    },
    "papermill": {
     "duration": 0.022755,
     "end_time": "2022-08-06T04:06:37.733117",
     "exception": false,
     "start_time": "2022-08-06T04:06:37.710362",
     "status": "completed"
    },
    "tags": []
   },
   "outputs": [
    {
     "data": {
      "text/plain": [
       "customer_ID     object\n",
       "S_2             object\n",
       "P_2            float64\n",
       "D_39             int64\n",
       "B_1            float64\n",
       "                ...   \n",
       "D_140            int64\n",
       "D_141          float64\n",
       "D_143            int64\n",
       "D_144          float64\n",
       "D_145            int64\n",
       "Length: 170, dtype: object"
      ]
     },
     "execution_count": 5,
     "metadata": {},
     "output_type": "execute_result"
    }
   ],
   "source": [
    "test.dtypes"
   ]
  },
  {
   "cell_type": "markdown",
   "id": "18c67f76",
   "metadata": {
    "papermill": {
     "duration": 0.007852,
     "end_time": "2022-08-06T04:06:37.749408",
     "exception": false,
     "start_time": "2022-08-06T04:06:37.741556",
     "status": "completed"
    },
    "tags": []
   },
   "source": [
    "# 3.3 Glimps of Data"
   ]
  },
  {
   "cell_type": "code",
   "execution_count": 6,
   "id": "75ad31bc",
   "metadata": {
    "execution": {
     "iopub.execute_input": "2022-08-06T04:06:37.767934Z",
     "iopub.status.busy": "2022-08-06T04:06:37.766918Z",
     "iopub.status.idle": "2022-08-06T04:06:37.798817Z",
     "shell.execute_reply": "2022-08-06T04:06:37.797871Z"
    },
    "papermill": {
     "duration": 0.043533,
     "end_time": "2022-08-06T04:06:37.800969",
     "exception": false,
     "start_time": "2022-08-06T04:06:37.757436",
     "status": "completed"
    },
    "tags": []
   },
   "outputs": [
    {
     "data": {
      "text/html": [
       "<div>\n",
       "<style scoped>\n",
       "    .dataframe tbody tr th:only-of-type {\n",
       "        vertical-align: middle;\n",
       "    }\n",
       "\n",
       "    .dataframe tbody tr th {\n",
       "        vertical-align: top;\n",
       "    }\n",
       "\n",
       "    .dataframe thead th {\n",
       "        text-align: right;\n",
       "    }\n",
       "</style>\n",
       "<table border=\"1\" class=\"dataframe\">\n",
       "  <thead>\n",
       "    <tr style=\"text-align: right;\">\n",
       "      <th></th>\n",
       "      <th>customer_ID</th>\n",
       "      <th>S_2</th>\n",
       "      <th>P_2</th>\n",
       "      <th>D_39</th>\n",
       "      <th>B_1</th>\n",
       "      <th>B_2</th>\n",
       "      <th>R_1</th>\n",
       "      <th>D_41</th>\n",
       "      <th>B_3</th>\n",
       "      <th>D_43</th>\n",
       "      <th>...</th>\n",
       "      <th>D_135</th>\n",
       "      <th>D_136</th>\n",
       "      <th>D_137</th>\n",
       "      <th>D_138</th>\n",
       "      <th>D_139</th>\n",
       "      <th>D_140</th>\n",
       "      <th>D_141</th>\n",
       "      <th>D_143</th>\n",
       "      <th>D_144</th>\n",
       "      <th>D_145</th>\n",
       "    </tr>\n",
       "  </thead>\n",
       "  <tbody>\n",
       "    <tr>\n",
       "      <th>0</th>\n",
       "      <td>00000469ba478561f23a92a868bd366de6f6527a684c9a...</td>\n",
       "      <td>2019-02-19</td>\n",
       "      <td>0.631315</td>\n",
       "      <td>0</td>\n",
       "      <td>0.010728</td>\n",
       "      <td>0.814497</td>\n",
       "      <td>0.0</td>\n",
       "      <td>0.0</td>\n",
       "      <td>0.002347</td>\n",
       "      <td>0.1538</td>\n",
       "      <td>...</td>\n",
       "      <td>-1</td>\n",
       "      <td>-1</td>\n",
       "      <td>-1</td>\n",
       "      <td>-1</td>\n",
       "      <td>-1</td>\n",
       "      <td>0</td>\n",
       "      <td>0.0</td>\n",
       "      <td>-1</td>\n",
       "      <td>0.008281</td>\n",
       "      <td>-1</td>\n",
       "    </tr>\n",
       "    <tr>\n",
       "      <th>1</th>\n",
       "      <td>00000469ba478561f23a92a868bd366de6f6527a684c9a...</td>\n",
       "      <td>2019-03-25</td>\n",
       "      <td>0.587042</td>\n",
       "      <td>0</td>\n",
       "      <td>0.011026</td>\n",
       "      <td>0.810848</td>\n",
       "      <td>0.0</td>\n",
       "      <td>0.0</td>\n",
       "      <td>0.009132</td>\n",
       "      <td>0.1538</td>\n",
       "      <td>...</td>\n",
       "      <td>-1</td>\n",
       "      <td>-1</td>\n",
       "      <td>-1</td>\n",
       "      <td>-1</td>\n",
       "      <td>0</td>\n",
       "      <td>0</td>\n",
       "      <td>0.0</td>\n",
       "      <td>0</td>\n",
       "      <td>0.003753</td>\n",
       "      <td>0</td>\n",
       "    </tr>\n",
       "    <tr>\n",
       "      <th>2</th>\n",
       "      <td>00000469ba478561f23a92a868bd366de6f6527a684c9a...</td>\n",
       "      <td>2019-04-25</td>\n",
       "      <td>0.609056</td>\n",
       "      <td>0</td>\n",
       "      <td>0.016390</td>\n",
       "      <td>1.004620</td>\n",
       "      <td>0.0</td>\n",
       "      <td>0.0</td>\n",
       "      <td>0.004192</td>\n",
       "      <td>0.1538</td>\n",
       "      <td>...</td>\n",
       "      <td>-1</td>\n",
       "      <td>-1</td>\n",
       "      <td>-1</td>\n",
       "      <td>-1</td>\n",
       "      <td>0</td>\n",
       "      <td>0</td>\n",
       "      <td>0.0</td>\n",
       "      <td>0</td>\n",
       "      <td>0.002156</td>\n",
       "      <td>0</td>\n",
       "    </tr>\n",
       "    <tr>\n",
       "      <th>3</th>\n",
       "      <td>00000469ba478561f23a92a868bd366de6f6527a684c9a...</td>\n",
       "      <td>2019-05-20</td>\n",
       "      <td>0.614911</td>\n",
       "      <td>0</td>\n",
       "      <td>0.021672</td>\n",
       "      <td>0.816549</td>\n",
       "      <td>0.0</td>\n",
       "      <td>0.0</td>\n",
       "      <td>0.015325</td>\n",
       "      <td>0.1538</td>\n",
       "      <td>...</td>\n",
       "      <td>-1</td>\n",
       "      <td>-1</td>\n",
       "      <td>-1</td>\n",
       "      <td>-1</td>\n",
       "      <td>0</td>\n",
       "      <td>0</td>\n",
       "      <td>0.0</td>\n",
       "      <td>0</td>\n",
       "      <td>0.005206</td>\n",
       "      <td>0</td>\n",
       "    </tr>\n",
       "    <tr>\n",
       "      <th>4</th>\n",
       "      <td>00000469ba478561f23a92a868bd366de6f6527a684c9a...</td>\n",
       "      <td>2019-06-15</td>\n",
       "      <td>0.591673</td>\n",
       "      <td>8</td>\n",
       "      <td>0.015923</td>\n",
       "      <td>0.810456</td>\n",
       "      <td>0.0</td>\n",
       "      <td>0.0</td>\n",
       "      <td>0.011281</td>\n",
       "      <td>0.1538</td>\n",
       "      <td>...</td>\n",
       "      <td>-1</td>\n",
       "      <td>-1</td>\n",
       "      <td>-1</td>\n",
       "      <td>-1</td>\n",
       "      <td>0</td>\n",
       "      <td>0</td>\n",
       "      <td>0.0</td>\n",
       "      <td>0</td>\n",
       "      <td>0.007421</td>\n",
       "      <td>0</td>\n",
       "    </tr>\n",
       "  </tbody>\n",
       "</table>\n",
       "<p>5 rows × 170 columns</p>\n",
       "</div>"
      ],
      "text/plain": [
       "                                         customer_ID         S_2       P_2  \\\n",
       "0  00000469ba478561f23a92a868bd366de6f6527a684c9a...  2019-02-19  0.631315   \n",
       "1  00000469ba478561f23a92a868bd366de6f6527a684c9a...  2019-03-25  0.587042   \n",
       "2  00000469ba478561f23a92a868bd366de6f6527a684c9a...  2019-04-25  0.609056   \n",
       "3  00000469ba478561f23a92a868bd366de6f6527a684c9a...  2019-05-20  0.614911   \n",
       "4  00000469ba478561f23a92a868bd366de6f6527a684c9a...  2019-06-15  0.591673   \n",
       "\n",
       "   D_39       B_1       B_2  R_1  D_41       B_3    D_43  ...  D_135  D_136  \\\n",
       "0     0  0.010728  0.814497  0.0   0.0  0.002347  0.1538  ...     -1     -1   \n",
       "1     0  0.011026  0.810848  0.0   0.0  0.009132  0.1538  ...     -1     -1   \n",
       "2     0  0.016390  1.004620  0.0   0.0  0.004192  0.1538  ...     -1     -1   \n",
       "3     0  0.021672  0.816549  0.0   0.0  0.015325  0.1538  ...     -1     -1   \n",
       "4     8  0.015923  0.810456  0.0   0.0  0.011281  0.1538  ...     -1     -1   \n",
       "\n",
       "   D_137  D_138  D_139  D_140  D_141  D_143     D_144  D_145  \n",
       "0     -1     -1     -1      0    0.0     -1  0.008281     -1  \n",
       "1     -1     -1      0      0    0.0      0  0.003753      0  \n",
       "2     -1     -1      0      0    0.0      0  0.002156      0  \n",
       "3     -1     -1      0      0    0.0      0  0.005206      0  \n",
       "4     -1     -1      0      0    0.0      0  0.007421      0  \n",
       "\n",
       "[5 rows x 170 columns]"
      ]
     },
     "execution_count": 6,
     "metadata": {},
     "output_type": "execute_result"
    }
   ],
   "source": [
    "test.head()"
   ]
  },
  {
   "cell_type": "markdown",
   "id": "a9315047",
   "metadata": {
    "papermill": {
     "duration": 0.008436,
     "end_time": "2022-08-06T04:06:37.818242",
     "exception": false,
     "start_time": "2022-08-06T04:06:37.809806",
     "status": "completed"
    },
    "tags": []
   },
   "source": [
    "Thus we can reduce the size of the data to float16"
   ]
  },
  {
   "cell_type": "markdown",
   "id": "8aca638c",
   "metadata": {
    "papermill": {
     "duration": 0.008288,
     "end_time": "2022-08-06T04:06:37.835256",
     "exception": false,
     "start_time": "2022-08-06T04:06:37.826968",
     "status": "completed"
    },
    "tags": []
   },
   "source": [
    "# 4 Data Compression"
   ]
  },
  {
   "cell_type": "code",
   "execution_count": 7,
   "id": "967d3581",
   "metadata": {
    "execution": {
     "iopub.execute_input": "2022-08-06T04:06:37.855014Z",
     "iopub.status.busy": "2022-08-06T04:06:37.853816Z",
     "iopub.status.idle": "2022-08-06T04:07:18.574257Z",
     "shell.execute_reply": "2022-08-06T04:07:18.573069Z"
    },
    "papermill": {
     "duration": 40.733289,
     "end_time": "2022-08-06T04:07:18.577153",
     "exception": false,
     "start_time": "2022-08-06T04:06:37.843864",
     "status": "completed"
    },
    "tags": []
   },
   "outputs": [],
   "source": [
    "for col in test.columns:\n",
    "    if col not in ['customer_ID', 'target', 'B_30', 'B_38', 'D_114', 'D_116', 'D_117', 'D_120', 'D_126', 'D_63', 'D_64', 'D_66', 'D_68','S_2']:\n",
    "        test[col]=test[col]/(test[col].max()-test[col].min())\n",
    "    if col not in ['customer_ID', 'target', 'B_30', 'B_38', 'D_114', 'D_116', 'D_117', 'D_120', 'D_126', 'D_63', 'D_64', 'D_66', 'D_68','S_2']:\n",
    "        test[col]=test[col].astype(\"float16\")"
   ]
  },
  {
   "cell_type": "markdown",
   "id": "0f153946",
   "metadata": {
    "papermill": {
     "duration": 0.008613,
     "end_time": "2022-08-06T04:07:18.595298",
     "exception": false,
     "start_time": "2022-08-06T04:07:18.586685",
     "status": "completed"
    },
    "tags": []
   },
   "source": [
    "# 5 Label encoding/factorizing the remaining character variables"
   ]
  },
  {
   "cell_type": "markdown",
   "id": "7d21ea98",
   "metadata": {
    "papermill": {
     "duration": 0.008725,
     "end_time": "2022-08-06T04:07:18.612965",
     "exception": false,
     "start_time": "2022-08-06T04:07:18.604240",
     "status": "completed"
    },
    "tags": []
   },
   "source": [
    "The categorical features are the followings ['B_30', 'B_38', 'D_114', 'D_116', 'D_117', 'D_120', 'D_126', 'D_63', 'D_64', 'D_66', 'D_68']"
   ]
  },
  {
   "cell_type": "code",
   "execution_count": 8,
   "id": "d582d904",
   "metadata": {
    "execution": {
     "iopub.execute_input": "2022-08-06T04:07:18.633241Z",
     "iopub.status.busy": "2022-08-06T04:07:18.632357Z",
     "iopub.status.idle": "2022-08-06T04:07:18.813657Z",
     "shell.execute_reply": "2022-08-06T04:07:18.812294Z"
    },
    "papermill": {
     "duration": 0.194386,
     "end_time": "2022-08-06T04:07:18.816261",
     "exception": false,
     "start_time": "2022-08-06T04:07:18.621875",
     "status": "completed"
    },
    "tags": []
   },
   "outputs": [
    {
     "name": "stdout",
     "output_type": "stream",
     "text": [
      " 0    1443929\n",
      " 1     244811\n",
      " 2      15364\n",
      "-1        460\n",
      "Name: B_30, dtype: int64\n",
      " 2    619001\n",
      " 3    414940\n",
      " 1    315893\n",
      " 5    132917\n",
      " 7     94044\n",
      " 4     75295\n",
      " 6     52014\n",
      "-1       460\n",
      "Name: B_38, dtype: int64\n",
      " 1    1045901\n",
      " 0     616474\n",
      "-1      42189\n",
      "Name: D_114, dtype: int64\n",
      " 0    1657855\n",
      "-1      42189\n",
      " 1       4520\n",
      "Name: D_116, dtype: int64\n",
      " 0    466505\n",
      " 5    363242\n",
      " 4    344854\n",
      " 3    186591\n",
      " 6    148364\n",
      " 7    119880\n",
      "-1     42189\n",
      " 2     32939\n",
      "Name: D_117, dtype: int64\n",
      " 0    1321530\n",
      " 1     340845\n",
      "-1      42189\n",
      "Name: D_120, dtype: int64\n",
      " 2    1296941\n",
      " 1     349007\n",
      " 0      46338\n",
      "-1      12278\n",
      "Name: D_126, dtype: int64\n",
      "3    1263901\n",
      "0     275993\n",
      "4     136631\n",
      "1      16416\n",
      "2       7641\n",
      "5       3982\n",
      "Name: D_63, dtype: int64\n",
      " 0    900749\n",
      " 3    442449\n",
      " 2    304718\n",
      "-1     56648\n",
      "Name: D_64, dtype: int64\n",
      "-1    1502557\n",
      " 1     202007\n",
      "Name: D_66, dtype: int64\n",
      " 6    845560\n",
      " 5    389153\n",
      " 4    156759\n",
      " 3    148687\n",
      " 2     72224\n",
      "-1     52023\n",
      " 1     40158\n",
      "Name: D_68, dtype: int64\n"
     ]
    }
   ],
   "source": [
    "columns=['B_30', 'B_38', 'D_114', 'D_116', 'D_117', 'D_120', 'D_126', 'D_63', 'D_64', 'D_66', 'D_68'] \n",
    "for col in columns: \n",
    "    print(test[col].value_counts())"
   ]
  },
  {
   "cell_type": "markdown",
   "id": "6c353310",
   "metadata": {
    "papermill": {
     "duration": 0.009138,
     "end_time": "2022-08-06T04:07:18.834552",
     "exception": false,
     "start_time": "2022-08-06T04:07:18.825414",
     "status": "completed"
    },
    "tags": []
   },
   "source": [
    "* D_64 has category 1 missing which is present in training data set.\n",
    "* D_66 has category 0 missing which is present in training dataset.\n",
    "* D_68 has category 0 missing which is present in training dataset."
   ]
  },
  {
   "cell_type": "code",
   "execution_count": 9,
   "id": "2208f7d7",
   "metadata": {
    "execution": {
     "iopub.execute_input": "2022-08-06T04:07:18.855227Z",
     "iopub.status.busy": "2022-08-06T04:07:18.854231Z",
     "iopub.status.idle": "2022-08-06T04:07:18.862555Z",
     "shell.execute_reply": "2022-08-06T04:07:18.861298Z"
    },
    "papermill": {
     "duration": 0.021433,
     "end_time": "2022-08-06T04:07:18.865142",
     "exception": false,
     "start_time": "2022-08-06T04:07:18.843709",
     "status": "completed"
    },
    "tags": []
   },
   "outputs": [
    {
     "data": {
      "text/plain": [
       "<pandas.core.groupby.generic.DataFrameGroupBy object at 0x7ff75f3e0f90>"
      ]
     },
     "execution_count": 9,
     "metadata": {},
     "output_type": "execute_result"
    }
   ],
   "source": [
    "test.groupby(by=\"customer_ID\")"
   ]
  },
  {
   "cell_type": "markdown",
   "id": "60d4ec6b",
   "metadata": {
    "papermill": {
     "duration": 0.00897,
     "end_time": "2022-08-06T04:07:18.883331",
     "exception": false,
     "start_time": "2022-08-06T04:07:18.874361",
     "status": "completed"
    },
    "tags": []
   },
   "source": [
    "Here we factorize the date column."
   ]
  },
  {
   "cell_type": "code",
   "execution_count": 10,
   "id": "abdd7fb6",
   "metadata": {
    "execution": {
     "iopub.execute_input": "2022-08-06T04:07:18.903749Z",
     "iopub.status.busy": "2022-08-06T04:07:18.903308Z",
     "iopub.status.idle": "2022-08-06T04:07:22.090002Z",
     "shell.execute_reply": "2022-08-06T04:07:22.088726Z"
    },
    "papermill": {
     "duration": 3.200052,
     "end_time": "2022-08-06T04:07:22.092533",
     "exception": false,
     "start_time": "2022-08-06T04:07:18.892481",
     "status": "completed"
    },
    "tags": []
   },
   "outputs": [
    {
     "data": {
      "text/plain": [
       "0          23\n",
       "1          24\n",
       "2          25\n",
       "3          26\n",
       "4          27\n",
       "           ..\n",
       "1704559    26\n",
       "1704560    27\n",
       "1704561    28\n",
       "1704562    29\n",
       "1704563    30\n",
       "Name: S_2, Length: 1704564, dtype: int64"
      ]
     },
     "execution_count": 10,
     "metadata": {},
     "output_type": "execute_result"
    }
   ],
   "source": [
    "test[\"S_2\"]=test[\"S_2\"].str.slice(start=0,stop=7)\n",
    "mapping={\"2018-04\":13,\"2018-05\":14,\"2018-06\":15,\"2018-07\":16,\"2018-08\":17,\"2018-09\":18,\"2018-10\":19,\"2018-11\":20,\"2018-12\":21,\"2019-01\":22,\"2019-02\":23,\"2019-03\":24,\"2019-04\":25,\"2019-05\":26,\"2019-06\":27,\"2019-07\":28,\"2019-08\":29,\"2019-09\":30,\"2019-10\":31} \n",
    "test=test.replace({\"S_2\":mapping}) \n",
    "test[\"S_2\"]"
   ]
  },
  {
   "cell_type": "code",
   "execution_count": 11,
   "id": "fdcbff6b",
   "metadata": {
    "execution": {
     "iopub.execute_input": "2022-08-06T04:07:22.113201Z",
     "iopub.status.busy": "2022-08-06T04:07:22.112776Z",
     "iopub.status.idle": "2022-08-06T04:07:22.511532Z",
     "shell.execute_reply": "2022-08-06T04:07:22.510093Z"
    },
    "papermill": {
     "duration": 0.412198,
     "end_time": "2022-08-06T04:07:22.514175",
     "exception": false,
     "start_time": "2022-08-06T04:07:22.101977",
     "status": "completed"
    },
    "tags": []
   },
   "outputs": [
    {
     "data": {
      "text/plain": [
       "0          0.183402\n",
       "1          0.183402\n",
       "2          0.183402\n",
       "3          0.183402\n",
       "4          0.183402\n",
       "             ...   \n",
       "1704559    0.612930\n",
       "1704560    0.627797\n",
       "1704561    0.627797\n",
       "1704562    0.627797\n",
       "1704563    0.627797\n",
       "Name: B_30, Length: 1704564, dtype: float64"
      ]
     },
     "execution_count": 11,
     "metadata": {},
     "output_type": "execute_result"
    }
   ],
   "source": [
    "mapping={0:0.183402,1:0.627797,2:0.612930,-1:0.356151}\n",
    "test=test.replace({\"B_30\":mapping}) \n",
    "test[\"B_30\"]"
   ]
  },
  {
   "cell_type": "code",
   "execution_count": 12,
   "id": "1f3ae923",
   "metadata": {
    "execution": {
     "iopub.execute_input": "2022-08-06T04:07:22.535366Z",
     "iopub.status.busy": "2022-08-06T04:07:22.534953Z",
     "iopub.status.idle": "2022-08-06T04:07:22.874335Z",
     "shell.execute_reply": "2022-08-06T04:07:22.873232Z"
    },
    "papermill": {
     "duration": 0.353043,
     "end_time": "2022-08-06T04:07:22.876795",
     "exception": false,
     "start_time": "2022-08-06T04:07:22.523752",
     "status": "completed"
    },
    "tags": []
   },
   "outputs": [
    {
     "data": {
      "text/plain": [
       "0          0.135264\n",
       "1          0.135264\n",
       "2          0.063306\n",
       "3          0.063306\n",
       "4          0.063306\n",
       "             ...   \n",
       "1704559    0.328604\n",
       "1704560    0.328604\n",
       "1704561    0.328604\n",
       "1704562    0.328604\n",
       "1704563    0.328604\n",
       "Name: B_38, Length: 1704564, dtype: float64"
      ]
     },
     "execution_count": 12,
     "metadata": {},
     "output_type": "execute_result"
    }
   ],
   "source": [
    "mapping={2:0.063306,3:0.328604,1:0.135264,5:0.559430,4:0.699716,7:0.498865,6:0.614916,-1:0.356151}\n",
    "test=test.replace({\"B_38\":mapping}) \n",
    "test[\"B_38\"]"
   ]
  },
  {
   "cell_type": "code",
   "execution_count": 13,
   "id": "57d89581",
   "metadata": {
    "execution": {
     "iopub.execute_input": "2022-08-06T04:07:22.898224Z",
     "iopub.status.busy": "2022-08-06T04:07:22.897163Z",
     "iopub.status.idle": "2022-08-06T04:07:23.219598Z",
     "shell.execute_reply": "2022-08-06T04:07:23.218166Z"
    },
    "papermill": {
     "duration": 0.335689,
     "end_time": "2022-08-06T04:07:23.222077",
     "exception": false,
     "start_time": "2022-08-06T04:07:22.886388",
     "status": "completed"
    },
    "tags": []
   },
   "outputs": [
    {
     "data": {
      "text/plain": [
       "0          0.437736\n",
       "1          0.437736\n",
       "2          0.437736\n",
       "3          0.437736\n",
       "4          0.345989\n",
       "             ...   \n",
       "1704559    0.345989\n",
       "1704560    0.345989\n",
       "1704561    0.345989\n",
       "1704562    0.345989\n",
       "1704563    0.345989\n",
       "Name: D_114, Length: 1704564, dtype: float64"
      ]
     },
     "execution_count": 13,
     "metadata": {},
     "output_type": "execute_result"
    }
   ],
   "source": [
    "mapping={1:0.179497,0:0.345989,-1:0.437736}\n",
    "test=test.replace({\"D_114\":mapping}) \n",
    "test[\"D_114\"]"
   ]
  },
  {
   "cell_type": "code",
   "execution_count": 14,
   "id": "a63f11b4",
   "metadata": {
    "execution": {
     "iopub.execute_input": "2022-08-06T04:07:23.244285Z",
     "iopub.status.busy": "2022-08-06T04:07:23.243399Z",
     "iopub.status.idle": "2022-08-06T04:07:23.579880Z",
     "shell.execute_reply": "2022-08-06T04:07:23.578653Z"
    },
    "papermill": {
     "duration": 0.350828,
     "end_time": "2022-08-06T04:07:23.582758",
     "exception": false,
     "start_time": "2022-08-06T04:07:23.231930",
     "status": "completed"
    },
    "tags": []
   },
   "outputs": [
    {
     "data": {
      "text/plain": [
       "0          0.437736\n",
       "1          0.437736\n",
       "2          0.437736\n",
       "3          0.437736\n",
       "4          0.242413\n",
       "             ...   \n",
       "1704559    0.242413\n",
       "1704560    0.242413\n",
       "1704561    0.242413\n",
       "1704562    0.242413\n",
       "1704563    0.242413\n",
       "Name: D_116, Length: 1704564, dtype: float64"
      ]
     },
     "execution_count": 14,
     "metadata": {},
     "output_type": "execute_result"
    }
   ],
   "source": [
    "mapping={0:0.242413,-1:0.437736,1:0.613341}\n",
    "test=test.replace({\"D_116\":mapping}) \n",
    "test[\"D_116\"]"
   ]
  },
  {
   "cell_type": "code",
   "execution_count": 15,
   "id": "5f083e3e",
   "metadata": {
    "execution": {
     "iopub.execute_input": "2022-08-06T04:07:23.606317Z",
     "iopub.status.busy": "2022-08-06T04:07:23.605244Z",
     "iopub.status.idle": "2022-08-06T04:07:23.964523Z",
     "shell.execute_reply": "2022-08-06T04:07:23.963370Z"
    },
    "papermill": {
     "duration": 0.374103,
     "end_time": "2022-08-06T04:07:23.967236",
     "exception": false,
     "start_time": "2022-08-06T04:07:23.593133",
     "status": "completed"
    },
    "tags": []
   },
   "outputs": [
    {
     "data": {
      "text/plain": [
       "0          0.437736\n",
       "1          0.437736\n",
       "2          0.437736\n",
       "3          0.437736\n",
       "4          0.273270\n",
       "             ...   \n",
       "1704559    0.269573\n",
       "1704560    0.269573\n",
       "1704561    0.269573\n",
       "1704562    0.269573\n",
       "1704563    0.269573\n",
       "Name: D_117, Length: 1704564, dtype: float64"
      ]
     },
     "execution_count": 15,
     "metadata": {},
     "output_type": "execute_result"
    }
   ],
   "source": [
    "mapping={0:0.273270,4:0.269573,5:0.173700,3:0.340783,6:0.135087,7:0.134076,-1:0.437736,2:0.446632}\n",
    "test=test.replace({\"D_117\":mapping}) \n",
    "test[\"D_117\"]"
   ]
  },
  {
   "cell_type": "code",
   "execution_count": 16,
   "id": "21e6bbd3",
   "metadata": {
    "execution": {
     "iopub.execute_input": "2022-08-06T04:07:23.989607Z",
     "iopub.status.busy": "2022-08-06T04:07:23.989135Z",
     "iopub.status.idle": "2022-08-06T04:07:24.332192Z",
     "shell.execute_reply": "2022-08-06T04:07:24.330954Z"
    },
    "papermill": {
     "duration": 0.357528,
     "end_time": "2022-08-06T04:07:24.334862",
     "exception": false,
     "start_time": "2022-08-06T04:07:23.977334",
     "status": "completed"
    },
    "tags": []
   },
   "outputs": [
    {
     "data": {
      "text/plain": [
       "0          0.437736\n",
       "1          0.437736\n",
       "2          0.437736\n",
       "3          0.437736\n",
       "4          0.471097\n",
       "             ...   \n",
       "1704559    0.212713\n",
       "1704560    0.212713\n",
       "1704561    0.212713\n",
       "1704562    0.212713\n",
       "1704563    0.471097\n",
       "Name: D_120, Length: 1704564, dtype: float64"
      ]
     },
     "execution_count": 16,
     "metadata": {},
     "output_type": "execute_result"
    }
   ],
   "source": [
    "mapping={0:0.212713,1:0.471097,-1:0.437736}\n",
    "test=test.replace({\"D_120\":mapping}) \n",
    "test[\"D_120\"]"
   ]
  },
  {
   "cell_type": "code",
   "execution_count": 17,
   "id": "464d43b6",
   "metadata": {
    "execution": {
     "iopub.execute_input": "2022-08-06T04:07:24.358163Z",
     "iopub.status.busy": "2022-08-06T04:07:24.357414Z",
     "iopub.status.idle": "2022-08-06T04:07:24.694829Z",
     "shell.execute_reply": "2022-08-06T04:07:24.693547Z"
    },
    "papermill": {
     "duration": 0.35289,
     "end_time": "2022-08-06T04:07:24.698038",
     "exception": false,
     "start_time": "2022-08-06T04:07:24.345148",
     "status": "completed"
    },
    "tags": []
   },
   "outputs": [
    {
     "data": {
      "text/plain": [
       "0          0.309875\n",
       "1          0.309875\n",
       "2          0.309875\n",
       "3          0.309875\n",
       "4          0.309875\n",
       "             ...   \n",
       "1704559    0.232809\n",
       "1704560    0.232809\n",
       "1704561    0.232809\n",
       "1704562    0.232809\n",
       "1704563    0.232809\n",
       "Name: D_126, Length: 1704564, dtype: float64"
      ]
     },
     "execution_count": 17,
     "metadata": {},
     "output_type": "execute_result"
    }
   ],
   "source": [
    "mapping={2:0.232809,1:0.309875,0:0.209538,-1:0.468044}\n",
    "test=test.replace({\"D_126\":mapping}) \n",
    "test[\"D_126\"]"
   ]
  },
  {
   "cell_type": "code",
   "execution_count": 18,
   "id": "17c4f951",
   "metadata": {
    "execution": {
     "iopub.execute_input": "2022-08-06T04:07:24.720286Z",
     "iopub.status.busy": "2022-08-06T04:07:24.719880Z",
     "iopub.status.idle": "2022-08-06T04:07:25.084780Z",
     "shell.execute_reply": "2022-08-06T04:07:25.083528Z"
    },
    "papermill": {
     "duration": 0.379408,
     "end_time": "2022-08-06T04:07:25.087494",
     "exception": false,
     "start_time": "2022-08-06T04:07:24.708086",
     "status": "completed"
    },
    "tags": []
   },
   "outputs": [
    {
     "data": {
      "text/plain": [
       "0          0.169865\n",
       "1          0.169865\n",
       "2          0.169865\n",
       "3          0.169865\n",
       "4          0.169865\n",
       "             ...   \n",
       "1704559    0.262817\n",
       "1704560    0.262817\n",
       "1704561    0.262817\n",
       "1704562    0.262817\n",
       "1704563    0.262817\n",
       "Name: D_63, Length: 1704564, dtype: float64"
      ]
     },
     "execution_count": 18,
     "metadata": {},
     "output_type": "execute_result"
    }
   ],
   "source": [
    "mapping={3:0.262817,0:0.169865,4:0.290894,1:0.190918,2:0.237401,5:0.317444}\n",
    "test=test.replace({\"D_63\":mapping}) \n",
    "test[\"D_63\"]"
   ]
  },
  {
   "cell_type": "code",
   "execution_count": 19,
   "id": "0cba4df6",
   "metadata": {
    "execution": {
     "iopub.execute_input": "2022-08-06T04:07:25.109776Z",
     "iopub.status.busy": "2022-08-06T04:07:25.109341Z",
     "iopub.status.idle": "2022-08-06T04:07:25.459402Z",
     "shell.execute_reply": "2022-08-06T04:07:25.458237Z"
    },
    "papermill": {
     "duration": 0.364204,
     "end_time": "2022-08-06T04:07:25.461940",
     "exception": false,
     "start_time": "2022-08-06T04:07:25.097736",
     "status": "completed"
    },
    "tags": []
   },
   "outputs": [
    {
     "data": {
      "text/plain": [
       "0          0.408642\n",
       "1          0.408642\n",
       "2          0.408642\n",
       "3          0.408642\n",
       "4          0.343223\n",
       "             ...   \n",
       "1704559    0.343223\n",
       "1704560    0.343223\n",
       "1704561    0.343223\n",
       "1704562    0.343223\n",
       "1704563    0.343223\n",
       "Name: D_64, Length: 1704564, dtype: float64"
      ]
     },
     "execution_count": 19,
     "metadata": {},
     "output_type": "execute_result"
    }
   ],
   "source": [
    "mapping={0:0.169255,3:0.343223,2:0.315242,-1:0.408642,1:0.220723}\n",
    "test=test.replace({\"D_64\":mapping}) \n",
    "test[\"D_64\"]"
   ]
  },
  {
   "cell_type": "code",
   "execution_count": 20,
   "id": "f2aff400",
   "metadata": {
    "execution": {
     "iopub.execute_input": "2022-08-06T04:07:25.485674Z",
     "iopub.status.busy": "2022-08-06T04:07:25.485199Z",
     "iopub.status.idle": "2022-08-06T04:07:25.844874Z",
     "shell.execute_reply": "2022-08-06T04:07:25.843606Z"
    },
    "papermill": {
     "duration": 0.374751,
     "end_time": "2022-08-06T04:07:25.847427",
     "exception": false,
     "start_time": "2022-08-06T04:07:25.472676",
     "status": "completed"
    },
    "tags": []
   },
   "outputs": [
    {
     "data": {
      "text/plain": [
       "0          0.257171\n",
       "1          0.257171\n",
       "2          0.257171\n",
       "3          0.257171\n",
       "4          0.257171\n",
       "             ...   \n",
       "1704559    0.257171\n",
       "1704560    0.257171\n",
       "1704561    0.257171\n",
       "1704562    0.257171\n",
       "1704563    0.257171\n",
       "Name: D_66, Length: 1704564, dtype: float64"
      ]
     },
     "execution_count": 20,
     "metadata": {},
     "output_type": "execute_result"
    }
   ],
   "source": [
    "mapping={-1:0.257171,1:0.183504,0:0.383747}\n",
    "test=test.replace({\"D_66\":mapping}) \n",
    "test[\"D_66\"]"
   ]
  },
  {
   "cell_type": "code",
   "execution_count": 21,
   "id": "a0392cea",
   "metadata": {
    "execution": {
     "iopub.execute_input": "2022-08-06T04:07:25.871016Z",
     "iopub.status.busy": "2022-08-06T04:07:25.870081Z",
     "iopub.status.idle": "2022-08-06T04:07:26.239118Z",
     "shell.execute_reply": "2022-08-06T04:07:26.237925Z"
    },
    "papermill": {
     "duration": 0.38384,
     "end_time": "2022-08-06T04:07:26.242033",
     "exception": false,
     "start_time": "2022-08-06T04:07:25.858193",
     "status": "completed"
    },
    "tags": []
   },
   "outputs": [
    {
     "data": {
      "text/plain": [
       "0          0.414493\n",
       "1          0.414493\n",
       "2          0.414493\n",
       "3          0.414493\n",
       "4          0.174952\n",
       "             ...   \n",
       "1704559    0.262219\n",
       "1704560    0.262219\n",
       "1704561    0.262219\n",
       "1704562    0.262219\n",
       "1704563    0.262219\n",
       "Name: D_68, Length: 1704564, dtype: float64"
      ]
     },
     "execution_count": 21,
     "metadata": {},
     "output_type": "execute_result"
    }
   ],
   "source": [
    "mapping={6:0.174952,5:0.262219,3:0.369780,4:0.343603,2:0.392902,-1:0.414493,1:0.403990,0:0.179717}\n",
    "test=test.replace({\"D_68\":mapping}) \n",
    "test[\"D_68\"]"
   ]
  },
  {
   "cell_type": "code",
   "execution_count": 22,
   "id": "2bc2bfe8",
   "metadata": {
    "execution": {
     "iopub.execute_input": "2022-08-06T04:07:26.272236Z",
     "iopub.status.busy": "2022-08-06T04:07:26.271457Z",
     "iopub.status.idle": "2022-08-06T04:07:26.721331Z",
     "shell.execute_reply": "2022-08-06T04:07:26.720075Z"
    },
    "papermill": {
     "duration": 0.465273,
     "end_time": "2022-08-06T04:07:26.724158",
     "exception": false,
     "start_time": "2022-08-06T04:07:26.258885",
     "status": "completed"
    },
    "tags": []
   },
   "outputs": [
    {
     "data": {
      "text/plain": [
       "0          0.286393\n",
       "1          0.288609\n",
       "2          0.290826\n",
       "3          0.293042\n",
       "4          0.295258\n",
       "             ...   \n",
       "1704559    0.293042\n",
       "1704560    0.295258\n",
       "1704561    0.297474\n",
       "1704562    0.299691\n",
       "1704563    0.301907\n",
       "Name: S_2, Length: 1704564, dtype: float64"
      ]
     },
     "execution_count": 22,
     "metadata": {},
     "output_type": "execute_result"
    }
   ],
   "source": [
    "x=pd.DataFrame(np.linspace(start=12,stop=0,num=13))\n",
    "y=pd.DataFrame([0.258934,0.257893,0.257176,0.256362,0.254698,0.252840,0.250988,0.248830,0.245882,0.242539,0.236346,0.238807,0.232017])\n",
    "\n",
    "mapping={}\n",
    "for i in range(13,32):\n",
    "    mapping[i]=(x[0].corr(y[0])*y[0].std()/x[0].std())*(i-x[0].mean())+y[0].mean()\n",
    "test=test.replace({\"S_2\":mapping}) \n",
    "test[\"S_2\"]"
   ]
  },
  {
   "cell_type": "markdown",
   "id": "aacab876",
   "metadata": {
    "papermill": {
     "duration": 0.01057,
     "end_time": "2022-08-06T04:07:26.745797",
     "exception": false,
     "start_time": "2022-08-06T04:07:26.735227",
     "status": "completed"
    },
    "tags": []
   },
   "source": [
    "# 6 Normalise all the numerical columns"
   ]
  },
  {
   "cell_type": "markdown",
   "id": "b08c24f0",
   "metadata": {
    "papermill": {
     "duration": 0.010955,
     "end_time": "2022-08-06T04:07:26.767807",
     "exception": false,
     "start_time": "2022-08-06T04:07:26.756852",
     "status": "completed"
    },
    "tags": []
   },
   "source": [
    "Here I normalize the numerical columns and change the data type to save some space. Here we have used min max normalizer."
   ]
  },
  {
   "cell_type": "code",
   "execution_count": 23,
   "id": "f57d02b0",
   "metadata": {
    "execution": {
     "iopub.execute_input": "2022-08-06T04:07:26.791429Z",
     "iopub.status.busy": "2022-08-06T04:07:26.790967Z",
     "iopub.status.idle": "2022-08-06T04:07:41.515843Z",
     "shell.execute_reply": "2022-08-06T04:07:41.514633Z"
    },
    "papermill": {
     "duration": 14.740066,
     "end_time": "2022-08-06T04:07:41.518706",
     "exception": false,
     "start_time": "2022-08-06T04:07:26.778640",
     "status": "completed"
    },
    "tags": []
   },
   "outputs": [],
   "source": [
    "for col in test.columns:\n",
    "    if col not in ['customer_ID', 'target', 'B_30', 'B_38', 'D_114', 'D_116', 'D_117', 'D_120', 'D_126', 'D_63', 'D_64', 'D_66', 'D_68','S_2']:\n",
    "        test[col]=test[col]/(test[col].max()-test[col].min())\n",
    "    if col not in ['customer_ID', 'target']:\n",
    "        test[col]=test[col].astype(\"float16\")"
   ]
  },
  {
   "cell_type": "markdown",
   "id": "32eb123a",
   "metadata": {
    "papermill": {
     "duration": 0.010118,
     "end_time": "2022-08-06T04:07:41.539556",
     "exception": false,
     "start_time": "2022-08-06T04:07:41.529438",
     "status": "completed"
    },
    "tags": []
   },
   "source": [
    "# 7 Upload the test data"
   ]
  },
  {
   "cell_type": "code",
   "execution_count": 24,
   "id": "d9a16342",
   "metadata": {
    "execution": {
     "iopub.execute_input": "2022-08-06T04:07:41.562453Z",
     "iopub.status.busy": "2022-08-06T04:07:41.562056Z",
     "iopub.status.idle": "2022-08-06T04:26:00.807277Z",
     "shell.execute_reply": "2022-08-06T04:26:00.805279Z"
    },
    "papermill": {
     "duration": 1099.262983,
     "end_time": "2022-08-06T04:26:00.813066",
     "exception": false,
     "start_time": "2022-08-06T04:07:41.550083",
     "status": "completed"
    },
    "tags": []
   },
   "outputs": [],
   "source": [
    "test.to_csv(\"test_1.csv.gzip\",compression=\"gzip\")"
   ]
  }
 ],
 "metadata": {
  "kernelspec": {
   "display_name": "Python 3",
   "language": "python",
   "name": "python3"
  },
  "language_info": {
   "codemirror_mode": {
    "name": "ipython",
    "version": 3
   },
   "file_extension": ".py",
   "mimetype": "text/x-python",
   "name": "python",
   "nbconvert_exporter": "python",
   "pygments_lexer": "ipython3",
   "version": "3.7.12"
  },
  "papermill": {
   "default_parameters": {},
   "duration": 1230.888171,
   "end_time": "2022-08-06T04:26:01.955317",
   "environment_variables": {},
   "exception": null,
   "input_path": "__notebook__.ipynb",
   "output_path": "__notebook__.ipynb",
   "parameters": {},
   "start_time": "2022-08-06T04:05:31.067146",
   "version": "2.3.4"
  }
 },
 "nbformat": 4,
 "nbformat_minor": 5
}
